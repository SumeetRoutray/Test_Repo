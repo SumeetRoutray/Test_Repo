{
 "cells": [
  {
   "cell_type": "code",
   "execution_count": 328,
   "metadata": {},
   "outputs": [],
   "source": [
    "import pandas as pd\n",
    "import numpy as np\n",
    "import matplotlib.pyplot as plt\n",
    "#import seaborn as sns\n",
    "import warnings\n",
    "warnings.filterwarnings('ignore')"
   ]
  },
  {
   "cell_type": "code",
   "execution_count": 329,
   "metadata": {},
   "outputs": [],
   "source": [
    "from datetime import datetime"
   ]
  },
  {
   "cell_type": "code",
   "execution_count": 330,
   "metadata": {},
   "outputs": [],
   "source": [
    "df1 = pd.read_csv(\"TrainingData_V1.csv\")\n",
    "df2 = pd.read_excel(\"TestingData_For_Candidate.xlsx\", sheet_name= \"Sheet1\")"
   ]
  },
  {
   "cell_type": "code",
   "execution_count": 331,
   "metadata": {},
   "outputs": [],
   "source": [
    "df1[\"train_test_indicator\"]=\"train\"\n",
    "df2[\"train_test_indicator\"]=\"test\""
   ]
  },
  {
   "cell_type": "code",
   "execution_count": 332,
   "metadata": {},
   "outputs": [],
   "source": [
    "for col in ['order_date','delivery_date','user_dob','user_reg_date']:\n",
    "    df2[col] = df2[col].dt.strftime(\"%d-%m-%Y\")"
   ]
  },
  {
   "cell_type": "code",
   "execution_count": 333,
   "metadata": {},
   "outputs": [],
   "source": [
    "df=df1.append(df2, ignore_index = True)"
   ]
  },
  {
   "cell_type": "code",
   "execution_count": 334,
   "metadata": {},
   "outputs": [],
   "source": [
    "for col in ['order_date','delivery_date','user_dob','user_reg_date']:\n",
    "    df[col] = pd.to_datetime(df[col], infer_datetime_format=True)"
   ]
  },
  {
   "cell_type": "code",
   "execution_count": 335,
   "metadata": {},
   "outputs": [],
   "source": [
    "df['Delivery_days']= np.trunc((df['delivery_date'] - df['order_date'])/np.timedelta64(1,'D'))"
   ]
  },
  {
   "cell_type": "code",
   "execution_count": 336,
   "metadata": {},
   "outputs": [],
   "source": [
    "df['User_Age']= np.trunc((df['order_date'] - df['user_dob'])/np.timedelta64(1,'Y'))"
   ]
  },
  {
   "cell_type": "code",
   "execution_count": 337,
   "metadata": {},
   "outputs": [
    {
     "data": {
      "text/html": [
       "<div>\n",
       "<style scoped>\n",
       "    .dataframe tbody tr th:only-of-type {\n",
       "        vertical-align: middle;\n",
       "    }\n",
       "\n",
       "    .dataframe tbody tr th {\n",
       "        vertical-align: top;\n",
       "    }\n",
       "\n",
       "    .dataframe thead th {\n",
       "        text-align: right;\n",
       "    }\n",
       "</style>\n",
       "<table border=\"1\" class=\"dataframe\">\n",
       "  <thead>\n",
       "    <tr style=\"text-align: right;\">\n",
       "      <th></th>\n",
       "      <th>order_item_id</th>\n",
       "      <th>order_date</th>\n",
       "      <th>delivery_date</th>\n",
       "      <th>item_id</th>\n",
       "      <th>item_size</th>\n",
       "      <th>item_color</th>\n",
       "      <th>brand_id</th>\n",
       "      <th>item_price</th>\n",
       "      <th>user_id</th>\n",
       "      <th>user_title</th>\n",
       "      <th>user_dob</th>\n",
       "      <th>user_state</th>\n",
       "      <th>user_reg_date</th>\n",
       "      <th>return</th>\n",
       "      <th>train_test_indicator</th>\n",
       "      <th>Delivery_days</th>\n",
       "      <th>User_Age</th>\n",
       "    </tr>\n",
       "  </thead>\n",
       "  <tbody>\n",
       "    <tr>\n",
       "      <th>0</th>\n",
       "      <td>1</td>\n",
       "      <td>2016-06-22</td>\n",
       "      <td>2016-06-27</td>\n",
       "      <td>643</td>\n",
       "      <td>38</td>\n",
       "      <td>navy</td>\n",
       "      <td>30</td>\n",
       "      <td>49.9</td>\n",
       "      <td>30822</td>\n",
       "      <td>Mrs</td>\n",
       "      <td>1969-04-17</td>\n",
       "      <td>1013</td>\n",
       "      <td>2016-06-23</td>\n",
       "      <td>0.0</td>\n",
       "      <td>train</td>\n",
       "      <td>5.0</td>\n",
       "      <td>47.0</td>\n",
       "    </tr>\n",
       "    <tr>\n",
       "      <th>1</th>\n",
       "      <td>10</td>\n",
       "      <td>2016-06-22</td>\n",
       "      <td>2016-06-27</td>\n",
       "      <td>195</td>\n",
       "      <td>xxl</td>\n",
       "      <td>grey</td>\n",
       "      <td>46</td>\n",
       "      <td>19.9</td>\n",
       "      <td>30823</td>\n",
       "      <td>Mrs</td>\n",
       "      <td>1970-04-22</td>\n",
       "      <td>1001</td>\n",
       "      <td>2015-03-15</td>\n",
       "      <td>1.0</td>\n",
       "      <td>train</td>\n",
       "      <td>5.0</td>\n",
       "      <td>46.0</td>\n",
       "    </tr>\n",
       "    <tr>\n",
       "      <th>2</th>\n",
       "      <td>11</td>\n",
       "      <td>2016-06-22</td>\n",
       "      <td>2016-07-05</td>\n",
       "      <td>25</td>\n",
       "      <td>xxl</td>\n",
       "      <td>grey</td>\n",
       "      <td>5</td>\n",
       "      <td>79.9</td>\n",
       "      <td>30823</td>\n",
       "      <td>Mrs</td>\n",
       "      <td>1970-04-22</td>\n",
       "      <td>1001</td>\n",
       "      <td>2015-03-15</td>\n",
       "      <td>0.0</td>\n",
       "      <td>train</td>\n",
       "      <td>13.0</td>\n",
       "      <td>46.0</td>\n",
       "    </tr>\n",
       "    <tr>\n",
       "      <th>3</th>\n",
       "      <td>32</td>\n",
       "      <td>2016-06-23</td>\n",
       "      <td>2016-06-26</td>\n",
       "      <td>173</td>\n",
       "      <td>m</td>\n",
       "      <td>brown</td>\n",
       "      <td>20</td>\n",
       "      <td>19.9</td>\n",
       "      <td>17234</td>\n",
       "      <td>Mrs</td>\n",
       "      <td>1960-01-09</td>\n",
       "      <td>1013</td>\n",
       "      <td>2015-02-17</td>\n",
       "      <td>0.0</td>\n",
       "      <td>train</td>\n",
       "      <td>3.0</td>\n",
       "      <td>56.0</td>\n",
       "    </tr>\n",
       "    <tr>\n",
       "      <th>4</th>\n",
       "      <td>43</td>\n",
       "      <td>2016-06-23</td>\n",
       "      <td>2016-06-26</td>\n",
       "      <td>394</td>\n",
       "      <td>40</td>\n",
       "      <td>black</td>\n",
       "      <td>44</td>\n",
       "      <td>90.0</td>\n",
       "      <td>30827</td>\n",
       "      <td>Mrs</td>\n",
       "      <td>NaT</td>\n",
       "      <td>1006</td>\n",
       "      <td>2016-02-09</td>\n",
       "      <td>1.0</td>\n",
       "      <td>train</td>\n",
       "      <td>3.0</td>\n",
       "      <td>NaN</td>\n",
       "    </tr>\n",
       "  </tbody>\n",
       "</table>\n",
       "</div>"
      ],
      "text/plain": [
       "   order_item_id order_date delivery_date  item_id item_size item_color  \\\n",
       "0              1 2016-06-22    2016-06-27      643        38       navy   \n",
       "1             10 2016-06-22    2016-06-27      195       xxl       grey   \n",
       "2             11 2016-06-22    2016-07-05       25       xxl       grey   \n",
       "3             32 2016-06-23    2016-06-26      173         m      brown   \n",
       "4             43 2016-06-23    2016-06-26      394        40      black   \n",
       "\n",
       "   brand_id  item_price  user_id user_title   user_dob  user_state  \\\n",
       "0        30        49.9    30822        Mrs 1969-04-17        1013   \n",
       "1        46        19.9    30823        Mrs 1970-04-22        1001   \n",
       "2         5        79.9    30823        Mrs 1970-04-22        1001   \n",
       "3        20        19.9    17234        Mrs 1960-01-09        1013   \n",
       "4        44        90.0    30827        Mrs        NaT        1006   \n",
       "\n",
       "  user_reg_date  return train_test_indicator  Delivery_days  User_Age  \n",
       "0    2016-06-23     0.0                train            5.0      47.0  \n",
       "1    2015-03-15     1.0                train            5.0      46.0  \n",
       "2    2015-03-15     0.0                train           13.0      46.0  \n",
       "3    2015-02-17     0.0                train            3.0      56.0  \n",
       "4    2016-02-09     1.0                train            3.0       NaN  "
      ]
     },
     "execution_count": 337,
     "metadata": {},
     "output_type": "execute_result"
    }
   ],
   "source": [
    "df.head()"
   ]
  },
  {
   "cell_type": "code",
   "execution_count": 338,
   "metadata": {},
   "outputs": [],
   "source": [
    "df = df.dropna(how='any', subset=['delivery_date'])"
   ]
  },
  {
   "cell_type": "code",
   "execution_count": 339,
   "metadata": {},
   "outputs": [],
   "source": [
    "df=df[df['Delivery_days']>=0]"
   ]
  },
  {
   "cell_type": "code",
   "execution_count": 340,
   "metadata": {},
   "outputs": [],
   "source": [
    "df_train=df[df['train_test_indicator']==\"train\"]\n",
    "df_test=df[df['train_test_indicator']==\"test\"]"
   ]
  },
  {
   "cell_type": "code",
   "execution_count": 341,
   "metadata": {},
   "outputs": [
    {
     "name": "stdout",
     "output_type": "stream",
     "text": [
      "train (71663, 17)\n",
      "test (17947, 17)\n"
     ]
    }
   ],
   "source": [
    "print(\"train\",df_train.shape)\n",
    "print(\"test\",df_test.shape)"
   ]
  },
  {
   "cell_type": "code",
   "execution_count": 342,
   "metadata": {},
   "outputs": [],
   "source": [
    "df_test=df_test[df_test['item_id'].isin(df_train['item_id'].unique())]"
   ]
  },
  {
   "cell_type": "code",
   "execution_count": 343,
   "metadata": {},
   "outputs": [
    {
     "data": {
      "text/plain": [
       "(17895, 17)"
      ]
     },
     "execution_count": 343,
     "metadata": {},
     "output_type": "execute_result"
    }
   ],
   "source": [
    "df_test.shape"
   ]
  },
  {
   "cell_type": "code",
   "execution_count": 344,
   "metadata": {},
   "outputs": [
    {
     "name": "stdout",
     "output_type": "stream",
     "text": [
      "4.0\n",
      "115.0\n"
     ]
    }
   ],
   "source": [
    "print(min(df_train['User_Age']))\n",
    "print(max(df_train['User_Age']))"
   ]
  },
  {
   "cell_type": "code",
   "execution_count": 345,
   "metadata": {},
   "outputs": [
    {
     "name": "stdout",
     "output_type": "stream",
     "text": [
      "Lowest allowed 18.1875060404912\n",
      "Highest allowed 85.58820204050225\n"
     ]
    },
    {
     "data": {
      "text/plain": [
       "927"
      ]
     },
     "execution_count": 345,
     "metadata": {},
     "output_type": "execute_result"
    }
   ],
   "source": [
    "LL=df_train['User_Age'].mean() - 3*df_train['User_Age'].std()\n",
    "UL=df_train['User_Age'].mean() + 3*df_train['User_Age'].std()\n",
    "print(\"Lowest allowed\",LL)\n",
    "print(\"Highest allowed\",UL)\n",
    "((df_train['User_Age'] < LL) | (df_train['User_Age'] > UL)).sum()"
   ]
  },
  {
   "cell_type": "code",
   "execution_count": 346,
   "metadata": {},
   "outputs": [],
   "source": [
    "#CAPPING\n",
    "upper_limit = df_train['User_Age'].mean() + 3*df_train['User_Age'].std()\n",
    "lower_limit = df_train['User_Age'].mean() - 3*df_train['User_Age'].std()\n",
    "\n",
    "df_train['User_Age'] = np.where(df_train['User_Age']>upper_limit,upper_limit,\n",
    "                 np.where(df_train['User_Age']<lower_limit,lower_limit, df_train['User_Age']))"
   ]
  },
  {
   "cell_type": "code",
   "execution_count": 347,
   "metadata": {},
   "outputs": [
    {
     "name": "stdout",
     "output_type": "stream",
     "text": [
      "18.1875060404912\n",
      "85.58820204050225\n"
     ]
    }
   ],
   "source": [
    "print(min(df_train['User_Age']))\n",
    "print(max(df_train['User_Age']))"
   ]
  },
  {
   "cell_type": "code",
   "execution_count": 23,
   "metadata": {},
   "outputs": [],
   "source": [
    "# Q1 = df_train['User_Age'].quantile(0.25)\n",
    "# Q3 = df_train['User_Age'].quantile(0.75)\n",
    "# IQR = Q3 - Q1\n",
    "# LL= Q1 - 1.5 * IQR\n",
    "# UL= Q3 + 1.5 * IQR\n",
    "# print(\"Lowest allowed\",LL)\n",
    "# print(\"Highest allowed\",UL)\n",
    "# ((df_train['User_Age'] < LL) | (df_train['User_Age'] > UL)).sum()\n",
    "# Lowest allowed 28.5\n",
    "# Highest allowed 72.5\n",
    "# 1833"
   ]
  },
  {
   "cell_type": "code",
   "execution_count": 348,
   "metadata": {},
   "outputs": [],
   "source": [
    "upper_limit = df_test['User_Age'].mean() + 3*df_test['User_Age'].std()\n",
    "lower_limit = df_test['User_Age'].mean() - 3*df_test['User_Age'].std()\n",
    "\n",
    "df_test['User_Age'] = np.where(df_test['User_Age']>upper_limit,upper_limit,\n",
    "                 np.where(df_test['User_Age']<lower_limit,lower_limit, df_test['User_Age']))"
   ]
  },
  {
   "cell_type": "code",
   "execution_count": 349,
   "metadata": {},
   "outputs": [
    {
     "data": {
      "text/plain": [
       "6275"
      ]
     },
     "execution_count": 349,
     "metadata": {},
     "output_type": "execute_result"
    }
   ],
   "source": [
    "df_train['User_Age'].isnull().sum()"
   ]
  },
  {
   "cell_type": "code",
   "execution_count": 350,
   "metadata": {},
   "outputs": [
    {
     "data": {
      "text/plain": [
       "user_title\n",
       "Company         51.555556\n",
       "Family          48.578014\n",
       "Mr              51.595794\n",
       "Mrs             51.501745\n",
       "not reported    54.205882\n",
       "Name: User_Age, dtype: float64"
      ]
     },
     "execution_count": 350,
     "metadata": {},
     "output_type": "execute_result"
    }
   ],
   "source": [
    "df_train.groupby('user_title')['User_Age'].mean()"
   ]
  },
  {
   "cell_type": "code",
   "execution_count": 351,
   "metadata": {},
   "outputs": [
    {
     "data": {
      "text/plain": [
       "0"
      ]
     },
     "execution_count": 351,
     "metadata": {},
     "output_type": "execute_result"
    }
   ],
   "source": [
    "df_train['User_Age'] = df_train['User_Age'].fillna(df_train.groupby('user_title')['User_Age'].transform('mean'))\n",
    "df_train['User_Age'].isnull().sum()"
   ]
  },
  {
   "cell_type": "code",
   "execution_count": 352,
   "metadata": {},
   "outputs": [
    {
     "data": {
      "text/plain": [
       "0"
      ]
     },
     "execution_count": 352,
     "metadata": {},
     "output_type": "execute_result"
    }
   ],
   "source": [
    "df_test['User_Age'] = df_test['User_Age'].fillna(df_test.groupby('user_title')['User_Age'].transform('mean'))\n",
    "df_test['User_Age'].isnull().sum()"
   ]
  },
  {
   "cell_type": "code",
   "execution_count": 353,
   "metadata": {
    "scrolled": true
   },
   "outputs": [
    {
     "data": {
      "text/plain": [
       "array(['navy', 'grey', 'brown', 'black', 'bordeaux', 'white', 'purple',\n",
       "       'magenta', 'stained', 'blue', 'red', 'olive', 'ocher', 'ash',\n",
       "       'khaki', 'nature', 'denim', 'curry', 'beige', 'turquoise', 'green',\n",
       "       'anthracite', 'yellow', 'berry', 'petrol', 'brwon', 'dark denim',\n",
       "       'hibiscus', 'azure', 'ecru', 'gold', 'orange', 'silver',\n",
       "       'darkblue', 'mocca', 'mint', 'pink', 'copper coin', 'jade', 'blau',\n",
       "       'aqua', 'cobalt blue', 'mango', 'champagner', 'aubergine',\n",
       "       'cognac', 'fuchsia', 'pallid', 'aquamarine', 'terracotta',\n",
       "       'aviator', 'ancient', 'curled', 'apricot', 'coral', 'basalt',\n",
       "       'floral', 'creme', 'mahagoni', 'dark garnet', 'striped', 'ivory',\n",
       "       '?', 'dark oliv', 'dark navy', 'antique pink', 'habana',\n",
       "       'dark grey', 'amethyst', 'currant purple', 'kanel', 'ebony',\n",
       "       'avocado', 'caramel', 'baltic blue', 'almond', 'opal'],\n",
       "      dtype=object)"
      ]
     },
     "execution_count": 353,
     "metadata": {},
     "output_type": "execute_result"
    }
   ],
   "source": [
    "df_train['item_color'].unique()"
   ]
  },
  {
   "cell_type": "code",
   "execution_count": 354,
   "metadata": {},
   "outputs": [
    {
     "data": {
      "text/plain": [
       "77"
      ]
     },
     "execution_count": 354,
     "metadata": {},
     "output_type": "execute_result"
    }
   ],
   "source": [
    "df_train['item_color'].nunique()"
   ]
  },
  {
   "cell_type": "code",
   "execution_count": 355,
   "metadata": {},
   "outputs": [],
   "source": [
    "df_train['item_color']=df_train['item_color'].replace(\"?\",np.NaN)\n",
    "df_test['item_color']=df_test['item_color'].replace(\"?\",np.NaN)"
   ]
  },
  {
   "cell_type": "code",
   "execution_count": 356,
   "metadata": {},
   "outputs": [
    {
     "name": "stdout",
     "output_type": "stream",
     "text": [
      "train_null 47\n",
      "test_null 11\n"
     ]
    }
   ],
   "source": [
    "print(\"train_null\",df_train['item_color'].isnull().sum())\n",
    "print(\"test_null\",df_test['item_color'].isnull().sum())"
   ]
  },
  {
   "cell_type": "code",
   "execution_count": 357,
   "metadata": {},
   "outputs": [],
   "source": [
    "df_train['item_color'].fillna(df_train['item_color'].mode()[0], inplace=True)\n",
    "df_test['item_color'].fillna(df_test['item_color'].mode()[0], inplace=True)"
   ]
  },
  {
   "cell_type": "code",
   "execution_count": 358,
   "metadata": {},
   "outputs": [
    {
     "data": {
      "text/plain": [
       "black       13528\n",
       "blue         7590\n",
       "brown        6338\n",
       "grey         6256\n",
       "red          5111\n",
       "            ...  \n",
       "ebony           4\n",
       "avocado         4\n",
       "creme           2\n",
       "opal            2\n",
       "amethyst        2\n",
       "Name: item_color, Length: 76, dtype: int64"
      ]
     },
     "execution_count": 358,
     "metadata": {},
     "output_type": "execute_result"
    }
   ],
   "source": [
    "df_train['item_color'].value_counts()"
   ]
  },
  {
   "cell_type": "code",
   "execution_count": 359,
   "metadata": {},
   "outputs": [],
   "source": [
    "df_test[\"item_size\"]= df_test[\"item_size\"].astype(str)"
   ]
  },
  {
   "cell_type": "code",
   "execution_count": 368,
   "metadata": {},
   "outputs": [
    {
     "name": "stdout",
     "output_type": "stream",
     "text": [
      "train_null_item_id 0\n",
      "test_null_item_id 0\n",
      "train_null_item_size 0\n",
      "test_null_item_size 0\n",
      "train_null_item_color 0\n",
      "test_null_item_color 0\n",
      "train_null_brand_id 0\n",
      "test_null_brand_id 0\n",
      "train_null_user_title 0\n",
      "test_null_user_title 0\n",
      "train_null_user_state 0\n",
      "test_null_user_state 0\n"
     ]
    }
   ],
   "source": [
    "for enc_vars in ['item_id','item_size','item_color','brand_id','user_title','user_state']:\n",
    "    mean_encode=df_train.groupby(enc_vars)['return'].mean()\n",
    "    df_train.loc[:,enc_vars+\"_enc\"]=df_train[enc_vars].map(mean_encode)\n",
    "    df_test.loc[:,enc_vars+\"_enc\"]=df_test[enc_vars].map(mean_encode)\n",
    "    print(\"train_null_\"+enc_vars,df_train[enc_vars].isnull().sum())\n",
    "    print(\"test_null_\"+enc_vars,df_test[enc_vars].isnull().sum())"
   ]
  },
  {
   "cell_type": "code",
   "execution_count": 365,
   "metadata": {},
   "outputs": [],
   "source": [
    "df_train[\"user_title\"]= df_train[\"user_title\"].astype(str)\n",
    "df_test[\"user_title\"]= df_test[\"user_title\"].astype(str)"
   ]
  },
  {
   "cell_type": "code",
   "execution_count": 369,
   "metadata": {},
   "outputs": [
    {
     "name": "stdout",
     "output_type": "stream",
     "text": [
      "Mrs             68488\n",
      "Mr               2729\n",
      "Family            264\n",
      "Company           104\n",
      "not reported       78\n",
      "Name: user_title, dtype: int64\n",
      "Mrs             17130\n",
      "Mr                668\n",
      "Family             57\n",
      "Company            23\n",
      "not reported       17\n",
      "Name: user_title, dtype: int64\n"
     ]
    }
   ],
   "source": [
    "print(df_train['user_title'].value_counts())\n",
    "print(df_test['user_title'].value_counts())"
   ]
  },
  {
   "cell_type": "code",
   "execution_count": 370,
   "metadata": {},
   "outputs": [
    {
     "data": {
      "text/html": [
       "<div>\n",
       "<style scoped>\n",
       "    .dataframe tbody tr th:only-of-type {\n",
       "        vertical-align: middle;\n",
       "    }\n",
       "\n",
       "    .dataframe tbody tr th {\n",
       "        vertical-align: top;\n",
       "    }\n",
       "\n",
       "    .dataframe thead th {\n",
       "        text-align: right;\n",
       "    }\n",
       "</style>\n",
       "<table border=\"1\" class=\"dataframe\">\n",
       "  <thead>\n",
       "    <tr style=\"text-align: right;\">\n",
       "      <th>user_title</th>\n",
       "      <th>Company</th>\n",
       "      <th>Family</th>\n",
       "      <th>Mr</th>\n",
       "      <th>Mrs</th>\n",
       "      <th>not reported</th>\n",
       "    </tr>\n",
       "    <tr>\n",
       "      <th>return</th>\n",
       "      <th></th>\n",
       "      <th></th>\n",
       "      <th></th>\n",
       "      <th></th>\n",
       "      <th></th>\n",
       "    </tr>\n",
       "  </thead>\n",
       "  <tbody>\n",
       "    <tr>\n",
       "      <th>0.0</th>\n",
       "      <td>40</td>\n",
       "      <td>141</td>\n",
       "      <td>1418</td>\n",
       "      <td>33672</td>\n",
       "      <td>47</td>\n",
       "    </tr>\n",
       "    <tr>\n",
       "      <th>1.0</th>\n",
       "      <td>64</td>\n",
       "      <td>123</td>\n",
       "      <td>1311</td>\n",
       "      <td>34816</td>\n",
       "      <td>31</td>\n",
       "    </tr>\n",
       "  </tbody>\n",
       "</table>\n",
       "</div>"
      ],
      "text/plain": [
       "user_title  Company  Family    Mr    Mrs  not reported\n",
       "return                                                \n",
       "0.0              40     141  1418  33672            47\n",
       "1.0              64     123  1311  34816            31"
      ]
     },
     "execution_count": 370,
     "metadata": {},
     "output_type": "execute_result"
    }
   ],
   "source": [
    "df_train.groupby(['return','user_title']).size().unstack(fill_value=0)"
   ]
  },
  {
   "cell_type": "code",
   "execution_count": 371,
   "metadata": {},
   "outputs": [
    {
     "data": {
      "text/plain": [
       "1.0    36345\n",
       "0.0    35318\n",
       "Name: return, dtype: int64"
      ]
     },
     "execution_count": 371,
     "metadata": {},
     "output_type": "execute_result"
    }
   ],
   "source": [
    "df_train['return'].value_counts()"
   ]
  },
  {
   "cell_type": "code",
   "execution_count": 106,
   "metadata": {},
   "outputs": [],
   "source": [
    "# df_train_state_dummies=pd.get_dummies(df_train['user_state'],drop_first=True)\n",
    "# df_test_state_dummies=pd.get_dummies(df_test['user_state'],drop_first=True)"
   ]
  },
  {
   "cell_type": "code",
   "execution_count": 107,
   "metadata": {},
   "outputs": [],
   "source": [
    "# df_train_user_dummies=pd.get_dummies(df_train['user_title'],drop_first=True)\n",
    "# df_test_user_dummies=pd.get_dummies(df_test['user_title'],drop_first=True)"
   ]
  },
  {
   "cell_type": "code",
   "execution_count": 372,
   "metadata": {},
   "outputs": [],
   "source": [
    "df_train[\"Customer_Tenure\"]=np.trunc((df_train['order_date'] - df_train['user_reg_date'])/np.timedelta64(1,'D'))\n",
    "df_test[\"Customer_Tenure\"]=np.trunc((df_test['order_date'] - df_test['user_reg_date'])/np.timedelta64(1,'D'))"
   ]
  },
  {
   "cell_type": "code",
   "execution_count": 110,
   "metadata": {},
   "outputs": [],
   "source": [
    "# df_train[\"Customer_Category\"]=pd.cut(df_train.Customer_Tenure,bins=[-5,30,365,600],labels=['New_Customer','Slightly_Old_Customer','Old_Customer'])"
   ]
  },
  {
   "cell_type": "code",
   "execution_count": 111,
   "metadata": {},
   "outputs": [
    {
     "data": {
      "text/html": [
       "<div>\n",
       "<style scoped>\n",
       "    .dataframe tbody tr th:only-of-type {\n",
       "        vertical-align: middle;\n",
       "    }\n",
       "\n",
       "    .dataframe tbody tr th {\n",
       "        vertical-align: top;\n",
       "    }\n",
       "\n",
       "    .dataframe thead th {\n",
       "        text-align: right;\n",
       "    }\n",
       "</style>\n",
       "<table border=\"1\" class=\"dataframe\">\n",
       "  <thead>\n",
       "    <tr style=\"text-align: right;\">\n",
       "      <th>Customer_Category</th>\n",
       "      <th>New_Customer</th>\n",
       "      <th>Slightly_Old_Customer</th>\n",
       "      <th>Old_Customer</th>\n",
       "    </tr>\n",
       "    <tr>\n",
       "      <th>return</th>\n",
       "      <th></th>\n",
       "      <th></th>\n",
       "      <th></th>\n",
       "    </tr>\n",
       "  </thead>\n",
       "  <tbody>\n",
       "    <tr>\n",
       "      <th>0.0</th>\n",
       "      <td>9058</td>\n",
       "      <td>11687</td>\n",
       "      <td>14573</td>\n",
       "    </tr>\n",
       "    <tr>\n",
       "      <th>1.0</th>\n",
       "      <td>8961</td>\n",
       "      <td>11582</td>\n",
       "      <td>15802</td>\n",
       "    </tr>\n",
       "  </tbody>\n",
       "</table>\n",
       "</div>"
      ],
      "text/plain": [
       "Customer_Category  New_Customer  Slightly_Old_Customer  Old_Customer\n",
       "return                                                              \n",
       "0.0                        9058                  11687         14573\n",
       "1.0                        8961                  11582         15802"
      ]
     },
     "execution_count": 111,
     "metadata": {},
     "output_type": "execute_result"
    }
   ],
   "source": [
    "# df_train.groupby(['return','Customer_Category']).size().unstack(fill_value=0)"
   ]
  },
  {
   "cell_type": "code",
   "execution_count": 112,
   "metadata": {},
   "outputs": [],
   "source": [
    "# dt=pd.crosstab(index=df_train['return'], columns=df_train['Customer_Category'])"
   ]
  },
  {
   "cell_type": "code",
   "execution_count": 113,
   "metadata": {},
   "outputs": [
    {
     "name": "stdout",
     "output_type": "stream",
     "text": [
      "p value is 1.5139447020139232e-08\n",
      "Dependent (reject H0)\n"
     ]
    }
   ],
   "source": [
    "# from scipy.stats import chi2_contingency\n",
    "# data = dt\n",
    "# stat, p, dof, expected = chi2_contingency(data)\n",
    "  \n",
    "# # interpret p-value\n",
    "# alpha = 0.05\n",
    "# print(\"p value is \" + str(p))\n",
    "# if p <= alpha:\n",
    "#     print('Dependent (reject H0)')\n",
    "# else:\n",
    "#     print('Independent (H0 holds true)')"
   ]
  },
  {
   "cell_type": "code",
   "execution_count": 114,
   "metadata": {},
   "outputs": [],
   "source": [
    "# df_test[\"Customer_Category\"]=pd.cut(df_test.Customer_Tenure,bins=[-5,30,365,600],labels=['New_Customer','Slightly_Old_Customer','Old_Customer'])"
   ]
  },
  {
   "cell_type": "code",
   "execution_count": 139,
   "metadata": {},
   "outputs": [],
   "source": [
    "# df_train_cust_dummies=pd.get_dummies(df_train['Customer_Category'],drop_first=True)\n",
    "# df_test_cust_dummies=pd.get_dummies(df_test['Customer_Category'],drop_first=True)"
   ]
  },
  {
   "cell_type": "code",
   "execution_count": 373,
   "metadata": {},
   "outputs": [
    {
     "data": {
      "text/plain": [
       "<AxesSubplot:>"
      ]
     },
     "execution_count": 373,
     "metadata": {},
     "output_type": "execute_result"
    },
    {
     "data": {
      "image/png": "[encoded data removed]",
      "text/plain": [
       "<Figure size 864x288 with 2 Axes>"
      ]
     },
     "metadata": {
      "needs_background": "light"
     },
     "output_type": "display_data"
    }
   ],
   "source": [
    "import seaborn as sns\n",
    "sns.heatmap(df_train[['item_id_enc','item_size_enc','item_color_enc','brand_id_enc']].corr(),cmap=\"YlGnBu\", annot=True)"
   ]
  },
  {
   "cell_type": "code",
   "execution_count": 374,
   "metadata": {},
   "outputs": [],
   "source": [
    "df_train_bkp=df_train.copy()\n",
    "df_test_bkp=df_test.copy()"
   ]
  },
  {
   "cell_type": "code",
   "execution_count": 375,
   "metadata": {},
   "outputs": [],
   "source": [
    "df_train=df_train_bkp.copy()\n",
    "df_test=df_test_bkp.copy()"
   ]
  },
  {
   "cell_type": "code",
   "execution_count": 140,
   "metadata": {},
   "outputs": [],
   "source": [
    "# df_train=pd.concat([df_train[['Delivery_days','item_id_enc','item_size_enc','item_color_enc','brand_id_enc',\n",
    "#                              'item_price','User_Age','return']],\n",
    "#                               df_train_user_dummies,df_train_state_dummies,df_train_cust_dummies],axis=1)\n",
    "# df_test=pd.concat([df_test[['order_item_id''Delivery_days','item_id_enc','item_size_enc','item_color_enc','brand_id_enc',\n",
    "#                              'item_price','User_Age','return']],\n",
    "#                               df_test_user_dummies,df_test_state_dummies,df_test_cust_dummies],axis=1)"
   ]
  },
  {
   "cell_type": "code",
   "execution_count": 376,
   "metadata": {},
   "outputs": [],
   "source": [
    "df_train=df_train[['Delivery_days','item_id_enc','item_size_enc','item_color_enc','brand_id_enc',\n",
    "                             'item_price','User_Age','return','user_state_enc','user_title_enc','Customer_Tenure']]\n",
    "df_test=df_test[['order_item_id','Delivery_days','item_id_enc','item_size_enc','item_color_enc','brand_id_enc',\n",
    "                             'item_price','User_Age','return','user_state_enc','user_title_enc','Customer_Tenure']]"
   ]
  },
  {
   "cell_type": "code",
   "execution_count": 377,
   "metadata": {},
   "outputs": [
    {
     "data": {
      "text/html": [
       "<div>\n",
       "<style scoped>\n",
       "    .dataframe tbody tr th:only-of-type {\n",
       "        vertical-align: middle;\n",
       "    }\n",
       "\n",
       "    .dataframe tbody tr th {\n",
       "        vertical-align: top;\n",
       "    }\n",
       "\n",
       "    .dataframe thead th {\n",
       "        text-align: right;\n",
       "    }\n",
       "</style>\n",
       "<table border=\"1\" class=\"dataframe\">\n",
       "  <thead>\n",
       "    <tr style=\"text-align: right;\">\n",
       "      <th></th>\n",
       "      <th>Delivery_days</th>\n",
       "      <th>item_id_enc</th>\n",
       "      <th>item_size_enc</th>\n",
       "      <th>item_color_enc</th>\n",
       "      <th>brand_id_enc</th>\n",
       "      <th>item_price</th>\n",
       "      <th>User_Age</th>\n",
       "      <th>return</th>\n",
       "      <th>user_state_enc</th>\n",
       "      <th>user_title_enc</th>\n",
       "      <th>Customer_Tenure</th>\n",
       "    </tr>\n",
       "  </thead>\n",
       "  <tbody>\n",
       "    <tr>\n",
       "      <th>0</th>\n",
       "      <td>5.0</td>\n",
       "      <td>0.235294</td>\n",
       "      <td>0.522085</td>\n",
       "      <td>0.368932</td>\n",
       "      <td>0.398649</td>\n",
       "      <td>49.9</td>\n",
       "      <td>47.000000</td>\n",
       "      <td>0.0</td>\n",
       "      <td>0.527033</td>\n",
       "      <td>0.508352</td>\n",
       "      <td>-1.0</td>\n",
       "    </tr>\n",
       "    <tr>\n",
       "      <th>1</th>\n",
       "      <td>5.0</td>\n",
       "      <td>0.418182</td>\n",
       "      <td>0.470209</td>\n",
       "      <td>0.531490</td>\n",
       "      <td>0.514104</td>\n",
       "      <td>19.9</td>\n",
       "      <td>46.000000</td>\n",
       "      <td>1.0</td>\n",
       "      <td>0.503849</td>\n",
       "      <td>0.508352</td>\n",
       "      <td>465.0</td>\n",
       "    </tr>\n",
       "    <tr>\n",
       "      <th>2</th>\n",
       "      <td>13.0</td>\n",
       "      <td>0.484848</td>\n",
       "      <td>0.470209</td>\n",
       "      <td>0.531490</td>\n",
       "      <td>0.468740</td>\n",
       "      <td>79.9</td>\n",
       "      <td>46.000000</td>\n",
       "      <td>0.0</td>\n",
       "      <td>0.503849</td>\n",
       "      <td>0.508352</td>\n",
       "      <td>465.0</td>\n",
       "    </tr>\n",
       "    <tr>\n",
       "      <th>3</th>\n",
       "      <td>3.0</td>\n",
       "      <td>0.698885</td>\n",
       "      <td>0.493287</td>\n",
       "      <td>0.536289</td>\n",
       "      <td>0.622444</td>\n",
       "      <td>19.9</td>\n",
       "      <td>56.000000</td>\n",
       "      <td>0.0</td>\n",
       "      <td>0.527033</td>\n",
       "      <td>0.508352</td>\n",
       "      <td>492.0</td>\n",
       "    </tr>\n",
       "    <tr>\n",
       "      <th>4</th>\n",
       "      <td>3.0</td>\n",
       "      <td>0.627451</td>\n",
       "      <td>0.555998</td>\n",
       "      <td>0.514710</td>\n",
       "      <td>0.591647</td>\n",
       "      <td>90.0</td>\n",
       "      <td>51.501745</td>\n",
       "      <td>1.0</td>\n",
       "      <td>0.498561</td>\n",
       "      <td>0.508352</td>\n",
       "      <td>135.0</td>\n",
       "    </tr>\n",
       "  </tbody>\n",
       "</table>\n",
       "</div>"
      ],
      "text/plain": [
       "   Delivery_days  item_id_enc  item_size_enc  item_color_enc  brand_id_enc  \\\n",
       "0            5.0     0.235294       0.522085        0.368932      0.398649   \n",
       "1            5.0     0.418182       0.470209        0.531490      0.514104   \n",
       "2           13.0     0.484848       0.470209        0.531490      0.468740   \n",
       "3            3.0     0.698885       0.493287        0.536289      0.622444   \n",
       "4            3.0     0.627451       0.555998        0.514710      0.591647   \n",
       "\n",
       "   item_price   User_Age  return  user_state_enc  user_title_enc  \\\n",
       "0        49.9  47.000000     0.0        0.527033        0.508352   \n",
       "1        19.9  46.000000     1.0        0.503849        0.508352   \n",
       "2        79.9  46.000000     0.0        0.503849        0.508352   \n",
       "3        19.9  56.000000     0.0        0.527033        0.508352   \n",
       "4        90.0  51.501745     1.0        0.498561        0.508352   \n",
       "\n",
       "   Customer_Tenure  \n",
       "0             -1.0  \n",
       "1            465.0  \n",
       "2            465.0  \n",
       "3            492.0  \n",
       "4            135.0  "
      ]
     },
     "execution_count": 377,
     "metadata": {},
     "output_type": "execute_result"
    }
   ],
   "source": [
    "df_train.head()"
   ]
  },
  {
   "cell_type": "code",
   "execution_count": 378,
   "metadata": {},
   "outputs": [
    {
     "data": {
      "text/html": [
       "<div>\n",
       "<style scoped>\n",
       "    .dataframe tbody tr th:only-of-type {\n",
       "        vertical-align: middle;\n",
       "    }\n",
       "\n",
       "    .dataframe tbody tr th {\n",
       "        vertical-align: top;\n",
       "    }\n",
       "\n",
       "    .dataframe thead th {\n",
       "        text-align: right;\n",
       "    }\n",
       "</style>\n",
       "<table border=\"1\" class=\"dataframe\">\n",
       "  <thead>\n",
       "    <tr style=\"text-align: right;\">\n",
       "      <th></th>\n",
       "      <th>order_item_id</th>\n",
       "      <th>Delivery_days</th>\n",
       "      <th>item_id_enc</th>\n",
       "      <th>item_size_enc</th>\n",
       "      <th>item_color_enc</th>\n",
       "      <th>brand_id_enc</th>\n",
       "      <th>item_price</th>\n",
       "      <th>User_Age</th>\n",
       "      <th>return</th>\n",
       "      <th>user_state_enc</th>\n",
       "      <th>user_title_enc</th>\n",
       "      <th>Customer_Tenure</th>\n",
       "    </tr>\n",
       "  </thead>\n",
       "  <tbody>\n",
       "    <tr>\n",
       "      <th>79945</th>\n",
       "      <td>26</td>\n",
       "      <td>3.0</td>\n",
       "      <td>0.333333</td>\n",
       "      <td>0.496260</td>\n",
       "      <td>0.497696</td>\n",
       "      <td>0.489162</td>\n",
       "      <td>69.90</td>\n",
       "      <td>54.0</td>\n",
       "      <td>NaN</td>\n",
       "      <td>0.492882</td>\n",
       "      <td>0.508352</td>\n",
       "      <td>91.0</td>\n",
       "    </tr>\n",
       "    <tr>\n",
       "      <th>79946</th>\n",
       "      <td>28</td>\n",
       "      <td>9.0</td>\n",
       "      <td>0.469388</td>\n",
       "      <td>0.470209</td>\n",
       "      <td>0.475862</td>\n",
       "      <td>0.458054</td>\n",
       "      <td>19.90</td>\n",
       "      <td>54.0</td>\n",
       "      <td>NaN</td>\n",
       "      <td>0.492882</td>\n",
       "      <td>0.508352</td>\n",
       "      <td>91.0</td>\n",
       "    </tr>\n",
       "    <tr>\n",
       "      <th>79947</th>\n",
       "      <td>37</td>\n",
       "      <td>3.0</td>\n",
       "      <td>0.584821</td>\n",
       "      <td>0.522085</td>\n",
       "      <td>0.487022</td>\n",
       "      <td>0.548673</td>\n",
       "      <td>39.95</td>\n",
       "      <td>52.0</td>\n",
       "      <td>NaN</td>\n",
       "      <td>0.503849</td>\n",
       "      <td>0.508352</td>\n",
       "      <td>492.0</td>\n",
       "    </tr>\n",
       "    <tr>\n",
       "      <th>79950</th>\n",
       "      <td>80</td>\n",
       "      <td>3.0</td>\n",
       "      <td>0.323944</td>\n",
       "      <td>0.492143</td>\n",
       "      <td>0.470396</td>\n",
       "      <td>0.397278</td>\n",
       "      <td>24.90</td>\n",
       "      <td>46.0</td>\n",
       "      <td>NaN</td>\n",
       "      <td>0.507478</td>\n",
       "      <td>0.508352</td>\n",
       "      <td>214.0</td>\n",
       "    </tr>\n",
       "    <tr>\n",
       "      <th>79951</th>\n",
       "      <td>95</td>\n",
       "      <td>3.0</td>\n",
       "      <td>0.323944</td>\n",
       "      <td>0.496260</td>\n",
       "      <td>0.507723</td>\n",
       "      <td>0.397278</td>\n",
       "      <td>34.90</td>\n",
       "      <td>67.0</td>\n",
       "      <td>NaN</td>\n",
       "      <td>0.529160</td>\n",
       "      <td>0.508352</td>\n",
       "      <td>326.0</td>\n",
       "    </tr>\n",
       "  </tbody>\n",
       "</table>\n",
       "</div>"
      ],
      "text/plain": [
       "       order_item_id  Delivery_days  item_id_enc  item_size_enc  \\\n",
       "79945             26            3.0     0.333333       0.496260   \n",
       "79946             28            9.0     0.469388       0.470209   \n",
       "79947             37            3.0     0.584821       0.522085   \n",
       "79950             80            3.0     0.323944       0.492143   \n",
       "79951             95            3.0     0.323944       0.496260   \n",
       "\n",
       "       item_color_enc  brand_id_enc  item_price  User_Age  return  \\\n",
       "79945        0.497696      0.489162       69.90      54.0     NaN   \n",
       "79946        0.475862      0.458054       19.90      54.0     NaN   \n",
       "79947        0.487022      0.548673       39.95      52.0     NaN   \n",
       "79950        0.470396      0.397278       24.90      46.0     NaN   \n",
       "79951        0.507723      0.397278       34.90      67.0     NaN   \n",
       "\n",
       "       user_state_enc  user_title_enc  Customer_Tenure  \n",
       "79945        0.492882        0.508352             91.0  \n",
       "79946        0.492882        0.508352             91.0  \n",
       "79947        0.503849        0.508352            492.0  \n",
       "79950        0.507478        0.508352            214.0  \n",
       "79951        0.529160        0.508352            326.0  "
      ]
     },
     "execution_count": 378,
     "metadata": {},
     "output_type": "execute_result"
    }
   ],
   "source": [
    "df_test.head()"
   ]
  },
  {
   "cell_type": "code",
   "execution_count": 144,
   "metadata": {},
   "outputs": [],
   "source": [
    "df_train_X=df_train.drop('return',axis=1)\n",
    "df_train_Y=df_train['return']"
   ]
  },
  {
   "cell_type": "code",
   "execution_count": 145,
   "metadata": {},
   "outputs": [],
   "source": [
    "from sklearn.model_selection import train_test_split"
   ]
  },
  {
   "cell_type": "code",
   "execution_count": 146,
   "metadata": {},
   "outputs": [],
   "source": [
    "X_train,X_val,Y_train,Y_val=train_test_split(df_train_X,df_train_Y,test_size=0.3,random_state=101)"
   ]
  },
  {
   "cell_type": "code",
   "execution_count": 147,
   "metadata": {},
   "outputs": [
    {
     "name": "stdout",
     "output_type": "stream",
     "text": [
      "(50164, 28)\n",
      "(50164,)\n",
      "(21499, 28)\n",
      "(21499,)\n"
     ]
    }
   ],
   "source": [
    "print(X_train.shape)\n",
    "print(Y_train.shape)\n",
    "print(X_val.shape)\n",
    "print(Y_val.shape)"
   ]
  },
  {
   "cell_type": "code",
   "execution_count": 128,
   "metadata": {},
   "outputs": [],
   "source": [
    "#DECISION TREE"
   ]
  },
  {
   "cell_type": "code",
   "execution_count": 148,
   "metadata": {},
   "outputs": [],
   "source": [
    "from sklearn.tree import DecisionTreeClassifier\n",
    "from sklearn.model_selection import GridSearchCV"
   ]
  },
  {
   "cell_type": "code",
   "execution_count": 149,
   "metadata": {},
   "outputs": [],
   "source": [
    "dtree=DecisionTreeClassifier()"
   ]
  },
  {
   "cell_type": "code",
   "execution_count": 150,
   "metadata": {},
   "outputs": [],
   "source": [
    "n_folds=5"
   ]
  },
  {
   "cell_type": "code",
   "execution_count": 151,
   "metadata": {},
   "outputs": [],
   "source": [
    "param_grid={'max_depth': range(5,15,5),\n",
    "           'criterion': ['entropy','gini']}"
   ]
  },
  {
   "cell_type": "code",
   "execution_count": 152,
   "metadata": {},
   "outputs": [],
   "source": [
    "grid_search=GridSearchCV(estimator=dtree,param_grid=param_grid,cv=n_folds,verbose=1)"
   ]
  },
  {
   "cell_type": "code",
   "execution_count": 153,
   "metadata": {},
   "outputs": [
    {
     "name": "stdout",
     "output_type": "stream",
     "text": [
      "Fitting 5 folds for each of 4 candidates, totalling 20 fits\n"
     ]
    },
    {
     "name": "stderr",
     "output_type": "stream",
     "text": [
      "[Parallel(n_jobs=1)]: Using backend SequentialBackend with 1 concurrent workers.\n",
      "[Parallel(n_jobs=1)]: Done  20 out of  20 | elapsed:    6.7s finished\n"
     ]
    },
    {
     "data": {
      "text/plain": [
       "GridSearchCV(cv=5, estimator=DecisionTreeClassifier(),\n",
       "             param_grid={'criterion': ['entropy', 'gini'],\n",
       "                         'max_depth': range(5, 15, 5)},\n",
       "             verbose=1)"
      ]
     },
     "execution_count": 153,
     "metadata": {},
     "output_type": "execute_result"
    }
   ],
   "source": [
    "grid_search.fit(X_train,Y_train)"
   ]
  },
  {
   "cell_type": "code",
   "execution_count": 156,
   "metadata": {},
   "outputs": [],
   "source": [
    "cv_results=pd.DataFrame(grid_search.cv_results_)"
   ]
  },
  {
   "cell_type": "code",
   "execution_count": 157,
   "metadata": {},
   "outputs": [
    {
     "data": {
      "text/html": [
       "<div>\n",
       "<style scoped>\n",
       "    .dataframe tbody tr th:only-of-type {\n",
       "        vertical-align: middle;\n",
       "    }\n",
       "\n",
       "    .dataframe tbody tr th {\n",
       "        vertical-align: top;\n",
       "    }\n",
       "\n",
       "    .dataframe thead th {\n",
       "        text-align: right;\n",
       "    }\n",
       "</style>\n",
       "<table border=\"1\" class=\"dataframe\">\n",
       "  <thead>\n",
       "    <tr style=\"text-align: right;\">\n",
       "      <th></th>\n",
       "      <th>mean_fit_time</th>\n",
       "      <th>std_fit_time</th>\n",
       "      <th>mean_score_time</th>\n",
       "      <th>std_score_time</th>\n",
       "      <th>param_criterion</th>\n",
       "      <th>param_max_depth</th>\n",
       "      <th>params</th>\n",
       "      <th>split0_test_score</th>\n",
       "      <th>split1_test_score</th>\n",
       "      <th>split2_test_score</th>\n",
       "      <th>split3_test_score</th>\n",
       "      <th>split4_test_score</th>\n",
       "      <th>mean_test_score</th>\n",
       "      <th>std_test_score</th>\n",
       "      <th>rank_test_score</th>\n",
       "    </tr>\n",
       "  </thead>\n",
       "  <tbody>\n",
       "    <tr>\n",
       "      <th>0</th>\n",
       "      <td>0.252280</td>\n",
       "      <td>0.053752</td>\n",
       "      <td>0.016194</td>\n",
       "      <td>0.008100</td>\n",
       "      <td>entropy</td>\n",
       "      <td>5</td>\n",
       "      <td>{'criterion': 'entropy', 'max_depth': 5}</td>\n",
       "      <td>0.637895</td>\n",
       "      <td>0.631815</td>\n",
       "      <td>0.634406</td>\n",
       "      <td>0.628028</td>\n",
       "      <td>0.626894</td>\n",
       "      <td>0.631808</td>\n",
       "      <td>0.004056</td>\n",
       "      <td>1</td>\n",
       "    </tr>\n",
       "    <tr>\n",
       "      <th>1</th>\n",
       "      <td>0.425159</td>\n",
       "      <td>0.039539</td>\n",
       "      <td>0.011295</td>\n",
       "      <td>0.002308</td>\n",
       "      <td>entropy</td>\n",
       "      <td>10</td>\n",
       "      <td>{'criterion': 'entropy', 'max_depth': 10}</td>\n",
       "      <td>0.628227</td>\n",
       "      <td>0.623642</td>\n",
       "      <td>0.623144</td>\n",
       "      <td>0.619854</td>\n",
       "      <td>0.618720</td>\n",
       "      <td>0.622717</td>\n",
       "      <td>0.003334</td>\n",
       "      <td>3</td>\n",
       "    </tr>\n",
       "    <tr>\n",
       "      <th>2</th>\n",
       "      <td>0.224857</td>\n",
       "      <td>0.016101</td>\n",
       "      <td>0.013806</td>\n",
       "      <td>0.003363</td>\n",
       "      <td>gini</td>\n",
       "      <td>5</td>\n",
       "      <td>{'criterion': 'gini', 'max_depth': 5}</td>\n",
       "      <td>0.637197</td>\n",
       "      <td>0.631217</td>\n",
       "      <td>0.634406</td>\n",
       "      <td>0.628028</td>\n",
       "      <td>0.627093</td>\n",
       "      <td>0.631588</td>\n",
       "      <td>0.003806</td>\n",
       "      <td>2</td>\n",
       "    </tr>\n",
       "    <tr>\n",
       "      <th>3</th>\n",
       "      <td>0.396868</td>\n",
       "      <td>0.024477</td>\n",
       "      <td>0.012980</td>\n",
       "      <td>0.000880</td>\n",
       "      <td>gini</td>\n",
       "      <td>10</td>\n",
       "      <td>{'criterion': 'gini', 'max_depth': 10}</td>\n",
       "      <td>0.621449</td>\n",
       "      <td>0.619755</td>\n",
       "      <td>0.622845</td>\n",
       "      <td>0.616864</td>\n",
       "      <td>0.610247</td>\n",
       "      <td>0.618232</td>\n",
       "      <td>0.004463</td>\n",
       "      <td>4</td>\n",
       "    </tr>\n",
       "  </tbody>\n",
       "</table>\n",
       "</div>"
      ],
      "text/plain": [
       "   mean_fit_time  std_fit_time  mean_score_time  std_score_time  \\\n",
       "0       0.252280      0.053752         0.016194        0.008100   \n",
       "1       0.425159      0.039539         0.011295        0.002308   \n",
       "2       0.224857      0.016101         0.013806        0.003363   \n",
       "3       0.396868      0.024477         0.012980        0.000880   \n",
       "\n",
       "  param_criterion param_max_depth                                     params  \\\n",
       "0         entropy               5   {'criterion': 'entropy', 'max_depth': 5}   \n",
       "1         entropy              10  {'criterion': 'entropy', 'max_depth': 10}   \n",
       "2            gini               5      {'criterion': 'gini', 'max_depth': 5}   \n",
       "3            gini              10     {'criterion': 'gini', 'max_depth': 10}   \n",
       "\n",
       "   split0_test_score  split1_test_score  split2_test_score  split3_test_score  \\\n",
       "0           0.637895           0.631815           0.634406           0.628028   \n",
       "1           0.628227           0.623642           0.623144           0.619854   \n",
       "2           0.637197           0.631217           0.634406           0.628028   \n",
       "3           0.621449           0.619755           0.622845           0.616864   \n",
       "\n",
       "   split4_test_score  mean_test_score  std_test_score  rank_test_score  \n",
       "0           0.626894         0.631808        0.004056                1  \n",
       "1           0.618720         0.622717        0.003334                3  \n",
       "2           0.627093         0.631588        0.003806                2  \n",
       "3           0.610247         0.618232        0.004463                4  "
      ]
     },
     "execution_count": 157,
     "metadata": {},
     "output_type": "execute_result"
    }
   ],
   "source": [
    "cv_results"
   ]
  },
  {
   "cell_type": "code",
   "execution_count": 166,
   "metadata": {},
   "outputs": [],
   "source": [
    "best_param_max_depth=grid_search.best_params_.get(\"max_depth\")\n",
    "best_param_criterion=grid_search.best_params_.get(\"criterion\")"
   ]
  },
  {
   "cell_type": "code",
   "execution_count": null,
   "metadata": {},
   "outputs": [],
   "source": [
    "#criterion: entropy\n",
    "#max_depth: 5"
   ]
  },
  {
   "cell_type": "code",
   "execution_count": 170,
   "metadata": {},
   "outputs": [
    {
     "data": {
      "text/plain": [
       "DecisionTreeClassifier(criterion='entropy', max_depth=5)"
      ]
     },
     "execution_count": 170,
     "metadata": {},
     "output_type": "execute_result"
    }
   ],
   "source": [
    "dtree_best=DecisionTreeClassifier(max_depth=best_param_max_depth,criterion=best_param_criterion)\n",
    "dtree_best.fit(X_train,Y_train)"
   ]
  },
  {
   "cell_type": "code",
   "execution_count": null,
   "metadata": {},
   "outputs": [],
   "source": [
    "Y_pred=dtree_best.predict_proba()"
   ]
  },
  {
   "cell_type": "code",
   "execution_count": 172,
   "metadata": {},
   "outputs": [],
   "source": [
    "from sklearn.metrics import roc_auc_score"
   ]
  },
  {
   "cell_type": "code",
   "execution_count": 173,
   "metadata": {},
   "outputs": [
    {
     "data": {
      "text/plain": [
       "0.6702318213796128"
      ]
     },
     "execution_count": 173,
     "metadata": {},
     "output_type": "execute_result"
    }
   ],
   "source": [
    "Y_pred=dtree_best.predict_proba(X_val)[:,1]\n",
    "roc_auc_score(Y_val,Y_pred)"
   ]
  },
  {
   "cell_type": "code",
   "execution_count": 174,
   "metadata": {},
   "outputs": [],
   "source": [
    "#RANDOM FOREST"
   ]
  },
  {
   "cell_type": "code",
   "execution_count": 175,
   "metadata": {},
   "outputs": [],
   "source": [
    "from sklearn.ensemble import RandomForestClassifier"
   ]
  },
  {
   "cell_type": "code",
   "execution_count": 176,
   "metadata": {},
   "outputs": [],
   "source": [
    "rf=RandomForestClassifier()"
   ]
  },
  {
   "cell_type": "code",
   "execution_count": 182,
   "metadata": {},
   "outputs": [],
   "source": [
    "param_grid={\"max_depth\": range(5,15,5),\n",
    "            \"n_estimators\": [100,200,300,400,500],\n",
    "            \"max_features\": [5,10,15,20,25],\n",
    "            \"criterion\": [\"entropy\",\"gini\"]}"
   ]
  },
  {
   "cell_type": "code",
   "execution_count": 183,
   "metadata": {},
   "outputs": [],
   "source": [
    "grid_search_rf= GridSearchCV(estimator=rf,param_grid=param_grid,cv=n_folds,verbose=1,scoring=\"roc_auc\")"
   ]
  },
  {
   "cell_type": "code",
   "execution_count": 184,
   "metadata": {},
   "outputs": [
    {
     "name": "stdout",
     "output_type": "stream",
     "text": [
      "Fitting 5 folds for each of 100 candidates, totalling 500 fits\n"
     ]
    },
    {
     "name": "stderr",
     "output_type": "stream",
     "text": [
      "[Parallel(n_jobs=1)]: Using backend SequentialBackend with 1 concurrent workers.\n",
      "[Parallel(n_jobs=1)]: Done 500 out of 500 | elapsed: 254.2min finished\n"
     ]
    },
    {
     "data": {
      "text/plain": [
       "GridSearchCV(cv=5, estimator=RandomForestClassifier(),\n",
       "             param_grid={'criterion': ['entropy', 'gini'],\n",
       "                         'max_depth': range(5, 15, 5),\n",
       "                         'max_features': [5, 10, 15, 20, 25],\n",
       "                         'n_estimators': [100, 200, 300, 400, 500]},\n",
       "             scoring='roc_auc', verbose=1)"
      ]
     },
     "execution_count": 184,
     "metadata": {},
     "output_type": "execute_result"
    }
   ],
   "source": [
    "grid_search_rf.fit(X_train,Y_train)"
   ]
  },
  {
   "cell_type": "code",
   "execution_count": 185,
   "metadata": {},
   "outputs": [
    {
     "data": {
      "text/html": [
       "<div>\n",
       "<style scoped>\n",
       "    .dataframe tbody tr th:only-of-type {\n",
       "        vertical-align: middle;\n",
       "    }\n",
       "\n",
       "    .dataframe tbody tr th {\n",
       "        vertical-align: top;\n",
       "    }\n",
       "\n",
       "    .dataframe thead th {\n",
       "        text-align: right;\n",
       "    }\n",
       "</style>\n",
       "<table border=\"1\" class=\"dataframe\">\n",
       "  <thead>\n",
       "    <tr style=\"text-align: right;\">\n",
       "      <th></th>\n",
       "      <th>mean_fit_time</th>\n",
       "      <th>std_fit_time</th>\n",
       "      <th>mean_score_time</th>\n",
       "      <th>std_score_time</th>\n",
       "      <th>param_criterion</th>\n",
       "      <th>param_max_depth</th>\n",
       "      <th>param_max_features</th>\n",
       "      <th>param_n_estimators</th>\n",
       "      <th>params</th>\n",
       "      <th>split0_test_score</th>\n",
       "      <th>split1_test_score</th>\n",
       "      <th>split2_test_score</th>\n",
       "      <th>split3_test_score</th>\n",
       "      <th>split4_test_score</th>\n",
       "      <th>mean_test_score</th>\n",
       "      <th>std_test_score</th>\n",
       "      <th>rank_test_score</th>\n",
       "    </tr>\n",
       "  </thead>\n",
       "  <tbody>\n",
       "    <tr>\n",
       "      <th>0</th>\n",
       "      <td>3.292910</td>\n",
       "      <td>0.131676</td>\n",
       "      <td>0.167140</td>\n",
       "      <td>0.005537</td>\n",
       "      <td>entropy</td>\n",
       "      <td>5</td>\n",
       "      <td>5</td>\n",
       "      <td>100</td>\n",
       "      <td>{'criterion': 'entropy', 'max_depth': 5, 'max_...</td>\n",
       "      <td>0.682658</td>\n",
       "      <td>0.678793</td>\n",
       "      <td>0.685636</td>\n",
       "      <td>0.669396</td>\n",
       "      <td>0.668317</td>\n",
       "      <td>0.676960</td>\n",
       "      <td>0.006972</td>\n",
       "      <td>95</td>\n",
       "    </tr>\n",
       "    <tr>\n",
       "      <th>1</th>\n",
       "      <td>6.461277</td>\n",
       "      <td>0.190989</td>\n",
       "      <td>0.333885</td>\n",
       "      <td>0.046683</td>\n",
       "      <td>entropy</td>\n",
       "      <td>5</td>\n",
       "      <td>5</td>\n",
       "      <td>200</td>\n",
       "      <td>{'criterion': 'entropy', 'max_depth': 5, 'max_...</td>\n",
       "      <td>0.683850</td>\n",
       "      <td>0.678582</td>\n",
       "      <td>0.684992</td>\n",
       "      <td>0.670488</td>\n",
       "      <td>0.668342</td>\n",
       "      <td>0.677251</td>\n",
       "      <td>0.006787</td>\n",
       "      <td>92</td>\n",
       "    </tr>\n",
       "    <tr>\n",
       "      <th>2</th>\n",
       "      <td>9.413540</td>\n",
       "      <td>0.057628</td>\n",
       "      <td>0.456435</td>\n",
       "      <td>0.008330</td>\n",
       "      <td>entropy</td>\n",
       "      <td>5</td>\n",
       "      <td>5</td>\n",
       "      <td>300</td>\n",
       "      <td>{'criterion': 'entropy', 'max_depth': 5, 'max_...</td>\n",
       "      <td>0.684206</td>\n",
       "      <td>0.676993</td>\n",
       "      <td>0.684358</td>\n",
       "      <td>0.669943</td>\n",
       "      <td>0.668062</td>\n",
       "      <td>0.676713</td>\n",
       "      <td>0.006861</td>\n",
       "      <td>97</td>\n",
       "    </tr>\n",
       "    <tr>\n",
       "      <th>3</th>\n",
       "      <td>12.246904</td>\n",
       "      <td>0.053706</td>\n",
       "      <td>0.592449</td>\n",
       "      <td>0.008673</td>\n",
       "      <td>entropy</td>\n",
       "      <td>5</td>\n",
       "      <td>5</td>\n",
       "      <td>400</td>\n",
       "      <td>{'criterion': 'entropy', 'max_depth': 5, 'max_...</td>\n",
       "      <td>0.683198</td>\n",
       "      <td>0.677849</td>\n",
       "      <td>0.684293</td>\n",
       "      <td>0.670003</td>\n",
       "      <td>0.667800</td>\n",
       "      <td>0.676629</td>\n",
       "      <td>0.006712</td>\n",
       "      <td>98</td>\n",
       "    </tr>\n",
       "    <tr>\n",
       "      <th>4</th>\n",
       "      <td>15.602071</td>\n",
       "      <td>0.089389</td>\n",
       "      <td>0.746025</td>\n",
       "      <td>0.013125</td>\n",
       "      <td>entropy</td>\n",
       "      <td>5</td>\n",
       "      <td>5</td>\n",
       "      <td>500</td>\n",
       "      <td>{'criterion': 'entropy', 'max_depth': 5, 'max_...</td>\n",
       "      <td>0.684296</td>\n",
       "      <td>0.677707</td>\n",
       "      <td>0.684919</td>\n",
       "      <td>0.670779</td>\n",
       "      <td>0.667595</td>\n",
       "      <td>0.677059</td>\n",
       "      <td>0.006980</td>\n",
       "      <td>94</td>\n",
       "    </tr>\n",
       "    <tr>\n",
       "      <th>...</th>\n",
       "      <td>...</td>\n",
       "      <td>...</td>\n",
       "      <td>...</td>\n",
       "      <td>...</td>\n",
       "      <td>...</td>\n",
       "      <td>...</td>\n",
       "      <td>...</td>\n",
       "      <td>...</td>\n",
       "      <td>...</td>\n",
       "      <td>...</td>\n",
       "      <td>...</td>\n",
       "      <td>...</td>\n",
       "      <td>...</td>\n",
       "      <td>...</td>\n",
       "      <td>...</td>\n",
       "      <td>...</td>\n",
       "      <td>...</td>\n",
       "    </tr>\n",
       "    <tr>\n",
       "      <th>95</th>\n",
       "      <td>16.694290</td>\n",
       "      <td>0.041676</td>\n",
       "      <td>0.241922</td>\n",
       "      <td>0.001701</td>\n",
       "      <td>gini</td>\n",
       "      <td>10</td>\n",
       "      <td>25</td>\n",
       "      <td>100</td>\n",
       "      <td>{'criterion': 'gini', 'max_depth': 10, 'max_fe...</td>\n",
       "      <td>0.690035</td>\n",
       "      <td>0.685304</td>\n",
       "      <td>0.691104</td>\n",
       "      <td>0.676819</td>\n",
       "      <td>0.677910</td>\n",
       "      <td>0.684234</td>\n",
       "      <td>0.005949</td>\n",
       "      <td>70</td>\n",
       "    </tr>\n",
       "    <tr>\n",
       "      <th>96</th>\n",
       "      <td>35.132709</td>\n",
       "      <td>3.023341</td>\n",
       "      <td>0.493758</td>\n",
       "      <td>0.039465</td>\n",
       "      <td>gini</td>\n",
       "      <td>10</td>\n",
       "      <td>25</td>\n",
       "      <td>200</td>\n",
       "      <td>{'criterion': 'gini', 'max_depth': 10, 'max_fe...</td>\n",
       "      <td>0.691189</td>\n",
       "      <td>0.685466</td>\n",
       "      <td>0.690685</td>\n",
       "      <td>0.677731</td>\n",
       "      <td>0.678157</td>\n",
       "      <td>0.684645</td>\n",
       "      <td>0.005829</td>\n",
       "      <td>50</td>\n",
       "    </tr>\n",
       "    <tr>\n",
       "      <th>97</th>\n",
       "      <td>51.212970</td>\n",
       "      <td>1.580567</td>\n",
       "      <td>0.722784</td>\n",
       "      <td>0.041189</td>\n",
       "      <td>gini</td>\n",
       "      <td>10</td>\n",
       "      <td>25</td>\n",
       "      <td>300</td>\n",
       "      <td>{'criterion': 'gini', 'max_depth': 10, 'max_fe...</td>\n",
       "      <td>0.690774</td>\n",
       "      <td>0.685658</td>\n",
       "      <td>0.690926</td>\n",
       "      <td>0.677244</td>\n",
       "      <td>0.677777</td>\n",
       "      <td>0.684476</td>\n",
       "      <td>0.005997</td>\n",
       "      <td>57</td>\n",
       "    </tr>\n",
       "    <tr>\n",
       "      <th>98</th>\n",
       "      <td>41.686685</td>\n",
       "      <td>13.612231</td>\n",
       "      <td>0.542948</td>\n",
       "      <td>0.194347</td>\n",
       "      <td>gini</td>\n",
       "      <td>10</td>\n",
       "      <td>25</td>\n",
       "      <td>400</td>\n",
       "      <td>{'criterion': 'gini', 'max_depth': 10, 'max_fe...</td>\n",
       "      <td>0.691471</td>\n",
       "      <td>0.685874</td>\n",
       "      <td>0.690766</td>\n",
       "      <td>0.677544</td>\n",
       "      <td>0.677905</td>\n",
       "      <td>0.684712</td>\n",
       "      <td>0.006023</td>\n",
       "      <td>44</td>\n",
       "    </tr>\n",
       "    <tr>\n",
       "      <th>99</th>\n",
       "      <td>45.945740</td>\n",
       "      <td>0.737254</td>\n",
       "      <td>0.605086</td>\n",
       "      <td>0.010985</td>\n",
       "      <td>gini</td>\n",
       "      <td>10</td>\n",
       "      <td>25</td>\n",
       "      <td>500</td>\n",
       "      <td>{'criterion': 'gini', 'max_depth': 10, 'max_fe...</td>\n",
       "      <td>0.690752</td>\n",
       "      <td>0.685616</td>\n",
       "      <td>0.690441</td>\n",
       "      <td>0.677701</td>\n",
       "      <td>0.677844</td>\n",
       "      <td>0.684471</td>\n",
       "      <td>0.005765</td>\n",
       "      <td>58</td>\n",
       "    </tr>\n",
       "  </tbody>\n",
       "</table>\n",
       "<p>100 rows × 17 columns</p>\n",
       "</div>"
      ],
      "text/plain": [
       "    mean_fit_time  std_fit_time  mean_score_time  std_score_time  \\\n",
       "0        3.292910      0.131676         0.167140        0.005537   \n",
       "1        6.461277      0.190989         0.333885        0.046683   \n",
       "2        9.413540      0.057628         0.456435        0.008330   \n",
       "3       12.246904      0.053706         0.592449        0.008673   \n",
       "4       15.602071      0.089389         0.746025        0.013125   \n",
       "..            ...           ...              ...             ...   \n",
       "95      16.694290      0.041676         0.241922        0.001701   \n",
       "96      35.132709      3.023341         0.493758        0.039465   \n",
       "97      51.212970      1.580567         0.722784        0.041189   \n",
       "98      41.686685     13.612231         0.542948        0.194347   \n",
       "99      45.945740      0.737254         0.605086        0.010985   \n",
       "\n",
       "   param_criterion param_max_depth param_max_features param_n_estimators  \\\n",
       "0          entropy               5                  5                100   \n",
       "1          entropy               5                  5                200   \n",
       "2          entropy               5                  5                300   \n",
       "3          entropy               5                  5                400   \n",
       "4          entropy               5                  5                500   \n",
       "..             ...             ...                ...                ...   \n",
       "95            gini              10                 25                100   \n",
       "96            gini              10                 25                200   \n",
       "97            gini              10                 25                300   \n",
       "98            gini              10                 25                400   \n",
       "99            gini              10                 25                500   \n",
       "\n",
       "                                               params  split0_test_score  \\\n",
       "0   {'criterion': 'entropy', 'max_depth': 5, 'max_...           0.682658   \n",
       "1   {'criterion': 'entropy', 'max_depth': 5, 'max_...           0.683850   \n",
       "2   {'criterion': 'entropy', 'max_depth': 5, 'max_...           0.684206   \n",
       "3   {'criterion': 'entropy', 'max_depth': 5, 'max_...           0.683198   \n",
       "4   {'criterion': 'entropy', 'max_depth': 5, 'max_...           0.684296   \n",
       "..                                                ...                ...   \n",
       "95  {'criterion': 'gini', 'max_depth': 10, 'max_fe...           0.690035   \n",
       "96  {'criterion': 'gini', 'max_depth': 10, 'max_fe...           0.691189   \n",
       "97  {'criterion': 'gini', 'max_depth': 10, 'max_fe...           0.690774   \n",
       "98  {'criterion': 'gini', 'max_depth': 10, 'max_fe...           0.691471   \n",
       "99  {'criterion': 'gini', 'max_depth': 10, 'max_fe...           0.690752   \n",
       "\n",
       "    split1_test_score  split2_test_score  split3_test_score  \\\n",
       "0            0.678793           0.685636           0.669396   \n",
       "1            0.678582           0.684992           0.670488   \n",
       "2            0.676993           0.684358           0.669943   \n",
       "3            0.677849           0.684293           0.670003   \n",
       "4            0.677707           0.684919           0.670779   \n",
       "..                ...                ...                ...   \n",
       "95           0.685304           0.691104           0.676819   \n",
       "96           0.685466           0.690685           0.677731   \n",
       "97           0.685658           0.690926           0.677244   \n",
       "98           0.685874           0.690766           0.677544   \n",
       "99           0.685616           0.690441           0.677701   \n",
       "\n",
       "    split4_test_score  mean_test_score  std_test_score  rank_test_score  \n",
       "0            0.668317         0.676960        0.006972               95  \n",
       "1            0.668342         0.677251        0.006787               92  \n",
       "2            0.668062         0.676713        0.006861               97  \n",
       "3            0.667800         0.676629        0.006712               98  \n",
       "4            0.667595         0.677059        0.006980               94  \n",
       "..                ...              ...             ...              ...  \n",
       "95           0.677910         0.684234        0.005949               70  \n",
       "96           0.678157         0.684645        0.005829               50  \n",
       "97           0.677777         0.684476        0.005997               57  \n",
       "98           0.677905         0.684712        0.006023               44  \n",
       "99           0.677844         0.684471        0.005765               58  \n",
       "\n",
       "[100 rows x 17 columns]"
      ]
     },
     "execution_count": 185,
     "metadata": {},
     "output_type": "execute_result"
    }
   ],
   "source": [
    "cv_results_rf=pd.DataFrame(grid_search_rf.cv_results_)\n",
    "cv_results_rf"
   ]
  },
  {
   "cell_type": "code",
   "execution_count": 191,
   "metadata": {},
   "outputs": [],
   "source": [
    "best_param_max_depth_rf=grid_search_rf.best_params_.get(\"max_depth\")\n",
    "best_param_n_estimators_rf=grid_search_rf.best_params_.get(\"n_estimators\")\n",
    "best_param_max_features_rf=grid_search_rf.best_params_.get(\"max_features\")\n",
    "best_param_criterion_rf=grid_search_rf.best_params_.get(\"criterion\")"
   ]
  },
  {
   "cell_type": "code",
   "execution_count": 195,
   "metadata": {},
   "outputs": [
    {
     "data": {
      "text/plain": [
       "400"
      ]
     },
     "execution_count": 195,
     "metadata": {},
     "output_type": "execute_result"
    }
   ],
   "source": [
    "best_param_n_estimators_rf"
   ]
  },
  {
   "cell_type": "code",
   "execution_count": null,
   "metadata": {},
   "outputs": [],
   "source": [
    "#max_depth: 10\n",
    "#n_estmators: 400\n",
    "#max_featues: 10\n",
    "#criterion: entropy"
   ]
  },
  {
   "cell_type": "code",
   "execution_count": 196,
   "metadata": {},
   "outputs": [
    {
     "data": {
      "text/plain": [
       "RandomForestClassifier(criterion='entropy', max_depth=10, max_features=10,\n",
       "                       n_estimators=400)"
      ]
     },
     "execution_count": 196,
     "metadata": {},
     "output_type": "execute_result"
    }
   ],
   "source": [
    "rf_best=RandomForestClassifier(max_depth=best_param_max_depth_rf,n_estimators=best_param_n_estimators_rf,\n",
    "                              max_features=best_param_max_features_rf,criterion=best_param_criterion_rf)\n",
    "rf_best.fit(X_train,Y_train)"
   ]
  },
  {
   "cell_type": "code",
   "execution_count": 197,
   "metadata": {},
   "outputs": [
    {
     "data": {
      "text/plain": [
       "0.6764268511677428"
      ]
     },
     "execution_count": 197,
     "metadata": {},
     "output_type": "execute_result"
    }
   ],
   "source": [
    "Y_pred_rf=rf_best.predict_proba(X_val)[:,1]\n",
    "roc_auc_score(Y_val,Y_pred_rf)"
   ]
  },
  {
   "cell_type": "code",
   "execution_count": 198,
   "metadata": {},
   "outputs": [],
   "source": [
    "#LOGISTIC REGRESSION"
   ]
  },
  {
   "cell_type": "code",
   "execution_count": 201,
   "metadata": {},
   "outputs": [],
   "source": [
    "from sklearn.linear_model import LogisticRegression"
   ]
  },
  {
   "cell_type": "code",
   "execution_count": 202,
   "metadata": {},
   "outputs": [],
   "source": [
    "lr=LogisticRegression()"
   ]
  },
  {
   "cell_type": "code",
   "execution_count": 210,
   "metadata": {},
   "outputs": [],
   "source": [
    "from sklearn.model_selection import cross_val_score\n",
    "scores = cross_val_score(lr, X_train, Y_train, scoring='roc_auc', cv=n_folds, n_jobs=-1)"
   ]
  },
  {
   "cell_type": "code",
   "execution_count": 211,
   "metadata": {},
   "outputs": [
    {
     "data": {
      "text/plain": [
       "array([0.68966435, 0.68795443, 0.68968873, 0.67733043, 0.67703639])"
      ]
     },
     "execution_count": 211,
     "metadata": {},
     "output_type": "execute_result"
    }
   ],
   "source": [
    "scores"
   ]
  },
  {
   "cell_type": "code",
   "execution_count": 213,
   "metadata": {},
   "outputs": [
    {
     "data": {
      "text/plain": [
       "0.6843348654723348"
      ]
     },
     "execution_count": 213,
     "metadata": {},
     "output_type": "execute_result"
    }
   ],
   "source": [
    "sum(scores)/len(scores)"
   ]
  },
  {
   "cell_type": "code",
   "execution_count": 214,
   "metadata": {},
   "outputs": [],
   "source": [
    "#XG-BOOST"
   ]
  },
  {
   "cell_type": "code",
   "execution_count": 379,
   "metadata": {},
   "outputs": [],
   "source": [
    "import xgboost as xgb\n",
    "from xgboost.sklearn import XGBClassifier"
   ]
  },
  {
   "cell_type": "code",
   "execution_count": 380,
   "metadata": {},
   "outputs": [],
   "source": [
    "import matplotlib.pylab as plt\n",
    "%matplotlib inline\n",
    "from matplotlib.pylab import rcParams\n",
    "rcParams['figure.figsize'] = 12, 4"
   ]
  },
  {
   "cell_type": "code",
   "execution_count": 381,
   "metadata": {},
   "outputs": [],
   "source": [
    "target = 'return'\n",
    "#IDcol = 'item_id'"
   ]
  },
  {
   "cell_type": "code",
   "execution_count": 382,
   "metadata": {},
   "outputs": [],
   "source": [
    "from sklearn import metrics"
   ]
  },
  {
   "cell_type": "code",
   "execution_count": 383,
   "metadata": {},
   "outputs": [],
   "source": [
    "msk = np.random.rand(len(df_train)) < 0.8\n",
    "train = df_train[msk]\n",
    "val  = df_train[~msk]"
   ]
  },
  {
   "cell_type": "code",
   "execution_count": 384,
   "metadata": {},
   "outputs": [],
   "source": [
    "def modelfit(alg, dtrain, predictors,useTrainCV=True, cv_folds=5, early_stopping_rounds=50):\n",
    "    \n",
    "    if useTrainCV:\n",
    "        xgb_param = alg.get_xgb_params()\n",
    "        xgtrain = xgb.DMatrix(dtrain[predictors].values, label=dtrain[target].values)\n",
    "        cvresult = xgb.cv(xgb_param, xgtrain, num_boost_round=alg.get_params()['n_estimators'], nfold=cv_folds,\n",
    "            metrics='auc', early_stopping_rounds=early_stopping_rounds)\n",
    "        alg.set_params(n_estimators=cvresult.shape[0])\n",
    "    \n",
    "    #Fit the algorithm on the data\n",
    "    alg.fit(dtrain[predictors], dtrain['return'],eval_metric='auc')\n",
    "        \n",
    "    #Predict training set:\n",
    "    dtrain_predictions = alg.predict(dtrain[predictors])\n",
    "    dtrain_predprob = alg.predict_proba(dtrain[predictors])[:,1]\n",
    "\n",
    "        \n",
    "    #Print model report:\n",
    "    print (\"\\nModel Report\")\n",
    "    print (\"Accuracy_train : %.4g\" % metrics.accuracy_score(dtrain['return'].values, dtrain_predictions))\n",
    "    print (\"AUC Score (Train): %f\" % metrics.roc_auc_score(dtrain['return'], dtrain_predprob))\n",
    "    dval_predictions = alg.predict(val[predictors])\n",
    "    dval_predprob = alg.predict_proba(val[predictors])[:,1]\n",
    "    print (\"Accuracy_val : %.4g\" % metrics.accuracy_score(val['return'].values, dval_predictions))\n",
    "    print (\"AUC Score (val): %f\" % metrics.roc_auc_score(val['return'], dval_predprob))\n",
    "    print(alg.set_params(n_estimators=cvresult.shape[0]))\n",
    "    \n",
    "                    \n",
    "    feat_imp = pd.Series(alg.get_booster().get_fscore()).sort_values(ascending=False)\n",
    "    feat_imp.plot(kind='bar', title='Feature Importances')\n",
    "    plt.ylabel('Feature Importance Score')\n"
   ]
  },
  {
   "cell_type": "code",
   "execution_count": 386,
   "metadata": {},
   "outputs": [
    {
     "name": "stdout",
     "output_type": "stream",
     "text": [
      "\n",
      "Model Report\n",
      "Accuracy_train : 0.7248\n",
      "AUC Score (Train): 0.812624\n",
      "Accuracy_val : 0.6291\n",
      "AUC Score (val): 0.685252\n",
      "XGBClassifier(base_score=0.5, booster='gbtree', colsample_bylevel=1,\n",
      "              colsample_bynode=1, colsample_bytree=0.8, gamma=0, gpu_id=-1,\n",
      "              importance_type='gain', interaction_constraints='',\n",
      "              learning_rate=0.1, max_delta_step=0, max_depth=10,\n",
      "              min_child_weight=1, missing=nan, monotone_constraints='()',\n",
      "              n_estimators=51, n_jobs=8, nthread=-1, num_parallel_tree=1,\n",
      "              random_state=27, reg_alpha=0, reg_lambda=1, scale_pos_weight=1,\n",
      "              seed=27, subsample=0.8, tree_method='exact',\n",
      "              validate_parameters=1, verbosity=None)\n"
     ]
    },
    {
     "data": {
      "image/png": "[encoded data removed]",
      "text/plain": [
       "<Figure size 864x288 with 1 Axes>"
      ]
     },
     "metadata": {
      "needs_background": "light"
     },
     "output_type": "display_data"
    }
   ],
   "source": [
    "predictors = [x for x in train.columns if x not in [target]]\n",
    "xgb1 = XGBClassifier(\n",
    " learning_rate =0.1,\n",
    " n_estimators=500,\n",
    " max_depth=10,\n",
    " min_child_weight=1,\n",
    " gamma=0,\n",
    " subsample=0.8,\n",
    " colsample_bytree=0.8,\n",
    " objective= 'binary:logistic',\n",
    " nthread=-1,\n",
    " scale_pos_weight=1,\n",
    " seed=27)\n",
    "modelfit(xgb1, train, predictors)"
   ]
  },
  {
   "cell_type": "code",
   "execution_count": 249,
   "metadata": {},
   "outputs": [],
   "source": [
    "#n_estimators=24"
   ]
  },
  {
   "cell_type": "code",
   "execution_count": 293,
   "metadata": {},
   "outputs": [
    {
     "name": "stdout",
     "output_type": "stream",
     "text": [
      "[00:27:40] WARNING: C:/Users/Administrator/workspace/xgboost-win64_release_1.4.0/src/learner.cc:1095: Starting in XGBoost 1.3.0, the default evaluation metric used with the objective 'binary:logistic' was changed from 'error' to 'logloss'. Explicitly set eval_metric if you'd like to restore the old behavior.\n"
     ]
    },
    {
     "data": {
      "text/plain": [
       "GridSearchCV(cv=5,\n",
       "             estimator=XGBClassifier(base_score=None, booster=None,\n",
       "                                     colsample_bylevel=None,\n",
       "                                     colsample_bynode=None,\n",
       "                                     colsample_bytree=0.8, gamma=0, gpu_id=None,\n",
       "                                     importance_type='gain',\n",
       "                                     interaction_constraints=None,\n",
       "                                     learning_rate=0.1, max_delta_step=None,\n",
       "                                     max_depth=None, min_child_weight=None,\n",
       "                                     missing=nan, monotone_constraints=None,\n",
       "                                     n_estimators=24, n_jobs=None, nthread=4,\n",
       "                                     num_parallel_tree=None, random_state=None,\n",
       "                                     reg_alpha=None, reg_lambda=None,\n",
       "                                     scale_pos_weight=1, seed=27, subsample=0.8,\n",
       "                                     tree_method=None, validate_parameters=None,\n",
       "                                     verbosity=None),\n",
       "             iid=False, n_jobs=4,\n",
       "             param_grid={'max_depth': range(3, 15, 2),\n",
       "                         'min_child_weight': range(1, 6, 2)},\n",
       "             scoring='roc_auc')"
      ]
     },
     "execution_count": 293,
     "metadata": {},
     "output_type": "execute_result"
    }
   ],
   "source": [
    "param_test1 = {\n",
    " 'max_depth':range(3,15,2),\n",
    " 'min_child_weight':range(1,6,2)\n",
    "}\n",
    "gsearch1 = GridSearchCV(estimator = XGBClassifier(learning_rate =0.1, n_estimators=24,\n",
    " gamma=0, subsample=0.8, colsample_bytree=0.8,\n",
    " objective= 'binary:logistic', nthread=4, scale_pos_weight=1, seed=27), \n",
    " param_grid = param_test1, scoring='roc_auc',n_jobs=4,iid=False, cv=5)\n",
    "gsearch1.fit(df_train[predictors],df_train[target])\n",
    "# gsearch1.grid_scores_, gsearch1.best_params_, gsearch1.best_score_"
   ]
  },
  {
   "cell_type": "code",
   "execution_count": 294,
   "metadata": {},
   "outputs": [
    {
     "data": {
      "text/html": [
       "<div>\n",
       "<style scoped>\n",
       "    .dataframe tbody tr th:only-of-type {\n",
       "        vertical-align: middle;\n",
       "    }\n",
       "\n",
       "    .dataframe tbody tr th {\n",
       "        vertical-align: top;\n",
       "    }\n",
       "\n",
       "    .dataframe thead th {\n",
       "        text-align: right;\n",
       "    }\n",
       "</style>\n",
       "<table border=\"1\" class=\"dataframe\">\n",
       "  <thead>\n",
       "    <tr style=\"text-align: right;\">\n",
       "      <th></th>\n",
       "      <th>mean_fit_time</th>\n",
       "      <th>std_fit_time</th>\n",
       "      <th>mean_score_time</th>\n",
       "      <th>std_score_time</th>\n",
       "      <th>param_max_depth</th>\n",
       "      <th>param_min_child_weight</th>\n",
       "      <th>params</th>\n",
       "      <th>split0_test_score</th>\n",
       "      <th>split1_test_score</th>\n",
       "      <th>split2_test_score</th>\n",
       "      <th>split3_test_score</th>\n",
       "      <th>split4_test_score</th>\n",
       "      <th>mean_test_score</th>\n",
       "      <th>std_test_score</th>\n",
       "      <th>rank_test_score</th>\n",
       "    </tr>\n",
       "  </thead>\n",
       "  <tbody>\n",
       "    <tr>\n",
       "      <th>0</th>\n",
       "      <td>1.294731</td>\n",
       "      <td>0.058034</td>\n",
       "      <td>0.032924</td>\n",
       "      <td>0.006749</td>\n",
       "      <td>3</td>\n",
       "      <td>1</td>\n",
       "      <td>{'max_depth': 3, 'min_child_weight': 1}</td>\n",
       "      <td>0.682146</td>\n",
       "      <td>0.686795</td>\n",
       "      <td>0.677974</td>\n",
       "      <td>0.682141</td>\n",
       "      <td>0.674344</td>\n",
       "      <td>0.680680</td>\n",
       "      <td>0.004223</td>\n",
       "      <td>11</td>\n",
       "    </tr>\n",
       "    <tr>\n",
       "      <th>1</th>\n",
       "      <td>1.168138</td>\n",
       "      <td>0.012653</td>\n",
       "      <td>0.031003</td>\n",
       "      <td>0.007742</td>\n",
       "      <td>3</td>\n",
       "      <td>3</td>\n",
       "      <td>{'max_depth': 3, 'min_child_weight': 3}</td>\n",
       "      <td>0.682146</td>\n",
       "      <td>0.686795</td>\n",
       "      <td>0.677975</td>\n",
       "      <td>0.682141</td>\n",
       "      <td>0.674352</td>\n",
       "      <td>0.680682</td>\n",
       "      <td>0.004220</td>\n",
       "      <td>10</td>\n",
       "    </tr>\n",
       "    <tr>\n",
       "      <th>2</th>\n",
       "      <td>1.225713</td>\n",
       "      <td>0.059329</td>\n",
       "      <td>0.028580</td>\n",
       "      <td>0.004191</td>\n",
       "      <td>3</td>\n",
       "      <td>5</td>\n",
       "      <td>{'max_depth': 3, 'min_child_weight': 5}</td>\n",
       "      <td>0.682146</td>\n",
       "      <td>0.686796</td>\n",
       "      <td>0.677975</td>\n",
       "      <td>0.682115</td>\n",
       "      <td>0.674188</td>\n",
       "      <td>0.680644</td>\n",
       "      <td>0.004267</td>\n",
       "      <td>12</td>\n",
       "    </tr>\n",
       "    <tr>\n",
       "      <th>3</th>\n",
       "      <td>1.850400</td>\n",
       "      <td>0.079021</td>\n",
       "      <td>0.028002</td>\n",
       "      <td>0.001903</td>\n",
       "      <td>5</td>\n",
       "      <td>1</td>\n",
       "      <td>{'max_depth': 5, 'min_child_weight': 1}</td>\n",
       "      <td>0.683007</td>\n",
       "      <td>0.688021</td>\n",
       "      <td>0.678874</td>\n",
       "      <td>0.684939</td>\n",
       "      <td>0.675585</td>\n",
       "      <td>0.682085</td>\n",
       "      <td>0.004400</td>\n",
       "      <td>5</td>\n",
       "    </tr>\n",
       "    <tr>\n",
       "      <th>4</th>\n",
       "      <td>1.824980</td>\n",
       "      <td>0.029570</td>\n",
       "      <td>0.029318</td>\n",
       "      <td>0.002931</td>\n",
       "      <td>5</td>\n",
       "      <td>3</td>\n",
       "      <td>{'max_depth': 5, 'min_child_weight': 3}</td>\n",
       "      <td>0.682935</td>\n",
       "      <td>0.688123</td>\n",
       "      <td>0.678734</td>\n",
       "      <td>0.685088</td>\n",
       "      <td>0.675417</td>\n",
       "      <td>0.682059</td>\n",
       "      <td>0.004514</td>\n",
       "      <td>6</td>\n",
       "    </tr>\n",
       "    <tr>\n",
       "      <th>5</th>\n",
       "      <td>1.819703</td>\n",
       "      <td>0.039363</td>\n",
       "      <td>0.027361</td>\n",
       "      <td>0.001857</td>\n",
       "      <td>5</td>\n",
       "      <td>5</td>\n",
       "      <td>{'max_depth': 5, 'min_child_weight': 5}</td>\n",
       "      <td>0.683264</td>\n",
       "      <td>0.688267</td>\n",
       "      <td>0.678787</td>\n",
       "      <td>0.684912</td>\n",
       "      <td>0.675275</td>\n",
       "      <td>0.682101</td>\n",
       "      <td>0.004579</td>\n",
       "      <td>4</td>\n",
       "    </tr>\n",
       "    <tr>\n",
       "      <th>6</th>\n",
       "      <td>2.696427</td>\n",
       "      <td>0.030090</td>\n",
       "      <td>0.030377</td>\n",
       "      <td>0.000985</td>\n",
       "      <td>7</td>\n",
       "      <td>1</td>\n",
       "      <td>{'max_depth': 7, 'min_child_weight': 1}</td>\n",
       "      <td>0.682616</td>\n",
       "      <td>0.689026</td>\n",
       "      <td>0.680129</td>\n",
       "      <td>0.685774</td>\n",
       "      <td>0.675211</td>\n",
       "      <td>0.682551</td>\n",
       "      <td>0.004734</td>\n",
       "      <td>1</td>\n",
       "    </tr>\n",
       "    <tr>\n",
       "      <th>7</th>\n",
       "      <td>2.770786</td>\n",
       "      <td>0.073406</td>\n",
       "      <td>0.034412</td>\n",
       "      <td>0.003006</td>\n",
       "      <td>7</td>\n",
       "      <td>3</td>\n",
       "      <td>{'max_depth': 7, 'min_child_weight': 3}</td>\n",
       "      <td>0.683239</td>\n",
       "      <td>0.688632</td>\n",
       "      <td>0.678872</td>\n",
       "      <td>0.685625</td>\n",
       "      <td>0.675013</td>\n",
       "      <td>0.682276</td>\n",
       "      <td>0.004835</td>\n",
       "      <td>2</td>\n",
       "    </tr>\n",
       "    <tr>\n",
       "      <th>8</th>\n",
       "      <td>2.946135</td>\n",
       "      <td>0.037899</td>\n",
       "      <td>0.034987</td>\n",
       "      <td>0.003164</td>\n",
       "      <td>7</td>\n",
       "      <td>5</td>\n",
       "      <td>{'max_depth': 7, 'min_child_weight': 5}</td>\n",
       "      <td>0.683084</td>\n",
       "      <td>0.688818</td>\n",
       "      <td>0.679515</td>\n",
       "      <td>0.685074</td>\n",
       "      <td>0.674581</td>\n",
       "      <td>0.682215</td>\n",
       "      <td>0.004860</td>\n",
       "      <td>3</td>\n",
       "    </tr>\n",
       "    <tr>\n",
       "      <th>9</th>\n",
       "      <td>4.310831</td>\n",
       "      <td>0.067026</td>\n",
       "      <td>0.033463</td>\n",
       "      <td>0.002379</td>\n",
       "      <td>9</td>\n",
       "      <td>1</td>\n",
       "      <td>{'max_depth': 9, 'min_child_weight': 1}</td>\n",
       "      <td>0.681427</td>\n",
       "      <td>0.687646</td>\n",
       "      <td>0.677709</td>\n",
       "      <td>0.686895</td>\n",
       "      <td>0.673445</td>\n",
       "      <td>0.681424</td>\n",
       "      <td>0.005406</td>\n",
       "      <td>7</td>\n",
       "    </tr>\n",
       "    <tr>\n",
       "      <th>10</th>\n",
       "      <td>3.985794</td>\n",
       "      <td>0.046293</td>\n",
       "      <td>0.032575</td>\n",
       "      <td>0.001191</td>\n",
       "      <td>9</td>\n",
       "      <td>3</td>\n",
       "      <td>{'max_depth': 9, 'min_child_weight': 3}</td>\n",
       "      <td>0.680756</td>\n",
       "      <td>0.686950</td>\n",
       "      <td>0.676889</td>\n",
       "      <td>0.686606</td>\n",
       "      <td>0.674160</td>\n",
       "      <td>0.681072</td>\n",
       "      <td>0.005110</td>\n",
       "      <td>8</td>\n",
       "    </tr>\n",
       "    <tr>\n",
       "      <th>11</th>\n",
       "      <td>3.865393</td>\n",
       "      <td>0.043210</td>\n",
       "      <td>0.032801</td>\n",
       "      <td>0.001171</td>\n",
       "      <td>9</td>\n",
       "      <td>5</td>\n",
       "      <td>{'max_depth': 9, 'min_child_weight': 5}</td>\n",
       "      <td>0.681870</td>\n",
       "      <td>0.686528</td>\n",
       "      <td>0.676039</td>\n",
       "      <td>0.685203</td>\n",
       "      <td>0.674284</td>\n",
       "      <td>0.680785</td>\n",
       "      <td>0.004868</td>\n",
       "      <td>9</td>\n",
       "    </tr>\n",
       "    <tr>\n",
       "      <th>12</th>\n",
       "      <td>5.437825</td>\n",
       "      <td>0.026418</td>\n",
       "      <td>0.036767</td>\n",
       "      <td>0.002462</td>\n",
       "      <td>11</td>\n",
       "      <td>1</td>\n",
       "      <td>{'max_depth': 11, 'min_child_weight': 1}</td>\n",
       "      <td>0.678490</td>\n",
       "      <td>0.683646</td>\n",
       "      <td>0.674217</td>\n",
       "      <td>0.682309</td>\n",
       "      <td>0.669648</td>\n",
       "      <td>0.677662</td>\n",
       "      <td>0.005180</td>\n",
       "      <td>15</td>\n",
       "    </tr>\n",
       "    <tr>\n",
       "      <th>13</th>\n",
       "      <td>5.073420</td>\n",
       "      <td>0.061335</td>\n",
       "      <td>0.035974</td>\n",
       "      <td>0.002757</td>\n",
       "      <td>11</td>\n",
       "      <td>3</td>\n",
       "      <td>{'max_depth': 11, 'min_child_weight': 3}</td>\n",
       "      <td>0.679660</td>\n",
       "      <td>0.683837</td>\n",
       "      <td>0.674028</td>\n",
       "      <td>0.681828</td>\n",
       "      <td>0.669789</td>\n",
       "      <td>0.677828</td>\n",
       "      <td>0.005187</td>\n",
       "      <td>13</td>\n",
       "    </tr>\n",
       "    <tr>\n",
       "      <th>14</th>\n",
       "      <td>5.057499</td>\n",
       "      <td>0.069710</td>\n",
       "      <td>0.034884</td>\n",
       "      <td>0.000908</td>\n",
       "      <td>11</td>\n",
       "      <td>5</td>\n",
       "      <td>{'max_depth': 11, 'min_child_weight': 5}</td>\n",
       "      <td>0.679137</td>\n",
       "      <td>0.683215</td>\n",
       "      <td>0.673670</td>\n",
       "      <td>0.681979</td>\n",
       "      <td>0.670981</td>\n",
       "      <td>0.677796</td>\n",
       "      <td>0.004736</td>\n",
       "      <td>14</td>\n",
       "    </tr>\n",
       "    <tr>\n",
       "      <th>15</th>\n",
       "      <td>6.830643</td>\n",
       "      <td>0.104473</td>\n",
       "      <td>0.042059</td>\n",
       "      <td>0.002117</td>\n",
       "      <td>13</td>\n",
       "      <td>1</td>\n",
       "      <td>{'max_depth': 13, 'min_child_weight': 1}</td>\n",
       "      <td>0.674191</td>\n",
       "      <td>0.680668</td>\n",
       "      <td>0.670655</td>\n",
       "      <td>0.676459</td>\n",
       "      <td>0.665740</td>\n",
       "      <td>0.673542</td>\n",
       "      <td>0.005078</td>\n",
       "      <td>18</td>\n",
       "    </tr>\n",
       "    <tr>\n",
       "      <th>16</th>\n",
       "      <td>6.341019</td>\n",
       "      <td>0.044798</td>\n",
       "      <td>0.043788</td>\n",
       "      <td>0.005854</td>\n",
       "      <td>13</td>\n",
       "      <td>3</td>\n",
       "      <td>{'max_depth': 13, 'min_child_weight': 3}</td>\n",
       "      <td>0.676282</td>\n",
       "      <td>0.679759</td>\n",
       "      <td>0.671804</td>\n",
       "      <td>0.677182</td>\n",
       "      <td>0.664350</td>\n",
       "      <td>0.673876</td>\n",
       "      <td>0.005411</td>\n",
       "      <td>17</td>\n",
       "    </tr>\n",
       "    <tr>\n",
       "      <th>17</th>\n",
       "      <td>5.251287</td>\n",
       "      <td>0.751215</td>\n",
       "      <td>0.037073</td>\n",
       "      <td>0.006540</td>\n",
       "      <td>13</td>\n",
       "      <td>5</td>\n",
       "      <td>{'max_depth': 13, 'min_child_weight': 5}</td>\n",
       "      <td>0.675767</td>\n",
       "      <td>0.680856</td>\n",
       "      <td>0.670833</td>\n",
       "      <td>0.679386</td>\n",
       "      <td>0.669582</td>\n",
       "      <td>0.675285</td>\n",
       "      <td>0.004482</td>\n",
       "      <td>16</td>\n",
       "    </tr>\n",
       "  </tbody>\n",
       "</table>\n",
       "</div>"
      ],
      "text/plain": [
       "    mean_fit_time  std_fit_time  mean_score_time  std_score_time  \\\n",
       "0        1.294731      0.058034         0.032924        0.006749   \n",
       "1        1.168138      0.012653         0.031003        0.007742   \n",
       "2        1.225713      0.059329         0.028580        0.004191   \n",
       "3        1.850400      0.079021         0.028002        0.001903   \n",
       "4        1.824980      0.029570         0.029318        0.002931   \n",
       "5        1.819703      0.039363         0.027361        0.001857   \n",
       "6        2.696427      0.030090         0.030377        0.000985   \n",
       "7        2.770786      0.073406         0.034412        0.003006   \n",
       "8        2.946135      0.037899         0.034987        0.003164   \n",
       "9        4.310831      0.067026         0.033463        0.002379   \n",
       "10       3.985794      0.046293         0.032575        0.001191   \n",
       "11       3.865393      0.043210         0.032801        0.001171   \n",
       "12       5.437825      0.026418         0.036767        0.002462   \n",
       "13       5.073420      0.061335         0.035974        0.002757   \n",
       "14       5.057499      0.069710         0.034884        0.000908   \n",
       "15       6.830643      0.104473         0.042059        0.002117   \n",
       "16       6.341019      0.044798         0.043788        0.005854   \n",
       "17       5.251287      0.751215         0.037073        0.006540   \n",
       "\n",
       "   param_max_depth param_min_child_weight  \\\n",
       "0                3                      1   \n",
       "1                3                      3   \n",
       "2                3                      5   \n",
       "3                5                      1   \n",
       "4                5                      3   \n",
       "5                5                      5   \n",
       "6                7                      1   \n",
       "7                7                      3   \n",
       "8                7                      5   \n",
       "9                9                      1   \n",
       "10               9                      3   \n",
       "11               9                      5   \n",
       "12              11                      1   \n",
       "13              11                      3   \n",
       "14              11                      5   \n",
       "15              13                      1   \n",
       "16              13                      3   \n",
       "17              13                      5   \n",
       "\n",
       "                                      params  split0_test_score  \\\n",
       "0    {'max_depth': 3, 'min_child_weight': 1}           0.682146   \n",
       "1    {'max_depth': 3, 'min_child_weight': 3}           0.682146   \n",
       "2    {'max_depth': 3, 'min_child_weight': 5}           0.682146   \n",
       "3    {'max_depth': 5, 'min_child_weight': 1}           0.683007   \n",
       "4    {'max_depth': 5, 'min_child_weight': 3}           0.682935   \n",
       "5    {'max_depth': 5, 'min_child_weight': 5}           0.683264   \n",
       "6    {'max_depth': 7, 'min_child_weight': 1}           0.682616   \n",
       "7    {'max_depth': 7, 'min_child_weight': 3}           0.683239   \n",
       "8    {'max_depth': 7, 'min_child_weight': 5}           0.683084   \n",
       "9    {'max_depth': 9, 'min_child_weight': 1}           0.681427   \n",
       "10   {'max_depth': 9, 'min_child_weight': 3}           0.680756   \n",
       "11   {'max_depth': 9, 'min_child_weight': 5}           0.681870   \n",
       "12  {'max_depth': 11, 'min_child_weight': 1}           0.678490   \n",
       "13  {'max_depth': 11, 'min_child_weight': 3}           0.679660   \n",
       "14  {'max_depth': 11, 'min_child_weight': 5}           0.679137   \n",
       "15  {'max_depth': 13, 'min_child_weight': 1}           0.674191   \n",
       "16  {'max_depth': 13, 'min_child_weight': 3}           0.676282   \n",
       "17  {'max_depth': 13, 'min_child_weight': 5}           0.675767   \n",
       "\n",
       "    split1_test_score  split2_test_score  split3_test_score  \\\n",
       "0            0.686795           0.677974           0.682141   \n",
       "1            0.686795           0.677975           0.682141   \n",
       "2            0.686796           0.677975           0.682115   \n",
       "3            0.688021           0.678874           0.684939   \n",
       "4            0.688123           0.678734           0.685088   \n",
       "5            0.688267           0.678787           0.684912   \n",
       "6            0.689026           0.680129           0.685774   \n",
       "7            0.688632           0.678872           0.685625   \n",
       "8            0.688818           0.679515           0.685074   \n",
       "9            0.687646           0.677709           0.686895   \n",
       "10           0.686950           0.676889           0.686606   \n",
       "11           0.686528           0.676039           0.685203   \n",
       "12           0.683646           0.674217           0.682309   \n",
       "13           0.683837           0.674028           0.681828   \n",
       "14           0.683215           0.673670           0.681979   \n",
       "15           0.680668           0.670655           0.676459   \n",
       "16           0.679759           0.671804           0.677182   \n",
       "17           0.680856           0.670833           0.679386   \n",
       "\n",
       "    split4_test_score  mean_test_score  std_test_score  rank_test_score  \n",
       "0            0.674344         0.680680        0.004223               11  \n",
       "1            0.674352         0.680682        0.004220               10  \n",
       "2            0.674188         0.680644        0.004267               12  \n",
       "3            0.675585         0.682085        0.004400                5  \n",
       "4            0.675417         0.682059        0.004514                6  \n",
       "5            0.675275         0.682101        0.004579                4  \n",
       "6            0.675211         0.682551        0.004734                1  \n",
       "7            0.675013         0.682276        0.004835                2  \n",
       "8            0.674581         0.682215        0.004860                3  \n",
       "9            0.673445         0.681424        0.005406                7  \n",
       "10           0.674160         0.681072        0.005110                8  \n",
       "11           0.674284         0.680785        0.004868                9  \n",
       "12           0.669648         0.677662        0.005180               15  \n",
       "13           0.669789         0.677828        0.005187               13  \n",
       "14           0.670981         0.677796        0.004736               14  \n",
       "15           0.665740         0.673542        0.005078               18  \n",
       "16           0.664350         0.673876        0.005411               17  \n",
       "17           0.669582         0.675285        0.004482               16  "
      ]
     },
     "execution_count": 294,
     "metadata": {},
     "output_type": "execute_result"
    }
   ],
   "source": [
    "cv_results_xgb=pd.DataFrame(gsearch1.cv_results_)\n",
    "cv_results_xgb"
   ]
  },
  {
   "cell_type": "code",
   "execution_count": 295,
   "metadata": {},
   "outputs": [],
   "source": [
    "best_param_max_depth_xgb=gsearch1.best_params_.get(\"max_depth\")\n",
    "best_param_min_child_weight_xgb=gsearch1.best_params_.get(\"min_child_weight\")"
   ]
  },
  {
   "cell_type": "code",
   "execution_count": 297,
   "metadata": {},
   "outputs": [
    {
     "data": {
      "text/plain": [
       "1"
      ]
     },
     "execution_count": 297,
     "metadata": {},
     "output_type": "execute_result"
    }
   ],
   "source": [
    "best_param_min_child_weight_xgb"
   ]
  },
  {
   "cell_type": "code",
   "execution_count": 260,
   "metadata": {},
   "outputs": [],
   "source": [
    "#max_depth: 7 \n",
    "#min_child_weight: 1"
   ]
  },
  {
   "cell_type": "code",
   "execution_count": 319,
   "metadata": {},
   "outputs": [
    {
     "name": "stdout",
     "output_type": "stream",
     "text": [
      "\n",
      "Model Report\n",
      "Accuracy_train : 0.6384\n",
      "AUC Score (Train): 0.694493\n",
      "Accuracy_val : 0.6314\n",
      "AUC Score (val): 0.684711\n",
      "XGBClassifier(base_score=0.5, booster='gbtree', colsample_bylevel=1,\n",
      "              colsample_bynode=1, colsample_bytree=0.9, gamma=4, gpu_id=-1,\n",
      "              importance_type='gain', interaction_constraints='',\n",
      "              learning_rate=0.001, max_delta_step=0, max_depth=7,\n",
      "              min_child_weight=1, missing=nan, monotone_constraints='()',\n",
      "              n_estimators=24, n_jobs=8, nthread=-1, num_parallel_tree=1,\n",
      "              random_state=27, reg_alpha=0, reg_lambda=1, scale_pos_weight=1,\n",
      "              seed=27, subsample=0.6, tree_method='exact',\n",
      "              validate_parameters=1, verbosity=None)\n"
     ]
    }
   ],
   "source": [
    "xgb1 = XGBClassifier(\n",
    " learning_rate =0.1,\n",
    " n_estimators=24,\n",
    " max_depth=7,\n",
    " min_child_weight=1,\n",
    " gamma=4,\n",
    " subsample=0.6,\n",
    " colsample_bytree=0.9,\n",
    " objective= 'binary:logistic',\n",
    " nthread=-1,\n",
    " scale_pos_weight=1,\n",
    " seed=27)\n",
    "modelfit(xgb1, train, predictors)"
   ]
  },
  {
   "cell_type": "code",
   "execution_count": 306,
   "metadata": {},
   "outputs": [
    {
     "name": "stdout",
     "output_type": "stream",
     "text": [
      "[00:34:46] WARNING: C:/Users/Administrator/workspace/xgboost-win64_release_1.4.0/src/learner.cc:1095: Starting in XGBoost 1.3.0, the default evaluation metric used with the objective 'binary:logistic' was changed from 'error' to 'logloss'. Explicitly set eval_metric if you'd like to restore the old behavior.\n"
     ]
    },
    {
     "data": {
      "text/plain": [
       "GridSearchCV(cv=5,\n",
       "             estimator=XGBClassifier(base_score=None, booster=None,\n",
       "                                     colsample_bylevel=None,\n",
       "                                     colsample_bynode=None,\n",
       "                                     colsample_bytree=0.8, gamma=None,\n",
       "                                     gpu_id=None, importance_type='gain',\n",
       "                                     interaction_constraints=None,\n",
       "                                     learning_rate=0.1, max_delta_step=None,\n",
       "                                     max_depth=7, min_child_weight=1,\n",
       "                                     missing=nan, monotone_constraints=None,\n",
       "                                     n_estimators=24, n_jobs=None, nthread=4,\n",
       "                                     num_parallel_tree=None, random_state=None,\n",
       "                                     reg_alpha=None, reg_lambda=None,\n",
       "                                     scale_pos_weight=1, seed=27, subsample=0.8,\n",
       "                                     tree_method=None, validate_parameters=None,\n",
       "                                     verbosity=None),\n",
       "             iid=False, n_jobs=4, param_grid={'gamma': range(0, 5)},\n",
       "             scoring='roc_auc')"
      ]
     },
     "execution_count": 306,
     "metadata": {},
     "output_type": "execute_result"
    }
   ],
   "source": [
    "param_test1 = {\n",
    " 'gamma':range(0,5,1),\n",
    "}\n",
    "gsearch1 = GridSearchCV(estimator = XGBClassifier(learning_rate =0.1, n_estimators=24, max_depth=7,\n",
    " min_child_weight=1,\n",
    " subsample=0.8, colsample_bytree=0.8,\n",
    " objective= 'binary:logistic', nthread=4, scale_pos_weight=1, seed=27), \n",
    " param_grid = param_test1, scoring='roc_auc',n_jobs=4,iid=False, cv=5)\n",
    "gsearch1.fit(df_train[predictors],df_train[target])\n",
    "# gsearch1.grid_scores_, gsearch1.best_params_, gsearch1.best_score_"
   ]
  },
  {
   "cell_type": "code",
   "execution_count": 307,
   "metadata": {},
   "outputs": [],
   "source": [
    "best_param_gamma_xgb=gsearch1.best_params_.get(\"gamma\")"
   ]
  },
  {
   "cell_type": "code",
   "execution_count": 308,
   "metadata": {},
   "outputs": [
    {
     "data": {
      "text/plain": [
       "4"
      ]
     },
     "execution_count": 308,
     "metadata": {},
     "output_type": "execute_result"
    }
   ],
   "source": [
    "best_param_gamma_xgb"
   ]
  },
  {
   "cell_type": "code",
   "execution_count": null,
   "metadata": {},
   "outputs": [],
   "source": [
    "#gamma: 4"
   ]
  },
  {
   "cell_type": "code",
   "execution_count": 314,
   "metadata": {},
   "outputs": [
    {
     "name": "stdout",
     "output_type": "stream",
     "text": [
      "[00:39:58] WARNING: C:/Users/Administrator/workspace/xgboost-win64_release_1.4.0/src/learner.cc:1095: Starting in XGBoost 1.3.0, the default evaluation metric used with the objective 'binary:logistic' was changed from 'error' to 'logloss'. Explicitly set eval_metric if you'd like to restore the old behavior.\n"
     ]
    },
    {
     "data": {
      "text/plain": [
       "GridSearchCV(cv=5,\n",
       "             estimator=XGBClassifier(base_score=None, booster=None,\n",
       "                                     colsample_bylevel=None,\n",
       "                                     colsample_bynode=None,\n",
       "                                     colsample_bytree=None, gamma=4,\n",
       "                                     gpu_id=None, importance_type='gain',\n",
       "                                     interaction_constraints=None,\n",
       "                                     learning_rate=0.1, max_delta_step=None,\n",
       "                                     max_depth=7, min_child_weight=1,\n",
       "                                     missing=nan, monotone_constraints=None,\n",
       "                                     n_estimators=24, n_jobs=None, nthread=4,\n",
       "                                     num_parallel_tree=None, random_state=None,\n",
       "                                     reg_alpha=None, reg_lambda=None,\n",
       "                                     scale_pos_weight=1, seed=27,\n",
       "                                     subsample=None, tree_method=None,\n",
       "                                     validate_parameters=None, verbosity=None),\n",
       "             iid=False, n_jobs=4,\n",
       "             param_grid={'colsample_bytree': [0.6, 0.7, 0.8, 0.9],\n",
       "                         'subsample': [0.6, 0.7, 0.8, 0.9]},\n",
       "             scoring='roc_auc')"
      ]
     },
     "execution_count": 314,
     "metadata": {},
     "output_type": "execute_result"
    }
   ],
   "source": [
    "param_test1 = {\n",
    "  'subsample':[i/10.0 for i in range(6,10)],\n",
    "  'colsample_bytree':[i/10.0 for i in range(6,10)]\n",
    "}\n",
    "gsearch1 = GridSearchCV(estimator = XGBClassifier(learning_rate =0.1, n_estimators=24, max_depth=7,\n",
    " min_child_weight=1, gamma=4,\n",
    " objective= 'binary:logistic', nthread=4, scale_pos_weight=1, seed=27), \n",
    " param_grid = param_test1, scoring='roc_auc',n_jobs=4,iid=False, cv=5)\n",
    "gsearch1.fit(df_train[predictors],df_train[target])\n",
    "# gsearch1.grid_scores_, gsearch1.best_params_, gsearch1.best_score_"
   ]
  },
  {
   "cell_type": "code",
   "execution_count": 315,
   "metadata": {},
   "outputs": [],
   "source": [
    "best_param_subsample_xgb=gsearch1.best_params_.get(\"subsample\")\n",
    "best_param_colsample_bytree_xgb=gsearch1.best_params_.get(\"colsample_bytree\")"
   ]
  },
  {
   "cell_type": "code",
   "execution_count": 317,
   "metadata": {},
   "outputs": [
    {
     "data": {
      "text/plain": [
       "0.9"
      ]
     },
     "execution_count": 317,
     "metadata": {},
     "output_type": "execute_result"
    }
   ],
   "source": [
    "best_param_colsample_bytree_xgb"
   ]
  },
  {
   "cell_type": "code",
   "execution_count": null,
   "metadata": {},
   "outputs": [],
   "source": [
    "#subsample: 0.6\n",
    "#colsample_bytree: 0.9"
   ]
  },
  {
   "cell_type": "code",
   "execution_count": 402,
   "metadata": {},
   "outputs": [
    {
     "name": "stdout",
     "output_type": "stream",
     "text": [
      "\n",
      "Model Report\n",
      "Accuracy_train : 0.6442\n",
      "AUC Score (Train): 0.701949\n",
      "Accuracy_val : 0.6313\n",
      "AUC Score (val): 0.684221\n",
      "XGBClassifier(base_score=0.5, booster='gbtree', colsample_bylevel=1,\n",
      "              colsample_bynode=1, colsample_bytree=1, gamma=0, gpu_id=-1,\n",
      "              importance_type='gain', interaction_constraints='',\n",
      "              learning_rate=0.300000012, max_delta_step=0, max_depth=6,\n",
      "              min_child_weight=1, missing=nan, monotone_constraints='()',\n",
      "              n_estimators=14, n_jobs=8, num_parallel_tree=1, random_state=27,\n",
      "              reg_alpha=0, reg_lambda=1, scale_pos_weight=1, seed=27,\n",
      "              subsample=1, tree_method='exact', validate_parameters=1,\n",
      "              verbosity=None)\n"
     ]
    },
    {
     "data": {
      "image/png": "[encoded data removed]",
      "text/plain": [
       "<Figure size 864x288 with 1 Axes>"
      ]
     },
     "metadata": {
      "needs_background": "light"
     },
     "output_type": "display_data"
    }
   ],
   "source": [
    "xgb1 = XGBClassifier(\n",
    "#  learning_rate =0.001,\n",
    "#  n_estimators=51,\n",
    "#  max_depth=7,\n",
    "#  min_child_weight=2,\n",
    "#  gamma=4,\n",
    "#  subsample=0.6,\n",
    "#  colsample_bytree=0.9,\n",
    "# #  objective= 'binary:logistic',\n",
    "#  nthread=-1,\n",
    "# #  scale_pos_weight=1,\n",
    " seed=27)\n",
    "modelfit(xgb1, train, predictors)"
   ]
  },
  {
   "cell_type": "code",
   "execution_count": null,
   "metadata": {},
   "outputs": [],
   "source": []
  }
 ],
 "metadata": {
  "kernelspec": {
   "display_name": "Python 3",
   "language": "python",
   "name": "python3"
  },
  "language_info": {
   "codemirror_mode": {
    "name": "ipython",
    "version": 3
   },
   "file_extension": ".py",
   "mimetype": "text/x-python",
   "name": "python",
   "nbconvert_exporter": "python",
   "pygments_lexer": "ipython3",
   "version": "3.8.5"
  }
 },
 "nbformat": 4,
 "nbformat_minor": 4
}
