{
 "cells": [
  {
   "cell_type": "markdown",
   "id": "55ffa9ed",
   "metadata": {},
   "source": [
    "# IQVIA Assessment: Coded by Sumeet Routray"
   ]
  },
  {
   "cell_type": "markdown",
   "id": "752e7158",
   "metadata": {},
   "source": [
    "IMPORTING PACKAGES"
   ]
  },
  {
   "cell_type": "code",
   "execution_count": 1,
   "id": "33735853",
   "metadata": {},
   "outputs": [],
   "source": [
    "import pandas as pd\n",
    "import numpy as np\n",
    "import matplotlib.pyplot as plt\n",
    "import seaborn as sns\n",
    "import warnings\n",
    "warnings.filterwarnings('ignore')"
   ]
  },
  {
   "cell_type": "code",
   "execution_count": 2,
   "id": "7e37bd12",
   "metadata": {},
   "outputs": [],
   "source": [
    "from kmodes.kprototypes import KPrototypes\n",
    "from plotnine import *\n",
    "import plotnine"
   ]
  },
  {
   "cell_type": "markdown",
   "id": "9a68a65f",
   "metadata": {},
   "source": [
    "READING DATA"
   ]
  },
  {
   "cell_type": "code",
   "execution_count": 3,
   "id": "02ae5744",
   "metadata": {},
   "outputs": [],
   "source": [
    "df = pd.read_excel(\"Q2_Dummy data - EXERCISE.xlsx\", sheet_name= \"DATA\")"
   ]
  },
  {
   "cell_type": "markdown",
   "id": "45575687",
   "metadata": {},
   "source": [
    "CREATION OF DERIVED VARIABLE & CONVERSION OF VARIABLES"
   ]
  },
  {
   "cell_type": "code",
   "execution_count": 4,
   "id": "b7daabf2",
   "metadata": {},
   "outputs": [],
   "source": [
    "#Converting to date-type\n",
    "for col in ['claim_date','patient_dob']:\n",
    "    df[col] = pd.to_datetime(df[col], infer_datetime_format=True)"
   ]
  },
  {
   "cell_type": "code",
   "execution_count": 5,
   "id": "ad31c914",
   "metadata": {},
   "outputs": [],
   "source": [
    "#Creating a derived variable \"Age\"\n",
    "df['Patient_Age']= np.trunc((df['claim_date'] - df['patient_dob'])/np.timedelta64(1,'Y'))"
   ]
  },
  {
   "cell_type": "code",
   "execution_count": 6,
   "id": "3ed7fabd",
   "metadata": {},
   "outputs": [
    {
     "data": {
      "text/html": [
       "<div>\n",
       "<style scoped>\n",
       "    .dataframe tbody tr th:only-of-type {\n",
       "        vertical-align: middle;\n",
       "    }\n",
       "\n",
       "    .dataframe tbody tr th {\n",
       "        vertical-align: top;\n",
       "    }\n",
       "\n",
       "    .dataframe thead th {\n",
       "        text-align: right;\n",
       "    }\n",
       "</style>\n",
       "<table border=\"1\" class=\"dataframe\">\n",
       "  <thead>\n",
       "    <tr style=\"text-align: right;\">\n",
       "      <th></th>\n",
       "      <th>patient_id</th>\n",
       "      <th>claim_id</th>\n",
       "      <th>claim_date</th>\n",
       "      <th>claim_amount</th>\n",
       "      <th>physician_id</th>\n",
       "      <th>diagnosis_code</th>\n",
       "      <th>procedure_code</th>\n",
       "      <th>patient_dob</th>\n",
       "      <th>DOB year</th>\n",
       "      <th>patient_gender</th>\n",
       "      <th>patient_race</th>\n",
       "      <th>Patient country</th>\n",
       "      <th>patient_has_cancer</th>\n",
       "      <th>patient_has_diabetes</th>\n",
       "      <th>Total money spent</th>\n",
       "      <th>Patient_Age</th>\n",
       "    </tr>\n",
       "  </thead>\n",
       "  <tbody>\n",
       "    <tr>\n",
       "      <th>0</th>\n",
       "      <td>0057BAF42479AF6A</td>\n",
       "      <td>542412281632605</td>\n",
       "      <td>2009-07-22</td>\n",
       "      <td>50</td>\n",
       "      <td>5.056870e+09</td>\n",
       "      <td>72270</td>\n",
       "      <td>NaN</td>\n",
       "      <td>1942-05-01</td>\n",
       "      <td>1942</td>\n",
       "      <td>Female</td>\n",
       "      <td>White</td>\n",
       "      <td>USA</td>\n",
       "      <td>2</td>\n",
       "      <td>2</td>\n",
       "      <td>16580</td>\n",
       "      <td>67.0</td>\n",
       "    </tr>\n",
       "    <tr>\n",
       "      <th>1</th>\n",
       "      <td>0057BAF42479AF6A</td>\n",
       "      <td>542842280924481</td>\n",
       "      <td>2009-09-19</td>\n",
       "      <td>50</td>\n",
       "      <td>8.933392e+09</td>\n",
       "      <td>4019</td>\n",
       "      <td>NaN</td>\n",
       "      <td>1942-05-01</td>\n",
       "      <td>1942</td>\n",
       "      <td>Female</td>\n",
       "      <td>White</td>\n",
       "      <td>Germany</td>\n",
       "      <td>2</td>\n",
       "      <td>2</td>\n",
       "      <td>12897</td>\n",
       "      <td>67.0</td>\n",
       "    </tr>\n",
       "    <tr>\n",
       "      <th>2</th>\n",
       "      <td>0097F42825586D59</td>\n",
       "      <td>542892281178580</td>\n",
       "      <td>2009-06-11</td>\n",
       "      <td>200</td>\n",
       "      <td>3.274116e+08</td>\n",
       "      <td>6108</td>\n",
       "      <td>NaN</td>\n",
       "      <td>1921-07-01</td>\n",
       "      <td>1921</td>\n",
       "      <td>Female</td>\n",
       "      <td>White</td>\n",
       "      <td>France</td>\n",
       "      <td>2</td>\n",
       "      <td>2</td>\n",
       "      <td>13049</td>\n",
       "      <td>87.0</td>\n",
       "    </tr>\n",
       "    <tr>\n",
       "      <th>3</th>\n",
       "      <td>0097F42825586D59</td>\n",
       "      <td>542042281368648</td>\n",
       "      <td>2009-10-22</td>\n",
       "      <td>60</td>\n",
       "      <td>4.022239e+09</td>\n",
       "      <td>38653</td>\n",
       "      <td>NaN</td>\n",
       "      <td>1921-07-01</td>\n",
       "      <td>1921</td>\n",
       "      <td>Female</td>\n",
       "      <td>White</td>\n",
       "      <td>UK</td>\n",
       "      <td>2</td>\n",
       "      <td>2</td>\n",
       "      <td>14002</td>\n",
       "      <td>88.0</td>\n",
       "    </tr>\n",
       "    <tr>\n",
       "      <th>4</th>\n",
       "      <td>0097F42825586D59</td>\n",
       "      <td>542292281274912</td>\n",
       "      <td>2010-03-03</td>\n",
       "      <td>10</td>\n",
       "      <td>6.845115e+09</td>\n",
       "      <td>7140</td>\n",
       "      <td>NaN</td>\n",
       "      <td>1921-07-01</td>\n",
       "      <td>1921</td>\n",
       "      <td>Female</td>\n",
       "      <td>White</td>\n",
       "      <td>Italy</td>\n",
       "      <td>2</td>\n",
       "      <td>2</td>\n",
       "      <td>19684</td>\n",
       "      <td>88.0</td>\n",
       "    </tr>\n",
       "  </tbody>\n",
       "</table>\n",
       "</div>"
      ],
      "text/plain": [
       "         patient_id         claim_id claim_date  claim_amount  physician_id  \\\n",
       "0  0057BAF42479AF6A  542412281632605 2009-07-22            50  5.056870e+09   \n",
       "1  0057BAF42479AF6A  542842280924481 2009-09-19            50  8.933392e+09   \n",
       "2  0097F42825586D59  542892281178580 2009-06-11           200  3.274116e+08   \n",
       "3  0097F42825586D59  542042281368648 2009-10-22            60  4.022239e+09   \n",
       "4  0097F42825586D59  542292281274912 2010-03-03            10  6.845115e+09   \n",
       "\n",
       "  diagnosis_code  procedure_code patient_dob  DOB year patient_gender  \\\n",
       "0          72270             NaN  1942-05-01      1942         Female   \n",
       "1           4019             NaN  1942-05-01      1942         Female   \n",
       "2           6108             NaN  1921-07-01      1921         Female   \n",
       "3          38653             NaN  1921-07-01      1921         Female   \n",
       "4           7140             NaN  1921-07-01      1921         Female   \n",
       "\n",
       "  patient_race Patient country  patient_has_cancer  patient_has_diabetes  \\\n",
       "0        White             USA                   2                     2   \n",
       "1        White         Germany                   2                     2   \n",
       "2        White          France                   2                     2   \n",
       "3        White              UK                   2                     2   \n",
       "4        White           Italy                   2                     2   \n",
       "\n",
       "   Total money spent  Patient_Age  \n",
       "0              16580         67.0  \n",
       "1              12897         67.0  \n",
       "2              13049         87.0  \n",
       "3              14002         88.0  \n",
       "4              19684         88.0  "
      ]
     },
     "execution_count": 6,
     "metadata": {},
     "output_type": "execute_result"
    }
   ],
   "source": [
    "df.head()"
   ]
  },
  {
   "cell_type": "code",
   "execution_count": 7,
   "id": "28ac2a48",
   "metadata": {},
   "outputs": [
    {
     "data": {
      "text/plain": [
       "(1838, 16)"
      ]
     },
     "execution_count": 7,
     "metadata": {},
     "output_type": "execute_result"
    }
   ],
   "source": [
    "df.shape"
   ]
  },
  {
   "cell_type": "code",
   "execution_count": 8,
   "id": "df1f007c",
   "metadata": {},
   "outputs": [
    {
     "name": "stdout",
     "output_type": "stream",
     "text": [
      "<class 'pandas.core.frame.DataFrame'>\n",
      "RangeIndex: 1838 entries, 0 to 1837\n",
      "Data columns (total 16 columns):\n",
      " #   Column                Non-Null Count  Dtype         \n",
      "---  ------                --------------  -----         \n",
      " 0   patient_id            1838 non-null   object        \n",
      " 1   claim_id              1838 non-null   int64         \n",
      " 2   claim_date            1838 non-null   datetime64[ns]\n",
      " 3   claim_amount          1838 non-null   int64         \n",
      " 4   physician_id          1817 non-null   float64       \n",
      " 5   diagnosis_code        1838 non-null   object        \n",
      " 6   procedure_code        1 non-null      float64       \n",
      " 7   patient_dob           1838 non-null   datetime64[ns]\n",
      " 8   DOB year              1838 non-null   int64         \n",
      " 9   patient_gender        1838 non-null   object        \n",
      " 10  patient_race          1838 non-null   object        \n",
      " 11  Patient country       1838 non-null   object        \n",
      " 12  patient_has_cancer    1838 non-null   int64         \n",
      " 13  patient_has_diabetes  1838 non-null   int64         \n",
      " 14  Total money spent     1838 non-null   int64         \n",
      " 15  Patient_Age           1838 non-null   float64       \n",
      "dtypes: datetime64[ns](2), float64(3), int64(6), object(5)\n",
      "memory usage: 229.9+ KB\n"
     ]
    }
   ],
   "source": [
    "df.info()"
   ]
  },
  {
   "cell_type": "code",
   "execution_count": 9,
   "id": "8a2432d2",
   "metadata": {},
   "outputs": [],
   "source": [
    "#Converting to Categorical/String type\n",
    "df['patient_has_cancer']=df[\"patient_has_cancer\"].astype(str)\n",
    "df['patient_has_diabetes']=df[\"patient_has_diabetes\"].astype(str)"
   ]
  },
  {
   "cell_type": "code",
   "execution_count": 10,
   "id": "478a49d4",
   "metadata": {},
   "outputs": [
    {
     "name": "stdout",
     "output_type": "stream",
     "text": [
      "<class 'pandas.core.frame.DataFrame'>\n",
      "RangeIndex: 1838 entries, 0 to 1837\n",
      "Data columns (total 16 columns):\n",
      " #   Column                Non-Null Count  Dtype         \n",
      "---  ------                --------------  -----         \n",
      " 0   patient_id            1838 non-null   object        \n",
      " 1   claim_id              1838 non-null   int64         \n",
      " 2   claim_date            1838 non-null   datetime64[ns]\n",
      " 3   claim_amount          1838 non-null   int64         \n",
      " 4   physician_id          1817 non-null   float64       \n",
      " 5   diagnosis_code        1838 non-null   object        \n",
      " 6   procedure_code        1 non-null      float64       \n",
      " 7   patient_dob           1838 non-null   datetime64[ns]\n",
      " 8   DOB year              1838 non-null   int64         \n",
      " 9   patient_gender        1838 non-null   object        \n",
      " 10  patient_race          1838 non-null   object        \n",
      " 11  Patient country       1838 non-null   object        \n",
      " 12  patient_has_cancer    1838 non-null   object        \n",
      " 13  patient_has_diabetes  1838 non-null   object        \n",
      " 14  Total money spent     1838 non-null   int64         \n",
      " 15  Patient_Age           1838 non-null   float64       \n",
      "dtypes: datetime64[ns](2), float64(3), int64(4), object(7)\n",
      "memory usage: 229.9+ KB\n"
     ]
    }
   ],
   "source": [
    "df.info()"
   ]
  },
  {
   "cell_type": "code",
   "execution_count": 11,
   "id": "c3bfbef9",
   "metadata": {},
   "outputs": [
    {
     "data": {
      "text/plain": [
       "array(['2', '1'], dtype=object)"
      ]
     },
     "execution_count": 11,
     "metadata": {},
     "output_type": "execute_result"
    }
   ],
   "source": [
    "df['patient_has_cancer'].unique()"
   ]
  },
  {
   "cell_type": "code",
   "execution_count": 12,
   "id": "2101b522",
   "metadata": {},
   "outputs": [
    {
     "data": {
      "text/plain": [
       "patient_id               546\n",
       "diagnosis_code          1201\n",
       "patient_gender             2\n",
       "patient_race               4\n",
       "Patient country            7\n",
       "patient_has_cancer         2\n",
       "patient_has_diabetes       2\n",
       "dtype: int64"
      ]
     },
     "execution_count": 12,
     "metadata": {},
     "output_type": "execute_result"
    }
   ],
   "source": [
    "#Checking for unique values\n",
    "df.select_dtypes('object').nunique()"
   ]
  },
  {
   "cell_type": "code",
   "execution_count": 13,
   "id": "c3514e65",
   "metadata": {},
   "outputs": [
    {
     "data": {
      "text/html": [
       "<div>\n",
       "<style scoped>\n",
       "    .dataframe tbody tr th:only-of-type {\n",
       "        vertical-align: middle;\n",
       "    }\n",
       "\n",
       "    .dataframe tbody tr th {\n",
       "        vertical-align: top;\n",
       "    }\n",
       "\n",
       "    .dataframe thead th {\n",
       "        text-align: right;\n",
       "    }\n",
       "</style>\n",
       "<table border=\"1\" class=\"dataframe\">\n",
       "  <thead>\n",
       "    <tr style=\"text-align: right;\">\n",
       "      <th></th>\n",
       "      <th>claim_amount</th>\n",
       "      <th>Total money spent</th>\n",
       "      <th>Patient_Age</th>\n",
       "    </tr>\n",
       "  </thead>\n",
       "  <tbody>\n",
       "    <tr>\n",
       "      <th>count</th>\n",
       "      <td>1838.000000</td>\n",
       "      <td>1838.000000</td>\n",
       "      <td>1838.000000</td>\n",
       "    </tr>\n",
       "    <tr>\n",
       "      <th>mean</th>\n",
       "      <td>246.158868</td>\n",
       "      <td>9715.233950</td>\n",
       "      <td>72.689336</td>\n",
       "    </tr>\n",
       "    <tr>\n",
       "      <th>std</th>\n",
       "      <td>511.401035</td>\n",
       "      <td>5786.996441</td>\n",
       "      <td>12.665359</td>\n",
       "    </tr>\n",
       "    <tr>\n",
       "      <th>min</th>\n",
       "      <td>-90.000000</td>\n",
       "      <td>11.000000</td>\n",
       "      <td>26.000000</td>\n",
       "    </tr>\n",
       "    <tr>\n",
       "      <th>25%</th>\n",
       "      <td>40.000000</td>\n",
       "      <td>4650.000000</td>\n",
       "      <td>67.000000</td>\n",
       "    </tr>\n",
       "    <tr>\n",
       "      <th>50%</th>\n",
       "      <td>80.000000</td>\n",
       "      <td>9618.500000</td>\n",
       "      <td>73.000000</td>\n",
       "    </tr>\n",
       "    <tr>\n",
       "      <th>75%</th>\n",
       "      <td>200.000000</td>\n",
       "      <td>14657.500000</td>\n",
       "      <td>81.000000</td>\n",
       "    </tr>\n",
       "    <tr>\n",
       "      <th>max</th>\n",
       "      <td>3300.000000</td>\n",
       "      <td>19997.000000</td>\n",
       "      <td>100.000000</td>\n",
       "    </tr>\n",
       "  </tbody>\n",
       "</table>\n",
       "</div>"
      ],
      "text/plain": [
       "       claim_amount  Total money spent  Patient_Age\n",
       "count   1838.000000        1838.000000  1838.000000\n",
       "mean     246.158868        9715.233950    72.689336\n",
       "std      511.401035        5786.996441    12.665359\n",
       "min      -90.000000          11.000000    26.000000\n",
       "25%       40.000000        4650.000000    67.000000\n",
       "50%       80.000000        9618.500000    73.000000\n",
       "75%      200.000000       14657.500000    81.000000\n",
       "max     3300.000000       19997.000000   100.000000"
      ]
     },
     "execution_count": 13,
     "metadata": {},
     "output_type": "execute_result"
    }
   ],
   "source": [
    "df[['claim_amount','Total money spent','Patient_Age']].describe()"
   ]
  },
  {
   "cell_type": "code",
   "execution_count": 14,
   "id": "2c2b827d",
   "metadata": {},
   "outputs": [
    {
     "data": {
      "text/plain": [
       "claim_amount            0\n",
       "Total money spent       0\n",
       "Patient_Age             0\n",
       "patient_gender          0\n",
       "patient_race            0\n",
       "Patient country         0\n",
       "patient_has_cancer      0\n",
       "patient_has_diabetes    0\n",
       "dtype: int64"
      ]
     },
     "execution_count": 14,
     "metadata": {},
     "output_type": "execute_result"
    }
   ],
   "source": [
    "#Checking for missing values\n",
    "df[['claim_amount','Total money spent','Patient_Age','patient_gender','patient_race','Patient country','patient_has_cancer','patient_has_diabetes']].isna().sum()"
   ]
  },
  {
   "cell_type": "code",
   "execution_count": 15,
   "id": "477496db",
   "metadata": {},
   "outputs": [],
   "source": [
    "df_num_var=df[['claim_amount','Total money spent','Patient_Age']]\n",
    "df_cat_var=df[['patient_gender','patient_race','Patient country','patient_has_cancer','patient_has_diabetes']]"
   ]
  },
  {
   "cell_type": "markdown",
   "id": "310e830a",
   "metadata": {},
   "source": [
    "SCALING NUMERIC VARIABLES & FORMING K-PROTO CLUSTERS"
   ]
  },
  {
   "cell_type": "code",
   "execution_count": 16,
   "id": "007f03c5",
   "metadata": {},
   "outputs": [],
   "source": [
    "from sklearn.preprocessing import StandardScaler"
   ]
  },
  {
   "cell_type": "code",
   "execution_count": 17,
   "id": "39a88ca1",
   "metadata": {},
   "outputs": [
    {
     "data": {
      "text/plain": [
       "array([[-0.3836759 ,  1.18656273, -0.44932673],\n",
       "       [-0.3836759 ,  0.54996266, -0.44932673],\n",
       "       [-0.09028419,  0.57623559,  1.13021336],\n",
       "       ...,\n",
       "       [-0.09028419, -0.68037111,  0.81430534],\n",
       "       [-0.09028419,  1.21197142,  0.89328234],\n",
       "       [-0.28587866,  0.77380113,  0.81430534]])"
      ]
     },
     "execution_count": 17,
     "metadata": {},
     "output_type": "execute_result"
    }
   ],
   "source": [
    "#Scaling the numeric variables\n",
    "scaler=StandardScaler()\n",
    "scaler.fit(df_num_var)\n",
    "scaled_features=scaler.transform(df_num_var)\n",
    "scaled_features"
   ]
  },
  {
   "cell_type": "code",
   "execution_count": 18,
   "id": "b88b5d34",
   "metadata": {},
   "outputs": [],
   "source": [
    "df_num_var=pd.DataFrame(scaled_features,columns=df_num_var.columns)"
   ]
  },
  {
   "cell_type": "code",
   "execution_count": 19,
   "id": "b034f62c",
   "metadata": {},
   "outputs": [
    {
     "data": {
      "text/html": [
       "<div>\n",
       "<style scoped>\n",
       "    .dataframe tbody tr th:only-of-type {\n",
       "        vertical-align: middle;\n",
       "    }\n",
       "\n",
       "    .dataframe tbody tr th {\n",
       "        vertical-align: top;\n",
       "    }\n",
       "\n",
       "    .dataframe thead th {\n",
       "        text-align: right;\n",
       "    }\n",
       "</style>\n",
       "<table border=\"1\" class=\"dataframe\">\n",
       "  <thead>\n",
       "    <tr style=\"text-align: right;\">\n",
       "      <th></th>\n",
       "      <th>claim_amount</th>\n",
       "      <th>Total money spent</th>\n",
       "      <th>Patient_Age</th>\n",
       "    </tr>\n",
       "  </thead>\n",
       "  <tbody>\n",
       "    <tr>\n",
       "      <th>0</th>\n",
       "      <td>-0.383676</td>\n",
       "      <td>1.186563</td>\n",
       "      <td>-0.449327</td>\n",
       "    </tr>\n",
       "    <tr>\n",
       "      <th>1</th>\n",
       "      <td>-0.383676</td>\n",
       "      <td>0.549963</td>\n",
       "      <td>-0.449327</td>\n",
       "    </tr>\n",
       "    <tr>\n",
       "      <th>2</th>\n",
       "      <td>-0.090284</td>\n",
       "      <td>0.576236</td>\n",
       "      <td>1.130213</td>\n",
       "    </tr>\n",
       "    <tr>\n",
       "      <th>3</th>\n",
       "      <td>-0.364116</td>\n",
       "      <td>0.740960</td>\n",
       "      <td>1.209190</td>\n",
       "    </tr>\n",
       "    <tr>\n",
       "      <th>4</th>\n",
       "      <td>-0.461914</td>\n",
       "      <td>1.723084</td>\n",
       "      <td>1.209190</td>\n",
       "    </tr>\n",
       "  </tbody>\n",
       "</table>\n",
       "</div>"
      ],
      "text/plain": [
       "   claim_amount  Total money spent  Patient_Age\n",
       "0     -0.383676           1.186563    -0.449327\n",
       "1     -0.383676           0.549963    -0.449327\n",
       "2     -0.090284           0.576236     1.130213\n",
       "3     -0.364116           0.740960     1.209190\n",
       "4     -0.461914           1.723084     1.209190"
      ]
     },
     "execution_count": 19,
     "metadata": {},
     "output_type": "execute_result"
    }
   ],
   "source": [
    "df_num_var.head()"
   ]
  },
  {
   "cell_type": "code",
   "execution_count": 20,
   "id": "136c0cce",
   "metadata": {},
   "outputs": [],
   "source": [
    "df_final=pd.concat([df_num_var,df_cat_var],axis=1) #Concatenating numeric with categorical variables"
   ]
  },
  {
   "cell_type": "code",
   "execution_count": 21,
   "id": "99437ddf",
   "metadata": {},
   "outputs": [
    {
     "name": "stdout",
     "output_type": "stream",
     "text": [
      "<class 'pandas.core.frame.DataFrame'>\n",
      "RangeIndex: 1838 entries, 0 to 1837\n",
      "Data columns (total 8 columns):\n",
      " #   Column                Non-Null Count  Dtype  \n",
      "---  ------                --------------  -----  \n",
      " 0   claim_amount          1838 non-null   float64\n",
      " 1   Total money spent     1838 non-null   float64\n",
      " 2   Patient_Age           1838 non-null   float64\n",
      " 3   patient_gender        1838 non-null   object \n",
      " 4   patient_race          1838 non-null   object \n",
      " 5   Patient country       1838 non-null   object \n",
      " 6   patient_has_cancer    1838 non-null   object \n",
      " 7   patient_has_diabetes  1838 non-null   object \n",
      "dtypes: float64(3), object(5)\n",
      "memory usage: 115.0+ KB\n"
     ]
    }
   ],
   "source": [
    "df_final.info()"
   ]
  },
  {
   "cell_type": "code",
   "execution_count": 22,
   "id": "ca6b22b9",
   "metadata": {},
   "outputs": [
    {
     "name": "stdout",
     "output_type": "stream",
     "text": [
      "Categorical columns           : ['patient_gender', 'patient_race', 'Patient country', 'patient_has_cancer', 'patient_has_diabetes']\n",
      "Categorical columns position  : [3, 4, 5, 6, 7]\n"
     ]
    }
   ],
   "source": [
    "# Get the position of categorical columns\n",
    "catColumnsPos = [df_final.columns.get_loc(col) for col in list(df_final.select_dtypes('object').columns)]\n",
    "print('Categorical columns           : {}'.format(list(df_final.select_dtypes('object').columns)))\n",
    "print('Categorical columns position  : {}'.format(catColumnsPos))"
   ]
  },
  {
   "cell_type": "code",
   "execution_count": 23,
   "id": "19dbae8a",
   "metadata": {},
   "outputs": [],
   "source": [
    "dfMatrix = df_final.to_numpy()"
   ]
  },
  {
   "cell_type": "code",
   "execution_count": 24,
   "id": "aeadc7c5",
   "metadata": {},
   "outputs": [
    {
     "name": "stdout",
     "output_type": "stream",
     "text": [
      "Cluster initiation: 1\n",
      "Cluster initiation: 2\n",
      "Cluster initiation: 3\n",
      "Cluster initiation: 4\n",
      "Cluster initiation: 5\n",
      "Cluster initiation: 6\n",
      "Cluster initiation: 7\n",
      "Cluster initiation: 8\n",
      "Cluster initiation: 9\n",
      "Cluster initiation: 10\n",
      "Cluster initiation: 11\n",
      "Cluster initiation: 12\n",
      "Cluster initiation: 13\n",
      "Cluster initiation: 14\n",
      "Cluster initiation: 15\n",
      "Cluster initiation: 16\n",
      "Cluster initiation: 17\n",
      "Cluster initiation: 18\n",
      "Cluster initiation: 19\n",
      "Cluster initiation: 20\n"
     ]
    }
   ],
   "source": [
    "#Finding optimal Clusters using K-proto\n",
    "cost = []\n",
    "for cluster in range(1, 21):\n",
    "    try:\n",
    "        kprototype = KPrototypes(n_jobs = -1, n_clusters = cluster, init = 'Huang', random_state = 0)\n",
    "        kprototype.fit_predict(dfMatrix, categorical = catColumnsPos)\n",
    "        cost.append(kprototype.cost_)\n",
    "        print('Cluster initiation: {}'.format(cluster))\n",
    "    except:\n",
    "        break"
   ]
  },
  {
   "cell_type": "code",
   "execution_count": 25,
   "id": "3969047f",
   "metadata": {},
   "outputs": [
    {
     "data": {
      "image/png": "[encoded data removed]",
      "text/plain": [
       "<Figure size 800x480 with 1 Axes>"
      ]
     },
     "metadata": {
      "needs_background": "light"
     },
     "output_type": "display_data"
    },
    {
     "data": {
      "text/plain": [
       "<ggplot: (140338709267)>"
      ]
     },
     "execution_count": 25,
     "metadata": {},
     "output_type": "execute_result"
    }
   ],
   "source": [
    "# Converting the results into a dataframe and plotting them\n",
    "# Choose optimal K using Elbow method\n",
    "df_cost = pd.DataFrame({'Cluster':range(1, 21), 'Cost':cost})\n",
    "# Data viz\n",
    "plotnine.options.figure_size = (8, 4.8)\n",
    "(\n",
    "    ggplot(data = df_cost)+\n",
    "    geom_line(aes(x = 'Cluster',\n",
    "                  y = 'Cost'))+\n",
    "    geom_point(aes(x = 'Cluster',\n",
    "                   y = 'Cost'))+\n",
    "    geom_label(aes(x = 'Cluster',\n",
    "                   y = 'Cost',\n",
    "                   label = 'Cluster'),\n",
    "               size = 10,\n",
    "               nudge_y = 1000) +\n",
    "    labs(title = 'Optimal number of cluster with Elbow Method')+\n",
    "    xlab('Number of Clusters k')+\n",
    "    ylab('Cost')+\n",
    "    theme_minimal()\n",
    ")"
   ]
  },
  {
   "cell_type": "code",
   "execution_count": 26,
   "id": "74f7c14e",
   "metadata": {},
   "outputs": [
    {
     "data": {
      "text/plain": [
       "array([2, 2, 2, ..., 3, 2, 2], dtype=uint16)"
      ]
     },
     "execution_count": 26,
     "metadata": {},
     "output_type": "execute_result"
    }
   ],
   "source": [
    "#Fitting the CLusters\n",
    "kprototype = KPrototypes(n_jobs = -1, n_clusters = 4, init = 'Huang', random_state = 0)\n",
    "kprototype.fit_predict(dfMatrix, categorical = catColumnsPos)"
   ]
  },
  {
   "cell_type": "code",
   "execution_count": 27,
   "id": "e8c6fe83",
   "metadata": {},
   "outputs": [
    {
     "name": "stdout",
     "output_type": "stream",
     "text": [
      "[['-0.197656555934817' '-0.0956479338341232' '-1.8619907248685943'\n",
      "  'Female' 'White' 'Germany' '2' '1']\n",
      " ['4.127535024075164' '-0.019532400825725073' '-0.21644582259274628'\n",
      "  'Male' 'White' 'Italy' '2' '2']\n",
      " ['-0.19128833035355197' '0.9242739536250312' '0.28832704960146616'\n",
      "  'Female' 'White' 'Germany' '2' '2']\n",
      " ['-0.17054537319095908' '-0.8400137858550597' '0.31815222835242224'\n",
      "  'Female' 'White' 'Germany' '2' '2']]\n",
      "7\n",
      "3696.977015764255\n"
     ]
    }
   ],
   "source": [
    "# Clusters' centorid\n",
    "print(kprototype.cluster_centroids_)\n",
    "# Check the iteration of the clusters created\n",
    "print(kprototype.n_iter_)\n",
    "# Check the cost of the clusters created\n",
    "print(kprototype.cost_)"
   ]
  },
  {
   "cell_type": "code",
   "execution_count": 28,
   "id": "b5ee087f",
   "metadata": {},
   "outputs": [
    {
     "data": {
      "text/plain": [
       "array([2, 3, 0, 1], dtype=uint16)"
      ]
     },
     "execution_count": 28,
     "metadata": {},
     "output_type": "execute_result"
    }
   ],
   "source": [
    "# Add the clusters to the dataframe\n",
    "df['Cluster Labels'] = kprototype.labels_\n",
    "df['Cluster Labels'].unique()"
   ]
  },
  {
   "cell_type": "code",
   "execution_count": 29,
   "id": "8aba732e",
   "metadata": {},
   "outputs": [],
   "source": [
    "df['Segment'] = df['Cluster Labels'].map({0:'First', 1:'Second', 2:'Third', 3:'Fourth', 4:'Fifth'})"
   ]
  },
  {
   "cell_type": "code",
   "execution_count": 30,
   "id": "f2bc0ce9",
   "metadata": {},
   "outputs": [
    {
     "name": "stdout",
     "output_type": "stream",
     "text": [
      "Fourth    783\n",
      "Third     738\n",
      "First     239\n",
      "Second     78\n",
      "Name: Segment, dtype: int64\n"
     ]
    },
    {
     "data": {
      "text/html": [
       "<div>\n",
       "<style scoped>\n",
       "    .dataframe tbody tr th:only-of-type {\n",
       "        vertical-align: middle;\n",
       "    }\n",
       "\n",
       "    .dataframe tbody tr th {\n",
       "        vertical-align: top;\n",
       "    }\n",
       "\n",
       "    .dataframe thead th {\n",
       "        text-align: right;\n",
       "    }\n",
       "</style>\n",
       "<table border=\"1\" class=\"dataframe\">\n",
       "  <thead>\n",
       "    <tr style=\"text-align: right;\">\n",
       "      <th></th>\n",
       "      <th>patient_id</th>\n",
       "      <th>claim_id</th>\n",
       "      <th>claim_date</th>\n",
       "      <th>claim_amount</th>\n",
       "      <th>physician_id</th>\n",
       "      <th>diagnosis_code</th>\n",
       "      <th>procedure_code</th>\n",
       "      <th>patient_dob</th>\n",
       "      <th>DOB year</th>\n",
       "      <th>patient_gender</th>\n",
       "      <th>patient_race</th>\n",
       "      <th>Patient country</th>\n",
       "      <th>patient_has_cancer</th>\n",
       "      <th>patient_has_diabetes</th>\n",
       "      <th>Total money spent</th>\n",
       "      <th>Patient_Age</th>\n",
       "      <th>Cluster Labels</th>\n",
       "      <th>Segment</th>\n",
       "    </tr>\n",
       "  </thead>\n",
       "  <tbody>\n",
       "    <tr>\n",
       "      <th>0</th>\n",
       "      <td>0057BAF42479AF6A</td>\n",
       "      <td>542412281632605</td>\n",
       "      <td>2009-07-22</td>\n",
       "      <td>50</td>\n",
       "      <td>5.056870e+09</td>\n",
       "      <td>72270</td>\n",
       "      <td>NaN</td>\n",
       "      <td>1942-05-01</td>\n",
       "      <td>1942</td>\n",
       "      <td>Female</td>\n",
       "      <td>White</td>\n",
       "      <td>USA</td>\n",
       "      <td>2</td>\n",
       "      <td>2</td>\n",
       "      <td>16580</td>\n",
       "      <td>67.0</td>\n",
       "      <td>2</td>\n",
       "      <td>Third</td>\n",
       "    </tr>\n",
       "    <tr>\n",
       "      <th>1</th>\n",
       "      <td>0057BAF42479AF6A</td>\n",
       "      <td>542842280924481</td>\n",
       "      <td>2009-09-19</td>\n",
       "      <td>50</td>\n",
       "      <td>8.933392e+09</td>\n",
       "      <td>4019</td>\n",
       "      <td>NaN</td>\n",
       "      <td>1942-05-01</td>\n",
       "      <td>1942</td>\n",
       "      <td>Female</td>\n",
       "      <td>White</td>\n",
       "      <td>Germany</td>\n",
       "      <td>2</td>\n",
       "      <td>2</td>\n",
       "      <td>12897</td>\n",
       "      <td>67.0</td>\n",
       "      <td>2</td>\n",
       "      <td>Third</td>\n",
       "    </tr>\n",
       "    <tr>\n",
       "      <th>2</th>\n",
       "      <td>0097F42825586D59</td>\n",
       "      <td>542892281178580</td>\n",
       "      <td>2009-06-11</td>\n",
       "      <td>200</td>\n",
       "      <td>3.274116e+08</td>\n",
       "      <td>6108</td>\n",
       "      <td>NaN</td>\n",
       "      <td>1921-07-01</td>\n",
       "      <td>1921</td>\n",
       "      <td>Female</td>\n",
       "      <td>White</td>\n",
       "      <td>France</td>\n",
       "      <td>2</td>\n",
       "      <td>2</td>\n",
       "      <td>13049</td>\n",
       "      <td>87.0</td>\n",
       "      <td>2</td>\n",
       "      <td>Third</td>\n",
       "    </tr>\n",
       "    <tr>\n",
       "      <th>3</th>\n",
       "      <td>0097F42825586D59</td>\n",
       "      <td>542042281368648</td>\n",
       "      <td>2009-10-22</td>\n",
       "      <td>60</td>\n",
       "      <td>4.022239e+09</td>\n",
       "      <td>38653</td>\n",
       "      <td>NaN</td>\n",
       "      <td>1921-07-01</td>\n",
       "      <td>1921</td>\n",
       "      <td>Female</td>\n",
       "      <td>White</td>\n",
       "      <td>UK</td>\n",
       "      <td>2</td>\n",
       "      <td>2</td>\n",
       "      <td>14002</td>\n",
       "      <td>88.0</td>\n",
       "      <td>2</td>\n",
       "      <td>Third</td>\n",
       "    </tr>\n",
       "    <tr>\n",
       "      <th>4</th>\n",
       "      <td>0097F42825586D59</td>\n",
       "      <td>542292281274912</td>\n",
       "      <td>2010-03-03</td>\n",
       "      <td>10</td>\n",
       "      <td>6.845115e+09</td>\n",
       "      <td>7140</td>\n",
       "      <td>NaN</td>\n",
       "      <td>1921-07-01</td>\n",
       "      <td>1921</td>\n",
       "      <td>Female</td>\n",
       "      <td>White</td>\n",
       "      <td>Italy</td>\n",
       "      <td>2</td>\n",
       "      <td>2</td>\n",
       "      <td>19684</td>\n",
       "      <td>88.0</td>\n",
       "      <td>2</td>\n",
       "      <td>Third</td>\n",
       "    </tr>\n",
       "  </tbody>\n",
       "</table>\n",
       "</div>"
      ],
      "text/plain": [
       "         patient_id         claim_id claim_date  claim_amount  physician_id  \\\n",
       "0  0057BAF42479AF6A  542412281632605 2009-07-22            50  5.056870e+09   \n",
       "1  0057BAF42479AF6A  542842280924481 2009-09-19            50  8.933392e+09   \n",
       "2  0097F42825586D59  542892281178580 2009-06-11           200  3.274116e+08   \n",
       "3  0097F42825586D59  542042281368648 2009-10-22            60  4.022239e+09   \n",
       "4  0097F42825586D59  542292281274912 2010-03-03            10  6.845115e+09   \n",
       "\n",
       "  diagnosis_code  procedure_code patient_dob  DOB year patient_gender  \\\n",
       "0          72270             NaN  1942-05-01      1942         Female   \n",
       "1           4019             NaN  1942-05-01      1942         Female   \n",
       "2           6108             NaN  1921-07-01      1921         Female   \n",
       "3          38653             NaN  1921-07-01      1921         Female   \n",
       "4           7140             NaN  1921-07-01      1921         Female   \n",
       "\n",
       "  patient_race Patient country patient_has_cancer patient_has_diabetes  \\\n",
       "0        White             USA                  2                    2   \n",
       "1        White         Germany                  2                    2   \n",
       "2        White          France                  2                    2   \n",
       "3        White              UK                  2                    2   \n",
       "4        White           Italy                  2                    2   \n",
       "\n",
       "   Total money spent  Patient_Age  Cluster Labels Segment  \n",
       "0              16580         67.0               2   Third  \n",
       "1              12897         67.0               2   Third  \n",
       "2              13049         87.0               2   Third  \n",
       "3              14002         88.0               2   Third  \n",
       "4              19684         88.0               2   Third  "
      ]
     },
     "execution_count": 30,
     "metadata": {},
     "output_type": "execute_result"
    }
   ],
   "source": [
    "print(df['Segment'].value_counts())\n",
    "df.head()"
   ]
  },
  {
   "cell_type": "markdown",
   "id": "50ccb328",
   "metadata": {},
   "source": [
    "CLUSTERS INTERPRETATION"
   ]
  },
  {
   "cell_type": "code",
   "execution_count": 32,
   "id": "cac7ed0b",
   "metadata": {},
   "outputs": [],
   "source": [
    "df['Segment'] = df['Segment'].astype('category')\n",
    "df['Segment'] = df['Segment'].cat.reorder_categories(['First','Second','Third','Fourth'])"
   ]
  },
  {
   "cell_type": "code",
   "execution_count": 33,
   "id": "bddb39b1",
   "metadata": {},
   "outputs": [
    {
     "name": "stdout",
     "output_type": "stream",
     "text": [
      "                 sum_sq      df           F         PR(>F)\n",
      "Segment   155975.610292     3.0  687.477212  1.956031e-299\n",
      "Residual  138700.000698  1834.0         NaN            NaN\n",
      "AxesSubplot(0.125,0.125;0.775x0.755)\n"
     ]
    },
    {
     "data": {
      "text/html": [
       "<div>\n",
       "<style scoped>\n",
       "    .dataframe tbody tr th:only-of-type {\n",
       "        vertical-align: middle;\n",
       "    }\n",
       "\n",
       "    .dataframe tbody tr th {\n",
       "        vertical-align: top;\n",
       "    }\n",
       "\n",
       "    .dataframe thead th {\n",
       "        text-align: right;\n",
       "    }\n",
       "</style>\n",
       "<table border=\"1\" class=\"dataframe\">\n",
       "  <thead>\n",
       "    <tr style=\"text-align: right;\">\n",
       "      <th></th>\n",
       "      <th>coef</th>\n",
       "      <th>std err</th>\n",
       "      <th>t</th>\n",
       "      <th>P&gt;|t|</th>\n",
       "      <th>Conf. Int. Low</th>\n",
       "      <th>Conf. Int. Upp.</th>\n",
       "      <th>pvalue-hs</th>\n",
       "      <th>reject-hs</th>\n",
       "    </tr>\n",
       "  </thead>\n",
       "  <tbody>\n",
       "    <tr>\n",
       "      <th>Second-First</th>\n",
       "      <td>20.835747</td>\n",
       "      <td>1.134023</td>\n",
       "      <td>18.373299</td>\n",
       "      <td>2.438942e-69</td>\n",
       "      <td>18.611635</td>\n",
       "      <td>23.059860</td>\n",
       "      <td>0.000000e+00</td>\n",
       "      <td>True</td>\n",
       "    </tr>\n",
       "    <tr>\n",
       "      <th>Third-First</th>\n",
       "      <td>27.227138</td>\n",
       "      <td>0.647230</td>\n",
       "      <td>42.067168</td>\n",
       "      <td>2.685100e-271</td>\n",
       "      <td>25.957752</td>\n",
       "      <td>28.496523</td>\n",
       "      <td>0.000000e+00</td>\n",
       "      <td>True</td>\n",
       "    </tr>\n",
       "    <tr>\n",
       "      <th>Fourth-First</th>\n",
       "      <td>27.604782</td>\n",
       "      <td>0.642664</td>\n",
       "      <td>42.953656</td>\n",
       "      <td>1.517026e-279</td>\n",
       "      <td>26.344351</td>\n",
       "      <td>28.865212</td>\n",
       "      <td>0.000000e+00</td>\n",
       "      <td>True</td>\n",
       "    </tr>\n",
       "    <tr>\n",
       "      <th>Third-Second</th>\n",
       "      <td>6.391390</td>\n",
       "      <td>1.035400</td>\n",
       "      <td>6.172871</td>\n",
       "      <td>8.235118e-10</td>\n",
       "      <td>4.360704</td>\n",
       "      <td>8.422077</td>\n",
       "      <td>1.647023e-09</td>\n",
       "      <td>True</td>\n",
       "    </tr>\n",
       "    <tr>\n",
       "      <th>Fourth-Second</th>\n",
       "      <td>6.769034</td>\n",
       "      <td>1.032552</td>\n",
       "      <td>6.555635</td>\n",
       "      <td>7.181192e-11</td>\n",
       "      <td>4.743933</td>\n",
       "      <td>8.794136</td>\n",
       "      <td>2.154357e-10</td>\n",
       "      <td>True</td>\n",
       "    </tr>\n",
       "    <tr>\n",
       "      <th>Fourth-Third</th>\n",
       "      <td>0.377644</td>\n",
       "      <td>0.446164</td>\n",
       "      <td>0.846425</td>\n",
       "      <td>3.974263e-01</td>\n",
       "      <td>-0.497398</td>\n",
       "      <td>1.252686</td>\n",
       "      <td>3.974263e-01</td>\n",
       "      <td>False</td>\n",
       "    </tr>\n",
       "  </tbody>\n",
       "</table>\n",
       "</div>"
      ],
      "text/plain": [
       "                    coef   std err          t          P>|t|  Conf. Int. Low  \\\n",
       "Second-First   20.835747  1.134023  18.373299   2.438942e-69       18.611635   \n",
       "Third-First    27.227138  0.647230  42.067168  2.685100e-271       25.957752   \n",
       "Fourth-First   27.604782  0.642664  42.953656  1.517026e-279       26.344351   \n",
       "Third-Second    6.391390  1.035400   6.172871   8.235118e-10        4.360704   \n",
       "Fourth-Second   6.769034  1.032552   6.555635   7.181192e-11        4.743933   \n",
       "Fourth-Third    0.377644  0.446164   0.846425   3.974263e-01       -0.497398   \n",
       "\n",
       "               Conf. Int. Upp.     pvalue-hs  reject-hs  \n",
       "Second-First         23.059860  0.000000e+00       True  \n",
       "Third-First          28.496523  0.000000e+00       True  \n",
       "Fourth-First         28.865212  0.000000e+00       True  \n",
       "Third-Second          8.422077  1.647023e-09       True  \n",
       "Fourth-Second         8.794136  2.154357e-10       True  \n",
       "Fourth-Third          1.252686  3.974263e-01      False  "
      ]
     },
     "execution_count": 33,
     "metadata": {},
     "output_type": "execute_result"
    },
    {
     "data": {
      "image/png": "[encoded data removed]",
      "text/plain": [
       "<Figure size 432x288 with 1 Axes>"
      ]
     },
     "metadata": {
      "needs_background": "light"
     },
     "output_type": "display_data"
    }
   ],
   "source": [
    "#Using Anova to check for variable 'Patient_Age'\n",
    "import statsmodels.api as sm\n",
    "from statsmodels.formula.api import ols\n",
    "\n",
    "mod = ols('Patient_Age ~ Segment',\n",
    "                data=df).fit()\n",
    "                \n",
    "aov_table = sm.stats.anova_lm(mod, typ=2)\n",
    "print(aov_table)\n",
    "\n",
    "#Boxplot\n",
    "print(sns.boxplot(x='Segment', y='Patient_Age', data=df))\n",
    "\n",
    "#Pair-wise comparisons\n",
    "pair_t = mod.t_test_pairwise('Segment')\n",
    "pair_t.result_frame"
   ]
  },
  {
   "cell_type": "code",
   "execution_count": 34,
   "id": "5fe76f05",
   "metadata": {},
   "outputs": [
    {
     "name": "stdout",
     "output_type": "stream",
     "text": [
      "                sum_sq      df            F  PR(>F)\n",
      "Segment   3.966927e+10     3.0  1109.860728     0.0\n",
      "Residual  2.185062e+10  1834.0          NaN     NaN\n",
      "AxesSubplot(0.125,0.125;0.775x0.755)\n"
     ]
    },
    {
     "data": {
      "text/html": [
       "<div>\n",
       "<style scoped>\n",
       "    .dataframe tbody tr th:only-of-type {\n",
       "        vertical-align: middle;\n",
       "    }\n",
       "\n",
       "    .dataframe tbody tr th {\n",
       "        vertical-align: top;\n",
       "    }\n",
       "\n",
       "    .dataframe thead th {\n",
       "        text-align: right;\n",
       "    }\n",
       "</style>\n",
       "<table border=\"1\" class=\"dataframe\">\n",
       "  <thead>\n",
       "    <tr style=\"text-align: right;\">\n",
       "      <th></th>\n",
       "      <th>coef</th>\n",
       "      <th>std err</th>\n",
       "      <th>t</th>\n",
       "      <th>P&gt;|t|</th>\n",
       "      <th>Conf. Int. Low</th>\n",
       "      <th>Conf. Int. Upp.</th>\n",
       "      <th>pvalue-hs</th>\n",
       "      <th>reject-hs</th>\n",
       "    </tr>\n",
       "  </thead>\n",
       "  <tbody>\n",
       "    <tr>\n",
       "      <th>Second-First</th>\n",
       "      <td>440.360476</td>\n",
       "      <td>450.106854</td>\n",
       "      <td>0.978347</td>\n",
       "      <td>3.280320e-01</td>\n",
       "      <td>-442.415335</td>\n",
       "      <td>1323.136288</td>\n",
       "      <td>0.328032</td>\n",
       "      <td>False</td>\n",
       "    </tr>\n",
       "    <tr>\n",
       "      <th>Third-First</th>\n",
       "      <td>5900.678488</td>\n",
       "      <td>256.893075</td>\n",
       "      <td>22.969395</td>\n",
       "      <td>7.997455e-103</td>\n",
       "      <td>5396.844807</td>\n",
       "      <td>6404.512168</td>\n",
       "      <td>0.000000</td>\n",
       "      <td>True</td>\n",
       "    </tr>\n",
       "    <tr>\n",
       "      <th>Fourth-First</th>\n",
       "      <td>-4306.470548</td>\n",
       "      <td>255.080854</td>\n",
       "      <td>-16.882767</td>\n",
       "      <td>1.493378e-59</td>\n",
       "      <td>-4806.749996</td>\n",
       "      <td>-3806.191100</td>\n",
       "      <td>0.000000</td>\n",
       "      <td>True</td>\n",
       "    </tr>\n",
       "    <tr>\n",
       "      <th>Third-Second</th>\n",
       "      <td>5460.318011</td>\n",
       "      <td>410.962168</td>\n",
       "      <td>13.286668</td>\n",
       "      <td>1.571457e-38</td>\n",
       "      <td>4654.315040</td>\n",
       "      <td>6266.320982</td>\n",
       "      <td>0.000000</td>\n",
       "      <td>True</td>\n",
       "    </tr>\n",
       "    <tr>\n",
       "      <th>Fourth-Second</th>\n",
       "      <td>-4746.831025</td>\n",
       "      <td>409.831787</td>\n",
       "      <td>-11.582389</td>\n",
       "      <td>5.441389e-30</td>\n",
       "      <td>-5550.617027</td>\n",
       "      <td>-3943.045022</td>\n",
       "      <td>0.000000</td>\n",
       "      <td>True</td>\n",
       "    </tr>\n",
       "    <tr>\n",
       "      <th>Fourth-Third</th>\n",
       "      <td>-10207.149036</td>\n",
       "      <td>177.087453</td>\n",
       "      <td>-57.639030</td>\n",
       "      <td>0.000000e+00</td>\n",
       "      <td>-10554.463276</td>\n",
       "      <td>-9859.834795</td>\n",
       "      <td>0.000000</td>\n",
       "      <td>True</td>\n",
       "    </tr>\n",
       "  </tbody>\n",
       "</table>\n",
       "</div>"
      ],
      "text/plain": [
       "                       coef     std err          t          P>|t|  \\\n",
       "Second-First     440.360476  450.106854   0.978347   3.280320e-01   \n",
       "Third-First     5900.678488  256.893075  22.969395  7.997455e-103   \n",
       "Fourth-First   -4306.470548  255.080854 -16.882767   1.493378e-59   \n",
       "Third-Second    5460.318011  410.962168  13.286668   1.571457e-38   \n",
       "Fourth-Second  -4746.831025  409.831787 -11.582389   5.441389e-30   \n",
       "Fourth-Third  -10207.149036  177.087453 -57.639030   0.000000e+00   \n",
       "\n",
       "               Conf. Int. Low  Conf. Int. Upp.  pvalue-hs  reject-hs  \n",
       "Second-First      -442.415335      1323.136288   0.328032      False  \n",
       "Third-First       5396.844807      6404.512168   0.000000       True  \n",
       "Fourth-First     -4806.749996     -3806.191100   0.000000       True  \n",
       "Third-Second      4654.315040      6266.320982   0.000000       True  \n",
       "Fourth-Second    -5550.617027     -3943.045022   0.000000       True  \n",
       "Fourth-Third    -10554.463276     -9859.834795   0.000000       True  "
      ]
     },
     "execution_count": 34,
     "metadata": {},
     "output_type": "execute_result"
    },
    {
     "data": {
      "image/png": "[encoded data removed]",
      "text/plain": [
       "<Figure size 432x288 with 1 Axes>"
      ]
     },
     "metadata": {
      "needs_background": "light"
     },
     "output_type": "display_data"
    }
   ],
   "source": [
    "#Using Anova to check for variable 'Total_money_spent'\n",
    "df.rename(columns = {'Total money spent':'Total_money_spent'}, inplace = True)\n",
    "mod = ols('Total_money_spent ~ Segment',\n",
    "                data=df).fit()\n",
    "                \n",
    "aov_table = sm.stats.anova_lm(mod, typ=2)\n",
    "print(aov_table)\n",
    "\n",
    "#Boxplot\n",
    "print(sns.boxplot(x='Segment', y='Total_money_spent', data=df))\n",
    "\n",
    "#Pair-wise comparisons\n",
    "pair_t = mod.t_test_pairwise('Segment')\n",
    "pair_t.result_frame"
   ]
  },
  {
   "cell_type": "code",
   "execution_count": 35,
   "id": "ba324924",
   "metadata": {},
   "outputs": [
    {
     "name": "stdout",
     "output_type": "stream",
     "text": [
      "                sum_sq      df            F  PR(>F)\n",
      "Segment   3.627987e+08     3.0  1885.436529     0.0\n",
      "Residual  1.176337e+08  1834.0          NaN     NaN\n"
     ]
    },
    {
     "data": {
      "text/html": [
       "<div>\n",
       "<style scoped>\n",
       "    .dataframe tbody tr th:only-of-type {\n",
       "        vertical-align: middle;\n",
       "    }\n",
       "\n",
       "    .dataframe tbody tr th {\n",
       "        vertical-align: top;\n",
       "    }\n",
       "\n",
       "    .dataframe thead th {\n",
       "        text-align: right;\n",
       "    }\n",
       "</style>\n",
       "<table border=\"1\" class=\"dataframe\">\n",
       "  <thead>\n",
       "    <tr style=\"text-align: right;\">\n",
       "      <th></th>\n",
       "      <th>coef</th>\n",
       "      <th>std err</th>\n",
       "      <th>t</th>\n",
       "      <th>P&gt;|t|</th>\n",
       "      <th>Conf. Int. Low</th>\n",
       "      <th>Conf. Int. Upp.</th>\n",
       "      <th>pvalue-hs</th>\n",
       "      <th>reject-hs</th>\n",
       "    </tr>\n",
       "  </thead>\n",
       "  <tbody>\n",
       "    <tr>\n",
       "      <th>Second-First</th>\n",
       "      <td>2211.305654</td>\n",
       "      <td>33.025521</td>\n",
       "      <td>66.957480</td>\n",
       "      <td>0.000000</td>\n",
       "      <td>2146.534076</td>\n",
       "      <td>2276.077232</td>\n",
       "      <td>0.000000</td>\n",
       "      <td>True</td>\n",
       "    </tr>\n",
       "    <tr>\n",
       "      <th>Third-First</th>\n",
       "      <td>3.255831</td>\n",
       "      <td>18.848919</td>\n",
       "      <td>0.172733</td>\n",
       "      <td>0.862880</td>\n",
       "      <td>-33.711768</td>\n",
       "      <td>40.223430</td>\n",
       "      <td>0.862880</td>\n",
       "      <td>False</td>\n",
       "    </tr>\n",
       "    <tr>\n",
       "      <th>Fourth-First</th>\n",
       "      <td>13.860915</td>\n",
       "      <td>18.715952</td>\n",
       "      <td>0.740594</td>\n",
       "      <td>0.459035</td>\n",
       "      <td>-22.845901</td>\n",
       "      <td>50.567731</td>\n",
       "      <td>0.799281</td>\n",
       "      <td>False</td>\n",
       "    </tr>\n",
       "    <tr>\n",
       "      <th>Third-Second</th>\n",
       "      <td>-2208.049823</td>\n",
       "      <td>30.153373</td>\n",
       "      <td>-73.227292</td>\n",
       "      <td>0.000000</td>\n",
       "      <td>-2267.188376</td>\n",
       "      <td>-2148.911270</td>\n",
       "      <td>0.000000</td>\n",
       "      <td>True</td>\n",
       "    </tr>\n",
       "    <tr>\n",
       "      <th>Fourth-Second</th>\n",
       "      <td>-2197.444739</td>\n",
       "      <td>30.070434</td>\n",
       "      <td>-73.076590</td>\n",
       "      <td>0.000000</td>\n",
       "      <td>-2256.420627</td>\n",
       "      <td>-2138.468851</td>\n",
       "      <td>0.000000</td>\n",
       "      <td>True</td>\n",
       "    </tr>\n",
       "    <tr>\n",
       "      <th>Fourth-Third</th>\n",
       "      <td>10.605084</td>\n",
       "      <td>12.993371</td>\n",
       "      <td>0.816192</td>\n",
       "      <td>0.414496</td>\n",
       "      <td>-14.878274</td>\n",
       "      <td>36.088441</td>\n",
       "      <td>0.799281</td>\n",
       "      <td>False</td>\n",
       "    </tr>\n",
       "  </tbody>\n",
       "</table>\n",
       "</div>"
      ],
      "text/plain": [
       "                      coef    std err          t     P>|t|  Conf. Int. Low  \\\n",
       "Second-First   2211.305654  33.025521  66.957480  0.000000     2146.534076   \n",
       "Third-First       3.255831  18.848919   0.172733  0.862880      -33.711768   \n",
       "Fourth-First     13.860915  18.715952   0.740594  0.459035      -22.845901   \n",
       "Third-Second  -2208.049823  30.153373 -73.227292  0.000000    -2267.188376   \n",
       "Fourth-Second -2197.444739  30.070434 -73.076590  0.000000    -2256.420627   \n",
       "Fourth-Third     10.605084  12.993371   0.816192  0.414496      -14.878274   \n",
       "\n",
       "               Conf. Int. Upp.  pvalue-hs  reject-hs  \n",
       "Second-First       2276.077232   0.000000       True  \n",
       "Third-First          40.223430   0.862880      False  \n",
       "Fourth-First         50.567731   0.799281      False  \n",
       "Third-Second      -2148.911270   0.000000       True  \n",
       "Fourth-Second     -2138.468851   0.000000       True  \n",
       "Fourth-Third         36.088441   0.799281      False  "
      ]
     },
     "execution_count": 35,
     "metadata": {},
     "output_type": "execute_result"
    }
   ],
   "source": [
    "#Checking for 'claim_amount'\n",
    "mod = ols('claim_amount ~ Segment',\n",
    "                data=df).fit()\n",
    "                \n",
    "aov_table = sm.stats.anova_lm(mod, typ=2)\n",
    "print(aov_table)\n",
    "\n",
    "pair_t = mod.t_test_pairwise('Segment')\n",
    "pair_t.result_frame"
   ]
  },
  {
   "cell_type": "code",
   "execution_count": 36,
   "id": "92f1c2b3",
   "metadata": {},
   "outputs": [],
   "source": [
    "from statsmodels.multivariate.manova import MANOVA"
   ]
  },
  {
   "cell_type": "code",
   "execution_count": 37,
   "id": "ed4b381b",
   "metadata": {},
   "outputs": [
    {
     "name": "stdout",
     "output_type": "stream",
     "text": [
      "                   Multivariate linear model\n",
      "================================================================\n",
      "                                                                \n",
      "----------------------------------------------------------------\n",
      "       Intercept        Value  Num DF   Den DF   F Value  Pr > F\n",
      "----------------------------------------------------------------\n",
      "          Wilks' lambda 0.1625 3.0000 1832.0000 3147.5303 0.0000\n",
      "         Pillai's trace 0.8375 3.0000 1832.0000 3147.5303 0.0000\n",
      " Hotelling-Lawley trace 5.1543 3.0000 1832.0000 3147.5303 0.0000\n",
      "    Roy's greatest root 5.1543 3.0000 1832.0000 3147.5303 0.0000\n",
      "----------------------------------------------------------------\n",
      "                                                                \n",
      "----------------------------------------------------------------\n",
      "        Segment         Value  Num DF   Den DF   F Value  Pr > F\n",
      "----------------------------------------------------------------\n",
      "          Wilks' lambda 0.0410 9.0000 4458.7572 1345.6525 0.0000\n",
      "         Pillai's trace 1.9281 9.0000 5502.0000 1099.6015 0.0000\n",
      " Hotelling-Lawley trace 6.0281 9.0000 2875.6752 1226.5682 0.0000\n",
      "    Roy's greatest root 3.0962 3.0000 1834.0000 1892.7898 0.0000\n",
      "================================================================\n",
      "\n"
     ]
    }
   ],
   "source": [
    "maov = MANOVA.from_formula(' Patient_Age + Total_money_spent + claim_amount ~ Segment', data=df)\n",
    "print(maov.mv_test())"
   ]
  },
  {
   "cell_type": "code",
   "execution_count": 38,
   "id": "255fc7ec",
   "metadata": {},
   "outputs": [
    {
     "name": "stdout",
     "output_type": "stream",
     "text": [
      "p value for patient_gender is 0.3768829572797424\n",
      "Independent (H0 holds true)\n",
      "p value for patient_race is 8.775196878768268e-09\n",
      "Dependent (reject H0)\n",
      "p value for Patient country is 0.6534650283851371\n",
      "Independent (H0 holds true)\n",
      "p value for patient_has_cancer is 0.023235501647429057\n",
      "Dependent (reject H0)\n",
      "p value for patient_has_diabetes is 0.0003143773623296378\n",
      "Dependent (reject H0)\n"
     ]
    }
   ],
   "source": [
    "#CHISQUARE TESTS\n",
    "from scipy.stats import chi2_contingency\n",
    "l=['patient_gender','patient_race','Patient country','patient_has_cancer','patient_has_diabetes']\n",
    "for i in range(0,len(l)):\n",
    "    dt=pd.crosstab(index=df['Segment'], columns=df[l[i]]) #Creating a contingency table\n",
    "    #Checking null hypothesis is approved or rejected\n",
    "    data = dt\n",
    "    stat, p, dof, expected = chi2_contingency(data)\n",
    "  \n",
    "    # interpret p-value\n",
    "    alpha = 0.05\n",
    "    print(\"p value for \" + str(l[i]) + \" is \" + str(p))\n",
    "    if p <= alpha:\n",
    "        print('Dependent (reject H0)')\n",
    "    else:\n",
    "        print('Independent (H0 holds true)')    "
   ]
  },
  {
   "cell_type": "code",
   "execution_count": 39,
   "id": "b6b29f13",
   "metadata": {},
   "outputs": [
    {
     "data": {
      "image/png": "[encoded data removed]",
      "text/plain": [
       "<Figure size 576x1440 with 5 Axes>"
      ]
     },
     "metadata": {
      "needs_background": "light"
     },
     "output_type": "display_data"
    }
   ],
   "source": [
    "# sns.countplot(x='Segment',hue='patient_gender',data=df)  \n",
    "n=len(l)\n",
    "fig,ax = plt.subplots(n,1, figsize=(8,n*4), sharex=True)\n",
    "for i in range(0, n):\n",
    "    plt.sca(ax[i])\n",
    "    sns.countplot(x='Segment',hue=l[i],data=df)"
   ]
  },
  {
   "cell_type": "markdown",
   "id": "86ee425d",
   "metadata": {},
   "source": [
    "CLUSTEROIDS"
   ]
  },
  {
   "cell_type": "code",
   "execution_count": 41,
   "id": "749773f8",
   "metadata": {},
   "outputs": [],
   "source": [
    "df.rename(columns = {'Cluster Labels':'Total'}, inplace = True)"
   ]
  },
  {
   "cell_type": "code",
   "execution_count": 42,
   "id": "76f10dc0",
   "metadata": {},
   "outputs": [
    {
     "data": {
      "text/html": [
       "<div>\n",
       "<style scoped>\n",
       "    .dataframe tbody tr th:only-of-type {\n",
       "        vertical-align: middle;\n",
       "    }\n",
       "\n",
       "    .dataframe tbody tr th {\n",
       "        vertical-align: top;\n",
       "    }\n",
       "\n",
       "    .dataframe thead th {\n",
       "        text-align: right;\n",
       "    }\n",
       "</style>\n",
       "<table border=\"1\" class=\"dataframe\">\n",
       "  <thead>\n",
       "    <tr style=\"text-align: right;\">\n",
       "      <th></th>\n",
       "      <th>Segment</th>\n",
       "      <th>Total</th>\n",
       "      <th>claim_amount</th>\n",
       "      <th>Total_money_spent</th>\n",
       "      <th>Patient_Age</th>\n",
       "      <th>patient_gender</th>\n",
       "      <th>patient_race</th>\n",
       "      <th>Patient country</th>\n",
       "      <th>patient_has_cancer</th>\n",
       "      <th>patient_has_diabetes</th>\n",
       "    </tr>\n",
       "  </thead>\n",
       "  <tbody>\n",
       "    <tr>\n",
       "      <th>0</th>\n",
       "      <td>First</td>\n",
       "      <td>239</td>\n",
       "      <td>145.104603</td>\n",
       "      <td>9161.870293</td>\n",
       "      <td>49.112971</td>\n",
       "      <td>Female</td>\n",
       "      <td>White</td>\n",
       "      <td>Germany</td>\n",
       "      <td>2</td>\n",
       "      <td>1</td>\n",
       "    </tr>\n",
       "    <tr>\n",
       "      <th>1</th>\n",
       "      <td>Second</td>\n",
       "      <td>78</td>\n",
       "      <td>2356.410256</td>\n",
       "      <td>9602.230769</td>\n",
       "      <td>69.948718</td>\n",
       "      <td>Male</td>\n",
       "      <td>White</td>\n",
       "      <td>Italy</td>\n",
       "      <td>2</td>\n",
       "      <td>2</td>\n",
       "    </tr>\n",
       "    <tr>\n",
       "      <th>2</th>\n",
       "      <td>Third</td>\n",
       "      <td>738</td>\n",
       "      <td>148.360434</td>\n",
       "      <td>15062.548780</td>\n",
       "      <td>76.340108</td>\n",
       "      <td>Female</td>\n",
       "      <td>White</td>\n",
       "      <td>Germany</td>\n",
       "      <td>2</td>\n",
       "      <td>2</td>\n",
       "    </tr>\n",
       "    <tr>\n",
       "      <th>3</th>\n",
       "      <td>Fourth</td>\n",
       "      <td>783</td>\n",
       "      <td>158.965517</td>\n",
       "      <td>4855.399745</td>\n",
       "      <td>76.717752</td>\n",
       "      <td>Female</td>\n",
       "      <td>White</td>\n",
       "      <td>Germany</td>\n",
       "      <td>2</td>\n",
       "      <td>2</td>\n",
       "    </tr>\n",
       "  </tbody>\n",
       "</table>\n",
       "</div>"
      ],
      "text/plain": [
       "  Segment  Total  claim_amount  Total_money_spent  Patient_Age patient_gender  \\\n",
       "0   First    239    145.104603        9161.870293    49.112971         Female   \n",
       "1  Second     78   2356.410256        9602.230769    69.948718           Male   \n",
       "2   Third    738    148.360434       15062.548780    76.340108         Female   \n",
       "3  Fourth    783    158.965517        4855.399745    76.717752         Female   \n",
       "\n",
       "  patient_race Patient country patient_has_cancer patient_has_diabetes  \n",
       "0        White         Germany                  2                    1  \n",
       "1        White           Italy                  2                    2  \n",
       "2        White         Germany                  2                    2  \n",
       "3        White         Germany                  2                    2  "
      ]
     },
     "execution_count": 42,
     "metadata": {},
     "output_type": "execute_result"
    }
   ],
   "source": [
    "df.groupby('Segment').agg(\n",
    "    {\n",
    "        'Total':'count',\n",
    "        'claim_amount': 'mean',\n",
    "        'Total_money_spent': 'mean',\n",
    "        'Patient_Age': 'mean',\n",
    "        'patient_gender': lambda x: x.value_counts().index[0],\n",
    "        'patient_race': lambda x: x.value_counts().index[0],\n",
    "        'Patient country': lambda x: x.value_counts().index[0],\n",
    "        'patient_has_cancer': lambda x: x.value_counts().index[0],\n",
    "        'patient_has_diabetes': lambda x: x.value_counts().index[0]\n",
    "    }\n",
    ").reset_index()"
   ]
  },
  {
   "cell_type": "markdown",
   "id": "e549dea2",
   "metadata": {},
   "source": [
    "# ----------------- End of Code------------------"
   ]
  },
  {
   "cell_type": "code",
   "execution_count": null,
   "id": "51cab0af",
   "metadata": {},
   "outputs": [],
   "source": []
  }
 ],
 "metadata": {
  "kernelspec": {
   "display_name": "Python 3",
   "language": "python",
   "name": "python3"
  },
  "language_info": {
   "codemirror_mode": {
    "name": "ipython",
    "version": 3
   },
   "file_extension": ".py",
   "mimetype": "text/x-python",
   "name": "python",
   "nbconvert_exporter": "python",
   "pygments_lexer": "ipython3",
   "version": "3.8.8"
  }
 },
 "nbformat": 4,
 "nbformat_minor": 5
}
