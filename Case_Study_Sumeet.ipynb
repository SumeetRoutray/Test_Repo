{
 "cells": [
  {
   "cell_type": "code",
   "execution_count": 176,
   "metadata": {},
   "outputs": [],
   "source": [
    "import pandas as pd\n",
    "import numpy as np\n",
    "import matplotlib.pyplot as plt\n",
    "import seaborn as sns\n",
    "import warnings\n",
    "warnings.filterwarnings('ignore')"
   ]
  },
  {
   "cell_type": "code",
   "execution_count": 177,
   "metadata": {},
   "outputs": [],
   "source": [
    "df1 = pd.read_csv(\"TrainingData_V1.csv\")\n",
    "df2 = pd.read_excel(\"TestingData_For_Candidate.xlsx\", sheet_name= \"Sheet1\")"
   ]
  },
  {
   "cell_type": "code",
   "execution_count": 178,
   "metadata": {},
   "outputs": [],
   "source": [
    "df1[\"train_test_indicator\"]=\"train\"\n",
    "df2[\"train_test_indicator\"]=\"test\""
   ]
  },
  {
   "cell_type": "code",
   "execution_count": 179,
   "metadata": {},
   "outputs": [],
   "source": [
    "df=df1.append(df2, ignore_index = True)"
   ]
  },
  {
   "cell_type": "code",
   "execution_count": 180,
   "metadata": {},
   "outputs": [],
   "source": [
    "#df.to_csv(\"Combined_Data.csv\")"
   ]
  },
  {
   "cell_type": "code",
   "execution_count": 181,
   "metadata": {},
   "outputs": [
    {
     "data": {
      "text/html": [
       "<div>\n",
       "<style scoped>\n",
       "    .dataframe tbody tr th:only-of-type {\n",
       "        vertical-align: middle;\n",
       "    }\n",
       "\n",
       "    .dataframe tbody tr th {\n",
       "        vertical-align: top;\n",
       "    }\n",
       "\n",
       "    .dataframe thead th {\n",
       "        text-align: right;\n",
       "    }\n",
       "</style>\n",
       "<table border=\"1\" class=\"dataframe\">\n",
       "  <thead>\n",
       "    <tr style=\"text-align: right;\">\n",
       "      <th></th>\n",
       "      <th>order_item_id</th>\n",
       "      <th>order_date</th>\n",
       "      <th>delivery_date</th>\n",
       "      <th>item_id</th>\n",
       "      <th>item_size</th>\n",
       "      <th>item_color</th>\n",
       "      <th>brand_id</th>\n",
       "      <th>item_price</th>\n",
       "      <th>user_id</th>\n",
       "      <th>user_title</th>\n",
       "      <th>user_dob</th>\n",
       "      <th>user_state</th>\n",
       "      <th>user_reg_date</th>\n",
       "      <th>return</th>\n",
       "      <th>train_test_indicator</th>\n",
       "    </tr>\n",
       "  </thead>\n",
       "  <tbody>\n",
       "    <tr>\n",
       "      <th>0</th>\n",
       "      <td>1</td>\n",
       "      <td>22-06-2016</td>\n",
       "      <td>27-06-2016</td>\n",
       "      <td>643</td>\n",
       "      <td>38</td>\n",
       "      <td>navy</td>\n",
       "      <td>30</td>\n",
       "      <td>49.9</td>\n",
       "      <td>30822</td>\n",
       "      <td>Mrs</td>\n",
       "      <td>17-04-1969</td>\n",
       "      <td>1013</td>\n",
       "      <td>23-06-2016</td>\n",
       "      <td>0.0</td>\n",
       "      <td>train</td>\n",
       "    </tr>\n",
       "    <tr>\n",
       "      <th>1</th>\n",
       "      <td>10</td>\n",
       "      <td>22-06-2016</td>\n",
       "      <td>27-06-2016</td>\n",
       "      <td>195</td>\n",
       "      <td>xxl</td>\n",
       "      <td>grey</td>\n",
       "      <td>46</td>\n",
       "      <td>19.9</td>\n",
       "      <td>30823</td>\n",
       "      <td>Mrs</td>\n",
       "      <td>22-04-1970</td>\n",
       "      <td>1001</td>\n",
       "      <td>15-03-2015</td>\n",
       "      <td>1.0</td>\n",
       "      <td>train</td>\n",
       "    </tr>\n",
       "    <tr>\n",
       "      <th>2</th>\n",
       "      <td>11</td>\n",
       "      <td>22-06-2016</td>\n",
       "      <td>05-07-2016</td>\n",
       "      <td>25</td>\n",
       "      <td>xxl</td>\n",
       "      <td>grey</td>\n",
       "      <td>5</td>\n",
       "      <td>79.9</td>\n",
       "      <td>30823</td>\n",
       "      <td>Mrs</td>\n",
       "      <td>22-04-1970</td>\n",
       "      <td>1001</td>\n",
       "      <td>15-03-2015</td>\n",
       "      <td>0.0</td>\n",
       "      <td>train</td>\n",
       "    </tr>\n",
       "    <tr>\n",
       "      <th>3</th>\n",
       "      <td>32</td>\n",
       "      <td>23-06-2016</td>\n",
       "      <td>26-06-2016</td>\n",
       "      <td>173</td>\n",
       "      <td>m</td>\n",
       "      <td>brown</td>\n",
       "      <td>20</td>\n",
       "      <td>19.9</td>\n",
       "      <td>17234</td>\n",
       "      <td>Mrs</td>\n",
       "      <td>09-01-1960</td>\n",
       "      <td>1013</td>\n",
       "      <td>17-02-2015</td>\n",
       "      <td>0.0</td>\n",
       "      <td>train</td>\n",
       "    </tr>\n",
       "    <tr>\n",
       "      <th>4</th>\n",
       "      <td>43</td>\n",
       "      <td>23-06-2016</td>\n",
       "      <td>26-06-2016</td>\n",
       "      <td>394</td>\n",
       "      <td>40</td>\n",
       "      <td>black</td>\n",
       "      <td>44</td>\n",
       "      <td>90.0</td>\n",
       "      <td>30827</td>\n",
       "      <td>Mrs</td>\n",
       "      <td>NaN</td>\n",
       "      <td>1006</td>\n",
       "      <td>09-02-2016</td>\n",
       "      <td>1.0</td>\n",
       "      <td>train</td>\n",
       "    </tr>\n",
       "  </tbody>\n",
       "</table>\n",
       "</div>"
      ],
      "text/plain": [
       "   order_item_id  order_date delivery_date  item_id item_size item_color  \\\n",
       "0              1  22-06-2016    27-06-2016      643        38       navy   \n",
       "1             10  22-06-2016    27-06-2016      195       xxl       grey   \n",
       "2             11  22-06-2016    05-07-2016       25       xxl       grey   \n",
       "3             32  23-06-2016    26-06-2016      173         m      brown   \n",
       "4             43  23-06-2016    26-06-2016      394        40      black   \n",
       "\n",
       "   brand_id  item_price  user_id user_title    user_dob  user_state  \\\n",
       "0        30        49.9    30822        Mrs  17-04-1969        1013   \n",
       "1        46        19.9    30823        Mrs  22-04-1970        1001   \n",
       "2         5        79.9    30823        Mrs  22-04-1970        1001   \n",
       "3        20        19.9    17234        Mrs  09-01-1960        1013   \n",
       "4        44        90.0    30827        Mrs         NaN        1006   \n",
       "\n",
       "  user_reg_date  return train_test_indicator  \n",
       "0    23-06-2016     0.0                train  \n",
       "1    15-03-2015     1.0                train  \n",
       "2    15-03-2015     0.0                train  \n",
       "3    17-02-2015     0.0                train  \n",
       "4    09-02-2016     1.0                train  "
      ]
     },
     "execution_count": 181,
     "metadata": {},
     "output_type": "execute_result"
    }
   ],
   "source": [
    "df.head()"
   ]
  },
  {
   "cell_type": "code",
   "execution_count": 182,
   "metadata": {},
   "outputs": [],
   "source": [
    "for col in ['order_date','delivery_date','user_dob','user_reg_date']:\n",
    "    df[col] = pd.to_datetime(df[col], infer_datetime_format=True)"
   ]
  },
  {
   "cell_type": "code",
   "execution_count": 183,
   "metadata": {},
   "outputs": [
    {
     "data": {
      "text/html": [
       "<div>\n",
       "<style scoped>\n",
       "    .dataframe tbody tr th:only-of-type {\n",
       "        vertical-align: middle;\n",
       "    }\n",
       "\n",
       "    .dataframe tbody tr th {\n",
       "        vertical-align: top;\n",
       "    }\n",
       "\n",
       "    .dataframe thead th {\n",
       "        text-align: right;\n",
       "    }\n",
       "</style>\n",
       "<table border=\"1\" class=\"dataframe\">\n",
       "  <thead>\n",
       "    <tr style=\"text-align: right;\">\n",
       "      <th></th>\n",
       "      <th>order_item_id</th>\n",
       "      <th>order_date</th>\n",
       "      <th>delivery_date</th>\n",
       "      <th>item_id</th>\n",
       "      <th>item_size</th>\n",
       "      <th>item_color</th>\n",
       "      <th>brand_id</th>\n",
       "      <th>item_price</th>\n",
       "      <th>user_id</th>\n",
       "      <th>user_title</th>\n",
       "      <th>user_dob</th>\n",
       "      <th>user_state</th>\n",
       "      <th>user_reg_date</th>\n",
       "      <th>return</th>\n",
       "      <th>train_test_indicator</th>\n",
       "    </tr>\n",
       "  </thead>\n",
       "  <tbody>\n",
       "    <tr>\n",
       "      <th>0</th>\n",
       "      <td>1</td>\n",
       "      <td>2016-06-22</td>\n",
       "      <td>2016-06-27</td>\n",
       "      <td>643</td>\n",
       "      <td>38</td>\n",
       "      <td>navy</td>\n",
       "      <td>30</td>\n",
       "      <td>49.9</td>\n",
       "      <td>30822</td>\n",
       "      <td>Mrs</td>\n",
       "      <td>1969-04-17</td>\n",
       "      <td>1013</td>\n",
       "      <td>2016-06-23</td>\n",
       "      <td>0.0</td>\n",
       "      <td>train</td>\n",
       "    </tr>\n",
       "    <tr>\n",
       "      <th>1</th>\n",
       "      <td>10</td>\n",
       "      <td>2016-06-22</td>\n",
       "      <td>2016-06-27</td>\n",
       "      <td>195</td>\n",
       "      <td>xxl</td>\n",
       "      <td>grey</td>\n",
       "      <td>46</td>\n",
       "      <td>19.9</td>\n",
       "      <td>30823</td>\n",
       "      <td>Mrs</td>\n",
       "      <td>1970-04-22</td>\n",
       "      <td>1001</td>\n",
       "      <td>2015-03-15</td>\n",
       "      <td>1.0</td>\n",
       "      <td>train</td>\n",
       "    </tr>\n",
       "    <tr>\n",
       "      <th>2</th>\n",
       "      <td>11</td>\n",
       "      <td>2016-06-22</td>\n",
       "      <td>2016-05-07</td>\n",
       "      <td>25</td>\n",
       "      <td>xxl</td>\n",
       "      <td>grey</td>\n",
       "      <td>5</td>\n",
       "      <td>79.9</td>\n",
       "      <td>30823</td>\n",
       "      <td>Mrs</td>\n",
       "      <td>1970-04-22</td>\n",
       "      <td>1001</td>\n",
       "      <td>2015-03-15</td>\n",
       "      <td>0.0</td>\n",
       "      <td>train</td>\n",
       "    </tr>\n",
       "    <tr>\n",
       "      <th>3</th>\n",
       "      <td>32</td>\n",
       "      <td>2016-06-23</td>\n",
       "      <td>2016-06-26</td>\n",
       "      <td>173</td>\n",
       "      <td>m</td>\n",
       "      <td>brown</td>\n",
       "      <td>20</td>\n",
       "      <td>19.9</td>\n",
       "      <td>17234</td>\n",
       "      <td>Mrs</td>\n",
       "      <td>1960-09-01</td>\n",
       "      <td>1013</td>\n",
       "      <td>2015-02-17</td>\n",
       "      <td>0.0</td>\n",
       "      <td>train</td>\n",
       "    </tr>\n",
       "    <tr>\n",
       "      <th>4</th>\n",
       "      <td>43</td>\n",
       "      <td>2016-06-23</td>\n",
       "      <td>2016-06-26</td>\n",
       "      <td>394</td>\n",
       "      <td>40</td>\n",
       "      <td>black</td>\n",
       "      <td>44</td>\n",
       "      <td>90.0</td>\n",
       "      <td>30827</td>\n",
       "      <td>Mrs</td>\n",
       "      <td>NaT</td>\n",
       "      <td>1006</td>\n",
       "      <td>2016-09-02</td>\n",
       "      <td>1.0</td>\n",
       "      <td>train</td>\n",
       "    </tr>\n",
       "  </tbody>\n",
       "</table>\n",
       "</div>"
      ],
      "text/plain": [
       "   order_item_id order_date delivery_date  item_id item_size item_color  \\\n",
       "0              1 2016-06-22    2016-06-27      643        38       navy   \n",
       "1             10 2016-06-22    2016-06-27      195       xxl       grey   \n",
       "2             11 2016-06-22    2016-05-07       25       xxl       grey   \n",
       "3             32 2016-06-23    2016-06-26      173         m      brown   \n",
       "4             43 2016-06-23    2016-06-26      394        40      black   \n",
       "\n",
       "   brand_id  item_price  user_id user_title   user_dob  user_state  \\\n",
       "0        30        49.9    30822        Mrs 1969-04-17        1013   \n",
       "1        46        19.9    30823        Mrs 1970-04-22        1001   \n",
       "2         5        79.9    30823        Mrs 1970-04-22        1001   \n",
       "3        20        19.9    17234        Mrs 1960-09-01        1013   \n",
       "4        44        90.0    30827        Mrs        NaT        1006   \n",
       "\n",
       "  user_reg_date  return train_test_indicator  \n",
       "0    2016-06-23     0.0                train  \n",
       "1    2015-03-15     1.0                train  \n",
       "2    2015-03-15     0.0                train  \n",
       "3    2015-02-17     0.0                train  \n",
       "4    2016-09-02     1.0                train  "
      ]
     },
     "execution_count": 183,
     "metadata": {},
     "output_type": "execute_result"
    }
   ],
   "source": [
    "df.head()"
   ]
  },
  {
   "cell_type": "code",
   "execution_count": 184,
   "metadata": {},
   "outputs": [],
   "source": [
    "df['Delivery_days']= (df['delivery_date'] - df['order_date'])"
   ]
  },
  {
   "cell_type": "code",
   "execution_count": 185,
   "metadata": {},
   "outputs": [],
   "source": [
    "df['User_Age']= np.trunc((df['order_date'] - df['user_dob'])/np.timedelta64(1,'Y'))"
   ]
  },
  {
   "cell_type": "code",
   "execution_count": 186,
   "metadata": {},
   "outputs": [
    {
     "data": {
      "text/html": [
       "<div>\n",
       "<style scoped>\n",
       "    .dataframe tbody tr th:only-of-type {\n",
       "        vertical-align: middle;\n",
       "    }\n",
       "\n",
       "    .dataframe tbody tr th {\n",
       "        vertical-align: top;\n",
       "    }\n",
       "\n",
       "    .dataframe thead th {\n",
       "        text-align: right;\n",
       "    }\n",
       "</style>\n",
       "<table border=\"1\" class=\"dataframe\">\n",
       "  <thead>\n",
       "    <tr style=\"text-align: right;\">\n",
       "      <th></th>\n",
       "      <th>order_item_id</th>\n",
       "      <th>order_date</th>\n",
       "      <th>delivery_date</th>\n",
       "      <th>item_id</th>\n",
       "      <th>item_size</th>\n",
       "      <th>item_color</th>\n",
       "      <th>brand_id</th>\n",
       "      <th>item_price</th>\n",
       "      <th>user_id</th>\n",
       "      <th>user_title</th>\n",
       "      <th>user_dob</th>\n",
       "      <th>user_state</th>\n",
       "      <th>user_reg_date</th>\n",
       "      <th>return</th>\n",
       "      <th>train_test_indicator</th>\n",
       "      <th>Delivery_days</th>\n",
       "      <th>User_Age</th>\n",
       "    </tr>\n",
       "  </thead>\n",
       "  <tbody>\n",
       "    <tr>\n",
       "      <th>0</th>\n",
       "      <td>1</td>\n",
       "      <td>2016-06-22</td>\n",
       "      <td>2016-06-27</td>\n",
       "      <td>643</td>\n",
       "      <td>38</td>\n",
       "      <td>navy</td>\n",
       "      <td>30</td>\n",
       "      <td>49.9</td>\n",
       "      <td>30822</td>\n",
       "      <td>Mrs</td>\n",
       "      <td>1969-04-17</td>\n",
       "      <td>1013</td>\n",
       "      <td>2016-06-23</td>\n",
       "      <td>0.0</td>\n",
       "      <td>train</td>\n",
       "      <td>5 days</td>\n",
       "      <td>47.0</td>\n",
       "    </tr>\n",
       "    <tr>\n",
       "      <th>1</th>\n",
       "      <td>10</td>\n",
       "      <td>2016-06-22</td>\n",
       "      <td>2016-06-27</td>\n",
       "      <td>195</td>\n",
       "      <td>xxl</td>\n",
       "      <td>grey</td>\n",
       "      <td>46</td>\n",
       "      <td>19.9</td>\n",
       "      <td>30823</td>\n",
       "      <td>Mrs</td>\n",
       "      <td>1970-04-22</td>\n",
       "      <td>1001</td>\n",
       "      <td>2015-03-15</td>\n",
       "      <td>1.0</td>\n",
       "      <td>train</td>\n",
       "      <td>5 days</td>\n",
       "      <td>46.0</td>\n",
       "    </tr>\n",
       "    <tr>\n",
       "      <th>2</th>\n",
       "      <td>11</td>\n",
       "      <td>2016-06-22</td>\n",
       "      <td>2016-05-07</td>\n",
       "      <td>25</td>\n",
       "      <td>xxl</td>\n",
       "      <td>grey</td>\n",
       "      <td>5</td>\n",
       "      <td>79.9</td>\n",
       "      <td>30823</td>\n",
       "      <td>Mrs</td>\n",
       "      <td>1970-04-22</td>\n",
       "      <td>1001</td>\n",
       "      <td>2015-03-15</td>\n",
       "      <td>0.0</td>\n",
       "      <td>train</td>\n",
       "      <td>-46 days</td>\n",
       "      <td>46.0</td>\n",
       "    </tr>\n",
       "    <tr>\n",
       "      <th>3</th>\n",
       "      <td>32</td>\n",
       "      <td>2016-06-23</td>\n",
       "      <td>2016-06-26</td>\n",
       "      <td>173</td>\n",
       "      <td>m</td>\n",
       "      <td>brown</td>\n",
       "      <td>20</td>\n",
       "      <td>19.9</td>\n",
       "      <td>17234</td>\n",
       "      <td>Mrs</td>\n",
       "      <td>1960-09-01</td>\n",
       "      <td>1013</td>\n",
       "      <td>2015-02-17</td>\n",
       "      <td>0.0</td>\n",
       "      <td>train</td>\n",
       "      <td>3 days</td>\n",
       "      <td>55.0</td>\n",
       "    </tr>\n",
       "    <tr>\n",
       "      <th>4</th>\n",
       "      <td>43</td>\n",
       "      <td>2016-06-23</td>\n",
       "      <td>2016-06-26</td>\n",
       "      <td>394</td>\n",
       "      <td>40</td>\n",
       "      <td>black</td>\n",
       "      <td>44</td>\n",
       "      <td>90.0</td>\n",
       "      <td>30827</td>\n",
       "      <td>Mrs</td>\n",
       "      <td>NaT</td>\n",
       "      <td>1006</td>\n",
       "      <td>2016-09-02</td>\n",
       "      <td>1.0</td>\n",
       "      <td>train</td>\n",
       "      <td>3 days</td>\n",
       "      <td>NaN</td>\n",
       "    </tr>\n",
       "  </tbody>\n",
       "</table>\n",
       "</div>"
      ],
      "text/plain": [
       "   order_item_id order_date delivery_date  item_id item_size item_color  \\\n",
       "0              1 2016-06-22    2016-06-27      643        38       navy   \n",
       "1             10 2016-06-22    2016-06-27      195       xxl       grey   \n",
       "2             11 2016-06-22    2016-05-07       25       xxl       grey   \n",
       "3             32 2016-06-23    2016-06-26      173         m      brown   \n",
       "4             43 2016-06-23    2016-06-26      394        40      black   \n",
       "\n",
       "   brand_id  item_price  user_id user_title   user_dob  user_state  \\\n",
       "0        30        49.9    30822        Mrs 1969-04-17        1013   \n",
       "1        46        19.9    30823        Mrs 1970-04-22        1001   \n",
       "2         5        79.9    30823        Mrs 1970-04-22        1001   \n",
       "3        20        19.9    17234        Mrs 1960-09-01        1013   \n",
       "4        44        90.0    30827        Mrs        NaT        1006   \n",
       "\n",
       "  user_reg_date  return train_test_indicator Delivery_days  User_Age  \n",
       "0    2016-06-23     0.0                train        5 days      47.0  \n",
       "1    2015-03-15     1.0                train        5 days      46.0  \n",
       "2    2015-03-15     0.0                train      -46 days      46.0  \n",
       "3    2015-02-17     0.0                train        3 days      55.0  \n",
       "4    2016-09-02     1.0                train        3 days       NaN  "
      ]
     },
     "execution_count": 186,
     "metadata": {},
     "output_type": "execute_result"
    }
   ],
   "source": [
    "df.head()"
   ]
  },
  {
   "cell_type": "code",
   "execution_count": 187,
   "metadata": {},
   "outputs": [],
   "source": [
    "df = df.dropna(how='any', subset=['delivery_date'])"
   ]
  },
  {
   "cell_type": "code",
   "execution_count": null,
   "metadata": {},
   "outputs": [],
   "source": [
    "df=df[df['Delivery_days']>=0]"
   ]
  },
  {
   "cell_type": "code",
   "execution_count": null,
   "metadata": {},
   "outputs": [],
   "source": [
    "# df= df[df['Delivery_days']>0]"
   ]
  },
  {
   "cell_type": "code",
   "execution_count": 188,
   "metadata": {},
   "outputs": [],
   "source": [
    "df_train=df[df['train_test_indicator']==\"train\"]\n",
    "df_test=df[df['train_test_indicator']==\"test\"]"
   ]
  },
  {
   "cell_type": "code",
   "execution_count": 189,
   "metadata": {},
   "outputs": [
    {
     "name": "stdout",
     "output_type": "stream",
     "text": [
      "train (72509, 17)\n",
      "test (18173, 17)\n"
     ]
    }
   ],
   "source": [
    "print(\"train\",df_train.shape)\n",
    "print(\"test\",df_test.shape)"
   ]
  },
  {
   "cell_type": "code",
   "execution_count": 190,
   "metadata": {},
   "outputs": [],
   "source": [
    "df_test=df_test[df_test['item_id'].isin(df_train['item_id'].unique())]"
   ]
  },
  {
   "cell_type": "code",
   "execution_count": 191,
   "metadata": {},
   "outputs": [
    {
     "data": {
      "text/plain": [
       "(18122, 17)"
      ]
     },
     "execution_count": 191,
     "metadata": {},
     "output_type": "execute_result"
    }
   ],
   "source": [
    "df_test.shape"
   ]
  },
  {
   "cell_type": "code",
   "execution_count": 139,
   "metadata": {},
   "outputs": [
    {
     "name": "stdout",
     "output_type": "stream",
     "text": [
      "4.0\n",
      "116.0\n"
     ]
    }
   ],
   "source": [
    "print(min(df_train['User_Age']))\n",
    "print(max(df_train['User_Age']))"
   ]
  },
  {
   "cell_type": "code",
   "execution_count": 140,
   "metadata": {},
   "outputs": [
    {
     "name": "stdout",
     "output_type": "stream",
     "text": [
      "Lowest allowed 17.90809235851213\n",
      "Highest allowed 85.58551424346484\n"
     ]
    },
    {
     "data": {
      "text/plain": [
       "925"
      ]
     },
     "execution_count": 140,
     "metadata": {},
     "output_type": "execute_result"
    }
   ],
   "source": [
    "LL=df_train['User_Age'].mean() - 3*df_train['User_Age'].std()\n",
    "UL=df_train['User_Age'].mean() + 3*df_train['User_Age'].std()\n",
    "print(\"Lowest allowed\",LL)\n",
    "print(\"Highest allowed\",UL)\n",
    "((df_train['User_Age'] < LL) | (df_train['User_Age'] > UL)).sum()"
   ]
  },
  {
   "cell_type": "code",
   "execution_count": 141,
   "metadata": {},
   "outputs": [
    {
     "name": "stderr",
     "output_type": "stream",
     "text": [
      "<ipython-input-141-891ea03ab44e>:5: SettingWithCopyWarning: \n",
      "A value is trying to be set on a copy of a slice from a DataFrame.\n",
      "Try using .loc[row_indexer,col_indexer] = value instead\n",
      "\n",
      "See the caveats in the documentation: https://pandas.pydata.org/pandas-docs/stable/user_guide/indexing.html#returning-a-view-versus-a-copy\n",
      "  df_train['User_Age'] = np.where(df_train['User_Age']>upper_limit,upper_limit,\n"
     ]
    }
   ],
   "source": [
    "#CAPPING\n",
    "upper_limit = df_train['User_Age'].mean() + 3*df_train['User_Age'].std()\n",
    "lower_limit = df_train['User_Age'].mean() - 3*df_train['User_Age'].std()\n",
    "\n",
    "df_train['User_Age'] = np.where(df_train['User_Age']>upper_limit,upper_limit,\n",
    "                 np.where(df_train['User_Age']<lower_limit,lower_limit, df_train['User_Age']))"
   ]
  },
  {
   "cell_type": "code",
   "execution_count": 142,
   "metadata": {},
   "outputs": [
    {
     "name": "stdout",
     "output_type": "stream",
     "text": [
      "17.90809235851213\n",
      "85.58551424346484\n"
     ]
    }
   ],
   "source": [
    "print(min(df_train['User_Age']))\n",
    "print(max(df_train['User_Age']))"
   ]
  },
  {
   "cell_type": "code",
   "execution_count": 136,
   "metadata": {},
   "outputs": [
    {
     "name": "stdout",
     "output_type": "stream",
     "text": [
      "Lowest allowed 29.5\n",
      "Highest allowed 73.5\n"
     ]
    },
    {
     "data": {
      "text/plain": [
       "1849"
      ]
     },
     "execution_count": 136,
     "metadata": {},
     "output_type": "execute_result"
    }
   ],
   "source": [
    "# Q1 = df_train['User_Age'].quantile(0.25)\n",
    "# Q3 = df_train['User_Age'].quantile(0.75)\n",
    "# IQR = Q3 - Q1\n",
    "# LL= Q1 - 1.5 * IQR\n",
    "# UL= Q3 + 1.5 * IQR\n",
    "# print(\"Lowest allowed\",LL)\n",
    "# print(\"Highest allowed\",UL)\n",
    "# ((df_train['User_Age'] < LL) | (df_train['User_Age'] > UL)).sum()\n",
    "# Lowest allowed 28.5\n",
    "# Highest allowed 72.5\n",
    "# 1833"
   ]
  },
  {
   "cell_type": "code",
   "execution_count": null,
   "metadata": {},
   "outputs": [],
   "source": [
    "upper_limit = df_test['User_Age'].mean() + 3*df_test['User_Age'].std()\n",
    "lower_limit = df_test['User_Age'].mean() - 3*df_test['User_Age'].std()\n",
    "\n",
    "df_test['User_Age'] = np.where(df_test['User_Age']>upper_limit,upper_limit,\n",
    "                 np.where(df_test['User_Age']<lower_limit,lower_limit, df_test['User_Age']))"
   ]
  },
  {
   "cell_type": "code",
   "execution_count": 143,
   "metadata": {},
   "outputs": [
    {
     "data": {
      "text/plain": [
       "6347"
      ]
     },
     "execution_count": 143,
     "metadata": {},
     "output_type": "execute_result"
    }
   ],
   "source": [
    "df_train['User_Age'].isnull().sum()"
   ]
  },
  {
   "cell_type": "code",
   "execution_count": 145,
   "metadata": {},
   "outputs": [
    {
     "data": {
      "text/plain": [
       "user_title\n",
       "Company         51.353535\n",
       "Family          47.852291\n",
       "Mr              51.153981\n",
       "Mrs             51.376999\n",
       "not reported    54.176471\n",
       "Name: User_Age, dtype: float64"
      ]
     },
     "execution_count": 145,
     "metadata": {},
     "output_type": "execute_result"
    }
   ],
   "source": [
    "df_train.groupby('user_title')['User_Age'].mean()"
   ]
  },
  {
   "cell_type": "code",
   "execution_count": 146,
   "metadata": {},
   "outputs": [
    {
     "name": "stderr",
     "output_type": "stream",
     "text": [
      "<ipython-input-146-91c8089a5d35>:1: SettingWithCopyWarning: \n",
      "A value is trying to be set on a copy of a slice from a DataFrame.\n",
      "Try using .loc[row_indexer,col_indexer] = value instead\n",
      "\n",
      "See the caveats in the documentation: https://pandas.pydata.org/pandas-docs/stable/user_guide/indexing.html#returning-a-view-versus-a-copy\n",
      "  df_train['User_Age'] = df_train['User_Age'].fillna(df_train.groupby('user_title')['User_Age'].transform('mean'))\n"
     ]
    },
    {
     "data": {
      "text/plain": [
       "0"
      ]
     },
     "execution_count": 146,
     "metadata": {},
     "output_type": "execute_result"
    }
   ],
   "source": [
    "df_train['User_Age'] = df_train['User_Age'].fillna(df_train.groupby('user_title')['User_Age'].transform('mean'))\n",
    "df_train['User_Age'].isnull().sum()"
   ]
  },
  {
   "cell_type": "code",
   "execution_count": null,
   "metadata": {},
   "outputs": [],
   "source": [
    "df_test['User_Age'] = df_test['User_Age'].fillna(df_test.groupby('user_title')['User_Age'].transform('mean'))\n",
    "df_test['User_Age'].isnull().sum()"
   ]
  },
  {
   "cell_type": "code",
   "execution_count": 150,
   "metadata": {
    "scrolled": true
   },
   "outputs": [
    {
     "data": {
      "text/plain": [
       "array(['navy', 'grey', 'brown', 'black', 'bordeaux', 'white', 'purple',\n",
       "       'magenta', 'stained', 'blue', 'red', 'olive', 'ocher', 'ash',\n",
       "       'khaki', 'nature', 'denim', 'curry', 'beige', 'turquoise', 'green',\n",
       "       'anthracite', 'yellow', 'berry', 'petrol', 'brwon', 'dark denim',\n",
       "       'hibiscus', 'azure', 'ecru', 'gold', 'orange', 'silver',\n",
       "       'darkblue', 'mocca', 'mint', 'pink', 'copper coin', 'jade', 'blau',\n",
       "       'aqua', 'cobalt blue', 'mango', 'aviator', 'champagner',\n",
       "       'aubergine', 'cognac', 'fuchsia', 'pallid', 'aquamarine',\n",
       "       'terracotta', 'ancient', 'curled', 'apricot', 'coral', 'basalt',\n",
       "       'floral', 'creme', 'mahagoni', 'dark garnet', 'striped', 'ivory',\n",
       "       nan, 'dark oliv', 'dark navy', 'habana', 'antique pink',\n",
       "       'dark grey', 'amethyst', 'currant purple', 'kanel', 'ebony',\n",
       "       'avocado', 'caramel', 'baltic blue', 'almond', 'opal'],\n",
       "      dtype=object)"
      ]
     },
     "execution_count": 150,
     "metadata": {},
     "output_type": "execute_result"
    }
   ],
   "source": [
    "df_train['item_color'].unique()"
   ]
  },
  {
   "cell_type": "code",
   "execution_count": 151,
   "metadata": {},
   "outputs": [
    {
     "data": {
      "text/plain": [
       "76"
      ]
     },
     "execution_count": 151,
     "metadata": {},
     "output_type": "execute_result"
    }
   ],
   "source": [
    "df_train['item_color'].nunique()"
   ]
  },
  {
   "cell_type": "code",
   "execution_count": null,
   "metadata": {},
   "outputs": [],
   "source": [
    "df_train['item_color']=df_train['item_color'].replace(\"?\",np.NaN)\n",
    "df_test['item_color']=df_test['item_color'].replace(\"?\",np.NaN)"
   ]
  },
  {
   "cell_type": "code",
   "execution_count": 152,
   "metadata": {},
   "outputs": [
    {
     "data": {
      "text/plain": [
       "76"
      ]
     },
     "execution_count": 152,
     "metadata": {},
     "output_type": "execute_result"
    }
   ],
   "source": [
    "print(\"train_null\",df_train['item_color'].isnull().sum())\n",
    "print(\"test_null\",df_test['item_color'].isnull().sum())"
   ]
  },
  {
   "cell_type": "code",
   "execution_count": 153,
   "metadata": {},
   "outputs": [
    {
     "name": "stderr",
     "output_type": "stream",
     "text": [
      "C:\\ProgramData\\Anaconda3\\lib\\site-packages\\pandas\\core\\series.py:4433: SettingWithCopyWarning: \n",
      "A value is trying to be set on a copy of a slice from a DataFrame\n",
      "\n",
      "See the caveats in the documentation: https://pandas.pydata.org/pandas-docs/stable/user_guide/indexing.html#returning-a-view-versus-a-copy\n",
      "  return super().fillna(\n"
     ]
    }
   ],
   "source": [
    "df_train['item_color'].fillna(df_train['item_color'].mode()[0], inplace=True)\n",
    "df_test['item_color'].fillna(df_test['item_color'].mode()[0], inplace=True)"
   ]
  },
  {
   "cell_type": "code",
   "execution_count": null,
   "metadata": {},
   "outputs": [],
   "source": [
    "df_train['item_color'].value_counts()"
   ]
  },
  {
   "cell_type": "code",
   "execution_count": 209,
   "metadata": {},
   "outputs": [
    {
     "name": "stdout",
     "output_type": "stream",
     "text": [
      "item_id\n",
      "1       0.486486\n",
      "2       0.469388\n",
      "3       0.362069\n",
      "4       0.611650\n",
      "5       0.538835\n",
      "          ...   \n",
      "2234    1.000000\n",
      "2237    0.000000\n",
      "2238    0.000000\n",
      "2240    1.000000\n",
      "2241    0.500000\n",
      "Name: return, Length: 1879, dtype: float64\n",
      "item_size\n",
      "1          0.571429\n",
      "10         0.601990\n",
      "10+        0.527559\n",
      "100        0.500000\n",
      "104        0.225806\n",
      "             ...   \n",
      "unsized    0.304325\n",
      "xl         0.496041\n",
      "xs         0.450000\n",
      "xxl        0.467988\n",
      "xxxl       0.388889\n",
      "Name: return, Length: 100, dtype: float64\n",
      "item_color\n",
      "?             0.062500\n",
      "almond        0.166667\n",
      "amethyst      0.000000\n",
      "ancient       0.434783\n",
      "anthracite    0.517934\n",
      "                ...   \n",
      "striped       0.561224\n",
      "terracotta    0.571429\n",
      "turquoise     0.496195\n",
      "white         0.485876\n",
      "yellow        0.381395\n",
      "Name: return, Length: 77, dtype: float64\n",
      "brand_id\n",
      "1      0.550867\n",
      "2      0.455000\n",
      "3      0.397829\n",
      "4      0.553846\n",
      "5      0.468722\n",
      "         ...   \n",
      "134    0.000000\n",
      "135    0.000000\n",
      "136    0.200000\n",
      "137    0.000000\n",
      "138    0.000000\n",
      "Name: return, Length: 134, dtype: float64\n"
     ]
    }
   ],
   "source": [
    "for enc_vars in ['item_id','item_size','item_color','brand_id']:\n",
    "    mean_encode=df_train.groupby(enc_vars)['return'].mean()\n",
    "    print(mean_encode)\n",
    "    df_train.loc[:,enc_vars+\"_enc\"]=df_train[enc_vars].map(mean_encode)\n",
    "    df_test.loc[:,enc_vars+\"_enc\"]=df_test[enc_vars].map(mean_encode)"
   ]
  },
  {
   "cell_type": "code",
   "execution_count": 210,
   "metadata": {},
   "outputs": [
    {
     "data": {
      "text/html": [
       "<div>\n",
       "<style scoped>\n",
       "    .dataframe tbody tr th:only-of-type {\n",
       "        vertical-align: middle;\n",
       "    }\n",
       "\n",
       "    .dataframe tbody tr th {\n",
       "        vertical-align: top;\n",
       "    }\n",
       "\n",
       "    .dataframe thead th {\n",
       "        text-align: right;\n",
       "    }\n",
       "</style>\n",
       "<table border=\"1\" class=\"dataframe\">\n",
       "  <thead>\n",
       "    <tr style=\"text-align: right;\">\n",
       "      <th></th>\n",
       "      <th>order_item_id</th>\n",
       "      <th>order_date</th>\n",
       "      <th>delivery_date</th>\n",
       "      <th>item_id</th>\n",
       "      <th>item_size</th>\n",
       "      <th>item_color</th>\n",
       "      <th>brand_id</th>\n",
       "      <th>item_price</th>\n",
       "      <th>user_id</th>\n",
       "      <th>user_title</th>\n",
       "      <th>...</th>\n",
       "      <th>user_state</th>\n",
       "      <th>user_reg_date</th>\n",
       "      <th>return</th>\n",
       "      <th>train_test_indicator</th>\n",
       "      <th>Delivery_days</th>\n",
       "      <th>User_Age</th>\n",
       "      <th>item_id_enc</th>\n",
       "      <th>item_size_enc</th>\n",
       "      <th>item_color_enc</th>\n",
       "      <th>brand_id_enc</th>\n",
       "    </tr>\n",
       "  </thead>\n",
       "  <tbody>\n",
       "    <tr>\n",
       "      <th>79945</th>\n",
       "      <td>26</td>\n",
       "      <td>2016-06-23</td>\n",
       "      <td>2016-06-26</td>\n",
       "      <td>92</td>\n",
       "      <td>xl</td>\n",
       "      <td>turquoise</td>\n",
       "      <td>42</td>\n",
       "      <td>69.90</td>\n",
       "      <td>9392</td>\n",
       "      <td>Mrs</td>\n",
       "      <td>...</td>\n",
       "      <td>1010</td>\n",
       "      <td>2016-03-24</td>\n",
       "      <td>NaN</td>\n",
       "      <td>test</td>\n",
       "      <td>3 days</td>\n",
       "      <td>54.0</td>\n",
       "      <td>0.326087</td>\n",
       "      <td>0.496041</td>\n",
       "      <td>0.496195</td>\n",
       "      <td>0.487509</td>\n",
       "    </tr>\n",
       "    <tr>\n",
       "      <th>79946</th>\n",
       "      <td>28</td>\n",
       "      <td>2016-06-23</td>\n",
       "      <td>2016-07-02</td>\n",
       "      <td>2</td>\n",
       "      <td>xxl</td>\n",
       "      <td>green</td>\n",
       "      <td>2</td>\n",
       "      <td>19.90</td>\n",
       "      <td>9392</td>\n",
       "      <td>Mrs</td>\n",
       "      <td>...</td>\n",
       "      <td>1010</td>\n",
       "      <td>2016-03-24</td>\n",
       "      <td>NaN</td>\n",
       "      <td>test</td>\n",
       "      <td>9 days</td>\n",
       "      <td>54.0</td>\n",
       "      <td>0.469388</td>\n",
       "      <td>0.467988</td>\n",
       "      <td>0.475378</td>\n",
       "      <td>0.455000</td>\n",
       "    </tr>\n",
       "    <tr>\n",
       "      <th>79947</th>\n",
       "      <td>37</td>\n",
       "      <td>2016-06-23</td>\n",
       "      <td>2016-06-26</td>\n",
       "      <td>895</td>\n",
       "      <td>38</td>\n",
       "      <td>white</td>\n",
       "      <td>39</td>\n",
       "      <td>39.95</td>\n",
       "      <td>30826</td>\n",
       "      <td>Mrs</td>\n",
       "      <td>...</td>\n",
       "      <td>1001</td>\n",
       "      <td>2015-02-17</td>\n",
       "      <td>NaN</td>\n",
       "      <td>test</td>\n",
       "      <td>3 days</td>\n",
       "      <td>52.0</td>\n",
       "      <td>0.585153</td>\n",
       "      <td>NaN</td>\n",
       "      <td>0.485876</td>\n",
       "      <td>0.544348</td>\n",
       "    </tr>\n",
       "    <tr>\n",
       "      <th>79950</th>\n",
       "      <td>80</td>\n",
       "      <td>2016-06-23</td>\n",
       "      <td>2016-06-26</td>\n",
       "      <td>57</td>\n",
       "      <td>l</td>\n",
       "      <td>purple</td>\n",
       "      <td>3</td>\n",
       "      <td>24.90</td>\n",
       "      <td>16075</td>\n",
       "      <td>Mrs</td>\n",
       "      <td>...</td>\n",
       "      <td>1003</td>\n",
       "      <td>2015-11-22</td>\n",
       "      <td>NaN</td>\n",
       "      <td>test</td>\n",
       "      <td>3 days</td>\n",
       "      <td>46.0</td>\n",
       "      <td>0.323944</td>\n",
       "      <td>0.491894</td>\n",
       "      <td>0.468941</td>\n",
       "      <td>0.397829</td>\n",
       "    </tr>\n",
       "    <tr>\n",
       "      <th>79951</th>\n",
       "      <td>95</td>\n",
       "      <td>2016-06-23</td>\n",
       "      <td>2016-06-26</td>\n",
       "      <td>57</td>\n",
       "      <td>xl</td>\n",
       "      <td>olive</td>\n",
       "      <td>3</td>\n",
       "      <td>34.90</td>\n",
       "      <td>17124</td>\n",
       "      <td>Mrs</td>\n",
       "      <td>...</td>\n",
       "      <td>1015</td>\n",
       "      <td>2015-08-02</td>\n",
       "      <td>NaN</td>\n",
       "      <td>test</td>\n",
       "      <td>3 days</td>\n",
       "      <td>67.0</td>\n",
       "      <td>0.323944</td>\n",
       "      <td>0.496041</td>\n",
       "      <td>0.507324</td>\n",
       "      <td>0.397829</td>\n",
       "    </tr>\n",
       "  </tbody>\n",
       "</table>\n",
       "<p>5 rows × 21 columns</p>\n",
       "</div>"
      ],
      "text/plain": [
       "       order_item_id order_date delivery_date  item_id item_size item_color  \\\n",
       "79945             26 2016-06-23    2016-06-26       92        xl  turquoise   \n",
       "79946             28 2016-06-23    2016-07-02        2       xxl      green   \n",
       "79947             37 2016-06-23    2016-06-26      895        38      white   \n",
       "79950             80 2016-06-23    2016-06-26       57         l     purple   \n",
       "79951             95 2016-06-23    2016-06-26       57        xl      olive   \n",
       "\n",
       "       brand_id  item_price  user_id user_title  ... user_state  \\\n",
       "79945        42       69.90     9392        Mrs  ...       1010   \n",
       "79946         2       19.90     9392        Mrs  ...       1010   \n",
       "79947        39       39.95    30826        Mrs  ...       1001   \n",
       "79950         3       24.90    16075        Mrs  ...       1003   \n",
       "79951         3       34.90    17124        Mrs  ...       1015   \n",
       "\n",
       "       user_reg_date return  train_test_indicator Delivery_days User_Age  \\\n",
       "79945     2016-03-24    NaN                  test        3 days     54.0   \n",
       "79946     2016-03-24    NaN                  test        9 days     54.0   \n",
       "79947     2015-02-17    NaN                  test        3 days     52.0   \n",
       "79950     2015-11-22    NaN                  test        3 days     46.0   \n",
       "79951     2015-08-02    NaN                  test        3 days     67.0   \n",
       "\n",
       "       item_id_enc  item_size_enc  item_color_enc  brand_id_enc  \n",
       "79945     0.326087       0.496041        0.496195      0.487509  \n",
       "79946     0.469388       0.467988        0.475378      0.455000  \n",
       "79947     0.585153            NaN        0.485876      0.544348  \n",
       "79950     0.323944       0.491894        0.468941      0.397829  \n",
       "79951     0.323944       0.496041        0.507324      0.397829  \n",
       "\n",
       "[5 rows x 21 columns]"
      ]
     },
     "execution_count": 210,
     "metadata": {},
     "output_type": "execute_result"
    }
   ],
   "source": [
    "df_test.head()"
   ]
  },
  {
   "cell_type": "code",
   "execution_count": 225,
   "metadata": {},
   "outputs": [
    {
     "name": "stdout",
     "output_type": "stream",
     "text": [
      "test_null 8108\n"
     ]
    }
   ],
   "source": [
    "print(\"test_null\",df_test['item_size_enc'].isnull().sum())"
   ]
  },
  {
   "cell_type": "code",
   "execution_count": 212,
   "metadata": {},
   "outputs": [
    {
     "data": {
      "text/html": [
       "<div>\n",
       "<style scoped>\n",
       "    .dataframe tbody tr th:only-of-type {\n",
       "        vertical-align: middle;\n",
       "    }\n",
       "\n",
       "    .dataframe tbody tr th {\n",
       "        vertical-align: top;\n",
       "    }\n",
       "\n",
       "    .dataframe thead th {\n",
       "        text-align: right;\n",
       "    }\n",
       "</style>\n",
       "<table border=\"1\" class=\"dataframe\">\n",
       "  <thead>\n",
       "    <tr style=\"text-align: right;\">\n",
       "      <th></th>\n",
       "      <th>order_item_id</th>\n",
       "      <th>order_date</th>\n",
       "      <th>delivery_date</th>\n",
       "      <th>item_id</th>\n",
       "      <th>item_size</th>\n",
       "      <th>item_color</th>\n",
       "      <th>brand_id</th>\n",
       "      <th>item_price</th>\n",
       "      <th>user_id</th>\n",
       "      <th>user_title</th>\n",
       "      <th>...</th>\n",
       "      <th>user_state</th>\n",
       "      <th>user_reg_date</th>\n",
       "      <th>return</th>\n",
       "      <th>train_test_indicator</th>\n",
       "      <th>Delivery_days</th>\n",
       "      <th>User_Age</th>\n",
       "      <th>item_id_enc</th>\n",
       "      <th>item_size_enc</th>\n",
       "      <th>item_color_enc</th>\n",
       "      <th>brand_id_enc</th>\n",
       "    </tr>\n",
       "  </thead>\n",
       "  <tbody>\n",
       "    <tr>\n",
       "      <th>0</th>\n",
       "      <td>1</td>\n",
       "      <td>2016-06-22</td>\n",
       "      <td>2016-06-27</td>\n",
       "      <td>643</td>\n",
       "      <td>38</td>\n",
       "      <td>navy</td>\n",
       "      <td>30</td>\n",
       "      <td>49.9</td>\n",
       "      <td>30822</td>\n",
       "      <td>Mrs</td>\n",
       "      <td>...</td>\n",
       "      <td>1013</td>\n",
       "      <td>2016-06-23</td>\n",
       "      <td>0.0</td>\n",
       "      <td>train</td>\n",
       "      <td>5 days</td>\n",
       "      <td>47.0</td>\n",
       "      <td>0.235294</td>\n",
       "      <td>0.519857</td>\n",
       "      <td>0.370192</td>\n",
       "      <td>0.397550</td>\n",
       "    </tr>\n",
       "    <tr>\n",
       "      <th>1</th>\n",
       "      <td>10</td>\n",
       "      <td>2016-06-22</td>\n",
       "      <td>2016-06-27</td>\n",
       "      <td>195</td>\n",
       "      <td>xxl</td>\n",
       "      <td>grey</td>\n",
       "      <td>46</td>\n",
       "      <td>19.9</td>\n",
       "      <td>30823</td>\n",
       "      <td>Mrs</td>\n",
       "      <td>...</td>\n",
       "      <td>1001</td>\n",
       "      <td>2015-03-15</td>\n",
       "      <td>1.0</td>\n",
       "      <td>train</td>\n",
       "      <td>5 days</td>\n",
       "      <td>46.0</td>\n",
       "      <td>0.475410</td>\n",
       "      <td>0.467988</td>\n",
       "      <td>0.528966</td>\n",
       "      <td>0.514665</td>\n",
       "    </tr>\n",
       "    <tr>\n",
       "      <th>2</th>\n",
       "      <td>11</td>\n",
       "      <td>2016-06-22</td>\n",
       "      <td>2016-05-07</td>\n",
       "      <td>25</td>\n",
       "      <td>xxl</td>\n",
       "      <td>grey</td>\n",
       "      <td>5</td>\n",
       "      <td>79.9</td>\n",
       "      <td>30823</td>\n",
       "      <td>Mrs</td>\n",
       "      <td>...</td>\n",
       "      <td>1001</td>\n",
       "      <td>2015-03-15</td>\n",
       "      <td>0.0</td>\n",
       "      <td>train</td>\n",
       "      <td>-46 days</td>\n",
       "      <td>46.0</td>\n",
       "      <td>0.492537</td>\n",
       "      <td>0.467988</td>\n",
       "      <td>0.528966</td>\n",
       "      <td>0.468722</td>\n",
       "    </tr>\n",
       "    <tr>\n",
       "      <th>3</th>\n",
       "      <td>32</td>\n",
       "      <td>2016-06-23</td>\n",
       "      <td>2016-06-26</td>\n",
       "      <td>173</td>\n",
       "      <td>m</td>\n",
       "      <td>brown</td>\n",
       "      <td>20</td>\n",
       "      <td>19.9</td>\n",
       "      <td>17234</td>\n",
       "      <td>Mrs</td>\n",
       "      <td>...</td>\n",
       "      <td>1013</td>\n",
       "      <td>2015-02-17</td>\n",
       "      <td>0.0</td>\n",
       "      <td>train</td>\n",
       "      <td>3 days</td>\n",
       "      <td>55.0</td>\n",
       "      <td>0.701107</td>\n",
       "      <td>0.492122</td>\n",
       "      <td>0.534008</td>\n",
       "      <td>0.620771</td>\n",
       "    </tr>\n",
       "    <tr>\n",
       "      <th>4</th>\n",
       "      <td>43</td>\n",
       "      <td>2016-06-23</td>\n",
       "      <td>2016-06-26</td>\n",
       "      <td>394</td>\n",
       "      <td>40</td>\n",
       "      <td>black</td>\n",
       "      <td>44</td>\n",
       "      <td>90.0</td>\n",
       "      <td>30827</td>\n",
       "      <td>Mrs</td>\n",
       "      <td>...</td>\n",
       "      <td>1006</td>\n",
       "      <td>2016-09-02</td>\n",
       "      <td>1.0</td>\n",
       "      <td>train</td>\n",
       "      <td>3 days</td>\n",
       "      <td>NaN</td>\n",
       "      <td>0.627451</td>\n",
       "      <td>0.552768</td>\n",
       "      <td>0.515076</td>\n",
       "      <td>0.586207</td>\n",
       "    </tr>\n",
       "  </tbody>\n",
       "</table>\n",
       "<p>5 rows × 21 columns</p>\n",
       "</div>"
      ],
      "text/plain": [
       "   order_item_id order_date delivery_date  item_id item_size item_color  \\\n",
       "0              1 2016-06-22    2016-06-27      643        38       navy   \n",
       "1             10 2016-06-22    2016-06-27      195       xxl       grey   \n",
       "2             11 2016-06-22    2016-05-07       25       xxl       grey   \n",
       "3             32 2016-06-23    2016-06-26      173         m      brown   \n",
       "4             43 2016-06-23    2016-06-26      394        40      black   \n",
       "\n",
       "   brand_id  item_price  user_id user_title  ... user_state  user_reg_date  \\\n",
       "0        30        49.9    30822        Mrs  ...       1013     2016-06-23   \n",
       "1        46        19.9    30823        Mrs  ...       1001     2015-03-15   \n",
       "2         5        79.9    30823        Mrs  ...       1001     2015-03-15   \n",
       "3        20        19.9    17234        Mrs  ...       1013     2015-02-17   \n",
       "4        44        90.0    30827        Mrs  ...       1006     2016-09-02   \n",
       "\n",
       "  return  train_test_indicator Delivery_days User_Age  item_id_enc  \\\n",
       "0    0.0                 train        5 days     47.0     0.235294   \n",
       "1    1.0                 train        5 days     46.0     0.475410   \n",
       "2    0.0                 train      -46 days     46.0     0.492537   \n",
       "3    0.0                 train        3 days     55.0     0.701107   \n",
       "4    1.0                 train        3 days      NaN     0.627451   \n",
       "\n",
       "   item_size_enc  item_color_enc  brand_id_enc  \n",
       "0       0.519857        0.370192      0.397550  \n",
       "1       0.467988        0.528966      0.514665  \n",
       "2       0.467988        0.528966      0.468722  \n",
       "3       0.492122        0.534008      0.620771  \n",
       "4       0.552768        0.515076      0.586207  \n",
       "\n",
       "[5 rows x 21 columns]"
      ]
     },
     "execution_count": 212,
     "metadata": {},
     "output_type": "execute_result"
    }
   ],
   "source": [
    "df_train.head()"
   ]
  },
  {
   "cell_type": "code",
   "execution_count": null,
   "metadata": {},
   "outputs": [],
   "source": []
  }
 ],
 "metadata": {
  "kernelspec": {
   "display_name": "Python 3",
   "language": "python",
   "name": "python3"
  },
  "language_info": {
   "codemirror_mode": {
    "name": "ipython",
    "version": 3
   },
   "file_extension": ".py",
   "mimetype": "text/x-python",
   "name": "python",
   "nbconvert_exporter": "python",
   "pygments_lexer": "ipython3",
   "version": "3.8.5"
  }
 },
 "nbformat": 4,
 "nbformat_minor": 4
}
