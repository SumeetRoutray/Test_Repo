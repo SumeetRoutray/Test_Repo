{
 "cells": [
  {
   "cell_type": "markdown",
   "metadata": {},
   "source": [
    "# CASE STUDY: CODED BY SUMEET ROUTRAY"
   ]
  },
  {
   "cell_type": "markdown",
   "metadata": {},
   "source": [
    "IMPORT LIBRARIES"
   ]
  },
  {
   "cell_type": "code",
   "execution_count": 1,
   "metadata": {},
   "outputs": [],
   "source": [
    "import pandas as pd\n",
    "import numpy as np\n",
    "import matplotlib.pyplot as plt\n",
    "#import seaborn as sns\n",
    "import warnings\n",
    "warnings.filterwarnings('ignore')"
   ]
  },
  {
   "cell_type": "code",
   "execution_count": 2,
   "metadata": {},
   "outputs": [],
   "source": [
    "from datetime import datetime #import dattime libraries"
   ]
  },
  {
   "cell_type": "markdown",
   "metadata": {},
   "source": [
    "READING INPUTA DATA"
   ]
  },
  {
   "cell_type": "code",
   "execution_count": 3,
   "metadata": {},
   "outputs": [],
   "source": [
    "df1 = pd.read_csv(\"TrainingData_V1.csv\")\n",
    "df2 = pd.read_excel(\"TestingData_For_Candidate.xlsx\", sheet_name= \"Sheet1\")"
   ]
  },
  {
   "cell_type": "code",
   "execution_count": 4,
   "metadata": {},
   "outputs": [],
   "source": [
    "#Creating an indicator for train-test split\n",
    "df1[\"train_test_indicator\"]=\"train\"\n",
    "df2[\"train_test_indicator\"]=\"test\""
   ]
  },
  {
   "cell_type": "code",
   "execution_count": 5,
   "metadata": {},
   "outputs": [],
   "source": [
    "for col in ['order_date','delivery_date','user_dob','user_reg_date']:\n",
    "    df2[col] = df2[col].dt.strftime(\"%d-%m-%Y\")"
   ]
  },
  {
   "cell_type": "code",
   "execution_count": 6,
   "metadata": {},
   "outputs": [],
   "source": [
    "df=df1.append(df2, ignore_index = True) # appnding the datasets"
   ]
  },
  {
   "cell_type": "markdown",
   "metadata": {},
   "source": [
    "PRE-PROCESSING AND CLEANSING OF DATA"
   ]
  },
  {
   "cell_type": "code",
   "execution_count": 7,
   "metadata": {},
   "outputs": [],
   "source": [
    "#Converting to date-type\n",
    "for col in ['order_date','delivery_date','user_dob','user_reg_date']:\n",
    "    df[col] = pd.to_datetime(df[col], infer_datetime_format=True)"
   ]
  },
  {
   "cell_type": "code",
   "execution_count": 8,
   "metadata": {},
   "outputs": [],
   "source": [
    "df['Delivery_days']= np.trunc((df['delivery_date'] - df['order_date'])/np.timedelta64(1,'D'))#Crating column from existing ones"
   ]
  },
  {
   "cell_type": "code",
   "execution_count": 9,
   "metadata": {},
   "outputs": [],
   "source": [
    "df['User_Age']= np.trunc((df['order_date'] - df['user_dob'])/np.timedelta64(1,'Y'))#Crating column from existing ones"
   ]
  },
  {
   "cell_type": "code",
   "execution_count": 10,
   "metadata": {},
   "outputs": [
    {
     "data": {
      "text/html": [
       "<div>\n",
       "<style scoped>\n",
       "    .dataframe tbody tr th:only-of-type {\n",
       "        vertical-align: middle;\n",
       "    }\n",
       "\n",
       "    .dataframe tbody tr th {\n",
       "        vertical-align: top;\n",
       "    }\n",
       "\n",
       "    .dataframe thead th {\n",
       "        text-align: right;\n",
       "    }\n",
       "</style>\n",
       "<table border=\"1\" class=\"dataframe\">\n",
       "  <thead>\n",
       "    <tr style=\"text-align: right;\">\n",
       "      <th></th>\n",
       "      <th>order_item_id</th>\n",
       "      <th>order_date</th>\n",
       "      <th>delivery_date</th>\n",
       "      <th>item_id</th>\n",
       "      <th>item_size</th>\n",
       "      <th>item_color</th>\n",
       "      <th>brand_id</th>\n",
       "      <th>item_price</th>\n",
       "      <th>user_id</th>\n",
       "      <th>user_title</th>\n",
       "      <th>user_dob</th>\n",
       "      <th>user_state</th>\n",
       "      <th>user_reg_date</th>\n",
       "      <th>return</th>\n",
       "      <th>train_test_indicator</th>\n",
       "      <th>Delivery_days</th>\n",
       "      <th>User_Age</th>\n",
       "    </tr>\n",
       "  </thead>\n",
       "  <tbody>\n",
       "    <tr>\n",
       "      <th>0</th>\n",
       "      <td>1</td>\n",
       "      <td>2016-06-22</td>\n",
       "      <td>2016-06-27</td>\n",
       "      <td>643</td>\n",
       "      <td>38</td>\n",
       "      <td>navy</td>\n",
       "      <td>30</td>\n",
       "      <td>49.9</td>\n",
       "      <td>30822</td>\n",
       "      <td>Mrs</td>\n",
       "      <td>1969-04-17</td>\n",
       "      <td>1013</td>\n",
       "      <td>2016-06-23</td>\n",
       "      <td>0.0</td>\n",
       "      <td>train</td>\n",
       "      <td>5.0</td>\n",
       "      <td>47.0</td>\n",
       "    </tr>\n",
       "    <tr>\n",
       "      <th>1</th>\n",
       "      <td>10</td>\n",
       "      <td>2016-06-22</td>\n",
       "      <td>2016-06-27</td>\n",
       "      <td>195</td>\n",
       "      <td>xxl</td>\n",
       "      <td>grey</td>\n",
       "      <td>46</td>\n",
       "      <td>19.9</td>\n",
       "      <td>30823</td>\n",
       "      <td>Mrs</td>\n",
       "      <td>1970-04-22</td>\n",
       "      <td>1001</td>\n",
       "      <td>2015-03-15</td>\n",
       "      <td>1.0</td>\n",
       "      <td>train</td>\n",
       "      <td>5.0</td>\n",
       "      <td>46.0</td>\n",
       "    </tr>\n",
       "    <tr>\n",
       "      <th>2</th>\n",
       "      <td>11</td>\n",
       "      <td>2016-06-22</td>\n",
       "      <td>2016-07-05</td>\n",
       "      <td>25</td>\n",
       "      <td>xxl</td>\n",
       "      <td>grey</td>\n",
       "      <td>5</td>\n",
       "      <td>79.9</td>\n",
       "      <td>30823</td>\n",
       "      <td>Mrs</td>\n",
       "      <td>1970-04-22</td>\n",
       "      <td>1001</td>\n",
       "      <td>2015-03-15</td>\n",
       "      <td>0.0</td>\n",
       "      <td>train</td>\n",
       "      <td>13.0</td>\n",
       "      <td>46.0</td>\n",
       "    </tr>\n",
       "    <tr>\n",
       "      <th>3</th>\n",
       "      <td>32</td>\n",
       "      <td>2016-06-23</td>\n",
       "      <td>2016-06-26</td>\n",
       "      <td>173</td>\n",
       "      <td>m</td>\n",
       "      <td>brown</td>\n",
       "      <td>20</td>\n",
       "      <td>19.9</td>\n",
       "      <td>17234</td>\n",
       "      <td>Mrs</td>\n",
       "      <td>1960-01-09</td>\n",
       "      <td>1013</td>\n",
       "      <td>2015-02-17</td>\n",
       "      <td>0.0</td>\n",
       "      <td>train</td>\n",
       "      <td>3.0</td>\n",
       "      <td>56.0</td>\n",
       "    </tr>\n",
       "    <tr>\n",
       "      <th>4</th>\n",
       "      <td>43</td>\n",
       "      <td>2016-06-23</td>\n",
       "      <td>2016-06-26</td>\n",
       "      <td>394</td>\n",
       "      <td>40</td>\n",
       "      <td>black</td>\n",
       "      <td>44</td>\n",
       "      <td>90.0</td>\n",
       "      <td>30827</td>\n",
       "      <td>Mrs</td>\n",
       "      <td>NaT</td>\n",
       "      <td>1006</td>\n",
       "      <td>2016-02-09</td>\n",
       "      <td>1.0</td>\n",
       "      <td>train</td>\n",
       "      <td>3.0</td>\n",
       "      <td>NaN</td>\n",
       "    </tr>\n",
       "  </tbody>\n",
       "</table>\n",
       "</div>"
      ],
      "text/plain": [
       "   order_item_id order_date delivery_date  item_id item_size item_color  \\\n",
       "0              1 2016-06-22    2016-06-27      643        38       navy   \n",
       "1             10 2016-06-22    2016-06-27      195       xxl       grey   \n",
       "2             11 2016-06-22    2016-07-05       25       xxl       grey   \n",
       "3             32 2016-06-23    2016-06-26      173         m      brown   \n",
       "4             43 2016-06-23    2016-06-26      394        40      black   \n",
       "\n",
       "   brand_id  item_price  user_id user_title   user_dob  user_state  \\\n",
       "0        30        49.9    30822        Mrs 1969-04-17        1013   \n",
       "1        46        19.9    30823        Mrs 1970-04-22        1001   \n",
       "2         5        79.9    30823        Mrs 1970-04-22        1001   \n",
       "3        20        19.9    17234        Mrs 1960-01-09        1013   \n",
       "4        44        90.0    30827        Mrs        NaT        1006   \n",
       "\n",
       "  user_reg_date  return train_test_indicator  Delivery_days  User_Age  \n",
       "0    2016-06-23     0.0                train            5.0      47.0  \n",
       "1    2015-03-15     1.0                train            5.0      46.0  \n",
       "2    2015-03-15     0.0                train           13.0      46.0  \n",
       "3    2015-02-17     0.0                train            3.0      56.0  \n",
       "4    2016-02-09     1.0                train            3.0       NaN  "
      ]
     },
     "execution_count": 10,
     "metadata": {},
     "output_type": "execute_result"
    }
   ],
   "source": [
    "df.head()"
   ]
  },
  {
   "cell_type": "code",
   "execution_count": 11,
   "metadata": {},
   "outputs": [],
   "source": [
    "#VALIDATION CHECKS\n",
    "df = df.dropna(how='any', subset=['delivery_date'])\n",
    "df=df[df['Delivery_days']>=0]"
   ]
  },
  {
   "cell_type": "code",
   "execution_count": 13,
   "metadata": {},
   "outputs": [],
   "source": [
    "df_train=df[df['train_test_indicator']==\"train\"]\n",
    "df_test=df[df['train_test_indicator']==\"test\"]"
   ]
  },
  {
   "cell_type": "code",
   "execution_count": 14,
   "metadata": {},
   "outputs": [
    {
     "name": "stdout",
     "output_type": "stream",
     "text": [
      "train (71663, 17)\n",
      "test (17947, 17)\n"
     ]
    }
   ],
   "source": [
    "print(\"train\",df_train.shape)\n",
    "print(\"test\",df_test.shape)"
   ]
  },
  {
   "cell_type": "code",
   "execution_count": 15,
   "metadata": {},
   "outputs": [],
   "source": [
    "df_test=df_test[df_test['item_id'].isin(df_train['item_id'].unique())]#item_ids selected in test data those are present in train"
   ]
  },
  {
   "cell_type": "code",
   "execution_count": 16,
   "metadata": {},
   "outputs": [
    {
     "data": {
      "text/plain": [
       "(17895, 17)"
      ]
     },
     "execution_count": 16,
     "metadata": {},
     "output_type": "execute_result"
    }
   ],
   "source": [
    "df_test.shape"
   ]
  },
  {
   "cell_type": "markdown",
   "metadata": {},
   "source": [
    "OUTLIER TREATMENT"
   ]
  },
  {
   "cell_type": "code",
   "execution_count": 17,
   "metadata": {},
   "outputs": [
    {
     "name": "stdout",
     "output_type": "stream",
     "text": [
      "4.0\n",
      "115.0\n"
     ]
    }
   ],
   "source": [
    "print(min(df_train['User_Age']))\n",
    "print(max(df_train['User_Age']))"
   ]
  },
  {
   "cell_type": "code",
   "execution_count": 18,
   "metadata": {},
   "outputs": [
    {
     "name": "stdout",
     "output_type": "stream",
     "text": [
      "Lowest allowed 18.1875060404912\n",
      "Highest allowed 85.58820204050225\n"
     ]
    },
    {
     "data": {
      "text/plain": [
       "927"
      ]
     },
     "execution_count": 18,
     "metadata": {},
     "output_type": "execute_result"
    }
   ],
   "source": [
    "#Using mean+-3*std.dev method\n",
    "LL=df_train['User_Age'].mean() - 3*df_train['User_Age'].std()\n",
    "UL=df_train['User_Age'].mean() + 3*df_train['User_Age'].std()\n",
    "print(\"Lowest allowed\",LL)\n",
    "print(\"Highest allowed\",UL)\n",
    "((df_train['User_Age'] < LL) | (df_train['User_Age'] > UL)).sum()"
   ]
  },
  {
   "cell_type": "code",
   "execution_count": 19,
   "metadata": {},
   "outputs": [],
   "source": [
    "#CAPPING\n",
    "upper_limit = df_train['User_Age'].mean() + 3*df_train['User_Age'].std()\n",
    "lower_limit = df_train['User_Age'].mean() - 3*df_train['User_Age'].std()\n",
    "\n",
    "df_train['User_Age'] = np.where(df_train['User_Age']>upper_limit,upper_limit,\n",
    "                 np.where(df_train['User_Age']<lower_limit,lower_limit, df_train['User_Age']))"
   ]
  },
  {
   "cell_type": "code",
   "execution_count": 20,
   "metadata": {},
   "outputs": [
    {
     "name": "stdout",
     "output_type": "stream",
     "text": [
      "18.1875060404912\n",
      "85.58820204050225\n"
     ]
    }
   ],
   "source": [
    "print(min(df_train['User_Age']))\n",
    "print(max(df_train['User_Age']))"
   ]
  },
  {
   "cell_type": "code",
   "execution_count": 21,
   "metadata": {},
   "outputs": [],
   "source": [
    "#INTER QUARTILE RANGE METHOD\n",
    "\n",
    "# Q1 = df_train['User_Age'].quantile(0.25)\n",
    "# Q3 = df_train['User_Age'].quantile(0.75)\n",
    "# IQR = Q3 - Q1\n",
    "# LL= Q1 - 1.5 * IQR\n",
    "# UL= Q3 + 1.5 * IQR\n",
    "# print(\"Lowest allowed\",LL)\n",
    "# print(\"Highest allowed\",UL)\n",
    "# ((df_train['User_Age'] < LL) | (df_train['User_Age'] > UL)).sum()\n",
    "# Lowest allowed 28.5\n",
    "# Highest allowed 72.5\n",
    "# 1833"
   ]
  },
  {
   "cell_type": "code",
   "execution_count": 22,
   "metadata": {},
   "outputs": [],
   "source": [
    "#Outliers handled for test data in a similar fashion\n",
    "upper_limit = df_test['User_Age'].mean() + 3*df_test['User_Age'].std()\n",
    "lower_limit = df_test['User_Age'].mean() - 3*df_test['User_Age'].std()\n",
    "\n",
    "df_test['User_Age'] = np.where(df_test['User_Age']>upper_limit,upper_limit,\n",
    "                 np.where(df_test['User_Age']<lower_limit,lower_limit, df_test['User_Age']))"
   ]
  },
  {
   "cell_type": "markdown",
   "metadata": {},
   "source": [
    "HANDLING MISSING VALUES"
   ]
  },
  {
   "cell_type": "code",
   "execution_count": 23,
   "metadata": {},
   "outputs": [
    {
     "data": {
      "text/plain": [
       "6275"
      ]
     },
     "execution_count": 23,
     "metadata": {},
     "output_type": "execute_result"
    }
   ],
   "source": [
    "df_train['User_Age'].isnull().sum()"
   ]
  },
  {
   "cell_type": "code",
   "execution_count": 24,
   "metadata": {},
   "outputs": [
    {
     "data": {
      "text/plain": [
       "user_title\n",
       "Company         51.555556\n",
       "Family          48.578014\n",
       "Mr              51.595794\n",
       "Mrs             51.501745\n",
       "not reported    54.205882\n",
       "Name: User_Age, dtype: float64"
      ]
     },
     "execution_count": 24,
     "metadata": {},
     "output_type": "execute_result"
    }
   ],
   "source": [
    "df_train.groupby('user_title')['User_Age'].mean()"
   ]
  },
  {
   "cell_type": "code",
   "execution_count": 25,
   "metadata": {},
   "outputs": [
    {
     "data": {
      "text/plain": [
       "0"
      ]
     },
     "execution_count": 25,
     "metadata": {},
     "output_type": "execute_result"
    }
   ],
   "source": [
    "#Missing values handled through group means by a separate column (train & test data separately)\n",
    "\n",
    "df_train['User_Age'] = df_train['User_Age'].fillna(df_train.groupby('user_title')['User_Age'].transform('mean'))\n",
    "df_train['User_Age'].isnull().sum()"
   ]
  },
  {
   "cell_type": "code",
   "execution_count": 26,
   "metadata": {},
   "outputs": [
    {
     "data": {
      "text/plain": [
       "0"
      ]
     },
     "execution_count": 26,
     "metadata": {},
     "output_type": "execute_result"
    }
   ],
   "source": [
    "df_test['User_Age'] = df_test['User_Age'].fillna(df_test.groupby('user_title')['User_Age'].transform('mean'))\n",
    "df_test['User_Age'].isnull().sum()"
   ]
  },
  {
   "cell_type": "code",
   "execution_count": 27,
   "metadata": {
    "scrolled": true
   },
   "outputs": [
    {
     "data": {
      "text/plain": [
       "array(['navy', 'grey', 'brown', 'black', 'bordeaux', 'white', 'purple',\n",
       "       'magenta', 'stained', 'blue', 'red', 'olive', 'ocher', 'ash',\n",
       "       'khaki', 'nature', 'denim', 'curry', 'beige', 'turquoise', 'green',\n",
       "       'anthracite', 'yellow', 'berry', 'petrol', 'brwon', 'dark denim',\n",
       "       'hibiscus', 'azure', 'ecru', 'gold', 'orange', 'silver',\n",
       "       'darkblue', 'mocca', 'mint', 'pink', 'copper coin', 'jade', 'blau',\n",
       "       'aqua', 'cobalt blue', 'mango', 'champagner', 'aubergine',\n",
       "       'cognac', 'fuchsia', 'pallid', 'aquamarine', 'terracotta',\n",
       "       'aviator', 'ancient', 'curled', 'apricot', 'coral', 'basalt',\n",
       "       'floral', 'creme', 'mahagoni', 'dark garnet', 'striped', 'ivory',\n",
       "       '?', 'dark oliv', 'dark navy', 'antique pink', 'habana',\n",
       "       'dark grey', 'amethyst', 'currant purple', 'kanel', 'ebony',\n",
       "       'avocado', 'caramel', 'baltic blue', 'almond', 'opal'],\n",
       "      dtype=object)"
      ]
     },
     "execution_count": 27,
     "metadata": {},
     "output_type": "execute_result"
    }
   ],
   "source": [
    "df_train['item_color'].unique()"
   ]
  },
  {
   "cell_type": "code",
   "execution_count": 28,
   "metadata": {},
   "outputs": [
    {
     "data": {
      "text/plain": [
       "77"
      ]
     },
     "execution_count": 28,
     "metadata": {},
     "output_type": "execute_result"
    }
   ],
   "source": [
    "df_train['item_color'].nunique()"
   ]
  },
  {
   "cell_type": "code",
   "execution_count": 29,
   "metadata": {},
   "outputs": [],
   "source": [
    "#Replace '?' categories by NaN\n",
    "df_train['item_color']=df_train['item_color'].replace(\"?\",np.NaN)\n",
    "df_test['item_color']=df_test['item_color'].replace(\"?\",np.NaN)"
   ]
  },
  {
   "cell_type": "code",
   "execution_count": 30,
   "metadata": {},
   "outputs": [
    {
     "name": "stdout",
     "output_type": "stream",
     "text": [
      "train_null 47\n",
      "test_null 11\n"
     ]
    }
   ],
   "source": [
    "print(\"train_null\",df_train['item_color'].isnull().sum())\n",
    "print(\"test_null\",df_test['item_color'].isnull().sum())"
   ]
  },
  {
   "cell_type": "code",
   "execution_count": 31,
   "metadata": {},
   "outputs": [],
   "source": [
    "#Missing values handled through maximum frequency/mode\n",
    "df_train['item_color'].fillna(df_train['item_color'].mode()[0], inplace=True)\n",
    "df_test['item_color'].fillna(df_test['item_color'].mode()[0], inplace=True)"
   ]
  },
  {
   "cell_type": "code",
   "execution_count": 32,
   "metadata": {},
   "outputs": [
    {
     "data": {
      "text/plain": [
       "black       13528\n",
       "blue         7590\n",
       "brown        6338\n",
       "grey         6256\n",
       "red          5111\n",
       "            ...  \n",
       "caramel         4\n",
       "ebony           4\n",
       "opal            2\n",
       "creme           2\n",
       "amethyst        2\n",
       "Name: item_color, Length: 76, dtype: int64"
      ]
     },
     "execution_count": 32,
     "metadata": {},
     "output_type": "execute_result"
    }
   ],
   "source": [
    "df_train['item_color'].value_counts()"
   ]
  },
  {
   "cell_type": "markdown",
   "metadata": {},
   "source": [
    "CONVERTING CATEGORICAL TO CONTINUOUS VIA \"TARGET MEAN ENCODING\" TECHNIQUE"
   ]
  },
  {
   "cell_type": "code",
   "execution_count": 33,
   "metadata": {},
   "outputs": [],
   "source": [
    "df_test[\"item_size\"]= df_test[\"item_size\"].astype(str)"
   ]
  },
  {
   "cell_type": "code",
   "execution_count": 34,
   "metadata": {},
   "outputs": [
    {
     "name": "stdout",
     "output_type": "stream",
     "text": [
      "train_null_item_id 0\n",
      "test_null_item_id 0\n",
      "train_null_item_size 0\n",
      "test_null_item_size 0\n",
      "train_null_item_color 0\n",
      "test_null_item_color 0\n",
      "train_null_brand_id 0\n",
      "test_null_brand_id 0\n"
     ]
    }
   ],
   "source": [
    "for enc_vars in ['item_id','item_size','item_color','brand_id']:\n",
    "    mean_encode=df_train.groupby(enc_vars)['return'].mean()\n",
    "    df_train.loc[:,enc_vars+\"_enc\"]=df_train[enc_vars].map(mean_encode)\n",
    "    df_test.loc[:,enc_vars+\"_enc\"]=df_test[enc_vars].map(mean_encode)\n",
    "    print(\"train_null_\"+enc_vars,df_train[enc_vars].isnull().sum())\n",
    "    print(\"test_null_\"+enc_vars,df_test[enc_vars].isnull().sum())"
   ]
  },
  {
   "cell_type": "code",
   "execution_count": 35,
   "metadata": {},
   "outputs": [
    {
     "name": "stdout",
     "output_type": "stream",
     "text": [
      "Mrs             68488\n",
      "Mr               2729\n",
      "Family            264\n",
      "Company           104\n",
      "not reported       78\n",
      "Name: user_title, dtype: int64\n",
      "Mrs             17130\n",
      "Mr                668\n",
      "Family             57\n",
      "Company            23\n",
      "not reported       17\n",
      "Name: user_title, dtype: int64\n"
     ]
    }
   ],
   "source": [
    "print(df_train['user_title'].value_counts())\n",
    "print(df_test['user_title'].value_counts())"
   ]
  },
  {
   "cell_type": "markdown",
   "metadata": {},
   "source": [
    "CREATING DUMMIES FOR CATEGORICAL VARIABLES"
   ]
  },
  {
   "cell_type": "code",
   "execution_count": 36,
   "metadata": {},
   "outputs": [
    {
     "data": {
      "text/html": [
       "<div>\n",
       "<style scoped>\n",
       "    .dataframe tbody tr th:only-of-type {\n",
       "        vertical-align: middle;\n",
       "    }\n",
       "\n",
       "    .dataframe tbody tr th {\n",
       "        vertical-align: top;\n",
       "    }\n",
       "\n",
       "    .dataframe thead th {\n",
       "        text-align: right;\n",
       "    }\n",
       "</style>\n",
       "<table border=\"1\" class=\"dataframe\">\n",
       "  <thead>\n",
       "    <tr style=\"text-align: right;\">\n",
       "      <th>user_title</th>\n",
       "      <th>Company</th>\n",
       "      <th>Family</th>\n",
       "      <th>Mr</th>\n",
       "      <th>Mrs</th>\n",
       "      <th>not reported</th>\n",
       "    </tr>\n",
       "    <tr>\n",
       "      <th>return</th>\n",
       "      <th></th>\n",
       "      <th></th>\n",
       "      <th></th>\n",
       "      <th></th>\n",
       "      <th></th>\n",
       "    </tr>\n",
       "  </thead>\n",
       "  <tbody>\n",
       "    <tr>\n",
       "      <th>0.0</th>\n",
       "      <td>40</td>\n",
       "      <td>141</td>\n",
       "      <td>1418</td>\n",
       "      <td>33672</td>\n",
       "      <td>47</td>\n",
       "    </tr>\n",
       "    <tr>\n",
       "      <th>1.0</th>\n",
       "      <td>64</td>\n",
       "      <td>123</td>\n",
       "      <td>1311</td>\n",
       "      <td>34816</td>\n",
       "      <td>31</td>\n",
       "    </tr>\n",
       "  </tbody>\n",
       "</table>\n",
       "</div>"
      ],
      "text/plain": [
       "user_title  Company  Family    Mr    Mrs  not reported\n",
       "return                                                \n",
       "0.0              40     141  1418  33672            47\n",
       "1.0              64     123  1311  34816            31"
      ]
     },
     "execution_count": 36,
     "metadata": {},
     "output_type": "execute_result"
    }
   ],
   "source": [
    "df_train.groupby(['return','user_title']).size().unstack(fill_value=0) #Chcking 'user_title' categorical variable"
   ]
  },
  {
   "cell_type": "code",
   "execution_count": 37,
   "metadata": {},
   "outputs": [
    {
     "data": {
      "text/plain": [
       "1.0    36345\n",
       "0.0    35318\n",
       "Name: return, dtype: int64"
      ]
     },
     "execution_count": 37,
     "metadata": {},
     "output_type": "execute_result"
    }
   ],
   "source": [
    "df_train['return'].value_counts() # Event rate"
   ]
  },
  {
   "cell_type": "code",
   "execution_count": 38,
   "metadata": {},
   "outputs": [],
   "source": [
    "#Creating dummies for train & test data\n",
    "df_train_state_dummies=pd.get_dummies(df_train['user_state'],drop_first=True)\n",
    "df_test_state_dummies=pd.get_dummies(df_test['user_state'],drop_first=True)"
   ]
  },
  {
   "cell_type": "code",
   "execution_count": 39,
   "metadata": {},
   "outputs": [],
   "source": [
    "df_train_user_dummies=pd.get_dummies(df_train['user_title'],drop_first=True)\n",
    "df_test_user_dummies=pd.get_dummies(df_test['user_title'],drop_first=True)"
   ]
  },
  {
   "cell_type": "markdown",
   "metadata": {},
   "source": [
    "CREATING A CATEGORICAL VARIABLE FROM CONTINUOUS THROUGH BINNING"
   ]
  },
  {
   "cell_type": "code",
   "execution_count": 40,
   "metadata": {},
   "outputs": [],
   "source": [
    "#Creating Customer_Tenure variable & then binning it to form Customer_Category in both train & test data\n",
    "\n",
    "df_train[\"Customer_Tenure\"]=np.trunc((df_train['order_date'] - df_train['user_reg_date'])/np.timedelta64(1,'D'))\n",
    "df_test[\"Customer_Tenure\"]=np.trunc((df_test['order_date'] - df_test['user_reg_date'])/np.timedelta64(1,'D'))"
   ]
  },
  {
   "cell_type": "code",
   "execution_count": 41,
   "metadata": {},
   "outputs": [],
   "source": [
    "df_train[\"Customer_Category\"]=pd.cut(df_train.Customer_Tenure,bins=[-5,30,365,600],labels=['New_Customer','Slightly_Old_Customer','Old_Customer'])"
   ]
  },
  {
   "cell_type": "code",
   "execution_count": 42,
   "metadata": {},
   "outputs": [
    {
     "data": {
      "text/html": [
       "<div>\n",
       "<style scoped>\n",
       "    .dataframe tbody tr th:only-of-type {\n",
       "        vertical-align: middle;\n",
       "    }\n",
       "\n",
       "    .dataframe tbody tr th {\n",
       "        vertical-align: top;\n",
       "    }\n",
       "\n",
       "    .dataframe thead th {\n",
       "        text-align: right;\n",
       "    }\n",
       "</style>\n",
       "<table border=\"1\" class=\"dataframe\">\n",
       "  <thead>\n",
       "    <tr style=\"text-align: right;\">\n",
       "      <th>Customer_Category</th>\n",
       "      <th>New_Customer</th>\n",
       "      <th>Slightly_Old_Customer</th>\n",
       "      <th>Old_Customer</th>\n",
       "    </tr>\n",
       "    <tr>\n",
       "      <th>return</th>\n",
       "      <th></th>\n",
       "      <th></th>\n",
       "      <th></th>\n",
       "    </tr>\n",
       "  </thead>\n",
       "  <tbody>\n",
       "    <tr>\n",
       "      <th>0.0</th>\n",
       "      <td>9058</td>\n",
       "      <td>11687</td>\n",
       "      <td>14573</td>\n",
       "    </tr>\n",
       "    <tr>\n",
       "      <th>1.0</th>\n",
       "      <td>8961</td>\n",
       "      <td>11582</td>\n",
       "      <td>15802</td>\n",
       "    </tr>\n",
       "  </tbody>\n",
       "</table>\n",
       "</div>"
      ],
      "text/plain": [
       "Customer_Category  New_Customer  Slightly_Old_Customer  Old_Customer\n",
       "return                                                              \n",
       "0.0                        9058                  11687         14573\n",
       "1.0                        8961                  11582         15802"
      ]
     },
     "execution_count": 42,
     "metadata": {},
     "output_type": "execute_result"
    }
   ],
   "source": [
    "df_train.groupby(['return','Customer_Category']).size().unstack(fill_value=0)"
   ]
  },
  {
   "cell_type": "code",
   "execution_count": 43,
   "metadata": {},
   "outputs": [],
   "source": [
    "dt=pd.crosstab(index=df_train['return'], columns=df_train['Customer_Category']) #Creating a contingency table"
   ]
  },
  {
   "cell_type": "markdown",
   "metadata": {},
   "source": [
    "CHI-SQUARE TEST FOR 'Customer_Category' VARIABLE"
   ]
  },
  {
   "cell_type": "code",
   "execution_count": 44,
   "metadata": {},
   "outputs": [
    {
     "name": "stdout",
     "output_type": "stream",
     "text": [
      "p value is 1.5139447020139232e-08\n",
      "Dependent (reject H0)\n"
     ]
    }
   ],
   "source": [
    "#Checking null hypothesis is approved or rejected\n",
    "from scipy.stats import chi2_contingency\n",
    "data = dt\n",
    "stat, p, dof, expected = chi2_contingency(data)\n",
    "  \n",
    "# interpret p-value\n",
    "alpha = 0.05\n",
    "print(\"p value is \" + str(p))\n",
    "if p <= alpha:\n",
    "    print('Dependent (reject H0)')\n",
    "else:\n",
    "    print('Independent (H0 holds true)')"
   ]
  },
  {
   "cell_type": "code",
   "execution_count": 45,
   "metadata": {},
   "outputs": [],
   "source": [
    "df_test[\"Customer_Category\"]=pd.cut(df_test.Customer_Tenure,bins=[-5,30,365,600],labels=['New_Customer','Slightly_Old_Customer','Old_Customer'])"
   ]
  },
  {
   "cell_type": "code",
   "execution_count": 46,
   "metadata": {},
   "outputs": [],
   "source": [
    "#Creating dummies for the same variable\n",
    "df_train_cust_dummies=pd.get_dummies(df_train['Customer_Category'],drop_first=True)\n",
    "df_test_cust_dummies=pd.get_dummies(df_test['Customer_Category'],drop_first=True)"
   ]
  },
  {
   "cell_type": "code",
   "execution_count": 47,
   "metadata": {},
   "outputs": [
    {
     "data": {
      "text/plain": [
       "<AxesSubplot:>"
      ]
     },
     "execution_count": 47,
     "metadata": {},
     "output_type": "execute_result"
    },
    {
     "data": {
      "image/png": "[encoded data removed]",
      "text/plain": [
       "<Figure size 432x288 with 2 Axes>"
      ]
     },
     "metadata": {
      "needs_background": "light"
     },
     "output_type": "display_data"
    }
   ],
   "source": [
    "#Checking the correlatin matrix\n",
    "import seaborn as sns\n",
    "sns.heatmap(df_train[['item_id_enc','item_size_enc','item_color_enc','brand_id_enc']].corr(),cmap=\"YlGnBu\", annot=True)"
   ]
  },
  {
   "cell_type": "code",
   "execution_count": 48,
   "metadata": {},
   "outputs": [],
   "source": [
    "#CREATING BACK-UPS\n",
    "\n",
    "df_train_bkp=df_train.copy()\n",
    "df_test_bkp=df_test.copy()"
   ]
  },
  {
   "cell_type": "code",
   "execution_count": 49,
   "metadata": {},
   "outputs": [],
   "source": [
    "df_train=df_train_bkp.copy()\n",
    "df_test=df_test_bkp.copy()"
   ]
  },
  {
   "cell_type": "code",
   "execution_count": 51,
   "metadata": {},
   "outputs": [],
   "source": [
    "#Concatenating continuous & dummies to form the final data sets\n",
    "df_train=pd.concat([df_train[['Delivery_days','item_id_enc','item_size_enc','item_color_enc','brand_id_enc',\n",
    "                             'item_price','User_Age','return']],\n",
    "                              df_train_user_dummies,df_train_state_dummies,df_train_cust_dummies],axis=1)\n",
    "df_test=pd.concat([df_test[['order_item_id','Delivery_days','item_id_enc','item_size_enc','item_color_enc','brand_id_enc',\n",
    "                             'item_price','User_Age','return']],\n",
    "                              df_test_user_dummies,df_test_state_dummies,df_test_cust_dummies],axis=1)"
   ]
  },
  {
   "cell_type": "code",
   "execution_count": 140,
   "metadata": {},
   "outputs": [],
   "source": [
    "# df_train=pd.concat([df_train[['Delivery_days','item_id_enc','item_size_enc','item_color_enc','brand_id_enc',\n",
    "#                              'item_price','User_Age','return']],\n",
    "#                               df_train_user_dummies,df_train_state_dummies,df_train_cust_dummies],axis=1)\n",
    "# df_test=pd.concat([df_test[['Delivery_days','item_id_enc','item_size_enc','item_color_enc','brand_id_enc',\n",
    "#                              'item_price','User_Age','return']],\n",
    "#                               df_test_user_dummies,df_test_state_dummies,df_test_cust_dummies],axis=1)"
   ]
  },
  {
   "cell_type": "code",
   "execution_count": 52,
   "metadata": {},
   "outputs": [
    {
     "data": {
      "text/html": [
       "<div>\n",
       "<style scoped>\n",
       "    .dataframe tbody tr th:only-of-type {\n",
       "        vertical-align: middle;\n",
       "    }\n",
       "\n",
       "    .dataframe tbody tr th {\n",
       "        vertical-align: top;\n",
       "    }\n",
       "\n",
       "    .dataframe thead th {\n",
       "        text-align: right;\n",
       "    }\n",
       "</style>\n",
       "<table border=\"1\" class=\"dataframe\">\n",
       "  <thead>\n",
       "    <tr style=\"text-align: right;\">\n",
       "      <th></th>\n",
       "      <th>Delivery_days</th>\n",
       "      <th>item_id_enc</th>\n",
       "      <th>item_size_enc</th>\n",
       "      <th>item_color_enc</th>\n",
       "      <th>brand_id_enc</th>\n",
       "      <th>item_price</th>\n",
       "      <th>User_Age</th>\n",
       "      <th>return</th>\n",
       "      <th>Family</th>\n",
       "      <th>Mr</th>\n",
       "      <th>...</th>\n",
       "      <th>1009</th>\n",
       "      <th>1010</th>\n",
       "      <th>1011</th>\n",
       "      <th>1012</th>\n",
       "      <th>1013</th>\n",
       "      <th>1014</th>\n",
       "      <th>1015</th>\n",
       "      <th>1016</th>\n",
       "      <th>Slightly_Old_Customer</th>\n",
       "      <th>Old_Customer</th>\n",
       "    </tr>\n",
       "  </thead>\n",
       "  <tbody>\n",
       "    <tr>\n",
       "      <th>0</th>\n",
       "      <td>5.0</td>\n",
       "      <td>0.235294</td>\n",
       "      <td>0.522085</td>\n",
       "      <td>0.368932</td>\n",
       "      <td>0.398649</td>\n",
       "      <td>49.9</td>\n",
       "      <td>47.000000</td>\n",
       "      <td>0.0</td>\n",
       "      <td>0</td>\n",
       "      <td>0</td>\n",
       "      <td>...</td>\n",
       "      <td>0</td>\n",
       "      <td>0</td>\n",
       "      <td>0</td>\n",
       "      <td>0</td>\n",
       "      <td>1</td>\n",
       "      <td>0</td>\n",
       "      <td>0</td>\n",
       "      <td>0</td>\n",
       "      <td>0</td>\n",
       "      <td>0</td>\n",
       "    </tr>\n",
       "    <tr>\n",
       "      <th>1</th>\n",
       "      <td>5.0</td>\n",
       "      <td>0.418182</td>\n",
       "      <td>0.470209</td>\n",
       "      <td>0.531490</td>\n",
       "      <td>0.514104</td>\n",
       "      <td>19.9</td>\n",
       "      <td>46.000000</td>\n",
       "      <td>1.0</td>\n",
       "      <td>0</td>\n",
       "      <td>0</td>\n",
       "      <td>...</td>\n",
       "      <td>0</td>\n",
       "      <td>0</td>\n",
       "      <td>0</td>\n",
       "      <td>0</td>\n",
       "      <td>0</td>\n",
       "      <td>0</td>\n",
       "      <td>0</td>\n",
       "      <td>0</td>\n",
       "      <td>0</td>\n",
       "      <td>1</td>\n",
       "    </tr>\n",
       "    <tr>\n",
       "      <th>2</th>\n",
       "      <td>13.0</td>\n",
       "      <td>0.484848</td>\n",
       "      <td>0.470209</td>\n",
       "      <td>0.531490</td>\n",
       "      <td>0.468740</td>\n",
       "      <td>79.9</td>\n",
       "      <td>46.000000</td>\n",
       "      <td>0.0</td>\n",
       "      <td>0</td>\n",
       "      <td>0</td>\n",
       "      <td>...</td>\n",
       "      <td>0</td>\n",
       "      <td>0</td>\n",
       "      <td>0</td>\n",
       "      <td>0</td>\n",
       "      <td>0</td>\n",
       "      <td>0</td>\n",
       "      <td>0</td>\n",
       "      <td>0</td>\n",
       "      <td>0</td>\n",
       "      <td>1</td>\n",
       "    </tr>\n",
       "    <tr>\n",
       "      <th>3</th>\n",
       "      <td>3.0</td>\n",
       "      <td>0.698885</td>\n",
       "      <td>0.493287</td>\n",
       "      <td>0.536289</td>\n",
       "      <td>0.622444</td>\n",
       "      <td>19.9</td>\n",
       "      <td>56.000000</td>\n",
       "      <td>0.0</td>\n",
       "      <td>0</td>\n",
       "      <td>0</td>\n",
       "      <td>...</td>\n",
       "      <td>0</td>\n",
       "      <td>0</td>\n",
       "      <td>0</td>\n",
       "      <td>0</td>\n",
       "      <td>1</td>\n",
       "      <td>0</td>\n",
       "      <td>0</td>\n",
       "      <td>0</td>\n",
       "      <td>0</td>\n",
       "      <td>1</td>\n",
       "    </tr>\n",
       "    <tr>\n",
       "      <th>4</th>\n",
       "      <td>3.0</td>\n",
       "      <td>0.627451</td>\n",
       "      <td>0.555998</td>\n",
       "      <td>0.514710</td>\n",
       "      <td>0.591647</td>\n",
       "      <td>90.0</td>\n",
       "      <td>51.501745</td>\n",
       "      <td>1.0</td>\n",
       "      <td>0</td>\n",
       "      <td>0</td>\n",
       "      <td>...</td>\n",
       "      <td>0</td>\n",
       "      <td>0</td>\n",
       "      <td>0</td>\n",
       "      <td>0</td>\n",
       "      <td>0</td>\n",
       "      <td>0</td>\n",
       "      <td>0</td>\n",
       "      <td>0</td>\n",
       "      <td>1</td>\n",
       "      <td>0</td>\n",
       "    </tr>\n",
       "  </tbody>\n",
       "</table>\n",
       "<p>5 rows × 29 columns</p>\n",
       "</div>"
      ],
      "text/plain": [
       "   Delivery_days  item_id_enc  item_size_enc  item_color_enc  brand_id_enc  \\\n",
       "0            5.0     0.235294       0.522085        0.368932      0.398649   \n",
       "1            5.0     0.418182       0.470209        0.531490      0.514104   \n",
       "2           13.0     0.484848       0.470209        0.531490      0.468740   \n",
       "3            3.0     0.698885       0.493287        0.536289      0.622444   \n",
       "4            3.0     0.627451       0.555998        0.514710      0.591647   \n",
       "\n",
       "   item_price   User_Age  return  Family  Mr  ...  1009  1010  1011  1012  \\\n",
       "0        49.9  47.000000     0.0       0   0  ...     0     0     0     0   \n",
       "1        19.9  46.000000     1.0       0   0  ...     0     0     0     0   \n",
       "2        79.9  46.000000     0.0       0   0  ...     0     0     0     0   \n",
       "3        19.9  56.000000     0.0       0   0  ...     0     0     0     0   \n",
       "4        90.0  51.501745     1.0       0   0  ...     0     0     0     0   \n",
       "\n",
       "   1013  1014  1015  1016  Slightly_Old_Customer  Old_Customer  \n",
       "0     1     0     0     0                      0             0  \n",
       "1     0     0     0     0                      0             1  \n",
       "2     0     0     0     0                      0             1  \n",
       "3     1     0     0     0                      0             1  \n",
       "4     0     0     0     0                      1             0  \n",
       "\n",
       "[5 rows x 29 columns]"
      ]
     },
     "execution_count": 52,
     "metadata": {},
     "output_type": "execute_result"
    }
   ],
   "source": [
    "df_train.head()"
   ]
  },
  {
   "cell_type": "code",
   "execution_count": 53,
   "metadata": {},
   "outputs": [
    {
     "data": {
      "text/html": [
       "<div>\n",
       "<style scoped>\n",
       "    .dataframe tbody tr th:only-of-type {\n",
       "        vertical-align: middle;\n",
       "    }\n",
       "\n",
       "    .dataframe tbody tr th {\n",
       "        vertical-align: top;\n",
       "    }\n",
       "\n",
       "    .dataframe thead th {\n",
       "        text-align: right;\n",
       "    }\n",
       "</style>\n",
       "<table border=\"1\" class=\"dataframe\">\n",
       "  <thead>\n",
       "    <tr style=\"text-align: right;\">\n",
       "      <th></th>\n",
       "      <th>order_item_id</th>\n",
       "      <th>Delivery_days</th>\n",
       "      <th>item_id_enc</th>\n",
       "      <th>item_size_enc</th>\n",
       "      <th>item_color_enc</th>\n",
       "      <th>brand_id_enc</th>\n",
       "      <th>item_price</th>\n",
       "      <th>User_Age</th>\n",
       "      <th>return</th>\n",
       "      <th>Family</th>\n",
       "      <th>...</th>\n",
       "      <th>1009</th>\n",
       "      <th>1010</th>\n",
       "      <th>1011</th>\n",
       "      <th>1012</th>\n",
       "      <th>1013</th>\n",
       "      <th>1014</th>\n",
       "      <th>1015</th>\n",
       "      <th>1016</th>\n",
       "      <th>Slightly_Old_Customer</th>\n",
       "      <th>Old_Customer</th>\n",
       "    </tr>\n",
       "  </thead>\n",
       "  <tbody>\n",
       "    <tr>\n",
       "      <th>79945</th>\n",
       "      <td>26</td>\n",
       "      <td>3.0</td>\n",
       "      <td>0.333333</td>\n",
       "      <td>0.496260</td>\n",
       "      <td>0.497696</td>\n",
       "      <td>0.489162</td>\n",
       "      <td>69.90</td>\n",
       "      <td>54.0</td>\n",
       "      <td>NaN</td>\n",
       "      <td>0</td>\n",
       "      <td>...</td>\n",
       "      <td>0</td>\n",
       "      <td>1</td>\n",
       "      <td>0</td>\n",
       "      <td>0</td>\n",
       "      <td>0</td>\n",
       "      <td>0</td>\n",
       "      <td>0</td>\n",
       "      <td>0</td>\n",
       "      <td>1</td>\n",
       "      <td>0</td>\n",
       "    </tr>\n",
       "    <tr>\n",
       "      <th>79946</th>\n",
       "      <td>28</td>\n",
       "      <td>9.0</td>\n",
       "      <td>0.469388</td>\n",
       "      <td>0.470209</td>\n",
       "      <td>0.475862</td>\n",
       "      <td>0.458054</td>\n",
       "      <td>19.90</td>\n",
       "      <td>54.0</td>\n",
       "      <td>NaN</td>\n",
       "      <td>0</td>\n",
       "      <td>...</td>\n",
       "      <td>0</td>\n",
       "      <td>1</td>\n",
       "      <td>0</td>\n",
       "      <td>0</td>\n",
       "      <td>0</td>\n",
       "      <td>0</td>\n",
       "      <td>0</td>\n",
       "      <td>0</td>\n",
       "      <td>1</td>\n",
       "      <td>0</td>\n",
       "    </tr>\n",
       "    <tr>\n",
       "      <th>79947</th>\n",
       "      <td>37</td>\n",
       "      <td>3.0</td>\n",
       "      <td>0.584821</td>\n",
       "      <td>0.522085</td>\n",
       "      <td>0.487022</td>\n",
       "      <td>0.548673</td>\n",
       "      <td>39.95</td>\n",
       "      <td>52.0</td>\n",
       "      <td>NaN</td>\n",
       "      <td>0</td>\n",
       "      <td>...</td>\n",
       "      <td>0</td>\n",
       "      <td>0</td>\n",
       "      <td>0</td>\n",
       "      <td>0</td>\n",
       "      <td>0</td>\n",
       "      <td>0</td>\n",
       "      <td>0</td>\n",
       "      <td>0</td>\n",
       "      <td>0</td>\n",
       "      <td>1</td>\n",
       "    </tr>\n",
       "    <tr>\n",
       "      <th>79950</th>\n",
       "      <td>80</td>\n",
       "      <td>3.0</td>\n",
       "      <td>0.323944</td>\n",
       "      <td>0.492143</td>\n",
       "      <td>0.470396</td>\n",
       "      <td>0.397278</td>\n",
       "      <td>24.90</td>\n",
       "      <td>46.0</td>\n",
       "      <td>NaN</td>\n",
       "      <td>0</td>\n",
       "      <td>...</td>\n",
       "      <td>0</td>\n",
       "      <td>0</td>\n",
       "      <td>0</td>\n",
       "      <td>0</td>\n",
       "      <td>0</td>\n",
       "      <td>0</td>\n",
       "      <td>0</td>\n",
       "      <td>0</td>\n",
       "      <td>1</td>\n",
       "      <td>0</td>\n",
       "    </tr>\n",
       "    <tr>\n",
       "      <th>79951</th>\n",
       "      <td>95</td>\n",
       "      <td>3.0</td>\n",
       "      <td>0.323944</td>\n",
       "      <td>0.496260</td>\n",
       "      <td>0.507723</td>\n",
       "      <td>0.397278</td>\n",
       "      <td>34.90</td>\n",
       "      <td>67.0</td>\n",
       "      <td>NaN</td>\n",
       "      <td>0</td>\n",
       "      <td>...</td>\n",
       "      <td>0</td>\n",
       "      <td>0</td>\n",
       "      <td>0</td>\n",
       "      <td>0</td>\n",
       "      <td>0</td>\n",
       "      <td>0</td>\n",
       "      <td>1</td>\n",
       "      <td>0</td>\n",
       "      <td>1</td>\n",
       "      <td>0</td>\n",
       "    </tr>\n",
       "  </tbody>\n",
       "</table>\n",
       "<p>5 rows × 30 columns</p>\n",
       "</div>"
      ],
      "text/plain": [
       "       order_item_id  Delivery_days  item_id_enc  item_size_enc  \\\n",
       "79945             26            3.0     0.333333       0.496260   \n",
       "79946             28            9.0     0.469388       0.470209   \n",
       "79947             37            3.0     0.584821       0.522085   \n",
       "79950             80            3.0     0.323944       0.492143   \n",
       "79951             95            3.0     0.323944       0.496260   \n",
       "\n",
       "       item_color_enc  brand_id_enc  item_price  User_Age  return  Family  \\\n",
       "79945        0.497696      0.489162       69.90      54.0     NaN       0   \n",
       "79946        0.475862      0.458054       19.90      54.0     NaN       0   \n",
       "79947        0.487022      0.548673       39.95      52.0     NaN       0   \n",
       "79950        0.470396      0.397278       24.90      46.0     NaN       0   \n",
       "79951        0.507723      0.397278       34.90      67.0     NaN       0   \n",
       "\n",
       "       ...  1009  1010  1011  1012  1013  1014  1015  1016  \\\n",
       "79945  ...     0     1     0     0     0     0     0     0   \n",
       "79946  ...     0     1     0     0     0     0     0     0   \n",
       "79947  ...     0     0     0     0     0     0     0     0   \n",
       "79950  ...     0     0     0     0     0     0     0     0   \n",
       "79951  ...     0     0     0     0     0     0     1     0   \n",
       "\n",
       "       Slightly_Old_Customer  Old_Customer  \n",
       "79945                      1             0  \n",
       "79946                      1             0  \n",
       "79947                      0             1  \n",
       "79950                      1             0  \n",
       "79951                      1             0  \n",
       "\n",
       "[5 rows x 30 columns]"
      ]
     },
     "execution_count": 53,
     "metadata": {},
     "output_type": "execute_result"
    }
   ],
   "source": [
    "df_test.head()"
   ]
  },
  {
   "cell_type": "markdown",
   "metadata": {},
   "source": [
    "MODELING USING DIFFERENT ALGORITHMS"
   ]
  },
  {
   "cell_type": "code",
   "execution_count": null,
   "metadata": {
    "scrolled": true
   },
   "outputs": [],
   "source": [
    "#Selecting dependent & independent variables\n",
    "df_train_X=df_train.drop('return',axis=1)\n",
    "df_train_Y=df_train['return']"
   ]
  },
  {
   "cell_type": "code",
   "execution_count": 73,
   "metadata": {},
   "outputs": [],
   "source": [
    "from sklearn.model_selection import train_test_split"
   ]
  },
  {
   "cell_type": "code",
   "execution_count": 74,
   "metadata": {},
   "outputs": [],
   "source": [
    "#Train-Validation split\n",
    "X_train,X_val,Y_train,Y_val=train_test_split(df_train_X,df_train_Y,test_size=0.3,random_state=101)"
   ]
  },
  {
   "cell_type": "code",
   "execution_count": 75,
   "metadata": {},
   "outputs": [
    {
     "name": "stdout",
     "output_type": "stream",
     "text": [
      "(50164, 28)\n",
      "(50164,)\n",
      "(21499, 28)\n",
      "(21499,)\n"
     ]
    }
   ],
   "source": [
    "print(X_train.shape)\n",
    "print(Y_train.shape)\n",
    "print(X_val.shape)\n",
    "print(Y_val.shape)"
   ]
  },
  {
   "cell_type": "markdown",
   "metadata": {},
   "source": [
    "DECISION TREE"
   ]
  },
  {
   "cell_type": "code",
   "execution_count": 114,
   "metadata": {},
   "outputs": [],
   "source": [
    "from sklearn.tree import DecisionTreeClassifier\n",
    "from sklearn.model_selection import GridSearchCV"
   ]
  },
  {
   "cell_type": "code",
   "execution_count": 149,
   "metadata": {},
   "outputs": [],
   "source": [
    "dtree=DecisionTreeClassifier()"
   ]
  },
  {
   "cell_type": "code",
   "execution_count": 79,
   "metadata": {},
   "outputs": [],
   "source": [
    "n_folds=5 #folds for Cross-validation"
   ]
  },
  {
   "cell_type": "code",
   "execution_count": 151,
   "metadata": {},
   "outputs": [],
   "source": [
    "#Creating param-grid from selecting best set of hyper-parameters from the param-grid space\n",
    "param_grid={'max_depth': range(5,15,5),\n",
    "           'criterion': ['entropy','gini']}"
   ]
  },
  {
   "cell_type": "code",
   "execution_count": 152,
   "metadata": {},
   "outputs": [],
   "source": [
    "grid_search=GridSearchCV(estimator=dtree,param_grid=param_grid,cv=n_folds,verbose=1)#Using gridsearch CV"
   ]
  },
  {
   "cell_type": "code",
   "execution_count": 153,
   "metadata": {},
   "outputs": [
    {
     "name": "stdout",
     "output_type": "stream",
     "text": [
      "Fitting 5 folds for each of 4 candidates, totalling 20 fits\n"
     ]
    },
    {
     "name": "stderr",
     "output_type": "stream",
     "text": [
      "[Parallel(n_jobs=1)]: Using backend SequentialBackend with 1 concurrent workers.\n",
      "[Parallel(n_jobs=1)]: Done  20 out of  20 | elapsed:    6.7s finished\n"
     ]
    },
    {
     "data": {
      "text/plain": [
       "GridSearchCV(cv=5, estimator=DecisionTreeClassifier(),\n",
       "             param_grid={'criterion': ['entropy', 'gini'],\n",
       "                         'max_depth': range(5, 15, 5)},\n",
       "             verbose=1)"
      ]
     },
     "execution_count": 153,
     "metadata": {},
     "output_type": "execute_result"
    }
   ],
   "source": [
    "grid_search.fit(X_train,Y_train)#fitting the model"
   ]
  },
  {
   "cell_type": "code",
   "execution_count": 156,
   "metadata": {},
   "outputs": [],
   "source": [
    "cv_results=pd.DataFrame(grid_search.cv_results_)"
   ]
  },
  {
   "cell_type": "code",
   "execution_count": 157,
   "metadata": {},
   "outputs": [
    {
     "data": {
      "text/html": [
       "<div>\n",
       "<style scoped>\n",
       "    .dataframe tbody tr th:only-of-type {\n",
       "        vertical-align: middle;\n",
       "    }\n",
       "\n",
       "    .dataframe tbody tr th {\n",
       "        vertical-align: top;\n",
       "    }\n",
       "\n",
       "    .dataframe thead th {\n",
       "        text-align: right;\n",
       "    }\n",
       "</style>\n",
       "<table border=\"1\" class=\"dataframe\">\n",
       "  <thead>\n",
       "    <tr style=\"text-align: right;\">\n",
       "      <th></th>\n",
       "      <th>mean_fit_time</th>\n",
       "      <th>std_fit_time</th>\n",
       "      <th>mean_score_time</th>\n",
       "      <th>std_score_time</th>\n",
       "      <th>param_criterion</th>\n",
       "      <th>param_max_depth</th>\n",
       "      <th>params</th>\n",
       "      <th>split0_test_score</th>\n",
       "      <th>split1_test_score</th>\n",
       "      <th>split2_test_score</th>\n",
       "      <th>split3_test_score</th>\n",
       "      <th>split4_test_score</th>\n",
       "      <th>mean_test_score</th>\n",
       "      <th>std_test_score</th>\n",
       "      <th>rank_test_score</th>\n",
       "    </tr>\n",
       "  </thead>\n",
       "  <tbody>\n",
       "    <tr>\n",
       "      <th>0</th>\n",
       "      <td>0.252280</td>\n",
       "      <td>0.053752</td>\n",
       "      <td>0.016194</td>\n",
       "      <td>0.008100</td>\n",
       "      <td>entropy</td>\n",
       "      <td>5</td>\n",
       "      <td>{'criterion': 'entropy', 'max_depth': 5}</td>\n",
       "      <td>0.637895</td>\n",
       "      <td>0.631815</td>\n",
       "      <td>0.634406</td>\n",
       "      <td>0.628028</td>\n",
       "      <td>0.626894</td>\n",
       "      <td>0.631808</td>\n",
       "      <td>0.004056</td>\n",
       "      <td>1</td>\n",
       "    </tr>\n",
       "    <tr>\n",
       "      <th>1</th>\n",
       "      <td>0.425159</td>\n",
       "      <td>0.039539</td>\n",
       "      <td>0.011295</td>\n",
       "      <td>0.002308</td>\n",
       "      <td>entropy</td>\n",
       "      <td>10</td>\n",
       "      <td>{'criterion': 'entropy', 'max_depth': 10}</td>\n",
       "      <td>0.628227</td>\n",
       "      <td>0.623642</td>\n",
       "      <td>0.623144</td>\n",
       "      <td>0.619854</td>\n",
       "      <td>0.618720</td>\n",
       "      <td>0.622717</td>\n",
       "      <td>0.003334</td>\n",
       "      <td>3</td>\n",
       "    </tr>\n",
       "    <tr>\n",
       "      <th>2</th>\n",
       "      <td>0.224857</td>\n",
       "      <td>0.016101</td>\n",
       "      <td>0.013806</td>\n",
       "      <td>0.003363</td>\n",
       "      <td>gini</td>\n",
       "      <td>5</td>\n",
       "      <td>{'criterion': 'gini', 'max_depth': 5}</td>\n",
       "      <td>0.637197</td>\n",
       "      <td>0.631217</td>\n",
       "      <td>0.634406</td>\n",
       "      <td>0.628028</td>\n",
       "      <td>0.627093</td>\n",
       "      <td>0.631588</td>\n",
       "      <td>0.003806</td>\n",
       "      <td>2</td>\n",
       "    </tr>\n",
       "    <tr>\n",
       "      <th>3</th>\n",
       "      <td>0.396868</td>\n",
       "      <td>0.024477</td>\n",
       "      <td>0.012980</td>\n",
       "      <td>0.000880</td>\n",
       "      <td>gini</td>\n",
       "      <td>10</td>\n",
       "      <td>{'criterion': 'gini', 'max_depth': 10}</td>\n",
       "      <td>0.621449</td>\n",
       "      <td>0.619755</td>\n",
       "      <td>0.622845</td>\n",
       "      <td>0.616864</td>\n",
       "      <td>0.610247</td>\n",
       "      <td>0.618232</td>\n",
       "      <td>0.004463</td>\n",
       "      <td>4</td>\n",
       "    </tr>\n",
       "  </tbody>\n",
       "</table>\n",
       "</div>"
      ],
      "text/plain": [
       "   mean_fit_time  std_fit_time  mean_score_time  std_score_time  \\\n",
       "0       0.252280      0.053752         0.016194        0.008100   \n",
       "1       0.425159      0.039539         0.011295        0.002308   \n",
       "2       0.224857      0.016101         0.013806        0.003363   \n",
       "3       0.396868      0.024477         0.012980        0.000880   \n",
       "\n",
       "  param_criterion param_max_depth                                     params  \\\n",
       "0         entropy               5   {'criterion': 'entropy', 'max_depth': 5}   \n",
       "1         entropy              10  {'criterion': 'entropy', 'max_depth': 10}   \n",
       "2            gini               5      {'criterion': 'gini', 'max_depth': 5}   \n",
       "3            gini              10     {'criterion': 'gini', 'max_depth': 10}   \n",
       "\n",
       "   split0_test_score  split1_test_score  split2_test_score  split3_test_score  \\\n",
       "0           0.637895           0.631815           0.634406           0.628028   \n",
       "1           0.628227           0.623642           0.623144           0.619854   \n",
       "2           0.637197           0.631217           0.634406           0.628028   \n",
       "3           0.621449           0.619755           0.622845           0.616864   \n",
       "\n",
       "   split4_test_score  mean_test_score  std_test_score  rank_test_score  \n",
       "0           0.626894         0.631808        0.004056                1  \n",
       "1           0.618720         0.622717        0.003334                3  \n",
       "2           0.627093         0.631588        0.003806                2  \n",
       "3           0.610247         0.618232        0.004463                4  "
      ]
     },
     "execution_count": 157,
     "metadata": {},
     "output_type": "execute_result"
    }
   ],
   "source": [
    "cv_results #showing all possible results"
   ]
  },
  {
   "cell_type": "code",
   "execution_count": 166,
   "metadata": {},
   "outputs": [],
   "source": [
    "#Selecting best heper-parameters\n",
    "best_param_max_depth=grid_search.best_params_.get(\"max_depth\")\n",
    "best_param_criterion=grid_search.best_params_.get(\"criterion\")"
   ]
  },
  {
   "cell_type": "code",
   "execution_count": null,
   "metadata": {},
   "outputs": [],
   "source": [
    "#criterion: entropy\n",
    "#max_depth: 5"
   ]
  },
  {
   "cell_type": "code",
   "execution_count": 170,
   "metadata": {},
   "outputs": [
    {
     "data": {
      "text/plain": [
       "DecisionTreeClassifier(criterion='entropy', max_depth=5)"
      ]
     },
     "execution_count": 170,
     "metadata": {},
     "output_type": "execute_result"
    }
   ],
   "source": [
    "#fitting the model with the optimal parameters\n",
    "dtree_best=DecisionTreeClassifier(max_depth=best_param_max_depth,criterion=best_param_criterion)\n",
    "dtree_best.fit(X_train,Y_train)"
   ]
  },
  {
   "cell_type": "code",
   "execution_count": null,
   "metadata": {},
   "outputs": [],
   "source": [
    "Y_pred=dtree_best.predict_proba()#predicting"
   ]
  },
  {
   "cell_type": "code",
   "execution_count": 61,
   "metadata": {},
   "outputs": [],
   "source": [
    "from sklearn.metrics import roc_auc_score"
   ]
  },
  {
   "cell_type": "code",
   "execution_count": 173,
   "metadata": {},
   "outputs": [
    {
     "data": {
      "text/plain": [
       "0.6702318213796128"
      ]
     },
     "execution_count": 173,
     "metadata": {},
     "output_type": "execute_result"
    }
   ],
   "source": [
    "#Computing Validation-AUC score\n",
    "Y_pred=dtree_best.predict_proba(X_val)[:,1]\n",
    "roc_auc_score(Y_val,Y_pred)"
   ]
  },
  {
   "cell_type": "markdown",
   "metadata": {},
   "source": [
    "RANDOM FOREST"
   ]
  },
  {
   "cell_type": "code",
   "execution_count": null,
   "metadata": {
    "scrolled": true
   },
   "outputs": [],
   "source": [
    "from sklearn.ensemble import RandomForestClassifier #Import RF library"
   ]
  },
  {
   "cell_type": "code",
   "execution_count": 176,
   "metadata": {},
   "outputs": [],
   "source": [
    "rf=RandomForestClassifier()"
   ]
  },
  {
   "cell_type": "code",
   "execution_count": 182,
   "metadata": {},
   "outputs": [],
   "source": [
    "#Providing hyper-parameter space through param-grid\n",
    "param_grid={\"max_depth\": range(5,15,5),\n",
    "            \"n_estimators\": [100,200,300,400,500],\n",
    "            \"max_features\": [5,10,15,20,25],\n",
    "            \"criterion\": [\"entropy\",\"gini\"]}"
   ]
  },
  {
   "cell_type": "code",
   "execution_count": 183,
   "metadata": {},
   "outputs": [],
   "source": [
    "grid_search_rf= GridSearchCV(estimator=rf,param_grid=param_grid,cv=n_folds,verbose=1,scoring=\"roc_auc\")"
   ]
  },
  {
   "cell_type": "code",
   "execution_count": 184,
   "metadata": {},
   "outputs": [
    {
     "name": "stdout",
     "output_type": "stream",
     "text": [
      "Fitting 5 folds for each of 100 candidates, totalling 500 fits\n"
     ]
    },
    {
     "name": "stderr",
     "output_type": "stream",
     "text": [
      "[Parallel(n_jobs=1)]: Using backend SequentialBackend with 1 concurrent workers.\n",
      "[Parallel(n_jobs=1)]: Done 500 out of 500 | elapsed: 254.2min finished\n"
     ]
    },
    {
     "data": {
      "text/plain": [
       "GridSearchCV(cv=5, estimator=RandomForestClassifier(),\n",
       "             param_grid={'criterion': ['entropy', 'gini'],\n",
       "                         'max_depth': range(5, 15, 5),\n",
       "                         'max_features': [5, 10, 15, 20, 25],\n",
       "                         'n_estimators': [100, 200, 300, 400, 500]},\n",
       "             scoring='roc_auc', verbose=1)"
      ]
     },
     "execution_count": 184,
     "metadata": {},
     "output_type": "execute_result"
    }
   ],
   "source": [
    "grid_search_rf.fit(X_train,Y_train)#fitting the model through grid-search"
   ]
  },
  {
   "cell_type": "code",
   "execution_count": 185,
   "metadata": {},
   "outputs": [
    {
     "data": {
      "text/html": [
       "<div>\n",
       "<style scoped>\n",
       "    .dataframe tbody tr th:only-of-type {\n",
       "        vertical-align: middle;\n",
       "    }\n",
       "\n",
       "    .dataframe tbody tr th {\n",
       "        vertical-align: top;\n",
       "    }\n",
       "\n",
       "    .dataframe thead th {\n",
       "        text-align: right;\n",
       "    }\n",
       "</style>\n",
       "<table border=\"1\" class=\"dataframe\">\n",
       "  <thead>\n",
       "    <tr style=\"text-align: right;\">\n",
       "      <th></th>\n",
       "      <th>mean_fit_time</th>\n",
       "      <th>std_fit_time</th>\n",
       "      <th>mean_score_time</th>\n",
       "      <th>std_score_time</th>\n",
       "      <th>param_criterion</th>\n",
       "      <th>param_max_depth</th>\n",
       "      <th>param_max_features</th>\n",
       "      <th>param_n_estimators</th>\n",
       "      <th>params</th>\n",
       "      <th>split0_test_score</th>\n",
       "      <th>split1_test_score</th>\n",
       "      <th>split2_test_score</th>\n",
       "      <th>split3_test_score</th>\n",
       "      <th>split4_test_score</th>\n",
       "      <th>mean_test_score</th>\n",
       "      <th>std_test_score</th>\n",
       "      <th>rank_test_score</th>\n",
       "    </tr>\n",
       "  </thead>\n",
       "  <tbody>\n",
       "    <tr>\n",
       "      <th>0</th>\n",
       "      <td>3.292910</td>\n",
       "      <td>0.131676</td>\n",
       "      <td>0.167140</td>\n",
       "      <td>0.005537</td>\n",
       "      <td>entropy</td>\n",
       "      <td>5</td>\n",
       "      <td>5</td>\n",
       "      <td>100</td>\n",
       "      <td>{'criterion': 'entropy', 'max_depth': 5, 'max_...</td>\n",
       "      <td>0.682658</td>\n",
       "      <td>0.678793</td>\n",
       "      <td>0.685636</td>\n",
       "      <td>0.669396</td>\n",
       "      <td>0.668317</td>\n",
       "      <td>0.676960</td>\n",
       "      <td>0.006972</td>\n",
       "      <td>95</td>\n",
       "    </tr>\n",
       "    <tr>\n",
       "      <th>1</th>\n",
       "      <td>6.461277</td>\n",
       "      <td>0.190989</td>\n",
       "      <td>0.333885</td>\n",
       "      <td>0.046683</td>\n",
       "      <td>entropy</td>\n",
       "      <td>5</td>\n",
       "      <td>5</td>\n",
       "      <td>200</td>\n",
       "      <td>{'criterion': 'entropy', 'max_depth': 5, 'max_...</td>\n",
       "      <td>0.683850</td>\n",
       "      <td>0.678582</td>\n",
       "      <td>0.684992</td>\n",
       "      <td>0.670488</td>\n",
       "      <td>0.668342</td>\n",
       "      <td>0.677251</td>\n",
       "      <td>0.006787</td>\n",
       "      <td>92</td>\n",
       "    </tr>\n",
       "    <tr>\n",
       "      <th>2</th>\n",
       "      <td>9.413540</td>\n",
       "      <td>0.057628</td>\n",
       "      <td>0.456435</td>\n",
       "      <td>0.008330</td>\n",
       "      <td>entropy</td>\n",
       "      <td>5</td>\n",
       "      <td>5</td>\n",
       "      <td>300</td>\n",
       "      <td>{'criterion': 'entropy', 'max_depth': 5, 'max_...</td>\n",
       "      <td>0.684206</td>\n",
       "      <td>0.676993</td>\n",
       "      <td>0.684358</td>\n",
       "      <td>0.669943</td>\n",
       "      <td>0.668062</td>\n",
       "      <td>0.676713</td>\n",
       "      <td>0.006861</td>\n",
       "      <td>97</td>\n",
       "    </tr>\n",
       "    <tr>\n",
       "      <th>3</th>\n",
       "      <td>12.246904</td>\n",
       "      <td>0.053706</td>\n",
       "      <td>0.592449</td>\n",
       "      <td>0.008673</td>\n",
       "      <td>entropy</td>\n",
       "      <td>5</td>\n",
       "      <td>5</td>\n",
       "      <td>400</td>\n",
       "      <td>{'criterion': 'entropy', 'max_depth': 5, 'max_...</td>\n",
       "      <td>0.683198</td>\n",
       "      <td>0.677849</td>\n",
       "      <td>0.684293</td>\n",
       "      <td>0.670003</td>\n",
       "      <td>0.667800</td>\n",
       "      <td>0.676629</td>\n",
       "      <td>0.006712</td>\n",
       "      <td>98</td>\n",
       "    </tr>\n",
       "    <tr>\n",
       "      <th>4</th>\n",
       "      <td>15.602071</td>\n",
       "      <td>0.089389</td>\n",
       "      <td>0.746025</td>\n",
       "      <td>0.013125</td>\n",
       "      <td>entropy</td>\n",
       "      <td>5</td>\n",
       "      <td>5</td>\n",
       "      <td>500</td>\n",
       "      <td>{'criterion': 'entropy', 'max_depth': 5, 'max_...</td>\n",
       "      <td>0.684296</td>\n",
       "      <td>0.677707</td>\n",
       "      <td>0.684919</td>\n",
       "      <td>0.670779</td>\n",
       "      <td>0.667595</td>\n",
       "      <td>0.677059</td>\n",
       "      <td>0.006980</td>\n",
       "      <td>94</td>\n",
       "    </tr>\n",
       "    <tr>\n",
       "      <th>...</th>\n",
       "      <td>...</td>\n",
       "      <td>...</td>\n",
       "      <td>...</td>\n",
       "      <td>...</td>\n",
       "      <td>...</td>\n",
       "      <td>...</td>\n",
       "      <td>...</td>\n",
       "      <td>...</td>\n",
       "      <td>...</td>\n",
       "      <td>...</td>\n",
       "      <td>...</td>\n",
       "      <td>...</td>\n",
       "      <td>...</td>\n",
       "      <td>...</td>\n",
       "      <td>...</td>\n",
       "      <td>...</td>\n",
       "      <td>...</td>\n",
       "    </tr>\n",
       "    <tr>\n",
       "      <th>95</th>\n",
       "      <td>16.694290</td>\n",
       "      <td>0.041676</td>\n",
       "      <td>0.241922</td>\n",
       "      <td>0.001701</td>\n",
       "      <td>gini</td>\n",
       "      <td>10</td>\n",
       "      <td>25</td>\n",
       "      <td>100</td>\n",
       "      <td>{'criterion': 'gini', 'max_depth': 10, 'max_fe...</td>\n",
       "      <td>0.690035</td>\n",
       "      <td>0.685304</td>\n",
       "      <td>0.691104</td>\n",
       "      <td>0.676819</td>\n",
       "      <td>0.677910</td>\n",
       "      <td>0.684234</td>\n",
       "      <td>0.005949</td>\n",
       "      <td>70</td>\n",
       "    </tr>\n",
       "    <tr>\n",
       "      <th>96</th>\n",
       "      <td>35.132709</td>\n",
       "      <td>3.023341</td>\n",
       "      <td>0.493758</td>\n",
       "      <td>0.039465</td>\n",
       "      <td>gini</td>\n",
       "      <td>10</td>\n",
       "      <td>25</td>\n",
       "      <td>200</td>\n",
       "      <td>{'criterion': 'gini', 'max_depth': 10, 'max_fe...</td>\n",
       "      <td>0.691189</td>\n",
       "      <td>0.685466</td>\n",
       "      <td>0.690685</td>\n",
       "      <td>0.677731</td>\n",
       "      <td>0.678157</td>\n",
       "      <td>0.684645</td>\n",
       "      <td>0.005829</td>\n",
       "      <td>50</td>\n",
       "    </tr>\n",
       "    <tr>\n",
       "      <th>97</th>\n",
       "      <td>51.212970</td>\n",
       "      <td>1.580567</td>\n",
       "      <td>0.722784</td>\n",
       "      <td>0.041189</td>\n",
       "      <td>gini</td>\n",
       "      <td>10</td>\n",
       "      <td>25</td>\n",
       "      <td>300</td>\n",
       "      <td>{'criterion': 'gini', 'max_depth': 10, 'max_fe...</td>\n",
       "      <td>0.690774</td>\n",
       "      <td>0.685658</td>\n",
       "      <td>0.690926</td>\n",
       "      <td>0.677244</td>\n",
       "      <td>0.677777</td>\n",
       "      <td>0.684476</td>\n",
       "      <td>0.005997</td>\n",
       "      <td>57</td>\n",
       "    </tr>\n",
       "    <tr>\n",
       "      <th>98</th>\n",
       "      <td>41.686685</td>\n",
       "      <td>13.612231</td>\n",
       "      <td>0.542948</td>\n",
       "      <td>0.194347</td>\n",
       "      <td>gini</td>\n",
       "      <td>10</td>\n",
       "      <td>25</td>\n",
       "      <td>400</td>\n",
       "      <td>{'criterion': 'gini', 'max_depth': 10, 'max_fe...</td>\n",
       "      <td>0.691471</td>\n",
       "      <td>0.685874</td>\n",
       "      <td>0.690766</td>\n",
       "      <td>0.677544</td>\n",
       "      <td>0.677905</td>\n",
       "      <td>0.684712</td>\n",
       "      <td>0.006023</td>\n",
       "      <td>44</td>\n",
       "    </tr>\n",
       "    <tr>\n",
       "      <th>99</th>\n",
       "      <td>45.945740</td>\n",
       "      <td>0.737254</td>\n",
       "      <td>0.605086</td>\n",
       "      <td>0.010985</td>\n",
       "      <td>gini</td>\n",
       "      <td>10</td>\n",
       "      <td>25</td>\n",
       "      <td>500</td>\n",
       "      <td>{'criterion': 'gini', 'max_depth': 10, 'max_fe...</td>\n",
       "      <td>0.690752</td>\n",
       "      <td>0.685616</td>\n",
       "      <td>0.690441</td>\n",
       "      <td>0.677701</td>\n",
       "      <td>0.677844</td>\n",
       "      <td>0.684471</td>\n",
       "      <td>0.005765</td>\n",
       "      <td>58</td>\n",
       "    </tr>\n",
       "  </tbody>\n",
       "</table>\n",
       "<p>100 rows × 17 columns</p>\n",
       "</div>"
      ],
      "text/plain": [
       "    mean_fit_time  std_fit_time  mean_score_time  std_score_time  \\\n",
       "0        3.292910      0.131676         0.167140        0.005537   \n",
       "1        6.461277      0.190989         0.333885        0.046683   \n",
       "2        9.413540      0.057628         0.456435        0.008330   \n",
       "3       12.246904      0.053706         0.592449        0.008673   \n",
       "4       15.602071      0.089389         0.746025        0.013125   \n",
       "..            ...           ...              ...             ...   \n",
       "95      16.694290      0.041676         0.241922        0.001701   \n",
       "96      35.132709      3.023341         0.493758        0.039465   \n",
       "97      51.212970      1.580567         0.722784        0.041189   \n",
       "98      41.686685     13.612231         0.542948        0.194347   \n",
       "99      45.945740      0.737254         0.605086        0.010985   \n",
       "\n",
       "   param_criterion param_max_depth param_max_features param_n_estimators  \\\n",
       "0          entropy               5                  5                100   \n",
       "1          entropy               5                  5                200   \n",
       "2          entropy               5                  5                300   \n",
       "3          entropy               5                  5                400   \n",
       "4          entropy               5                  5                500   \n",
       "..             ...             ...                ...                ...   \n",
       "95            gini              10                 25                100   \n",
       "96            gini              10                 25                200   \n",
       "97            gini              10                 25                300   \n",
       "98            gini              10                 25                400   \n",
       "99            gini              10                 25                500   \n",
       "\n",
       "                                               params  split0_test_score  \\\n",
       "0   {'criterion': 'entropy', 'max_depth': 5, 'max_...           0.682658   \n",
       "1   {'criterion': 'entropy', 'max_depth': 5, 'max_...           0.683850   \n",
       "2   {'criterion': 'entropy', 'max_depth': 5, 'max_...           0.684206   \n",
       "3   {'criterion': 'entropy', 'max_depth': 5, 'max_...           0.683198   \n",
       "4   {'criterion': 'entropy', 'max_depth': 5, 'max_...           0.684296   \n",
       "..                                                ...                ...   \n",
       "95  {'criterion': 'gini', 'max_depth': 10, 'max_fe...           0.690035   \n",
       "96  {'criterion': 'gini', 'max_depth': 10, 'max_fe...           0.691189   \n",
       "97  {'criterion': 'gini', 'max_depth': 10, 'max_fe...           0.690774   \n",
       "98  {'criterion': 'gini', 'max_depth': 10, 'max_fe...           0.691471   \n",
       "99  {'criterion': 'gini', 'max_depth': 10, 'max_fe...           0.690752   \n",
       "\n",
       "    split1_test_score  split2_test_score  split3_test_score  \\\n",
       "0            0.678793           0.685636           0.669396   \n",
       "1            0.678582           0.684992           0.670488   \n",
       "2            0.676993           0.684358           0.669943   \n",
       "3            0.677849           0.684293           0.670003   \n",
       "4            0.677707           0.684919           0.670779   \n",
       "..                ...                ...                ...   \n",
       "95           0.685304           0.691104           0.676819   \n",
       "96           0.685466           0.690685           0.677731   \n",
       "97           0.685658           0.690926           0.677244   \n",
       "98           0.685874           0.690766           0.677544   \n",
       "99           0.685616           0.690441           0.677701   \n",
       "\n",
       "    split4_test_score  mean_test_score  std_test_score  rank_test_score  \n",
       "0            0.668317         0.676960        0.006972               95  \n",
       "1            0.668342         0.677251        0.006787               92  \n",
       "2            0.668062         0.676713        0.006861               97  \n",
       "3            0.667800         0.676629        0.006712               98  \n",
       "4            0.667595         0.677059        0.006980               94  \n",
       "..                ...              ...             ...              ...  \n",
       "95           0.677910         0.684234        0.005949               70  \n",
       "96           0.678157         0.684645        0.005829               50  \n",
       "97           0.677777         0.684476        0.005997               57  \n",
       "98           0.677905         0.684712        0.006023               44  \n",
       "99           0.677844         0.684471        0.005765               58  \n",
       "\n",
       "[100 rows x 17 columns]"
      ]
     },
     "execution_count": 185,
     "metadata": {},
     "output_type": "execute_result"
    }
   ],
   "source": [
    "cv_results_rf=pd.DataFrame(grid_search_rf.cv_results_)\n",
    "cv_results_rf"
   ]
  },
  {
   "cell_type": "code",
   "execution_count": 191,
   "metadata": {},
   "outputs": [],
   "source": [
    "#Selecting optimal parametrs\n",
    "best_param_max_depth_rf=grid_search_rf.best_params_.get(\"max_depth\")\n",
    "best_param_n_estimators_rf=grid_search_rf.best_params_.get(\"n_estimators\")\n",
    "best_param_max_features_rf=grid_search_rf.best_params_.get(\"max_features\")\n",
    "best_param_criterion_rf=grid_search_rf.best_params_.get(\"criterion\")"
   ]
  },
  {
   "cell_type": "code",
   "execution_count": 195,
   "metadata": {},
   "outputs": [
    {
     "data": {
      "text/plain": [
       "400"
      ]
     },
     "execution_count": 195,
     "metadata": {},
     "output_type": "execute_result"
    }
   ],
   "source": [
    "best_param_n_estimators_rf"
   ]
  },
  {
   "cell_type": "code",
   "execution_count": null,
   "metadata": {},
   "outputs": [],
   "source": [
    "#max_depth: 10\n",
    "#n_estmators: 400\n",
    "#max_featues: 10\n",
    "#criterion: entropy"
   ]
  },
  {
   "cell_type": "code",
   "execution_count": 196,
   "metadata": {},
   "outputs": [
    {
     "data": {
      "text/plain": [
       "RandomForestClassifier(criterion='entropy', max_depth=10, max_features=10,\n",
       "                       n_estimators=400)"
      ]
     },
     "execution_count": 196,
     "metadata": {},
     "output_type": "execute_result"
    }
   ],
   "source": [
    "#Fitting the model with optimal parameters\n",
    "rf_best=RandomForestClassifier(max_depth=best_param_max_depth_rf,n_estimators=best_param_n_estimators_rf,\n",
    "                              max_features=best_param_max_features_rf,criterion=best_param_criterion_rf)\n",
    "rf_best.fit(X_train,Y_train)"
   ]
  },
  {
   "cell_type": "code",
   "execution_count": 197,
   "metadata": {},
   "outputs": [
    {
     "data": {
      "text/plain": [
       "0.6764268511677428"
      ]
     },
     "execution_count": 197,
     "metadata": {},
     "output_type": "execute_result"
    }
   ],
   "source": [
    "#Computing Validation-AUC score\n",
    "Y_pred_rf=rf_best.predict_proba(X_val)[:,1]\n",
    "roc_auc_score(Y_val,Y_pred_rf)"
   ]
  },
  {
   "cell_type": "markdown",
   "metadata": {},
   "source": [
    "LOGISTIC REGRESSION"
   ]
  },
  {
   "cell_type": "code",
   "execution_count": 76,
   "metadata": {},
   "outputs": [],
   "source": [
    "from sklearn.linear_model import LogisticRegression"
   ]
  },
  {
   "cell_type": "code",
   "execution_count": 77,
   "metadata": {},
   "outputs": [],
   "source": [
    "lr=LogisticRegression()"
   ]
  },
  {
   "cell_type": "code",
   "execution_count": 80,
   "metadata": {},
   "outputs": [],
   "source": [
    "from sklearn.model_selection import cross_val_score\n",
    "scores = cross_val_score(lr, X_train, Y_train, scoring='roc_auc', cv=n_folds, n_jobs=-1)"
   ]
  },
  {
   "cell_type": "code",
   "execution_count": 81,
   "metadata": {},
   "outputs": [
    {
     "data": {
      "text/plain": [
       "array([0.68966435, 0.68795443, 0.68968873, 0.67733043, 0.67703639])"
      ]
     },
     "execution_count": 81,
     "metadata": {},
     "output_type": "execute_result"
    }
   ],
   "source": [
    "scores"
   ]
  },
  {
   "cell_type": "code",
   "execution_count": 82,
   "metadata": {},
   "outputs": [
    {
     "data": {
      "text/plain": [
       "0.6843348654723348"
      ]
     },
     "execution_count": 82,
     "metadata": {},
     "output_type": "execute_result"
    }
   ],
   "source": [
    "sum(scores)/len(scores)"
   ]
  },
  {
   "cell_type": "code",
   "execution_count": 92,
   "metadata": {},
   "outputs": [
    {
     "data": {
      "text/plain": [
       "LogisticRegression()"
      ]
     },
     "execution_count": 92,
     "metadata": {},
     "output_type": "execute_result"
    }
   ],
   "source": [
    "lr.fit(X_train, Y_train) #Fitting the model"
   ]
  },
  {
   "cell_type": "code",
   "execution_count": 103,
   "metadata": {},
   "outputs": [],
   "source": [
    "Y_pred_lr=lr.predict_proba(X_val)[:,1] #predicting on validation data"
   ]
  },
  {
   "cell_type": "code",
   "execution_count": 105,
   "metadata": {},
   "outputs": [
    {
     "data": {
      "text/plain": [
       "0.6737276606340082"
      ]
     },
     "execution_count": 105,
     "metadata": {},
     "output_type": "execute_result"
    }
   ],
   "source": [
    "#Computing Validation-AUC score\n",
    "roc_auc_score(Y_val,Y_pred_lr)"
   ]
  },
  {
   "cell_type": "markdown",
   "metadata": {},
   "source": [
    "XG-BOOST"
   ]
  },
  {
   "cell_type": "code",
   "execution_count": 58,
   "metadata": {},
   "outputs": [],
   "source": [
    "#Importing libraries for XG-Boost\n",
    "import xgboost as xgb\n",
    "from xgboost.sklearn import XGBClassifier"
   ]
  },
  {
   "cell_type": "code",
   "execution_count": 59,
   "metadata": {},
   "outputs": [],
   "source": [
    "import matplotlib.pylab as plt\n",
    "%matplotlib inline\n",
    "from matplotlib.pylab import rcParams\n",
    "rcParams['figure.figsize'] = 12, 4"
   ]
  },
  {
   "cell_type": "code",
   "execution_count": 54,
   "metadata": {},
   "outputs": [],
   "source": [
    "target = 'return'\n",
    "#IDcol = 'item_id'"
   ]
  },
  {
   "cell_type": "code",
   "execution_count": 60,
   "metadata": {},
   "outputs": [],
   "source": [
    "from sklearn import metrics"
   ]
  },
  {
   "cell_type": "code",
   "execution_count": 55,
   "metadata": {},
   "outputs": [],
   "source": [
    "#Creating separate splits of train & validation data\n",
    "msk = np.random.rand(len(df_train)) < 0.8\n",
    "train = df_train[msk]\n",
    "val  = df_train[~msk]"
   ]
  },
  {
   "cell_type": "code",
   "execution_count": 67,
   "metadata": {},
   "outputs": [],
   "source": [
    "#Defining a function for XG-Boost fitting using cross-validation & stopping_rounds; \n",
    "#also returning train-validation Accuracy-AUC scores \n",
    "def modelfit(alg, dtrain, predictors,useTrainCV=True, cv_folds=5, early_stopping_rounds=100):\n",
    "    \n",
    "    if useTrainCV:\n",
    "        xgb_param = alg.get_xgb_params()\n",
    "        xgtrain = xgb.DMatrix(dtrain[predictors].values, label=dtrain[target].values)\n",
    "        cvresult = xgb.cv(xgb_param, xgtrain, num_boost_round=alg.get_params()['n_estimators'], nfold=cv_folds,\n",
    "            metrics='auc', early_stopping_rounds=early_stopping_rounds)\n",
    "        alg.set_params(n_estimators=cvresult.shape[0])\n",
    "    \n",
    "    #Fit the algorithm on the data\n",
    "    alg.fit(dtrain[predictors], dtrain['return'],eval_metric='auc')\n",
    "        \n",
    "    #Predict training set:\n",
    "    dtrain_predictions = alg.predict(dtrain[predictors])\n",
    "    dtrain_predprob = alg.predict_proba(dtrain[predictors])[:,1]\n",
    "\n",
    "        \n",
    "    #Print model report:\n",
    "    print (\"\\nModel Report\")\n",
    "    print (\"Accuracy_train : %.4g\" % metrics.accuracy_score(dtrain['return'].values, dtrain_predictions))\n",
    "    print (\"AUC Score (Train): %f\" % metrics.roc_auc_score(dtrain['return'], dtrain_predprob))\n",
    "    dval_predictions = alg.predict(val[predictors])\n",
    "    dval_predprob = alg.predict_proba(val[predictors])[:,1]\n",
    "    print (\"Accuracy_val : %.4g\" % metrics.accuracy_score(val['return'].values, dval_predictions))\n",
    "    print (\"AUC Score (val): %f\" % metrics.roc_auc_score(val['return'], dval_predprob))\n",
    "    print(alg.set_params(n_estimators=cvresult.shape[0]))\n",
    "    \n",
    "                    \n",
    "    feat_imp = pd.Series(alg.get_booster().get_fscore()).sort_values(ascending=False)\n",
    "    feat_imp.plot(kind='bar', title='Feature Importances')\n",
    "    plt.ylabel('Feature Importance Score')\n"
   ]
  },
  {
   "cell_type": "code",
   "execution_count": 68,
   "metadata": {},
   "outputs": [
    {
     "name": "stdout",
     "output_type": "stream",
     "text": [
      "\n",
      "Model Report\n",
      "Accuracy_train : 0.6971\n",
      "AUC Score (Train): 0.778982\n",
      "Accuracy_val : 0.6291\n",
      "AUC Score (val): 0.678239\n",
      "XGBClassifier(base_score=0.5, booster='gbtree', colsample_bylevel=1,\n",
      "              colsample_bynode=1, colsample_bytree=0.8, gamma=0, gpu_id=-1,\n",
      "              importance_type='gain', interaction_constraints='',\n",
      "              learning_rate=0.1, max_delta_step=0, max_depth=10,\n",
      "              min_child_weight=1, missing=nan, monotone_constraints='()',\n",
      "              n_estimators=32, n_jobs=8, nthread=-1, num_parallel_tree=1,\n",
      "              random_state=27, reg_alpha=0, reg_lambda=1, scale_pos_weight=1,\n",
      "              seed=27, subsample=0.8, tree_method='exact',\n",
      "              validate_parameters=1, verbosity=None)\n"
     ]
    },
    {
     "data": {
      "image/png": "[encoded data removed]",
      "text/plain": [
       "<Figure size 864x288 with 1 Axes>"
      ]
     },
     "metadata": {
      "needs_background": "light"
     },
     "output_type": "display_data"
    }
   ],
   "source": [
    "#passing parameters to XGB (1st step: identifying the number of trees/n_estimators with a high learning rate)\n",
    "predictors = [x for x in train.columns if x not in [target]]#Set of independent variables\n",
    "xgb1 = XGBClassifier(\n",
    " learning_rate =0.1,\n",
    " n_estimators=500,\n",
    " max_depth=10,\n",
    " min_child_weight=1,\n",
    " gamma=0,\n",
    " subsample=0.8,\n",
    " colsample_bytree=0.8,\n",
    "#  objective= 'binary:logistic',\n",
    " nthread=-1,\n",
    " scale_pos_weight=1,\n",
    " seed=27)\n",
    "modelfit(xgb1, train, predictors)"
   ]
  },
  {
   "cell_type": "code",
   "execution_count": 249,
   "metadata": {},
   "outputs": [],
   "source": [
    "#n_estimators=32"
   ]
  },
  {
   "cell_type": "code",
   "execution_count": 115,
   "metadata": {},
   "outputs": [
    {
     "name": "stdout",
     "output_type": "stream",
     "text": [
      "[02:35:02] WARNING: C:/Users/Administrator/workspace/xgboost-win64_release_1.4.0/src/learner.cc:1095: Starting in XGBoost 1.3.0, the default evaluation metric used with the objective 'binary:logistic' was changed from 'error' to 'logloss'. Explicitly set eval_metric if you'd like to restore the old behavior.\n"
     ]
    },
    {
     "data": {
      "text/plain": [
       "GridSearchCV(cv=5,\n",
       "             estimator=XGBClassifier(base_score=None, booster=None,\n",
       "                                     colsample_bylevel=None,\n",
       "                                     colsample_bynode=None,\n",
       "                                     colsample_bytree=0.8, gamma=0, gpu_id=None,\n",
       "                                     importance_type='gain',\n",
       "                                     interaction_constraints=None,\n",
       "                                     learning_rate=0.1, max_delta_step=None,\n",
       "                                     max_depth=None, min_child_weight=None,\n",
       "                                     missing=nan, monotone_constraints=None,\n",
       "                                     n_estimators=32, n_jobs=None, nthread=4,\n",
       "                                     num_parallel_tree=None, random_state=None,\n",
       "                                     reg_alpha=None, reg_lambda=None,\n",
       "                                     scale_pos_weight=1, seed=27, subsample=0.8,\n",
       "                                     tree_method=None, validate_parameters=None,\n",
       "                                     verbosity=None),\n",
       "             iid=False, n_jobs=4,\n",
       "             param_grid={'max_depth': range(3, 15, 2),\n",
       "                         'min_child_weight': range(1, 6, 2)},\n",
       "             scoring='roc_auc')"
      ]
     },
     "execution_count": 115,
     "metadata": {},
     "output_type": "execute_result"
    }
   ],
   "source": [
    "#Parameter tuning of tree_features by setting the optimal value of n_estiamaters\n",
    "param_test1 = {\n",
    " 'max_depth':range(3,15,2),\n",
    " 'min_child_weight':range(1,6,2)\n",
    "}\n",
    "gsearch1 = GridSearchCV(estimator = XGBClassifier(learning_rate =0.1, n_estimators=32,\n",
    " gamma=0, subsample=0.8, colsample_bytree=0.8,\n",
    " objective= 'binary:logistic', nthread=4, scale_pos_weight=1, seed=27), \n",
    " param_grid = param_test1, scoring='roc_auc',n_jobs=4,iid=False, cv=5)\n",
    "gsearch1.fit(df_train[predictors],df_train[target])\n",
    "# gsearch1.grid_scores_, gsearch1.best_params_, gsearch1.best_score_"
   ]
  },
  {
   "cell_type": "code",
   "execution_count": 116,
   "metadata": {},
   "outputs": [
    {
     "data": {
      "text/html": [
       "<div>\n",
       "<style scoped>\n",
       "    .dataframe tbody tr th:only-of-type {\n",
       "        vertical-align: middle;\n",
       "    }\n",
       "\n",
       "    .dataframe tbody tr th {\n",
       "        vertical-align: top;\n",
       "    }\n",
       "\n",
       "    .dataframe thead th {\n",
       "        text-align: right;\n",
       "    }\n",
       "</style>\n",
       "<table border=\"1\" class=\"dataframe\">\n",
       "  <thead>\n",
       "    <tr style=\"text-align: right;\">\n",
       "      <th></th>\n",
       "      <th>mean_fit_time</th>\n",
       "      <th>std_fit_time</th>\n",
       "      <th>mean_score_time</th>\n",
       "      <th>std_score_time</th>\n",
       "      <th>param_max_depth</th>\n",
       "      <th>param_min_child_weight</th>\n",
       "      <th>params</th>\n",
       "      <th>split0_test_score</th>\n",
       "      <th>split1_test_score</th>\n",
       "      <th>split2_test_score</th>\n",
       "      <th>split3_test_score</th>\n",
       "      <th>split4_test_score</th>\n",
       "      <th>mean_test_score</th>\n",
       "      <th>std_test_score</th>\n",
       "      <th>rank_test_score</th>\n",
       "    </tr>\n",
       "  </thead>\n",
       "  <tbody>\n",
       "    <tr>\n",
       "      <th>0</th>\n",
       "      <td>1.544093</td>\n",
       "      <td>0.063434</td>\n",
       "      <td>0.028935</td>\n",
       "      <td>0.004536</td>\n",
       "      <td>3</td>\n",
       "      <td>1</td>\n",
       "      <td>{'max_depth': 3, 'min_child_weight': 1}</td>\n",
       "      <td>0.683023</td>\n",
       "      <td>0.688022</td>\n",
       "      <td>0.678574</td>\n",
       "      <td>0.682985</td>\n",
       "      <td>0.674939</td>\n",
       "      <td>0.681509</td>\n",
       "      <td>0.004442</td>\n",
       "      <td>8</td>\n",
       "    </tr>\n",
       "    <tr>\n",
       "      <th>1</th>\n",
       "      <td>1.440733</td>\n",
       "      <td>0.032700</td>\n",
       "      <td>0.028550</td>\n",
       "      <td>0.003038</td>\n",
       "      <td>3</td>\n",
       "      <td>3</td>\n",
       "      <td>{'max_depth': 3, 'min_child_weight': 3}</td>\n",
       "      <td>0.683029</td>\n",
       "      <td>0.688022</td>\n",
       "      <td>0.678563</td>\n",
       "      <td>0.682984</td>\n",
       "      <td>0.674836</td>\n",
       "      <td>0.681487</td>\n",
       "      <td>0.004475</td>\n",
       "      <td>9</td>\n",
       "    </tr>\n",
       "    <tr>\n",
       "      <th>2</th>\n",
       "      <td>1.474021</td>\n",
       "      <td>0.033053</td>\n",
       "      <td>0.030828</td>\n",
       "      <td>0.001629</td>\n",
       "      <td>3</td>\n",
       "      <td>5</td>\n",
       "      <td>{'max_depth': 3, 'min_child_weight': 5}</td>\n",
       "      <td>0.683026</td>\n",
       "      <td>0.688021</td>\n",
       "      <td>0.678563</td>\n",
       "      <td>0.682939</td>\n",
       "      <td>0.674809</td>\n",
       "      <td>0.681472</td>\n",
       "      <td>0.004479</td>\n",
       "      <td>10</td>\n",
       "    </tr>\n",
       "    <tr>\n",
       "      <th>3</th>\n",
       "      <td>2.784468</td>\n",
       "      <td>0.058591</td>\n",
       "      <td>0.031855</td>\n",
       "      <td>0.006988</td>\n",
       "      <td>5</td>\n",
       "      <td>1</td>\n",
       "      <td>{'max_depth': 5, 'min_child_weight': 1}</td>\n",
       "      <td>0.683395</td>\n",
       "      <td>0.688984</td>\n",
       "      <td>0.679545</td>\n",
       "      <td>0.685816</td>\n",
       "      <td>0.676215</td>\n",
       "      <td>0.682791</td>\n",
       "      <td>0.004509</td>\n",
       "      <td>2</td>\n",
       "    </tr>\n",
       "    <tr>\n",
       "      <th>4</th>\n",
       "      <td>2.610554</td>\n",
       "      <td>0.077449</td>\n",
       "      <td>0.033537</td>\n",
       "      <td>0.004104</td>\n",
       "      <td>5</td>\n",
       "      <td>3</td>\n",
       "      <td>{'max_depth': 5, 'min_child_weight': 3}</td>\n",
       "      <td>0.683516</td>\n",
       "      <td>0.688865</td>\n",
       "      <td>0.679534</td>\n",
       "      <td>0.686021</td>\n",
       "      <td>0.675761</td>\n",
       "      <td>0.682739</td>\n",
       "      <td>0.004645</td>\n",
       "      <td>3</td>\n",
       "    </tr>\n",
       "    <tr>\n",
       "      <th>5</th>\n",
       "      <td>2.675755</td>\n",
       "      <td>0.068798</td>\n",
       "      <td>0.036893</td>\n",
       "      <td>0.005122</td>\n",
       "      <td>5</td>\n",
       "      <td>5</td>\n",
       "      <td>{'max_depth': 5, 'min_child_weight': 5}</td>\n",
       "      <td>0.683570</td>\n",
       "      <td>0.688990</td>\n",
       "      <td>0.679456</td>\n",
       "      <td>0.685709</td>\n",
       "      <td>0.675909</td>\n",
       "      <td>0.682727</td>\n",
       "      <td>0.004604</td>\n",
       "      <td>4</td>\n",
       "    </tr>\n",
       "    <tr>\n",
       "      <th>6</th>\n",
       "      <td>4.003752</td>\n",
       "      <td>0.044718</td>\n",
       "      <td>0.035222</td>\n",
       "      <td>0.004369</td>\n",
       "      <td>7</td>\n",
       "      <td>1</td>\n",
       "      <td>{'max_depth': 7, 'min_child_weight': 1}</td>\n",
       "      <td>0.683106</td>\n",
       "      <td>0.690029</td>\n",
       "      <td>0.680424</td>\n",
       "      <td>0.685812</td>\n",
       "      <td>0.675018</td>\n",
       "      <td>0.682878</td>\n",
       "      <td>0.005052</td>\n",
       "      <td>1</td>\n",
       "    </tr>\n",
       "    <tr>\n",
       "      <th>7</th>\n",
       "      <td>3.922217</td>\n",
       "      <td>0.084039</td>\n",
       "      <td>0.033794</td>\n",
       "      <td>0.001143</td>\n",
       "      <td>7</td>\n",
       "      <td>3</td>\n",
       "      <td>{'max_depth': 7, 'min_child_weight': 3}</td>\n",
       "      <td>0.683456</td>\n",
       "      <td>0.689806</td>\n",
       "      <td>0.679456</td>\n",
       "      <td>0.685837</td>\n",
       "      <td>0.674763</td>\n",
       "      <td>0.682664</td>\n",
       "      <td>0.005185</td>\n",
       "      <td>5</td>\n",
       "    </tr>\n",
       "    <tr>\n",
       "      <th>8</th>\n",
       "      <td>3.978847</td>\n",
       "      <td>0.072159</td>\n",
       "      <td>0.034752</td>\n",
       "      <td>0.003862</td>\n",
       "      <td>7</td>\n",
       "      <td>5</td>\n",
       "      <td>{'max_depth': 7, 'min_child_weight': 5}</td>\n",
       "      <td>0.683659</td>\n",
       "      <td>0.689656</td>\n",
       "      <td>0.679953</td>\n",
       "      <td>0.685345</td>\n",
       "      <td>0.674493</td>\n",
       "      <td>0.682621</td>\n",
       "      <td>0.005122</td>\n",
       "      <td>6</td>\n",
       "    </tr>\n",
       "    <tr>\n",
       "      <th>9</th>\n",
       "      <td>5.570499</td>\n",
       "      <td>0.073526</td>\n",
       "      <td>0.038646</td>\n",
       "      <td>0.004617</td>\n",
       "      <td>9</td>\n",
       "      <td>1</td>\n",
       "      <td>{'max_depth': 9, 'min_child_weight': 1}</td>\n",
       "      <td>0.681566</td>\n",
       "      <td>0.687731</td>\n",
       "      <td>0.678534</td>\n",
       "      <td>0.686690</td>\n",
       "      <td>0.673925</td>\n",
       "      <td>0.681689</td>\n",
       "      <td>0.005134</td>\n",
       "      <td>7</td>\n",
       "    </tr>\n",
       "    <tr>\n",
       "      <th>10</th>\n",
       "      <td>5.335571</td>\n",
       "      <td>0.057993</td>\n",
       "      <td>0.038963</td>\n",
       "      <td>0.001960</td>\n",
       "      <td>9</td>\n",
       "      <td>3</td>\n",
       "      <td>{'max_depth': 9, 'min_child_weight': 3}</td>\n",
       "      <td>0.680557</td>\n",
       "      <td>0.687423</td>\n",
       "      <td>0.677382</td>\n",
       "      <td>0.687001</td>\n",
       "      <td>0.674426</td>\n",
       "      <td>0.681358</td>\n",
       "      <td>0.005160</td>\n",
       "      <td>11</td>\n",
       "    </tr>\n",
       "    <tr>\n",
       "      <th>11</th>\n",
       "      <td>5.219919</td>\n",
       "      <td>0.019704</td>\n",
       "      <td>0.037033</td>\n",
       "      <td>0.002522</td>\n",
       "      <td>9</td>\n",
       "      <td>5</td>\n",
       "      <td>{'max_depth': 9, 'min_child_weight': 5}</td>\n",
       "      <td>0.682816</td>\n",
       "      <td>0.686958</td>\n",
       "      <td>0.676632</td>\n",
       "      <td>0.685389</td>\n",
       "      <td>0.674592</td>\n",
       "      <td>0.681277</td>\n",
       "      <td>0.004854</td>\n",
       "      <td>12</td>\n",
       "    </tr>\n",
       "    <tr>\n",
       "      <th>12</th>\n",
       "      <td>8.088787</td>\n",
       "      <td>0.179468</td>\n",
       "      <td>0.042667</td>\n",
       "      <td>0.002910</td>\n",
       "      <td>11</td>\n",
       "      <td>1</td>\n",
       "      <td>{'max_depth': 11, 'min_child_weight': 1}</td>\n",
       "      <td>0.678556</td>\n",
       "      <td>0.684827</td>\n",
       "      <td>0.675785</td>\n",
       "      <td>0.682867</td>\n",
       "      <td>0.669910</td>\n",
       "      <td>0.678389</td>\n",
       "      <td>0.005295</td>\n",
       "      <td>13</td>\n",
       "    </tr>\n",
       "    <tr>\n",
       "      <th>13</th>\n",
       "      <td>7.252153</td>\n",
       "      <td>0.132804</td>\n",
       "      <td>0.041012</td>\n",
       "      <td>0.003173</td>\n",
       "      <td>11</td>\n",
       "      <td>3</td>\n",
       "      <td>{'max_depth': 11, 'min_child_weight': 3}</td>\n",
       "      <td>0.679574</td>\n",
       "      <td>0.683997</td>\n",
       "      <td>0.675090</td>\n",
       "      <td>0.682744</td>\n",
       "      <td>0.670049</td>\n",
       "      <td>0.678291</td>\n",
       "      <td>0.005142</td>\n",
       "      <td>14</td>\n",
       "    </tr>\n",
       "    <tr>\n",
       "      <th>14</th>\n",
       "      <td>6.800199</td>\n",
       "      <td>0.077353</td>\n",
       "      <td>0.044533</td>\n",
       "      <td>0.004913</td>\n",
       "      <td>11</td>\n",
       "      <td>5</td>\n",
       "      <td>{'max_depth': 11, 'min_child_weight': 5}</td>\n",
       "      <td>0.679530</td>\n",
       "      <td>0.684061</td>\n",
       "      <td>0.674173</td>\n",
       "      <td>0.682450</td>\n",
       "      <td>0.670414</td>\n",
       "      <td>0.678125</td>\n",
       "      <td>0.005119</td>\n",
       "      <td>15</td>\n",
       "    </tr>\n",
       "    <tr>\n",
       "      <th>15</th>\n",
       "      <td>9.663919</td>\n",
       "      <td>0.184463</td>\n",
       "      <td>0.050345</td>\n",
       "      <td>0.004330</td>\n",
       "      <td>13</td>\n",
       "      <td>1</td>\n",
       "      <td>{'max_depth': 13, 'min_child_weight': 1}</td>\n",
       "      <td>0.674045</td>\n",
       "      <td>0.680349</td>\n",
       "      <td>0.671631</td>\n",
       "      <td>0.677542</td>\n",
       "      <td>0.665225</td>\n",
       "      <td>0.673758</td>\n",
       "      <td>0.005199</td>\n",
       "      <td>18</td>\n",
       "    </tr>\n",
       "    <tr>\n",
       "      <th>16</th>\n",
       "      <td>8.752636</td>\n",
       "      <td>0.109124</td>\n",
       "      <td>0.045236</td>\n",
       "      <td>0.001459</td>\n",
       "      <td>13</td>\n",
       "      <td>3</td>\n",
       "      <td>{'max_depth': 13, 'min_child_weight': 3}</td>\n",
       "      <td>0.676639</td>\n",
       "      <td>0.681113</td>\n",
       "      <td>0.672952</td>\n",
       "      <td>0.677671</td>\n",
       "      <td>0.663806</td>\n",
       "      <td>0.674436</td>\n",
       "      <td>0.005918</td>\n",
       "      <td>17</td>\n",
       "    </tr>\n",
       "    <tr>\n",
       "      <th>17</th>\n",
       "      <td>7.540864</td>\n",
       "      <td>0.834024</td>\n",
       "      <td>0.052174</td>\n",
       "      <td>0.005796</td>\n",
       "      <td>13</td>\n",
       "      <td>5</td>\n",
       "      <td>{'max_depth': 13, 'min_child_weight': 5}</td>\n",
       "      <td>0.675639</td>\n",
       "      <td>0.681020</td>\n",
       "      <td>0.671975</td>\n",
       "      <td>0.678895</td>\n",
       "      <td>0.669667</td>\n",
       "      <td>0.675439</td>\n",
       "      <td>0.004206</td>\n",
       "      <td>16</td>\n",
       "    </tr>\n",
       "  </tbody>\n",
       "</table>\n",
       "</div>"
      ],
      "text/plain": [
       "    mean_fit_time  std_fit_time  mean_score_time  std_score_time  \\\n",
       "0        1.544093      0.063434         0.028935        0.004536   \n",
       "1        1.440733      0.032700         0.028550        0.003038   \n",
       "2        1.474021      0.033053         0.030828        0.001629   \n",
       "3        2.784468      0.058591         0.031855        0.006988   \n",
       "4        2.610554      0.077449         0.033537        0.004104   \n",
       "5        2.675755      0.068798         0.036893        0.005122   \n",
       "6        4.003752      0.044718         0.035222        0.004369   \n",
       "7        3.922217      0.084039         0.033794        0.001143   \n",
       "8        3.978847      0.072159         0.034752        0.003862   \n",
       "9        5.570499      0.073526         0.038646        0.004617   \n",
       "10       5.335571      0.057993         0.038963        0.001960   \n",
       "11       5.219919      0.019704         0.037033        0.002522   \n",
       "12       8.088787      0.179468         0.042667        0.002910   \n",
       "13       7.252153      0.132804         0.041012        0.003173   \n",
       "14       6.800199      0.077353         0.044533        0.004913   \n",
       "15       9.663919      0.184463         0.050345        0.004330   \n",
       "16       8.752636      0.109124         0.045236        0.001459   \n",
       "17       7.540864      0.834024         0.052174        0.005796   \n",
       "\n",
       "   param_max_depth param_min_child_weight  \\\n",
       "0                3                      1   \n",
       "1                3                      3   \n",
       "2                3                      5   \n",
       "3                5                      1   \n",
       "4                5                      3   \n",
       "5                5                      5   \n",
       "6                7                      1   \n",
       "7                7                      3   \n",
       "8                7                      5   \n",
       "9                9                      1   \n",
       "10               9                      3   \n",
       "11               9                      5   \n",
       "12              11                      1   \n",
       "13              11                      3   \n",
       "14              11                      5   \n",
       "15              13                      1   \n",
       "16              13                      3   \n",
       "17              13                      5   \n",
       "\n",
       "                                      params  split0_test_score  \\\n",
       "0    {'max_depth': 3, 'min_child_weight': 1}           0.683023   \n",
       "1    {'max_depth': 3, 'min_child_weight': 3}           0.683029   \n",
       "2    {'max_depth': 3, 'min_child_weight': 5}           0.683026   \n",
       "3    {'max_depth': 5, 'min_child_weight': 1}           0.683395   \n",
       "4    {'max_depth': 5, 'min_child_weight': 3}           0.683516   \n",
       "5    {'max_depth': 5, 'min_child_weight': 5}           0.683570   \n",
       "6    {'max_depth': 7, 'min_child_weight': 1}           0.683106   \n",
       "7    {'max_depth': 7, 'min_child_weight': 3}           0.683456   \n",
       "8    {'max_depth': 7, 'min_child_weight': 5}           0.683659   \n",
       "9    {'max_depth': 9, 'min_child_weight': 1}           0.681566   \n",
       "10   {'max_depth': 9, 'min_child_weight': 3}           0.680557   \n",
       "11   {'max_depth': 9, 'min_child_weight': 5}           0.682816   \n",
       "12  {'max_depth': 11, 'min_child_weight': 1}           0.678556   \n",
       "13  {'max_depth': 11, 'min_child_weight': 3}           0.679574   \n",
       "14  {'max_depth': 11, 'min_child_weight': 5}           0.679530   \n",
       "15  {'max_depth': 13, 'min_child_weight': 1}           0.674045   \n",
       "16  {'max_depth': 13, 'min_child_weight': 3}           0.676639   \n",
       "17  {'max_depth': 13, 'min_child_weight': 5}           0.675639   \n",
       "\n",
       "    split1_test_score  split2_test_score  split3_test_score  \\\n",
       "0            0.688022           0.678574           0.682985   \n",
       "1            0.688022           0.678563           0.682984   \n",
       "2            0.688021           0.678563           0.682939   \n",
       "3            0.688984           0.679545           0.685816   \n",
       "4            0.688865           0.679534           0.686021   \n",
       "5            0.688990           0.679456           0.685709   \n",
       "6            0.690029           0.680424           0.685812   \n",
       "7            0.689806           0.679456           0.685837   \n",
       "8            0.689656           0.679953           0.685345   \n",
       "9            0.687731           0.678534           0.686690   \n",
       "10           0.687423           0.677382           0.687001   \n",
       "11           0.686958           0.676632           0.685389   \n",
       "12           0.684827           0.675785           0.682867   \n",
       "13           0.683997           0.675090           0.682744   \n",
       "14           0.684061           0.674173           0.682450   \n",
       "15           0.680349           0.671631           0.677542   \n",
       "16           0.681113           0.672952           0.677671   \n",
       "17           0.681020           0.671975           0.678895   \n",
       "\n",
       "    split4_test_score  mean_test_score  std_test_score  rank_test_score  \n",
       "0            0.674939         0.681509        0.004442                8  \n",
       "1            0.674836         0.681487        0.004475                9  \n",
       "2            0.674809         0.681472        0.004479               10  \n",
       "3            0.676215         0.682791        0.004509                2  \n",
       "4            0.675761         0.682739        0.004645                3  \n",
       "5            0.675909         0.682727        0.004604                4  \n",
       "6            0.675018         0.682878        0.005052                1  \n",
       "7            0.674763         0.682664        0.005185                5  \n",
       "8            0.674493         0.682621        0.005122                6  \n",
       "9            0.673925         0.681689        0.005134                7  \n",
       "10           0.674426         0.681358        0.005160               11  \n",
       "11           0.674592         0.681277        0.004854               12  \n",
       "12           0.669910         0.678389        0.005295               13  \n",
       "13           0.670049         0.678291        0.005142               14  \n",
       "14           0.670414         0.678125        0.005119               15  \n",
       "15           0.665225         0.673758        0.005199               18  \n",
       "16           0.663806         0.674436        0.005918               17  \n",
       "17           0.669667         0.675439        0.004206               16  "
      ]
     },
     "execution_count": 116,
     "metadata": {},
     "output_type": "execute_result"
    }
   ],
   "source": [
    "cv_results_xgb=pd.DataFrame(gsearch1.cv_results_)\n",
    "cv_results_xgb"
   ]
  },
  {
   "cell_type": "code",
   "execution_count": 117,
   "metadata": {},
   "outputs": [],
   "source": [
    "#Selecting best tree_fetures\n",
    "best_param_max_depth_xgb=gsearch1.best_params_.get(\"max_depth\")\n",
    "best_param_min_child_weight_xgb=gsearch1.best_params_.get(\"min_child_weight\")"
   ]
  },
  {
   "cell_type": "code",
   "execution_count": 119,
   "metadata": {},
   "outputs": [
    {
     "data": {
      "text/plain": [
       "1"
      ]
     },
     "execution_count": 119,
     "metadata": {},
     "output_type": "execute_result"
    }
   ],
   "source": [
    "best_param_min_child_weight_xgb"
   ]
  },
  {
   "cell_type": "code",
   "execution_count": 260,
   "metadata": {},
   "outputs": [],
   "source": [
    "#max_depth: 7 \n",
    "#min_child_weight: 1"
   ]
  },
  {
   "cell_type": "code",
   "execution_count": 120,
   "metadata": {},
   "outputs": [
    {
     "name": "stdout",
     "output_type": "stream",
     "text": [
      "\n",
      "Model Report\n",
      "Accuracy_train : 0.6502\n",
      "AUC Score (Train): 0.713319\n",
      "Accuracy_val : 0.63\n",
      "AUC Score (val): 0.677659\n",
      "XGBClassifier(base_score=0.5, booster='gbtree', colsample_bylevel=1,\n",
      "              colsample_bynode=1, colsample_bytree=0.8, gamma=0, gpu_id=-1,\n",
      "              importance_type='gain', interaction_constraints='',\n",
      "              learning_rate=0.1, max_delta_step=0, max_depth=7,\n",
      "              min_child_weight=1, missing=nan, monotone_constraints='()',\n",
      "              n_estimators=32, n_jobs=8, nthread=-1, num_parallel_tree=1,\n",
      "              random_state=27, reg_alpha=0, reg_lambda=1, scale_pos_weight=1,\n",
      "              seed=27, subsample=0.8, tree_method='exact',\n",
      "              validate_parameters=1, verbosity=None)\n"
     ]
    },
    {
     "data": {
      "image/png": "[encoded data removed]",
      "text/plain": [
       "<Figure size 864x288 with 1 Axes>"
      ]
     },
     "metadata": {
      "needs_background": "light"
     },
     "output_type": "display_data"
    }
   ],
   "source": [
    "#passing optimal n_estimators & tree_features to check train-validation Accuracy & AUC\n",
    "xgb1 = XGBClassifier(\n",
    " learning_rate =0.1,\n",
    " n_estimators=32,\n",
    " max_depth=7,\n",
    " min_child_weight=1,\n",
    " gamma=0,\n",
    " subsample=0.8,\n",
    " colsample_bytree=0.8,\n",
    "#  objective= 'binary:logistic',\n",
    " nthread=-1,\n",
    " scale_pos_weight=1,\n",
    " seed=27)\n",
    "modelfit(xgb1, train, predictors)"
   ]
  },
  {
   "cell_type": "code",
   "execution_count": 121,
   "metadata": {},
   "outputs": [
    {
     "name": "stdout",
     "output_type": "stream",
     "text": [
      "[02:39:08] WARNING: C:/Users/Administrator/workspace/xgboost-win64_release_1.4.0/src/learner.cc:1095: Starting in XGBoost 1.3.0, the default evaluation metric used with the objective 'binary:logistic' was changed from 'error' to 'logloss'. Explicitly set eval_metric if you'd like to restore the old behavior.\n"
     ]
    },
    {
     "data": {
      "text/plain": [
       "GridSearchCV(cv=5,\n",
       "             estimator=XGBClassifier(base_score=None, booster=None,\n",
       "                                     colsample_bylevel=None,\n",
       "                                     colsample_bynode=None,\n",
       "                                     colsample_bytree=0.8, gamma=None,\n",
       "                                     gpu_id=None, importance_type='gain',\n",
       "                                     interaction_constraints=None,\n",
       "                                     learning_rate=0.1, max_delta_step=None,\n",
       "                                     max_depth=7, min_child_weight=1,\n",
       "                                     missing=nan, monotone_constraints=None,\n",
       "                                     n_estimators=32, n_jobs=None, nthread=-1,\n",
       "                                     num_parallel_tree=None, random_state=None,\n",
       "                                     reg_alpha=None, reg_lambda=None,\n",
       "                                     scale_pos_weight=1, seed=27, subsample=0.8,\n",
       "                                     tree_method=None, validate_parameters=None,\n",
       "                                     verbosity=None),\n",
       "             iid=False, n_jobs=4, param_grid={'gamma': range(0, 5)},\n",
       "             scoring='roc_auc')"
      ]
     },
     "execution_count": 121,
     "metadata": {},
     "output_type": "execute_result"
    }
   ],
   "source": [
    "#hyper-parameter tuning for gamma (which is used for x-treme pruning of trees)\n",
    "param_test1 = {\n",
    " 'gamma':range(0,5,1),\n",
    "}\n",
    "gsearch1 = GridSearchCV(estimator = XGBClassifier(learning_rate =0.1, n_estimators=32, max_depth=7,\n",
    " min_child_weight=1,\n",
    " subsample=0.8, colsample_bytree=0.8,\n",
    " objective= 'binary:logistic', nthread=-1, scale_pos_weight=1, seed=27), \n",
    " param_grid = param_test1, scoring='roc_auc',n_jobs=4,iid=False, cv=5)\n",
    "gsearch1.fit(df_train[predictors],df_train[target])\n",
    "# gsearch1.grid_scores_, gsearch1.best_params_, gsearch1.best_score_"
   ]
  },
  {
   "cell_type": "code",
   "execution_count": 122,
   "metadata": {},
   "outputs": [],
   "source": [
    "best_param_gamma_xgb=gsearch1.best_params_.get(\"gamma\")#selecting best gamma"
   ]
  },
  {
   "cell_type": "code",
   "execution_count": 123,
   "metadata": {},
   "outputs": [
    {
     "data": {
      "text/plain": [
       "2"
      ]
     },
     "execution_count": 123,
     "metadata": {},
     "output_type": "execute_result"
    }
   ],
   "source": [
    "best_param_gamma_xgb"
   ]
  },
  {
   "cell_type": "code",
   "execution_count": null,
   "metadata": {},
   "outputs": [],
   "source": [
    "#gamma: 2"
   ]
  },
  {
   "cell_type": "code",
   "execution_count": 124,
   "metadata": {},
   "outputs": [
    {
     "name": "stdout",
     "output_type": "stream",
     "text": [
      "[02:42:03] WARNING: C:/Users/Administrator/workspace/xgboost-win64_release_1.4.0/src/learner.cc:1095: Starting in XGBoost 1.3.0, the default evaluation metric used with the objective 'binary:logistic' was changed from 'error' to 'logloss'. Explicitly set eval_metric if you'd like to restore the old behavior.\n"
     ]
    },
    {
     "data": {
      "text/plain": [
       "GridSearchCV(cv=5,\n",
       "             estimator=XGBClassifier(base_score=None, booster=None,\n",
       "                                     colsample_bylevel=None,\n",
       "                                     colsample_bynode=None,\n",
       "                                     colsample_bytree=None, gamma=2,\n",
       "                                     gpu_id=None, importance_type='gain',\n",
       "                                     interaction_constraints=None,\n",
       "                                     learning_rate=0.1, max_delta_step=None,\n",
       "                                     max_depth=7, min_child_weight=1,\n",
       "                                     missing=nan, monotone_constraints=None,\n",
       "                                     n_estimators=32, n_jobs=None, nthread=-1,\n",
       "                                     num_parallel_tree=None, random_state=None,\n",
       "                                     reg_alpha=None, reg_lambda=None,\n",
       "                                     scale_pos_weight=1, seed=27,\n",
       "                                     subsample=None, tree_method=None,\n",
       "                                     validate_parameters=None, verbosity=None),\n",
       "             iid=False, n_jobs=4,\n",
       "             param_grid={'colsample_bytree': [0.6, 0.7, 0.8, 0.9],\n",
       "                         'subsample': [0.6, 0.7, 0.8, 0.9]},\n",
       "             scoring='roc_auc')"
      ]
     },
     "execution_count": 124,
     "metadata": {},
     "output_type": "execute_result"
    }
   ],
   "source": [
    "#Tuning for subsample & colsample by fixing rest of the hyper-parameters already obtained\n",
    "param_test1 = {\n",
    "  'subsample':[i/10.0 for i in range(6,10)],\n",
    "  'colsample_bytree':[i/10.0 for i in range(6,10)]\n",
    "}\n",
    "gsearch1 = GridSearchCV(estimator = XGBClassifier(learning_rate =0.1, n_estimators=32, max_depth=7,\n",
    " min_child_weight=1, gamma=2,\n",
    " objective= 'binary:logistic', nthread=-1, scale_pos_weight=1, seed=27), \n",
    " param_grid = param_test1, scoring='roc_auc',n_jobs=4,iid=False, cv=5)\n",
    "gsearch1.fit(df_train[predictors],df_train[target])\n",
    "# gsearch1.grid_scores_, gsearch1.best_params_, gsearch1.best_score_"
   ]
  },
  {
   "cell_type": "code",
   "execution_count": 125,
   "metadata": {},
   "outputs": [],
   "source": [
    "#Selecting best colsumple & subsample\n",
    "best_param_subsample_xgb=gsearch1.best_params_.get(\"subsample\")\n",
    "best_param_colsample_bytree_xgb=gsearch1.best_params_.get(\"colsample_bytree\")"
   ]
  },
  {
   "cell_type": "code",
   "execution_count": 127,
   "metadata": {},
   "outputs": [
    {
     "data": {
      "text/plain": [
       "0.8"
      ]
     },
     "execution_count": 127,
     "metadata": {},
     "output_type": "execute_result"
    }
   ],
   "source": [
    "best_param_colsample_bytree_xgb"
   ]
  },
  {
   "cell_type": "code",
   "execution_count": null,
   "metadata": {},
   "outputs": [],
   "source": [
    "#subsample: 0.8\n",
    "#colsample_bytree: 0.8"
   ]
  },
  {
   "cell_type": "code",
   "execution_count": 128,
   "metadata": {},
   "outputs": [
    {
     "name": "stdout",
     "output_type": "stream",
     "text": [
      "\n",
      "Model Report\n",
      "Accuracy_train : 0.6418\n",
      "AUC Score (Train): 0.699715\n",
      "Accuracy_val : 0.6262\n",
      "AUC Score (val): 0.676687\n",
      "XGBClassifier(base_score=0.5, booster='gbtree', colsample_bylevel=1,\n",
      "              colsample_bynode=1, colsample_bytree=0.8, gamma=2, gpu_id=-1,\n",
      "              importance_type='gain', interaction_constraints='',\n",
      "              learning_rate=0.01, max_delta_step=0, max_depth=7,\n",
      "              min_child_weight=1, missing=nan, monotone_constraints='()',\n",
      "              n_estimators=32, n_jobs=8, nthread=-1, num_parallel_tree=1,\n",
      "              random_state=27, reg_alpha=0, reg_lambda=1, scale_pos_weight=1,\n",
      "              seed=27, subsample=0.8, tree_method='exact',\n",
      "              validate_parameters=1, verbosity=None)\n"
     ]
    },
    {
     "data": {
      "image/png": "[encoded data removed]",
      "text/plain": [
       "<Figure size 864x288 with 1 Axes>"
      ]
     },
     "metadata": {
      "needs_background": "light"
     },
     "output_type": "display_data"
    }
   ],
   "source": [
    "#Setting all hyper-parameters to optimal-obtained values and fitting the model with a lower step-size/learning rate \n",
    "xgb1 = XGBClassifier(\n",
    " learning_rate =0.01,\n",
    " n_estimators=32,\n",
    " max_depth=7,\n",
    " min_child_weight=1,\n",
    " gamma=2,\n",
    " subsample=0.8,\n",
    " colsample_bytree=0.8,\n",
    "#  objective= 'binary:logistic',\n",
    " nthread=-1,\n",
    " scale_pos_weight=1,\n",
    " seed=27)\n",
    "modelfit(xgb1, train, predictors)"
   ]
  },
  {
   "cell_type": "markdown",
   "metadata": {},
   "source": [
    "FITTING THE MODEL ON THE ENTIRE TRAIN DATA SET WITH OPTIMAL HYPER-PARAMETERS"
   ]
  },
  {
   "cell_type": "code",
   "execution_count": 129,
   "metadata": {},
   "outputs": [],
   "source": [
    "#Fitting the model with optimal parameters\n",
    "xgb_best=XGBClassifier(subsample=0.8,scale_pos_weight=1,n_estimators=32,min_child_weight=1,\n",
    "                       max_depth=7,learning_rate=0.01,gamma=2,colsample_bytree=0.8)"
   ]
  },
  {
   "cell_type": "code",
   "execution_count": 131,
   "metadata": {},
   "outputs": [
    {
     "name": "stdout",
     "output_type": "stream",
     "text": [
      "[02:51:53] WARNING: C:/Users/Administrator/workspace/xgboost-win64_release_1.4.0/src/learner.cc:1095: Starting in XGBoost 1.3.0, the default evaluation metric used with the objective 'binary:logistic' was changed from 'error' to 'logloss'. Explicitly set eval_metric if you'd like to restore the old behavior.\n"
     ]
    },
    {
     "data": {
      "text/plain": [
       "XGBClassifier(base_score=0.5, booster='gbtree', colsample_bylevel=1,\n",
       "              colsample_bynode=1, colsample_bytree=0.8, gamma=2, gpu_id=-1,\n",
       "              importance_type='gain', interaction_constraints='',\n",
       "              learning_rate=0.01, max_delta_step=0, max_depth=7,\n",
       "              min_child_weight=1, missing=nan, monotone_constraints='()',\n",
       "              n_estimators=32, n_jobs=8, num_parallel_tree=1, random_state=0,\n",
       "              reg_alpha=0, reg_lambda=1, scale_pos_weight=1, subsample=0.8,\n",
       "              tree_method='exact', validate_parameters=1, verbosity=None)"
      ]
     },
     "execution_count": 131,
     "metadata": {},
     "output_type": "execute_result"
    }
   ],
   "source": [
    "xgb_best.fit(df_train[predictors],df_train['return'])"
   ]
  },
  {
   "cell_type": "markdown",
   "metadata": {},
   "source": [
    "PREDICTING ON TRAIN AS WELL AS TEST DATA SET"
   ]
  },
  {
   "cell_type": "code",
   "execution_count": 133,
   "metadata": {},
   "outputs": [
    {
     "name": "stdout",
     "output_type": "stream",
     "text": [
      "\n",
      "Model Report\n",
      "Accuracy_train : 0.6397\n",
      "AUC Score (Train): 0.696059\n"
     ]
    },
    {
     "data": {
      "text/plain": [
       "Text(0, 0.5, 'Feature Importance Score')"
      ]
     },
     "execution_count": 133,
     "metadata": {},
     "output_type": "execute_result"
    },
    {
     "data": {
      "image/png": "[encoded data removed]",
      "text/plain": [
       "<Figure size 864x288 with 1 Axes>"
      ]
     },
     "metadata": {
      "needs_background": "light"
     },
     "output_type": "display_data"
    }
   ],
   "source": [
    "#Predict training set:\n",
    "df_train_predictions = xgb_best.predict(df_train[predictors])\n",
    "df_train_predprob = xgb_best.predict_proba(df_train[predictors])[:,1]\n",
    "\n",
    "        \n",
    "#Print model report:\n",
    "print (\"\\nModel Report\")\n",
    "print (\"Accuracy_train : %.4g\" % metrics.accuracy_score(df_train['return'].values, df_train_predictions))\n",
    "print (\"AUC Score (Train): %f\" % metrics.roc_auc_score(df_train['return'], df_train_predprob))\n",
    "\n",
    "#Predicting on Test Data\n",
    "df_test['Predicted'] = xgb_best.predict(df_test[predictors])\n",
    "df_test['Predicted_Prob'] = xgb_best.predict_proba(df_test[predictors])[:,1]\n",
    "\n",
    "#Feature Importance                \n",
    "feat_imp = pd.Series(xgb_best.get_booster().get_fscore()).sort_values(ascending=False)\n",
    "feat_imp.plot(kind='bar', title='Feature Importances')\n",
    "plt.ylabel('Feature Importance Score')"
   ]
  },
  {
   "cell_type": "code",
   "execution_count": 134,
   "metadata": {},
   "outputs": [
    {
     "data": {
      "text/html": [
       "<div>\n",
       "<style scoped>\n",
       "    .dataframe tbody tr th:only-of-type {\n",
       "        vertical-align: middle;\n",
       "    }\n",
       "\n",
       "    .dataframe tbody tr th {\n",
       "        vertical-align: top;\n",
       "    }\n",
       "\n",
       "    .dataframe thead th {\n",
       "        text-align: right;\n",
       "    }\n",
       "</style>\n",
       "<table border=\"1\" class=\"dataframe\">\n",
       "  <thead>\n",
       "    <tr style=\"text-align: right;\">\n",
       "      <th></th>\n",
       "      <th>order_item_id</th>\n",
       "      <th>Delivery_days</th>\n",
       "      <th>item_id_enc</th>\n",
       "      <th>item_size_enc</th>\n",
       "      <th>item_color_enc</th>\n",
       "      <th>brand_id_enc</th>\n",
       "      <th>item_price</th>\n",
       "      <th>User_Age</th>\n",
       "      <th>return</th>\n",
       "      <th>Family</th>\n",
       "      <th>...</th>\n",
       "      <th>1011</th>\n",
       "      <th>1012</th>\n",
       "      <th>1013</th>\n",
       "      <th>1014</th>\n",
       "      <th>1015</th>\n",
       "      <th>1016</th>\n",
       "      <th>Slightly_Old_Customer</th>\n",
       "      <th>Old_Customer</th>\n",
       "      <th>Predicted</th>\n",
       "      <th>Predicted_Prob</th>\n",
       "    </tr>\n",
       "  </thead>\n",
       "  <tbody>\n",
       "    <tr>\n",
       "      <th>79945</th>\n",
       "      <td>26</td>\n",
       "      <td>3.0</td>\n",
       "      <td>0.333333</td>\n",
       "      <td>0.496260</td>\n",
       "      <td>0.497696</td>\n",
       "      <td>0.489162</td>\n",
       "      <td>69.90</td>\n",
       "      <td>54.0</td>\n",
       "      <td>NaN</td>\n",
       "      <td>0</td>\n",
       "      <td>...</td>\n",
       "      <td>0</td>\n",
       "      <td>0</td>\n",
       "      <td>0</td>\n",
       "      <td>0</td>\n",
       "      <td>0</td>\n",
       "      <td>0</td>\n",
       "      <td>1</td>\n",
       "      <td>0</td>\n",
       "      <td>0.0</td>\n",
       "      <td>0.464720</td>\n",
       "    </tr>\n",
       "    <tr>\n",
       "      <th>79946</th>\n",
       "      <td>28</td>\n",
       "      <td>9.0</td>\n",
       "      <td>0.469388</td>\n",
       "      <td>0.470209</td>\n",
       "      <td>0.475862</td>\n",
       "      <td>0.458054</td>\n",
       "      <td>19.90</td>\n",
       "      <td>54.0</td>\n",
       "      <td>NaN</td>\n",
       "      <td>0</td>\n",
       "      <td>...</td>\n",
       "      <td>0</td>\n",
       "      <td>0</td>\n",
       "      <td>0</td>\n",
       "      <td>0</td>\n",
       "      <td>0</td>\n",
       "      <td>0</td>\n",
       "      <td>1</td>\n",
       "      <td>0</td>\n",
       "      <td>0.0</td>\n",
       "      <td>0.477400</td>\n",
       "    </tr>\n",
       "    <tr>\n",
       "      <th>79947</th>\n",
       "      <td>37</td>\n",
       "      <td>3.0</td>\n",
       "      <td>0.584821</td>\n",
       "      <td>0.522085</td>\n",
       "      <td>0.487022</td>\n",
       "      <td>0.548673</td>\n",
       "      <td>39.95</td>\n",
       "      <td>52.0</td>\n",
       "      <td>NaN</td>\n",
       "      <td>0</td>\n",
       "      <td>...</td>\n",
       "      <td>0</td>\n",
       "      <td>0</td>\n",
       "      <td>0</td>\n",
       "      <td>0</td>\n",
       "      <td>0</td>\n",
       "      <td>0</td>\n",
       "      <td>0</td>\n",
       "      <td>1</td>\n",
       "      <td>1.0</td>\n",
       "      <td>0.515854</td>\n",
       "    </tr>\n",
       "    <tr>\n",
       "      <th>79950</th>\n",
       "      <td>80</td>\n",
       "      <td>3.0</td>\n",
       "      <td>0.323944</td>\n",
       "      <td>0.492143</td>\n",
       "      <td>0.470396</td>\n",
       "      <td>0.397278</td>\n",
       "      <td>24.90</td>\n",
       "      <td>46.0</td>\n",
       "      <td>NaN</td>\n",
       "      <td>0</td>\n",
       "      <td>...</td>\n",
       "      <td>0</td>\n",
       "      <td>0</td>\n",
       "      <td>0</td>\n",
       "      <td>0</td>\n",
       "      <td>0</td>\n",
       "      <td>0</td>\n",
       "      <td>1</td>\n",
       "      <td>0</td>\n",
       "      <td>0.0</td>\n",
       "      <td>0.463179</td>\n",
       "    </tr>\n",
       "    <tr>\n",
       "      <th>79951</th>\n",
       "      <td>95</td>\n",
       "      <td>3.0</td>\n",
       "      <td>0.323944</td>\n",
       "      <td>0.496260</td>\n",
       "      <td>0.507723</td>\n",
       "      <td>0.397278</td>\n",
       "      <td>34.90</td>\n",
       "      <td>67.0</td>\n",
       "      <td>NaN</td>\n",
       "      <td>0</td>\n",
       "      <td>...</td>\n",
       "      <td>0</td>\n",
       "      <td>0</td>\n",
       "      <td>0</td>\n",
       "      <td>0</td>\n",
       "      <td>1</td>\n",
       "      <td>0</td>\n",
       "      <td>1</td>\n",
       "      <td>0</td>\n",
       "      <td>0.0</td>\n",
       "      <td>0.453945</td>\n",
       "    </tr>\n",
       "  </tbody>\n",
       "</table>\n",
       "<p>5 rows × 32 columns</p>\n",
       "</div>"
      ],
      "text/plain": [
       "       order_item_id  Delivery_days  item_id_enc  item_size_enc  \\\n",
       "79945             26            3.0     0.333333       0.496260   \n",
       "79946             28            9.0     0.469388       0.470209   \n",
       "79947             37            3.0     0.584821       0.522085   \n",
       "79950             80            3.0     0.323944       0.492143   \n",
       "79951             95            3.0     0.323944       0.496260   \n",
       "\n",
       "       item_color_enc  brand_id_enc  item_price  User_Age  return  Family  \\\n",
       "79945        0.497696      0.489162       69.90      54.0     NaN       0   \n",
       "79946        0.475862      0.458054       19.90      54.0     NaN       0   \n",
       "79947        0.487022      0.548673       39.95      52.0     NaN       0   \n",
       "79950        0.470396      0.397278       24.90      46.0     NaN       0   \n",
       "79951        0.507723      0.397278       34.90      67.0     NaN       0   \n",
       "\n",
       "       ...  1011  1012  1013  1014  1015  1016  Slightly_Old_Customer  \\\n",
       "79945  ...     0     0     0     0     0     0                      1   \n",
       "79946  ...     0     0     0     0     0     0                      1   \n",
       "79947  ...     0     0     0     0     0     0                      0   \n",
       "79950  ...     0     0     0     0     0     0                      1   \n",
       "79951  ...     0     0     0     0     1     0                      1   \n",
       "\n",
       "       Old_Customer  Predicted  Predicted_Prob  \n",
       "79945             0        0.0        0.464720  \n",
       "79946             0        0.0        0.477400  \n",
       "79947             1        1.0        0.515854  \n",
       "79950             0        0.0        0.463179  \n",
       "79951             0        0.0        0.453945  \n",
       "\n",
       "[5 rows x 32 columns]"
      ]
     },
     "execution_count": 134,
     "metadata": {},
     "output_type": "execute_result"
    }
   ],
   "source": [
    "df_test.head()"
   ]
  },
  {
   "cell_type": "code",
   "execution_count": 135,
   "metadata": {},
   "outputs": [],
   "source": [
    "#Creating the final data set\n",
    "df_final=df_test[['order_item_id','Predicted']]"
   ]
  },
  {
   "cell_type": "code",
   "execution_count": 136,
   "metadata": {},
   "outputs": [],
   "source": [
    "delv_df=pd.merge(df2,df_final,on='order_item_id',how='left')#merge the predicted values to the test-data(initially read) set"
   ]
  },
  {
   "cell_type": "code",
   "execution_count": 139,
   "metadata": {},
   "outputs": [
    {
     "data": {
      "text/html": [
       "<div>\n",
       "<style scoped>\n",
       "    .dataframe tbody tr th:only-of-type {\n",
       "        vertical-align: middle;\n",
       "    }\n",
       "\n",
       "    .dataframe tbody tr th {\n",
       "        vertical-align: top;\n",
       "    }\n",
       "\n",
       "    .dataframe thead th {\n",
       "        text-align: right;\n",
       "    }\n",
       "</style>\n",
       "<table border=\"1\" class=\"dataframe\">\n",
       "  <thead>\n",
       "    <tr style=\"text-align: right;\">\n",
       "      <th></th>\n",
       "      <th>order_item_id</th>\n",
       "      <th>order_date</th>\n",
       "      <th>delivery_date</th>\n",
       "      <th>item_id</th>\n",
       "      <th>item_size</th>\n",
       "      <th>item_color</th>\n",
       "      <th>brand_id</th>\n",
       "      <th>item_price</th>\n",
       "      <th>user_id</th>\n",
       "      <th>user_title</th>\n",
       "      <th>user_dob</th>\n",
       "      <th>user_state</th>\n",
       "      <th>user_reg_date</th>\n",
       "      <th>Predicted</th>\n",
       "    </tr>\n",
       "  </thead>\n",
       "  <tbody>\n",
       "    <tr>\n",
       "      <th>0</th>\n",
       "      <td>26</td>\n",
       "      <td>23-06-2016</td>\n",
       "      <td>26-06-2016</td>\n",
       "      <td>92</td>\n",
       "      <td>xl</td>\n",
       "      <td>turquoise</td>\n",
       "      <td>42</td>\n",
       "      <td>69.90</td>\n",
       "      <td>9392</td>\n",
       "      <td>Mrs</td>\n",
       "      <td>14-04-1962</td>\n",
       "      <td>1010</td>\n",
       "      <td>24-03-2016</td>\n",
       "      <td>0.0</td>\n",
       "    </tr>\n",
       "    <tr>\n",
       "      <th>1</th>\n",
       "      <td>28</td>\n",
       "      <td>23-06-2016</td>\n",
       "      <td>02-07-2016</td>\n",
       "      <td>2</td>\n",
       "      <td>xxl</td>\n",
       "      <td>green</td>\n",
       "      <td>2</td>\n",
       "      <td>19.90</td>\n",
       "      <td>9392</td>\n",
       "      <td>Mrs</td>\n",
       "      <td>14-04-1962</td>\n",
       "      <td>1010</td>\n",
       "      <td>24-03-2016</td>\n",
       "      <td>0.0</td>\n",
       "    </tr>\n",
       "    <tr>\n",
       "      <th>2</th>\n",
       "      <td>37</td>\n",
       "      <td>23-06-2016</td>\n",
       "      <td>26-06-2016</td>\n",
       "      <td>895</td>\n",
       "      <td>38</td>\n",
       "      <td>white</td>\n",
       "      <td>39</td>\n",
       "      <td>39.95</td>\n",
       "      <td>30826</td>\n",
       "      <td>Mrs</td>\n",
       "      <td>27-04-1964</td>\n",
       "      <td>1001</td>\n",
       "      <td>17-02-2015</td>\n",
       "      <td>1.0</td>\n",
       "    </tr>\n",
       "    <tr>\n",
       "      <th>3</th>\n",
       "      <td>56</td>\n",
       "      <td>23-06-2016</td>\n",
       "      <td>NaN</td>\n",
       "      <td>5</td>\n",
       "      <td>l</td>\n",
       "      <td>white</td>\n",
       "      <td>5</td>\n",
       "      <td>69.90</td>\n",
       "      <td>30828</td>\n",
       "      <td>Mrs</td>\n",
       "      <td>13-05-1966</td>\n",
       "      <td>1008</td>\n",
       "      <td>21-01-2016</td>\n",
       "      <td>NaN</td>\n",
       "    </tr>\n",
       "    <tr>\n",
       "      <th>4</th>\n",
       "      <td>65</td>\n",
       "      <td>23-06-2016</td>\n",
       "      <td>NaN</td>\n",
       "      <td>55</td>\n",
       "      <td>40</td>\n",
       "      <td>purple</td>\n",
       "      <td>1</td>\n",
       "      <td>89.90</td>\n",
       "      <td>22948</td>\n",
       "      <td>Mrs</td>\n",
       "      <td>11-03-1957</td>\n",
       "      <td>1001</td>\n",
       "      <td>17-02-2015</td>\n",
       "      <td>NaN</td>\n",
       "    </tr>\n",
       "  </tbody>\n",
       "</table>\n",
       "</div>"
      ],
      "text/plain": [
       "   order_item_id  order_date delivery_date  item_id item_size item_color  \\\n",
       "0             26  23-06-2016    26-06-2016       92        xl  turquoise   \n",
       "1             28  23-06-2016    02-07-2016        2       xxl      green   \n",
       "2             37  23-06-2016    26-06-2016      895        38      white   \n",
       "3             56  23-06-2016           NaN        5         l      white   \n",
       "4             65  23-06-2016           NaN       55        40     purple   \n",
       "\n",
       "   brand_id  item_price  user_id user_title    user_dob  user_state  \\\n",
       "0        42       69.90     9392        Mrs  14-04-1962        1010   \n",
       "1         2       19.90     9392        Mrs  14-04-1962        1010   \n",
       "2        39       39.95    30826        Mrs  27-04-1964        1001   \n",
       "3         5       69.90    30828        Mrs  13-05-1966        1008   \n",
       "4         1       89.90    22948        Mrs  11-03-1957        1001   \n",
       "\n",
       "  user_reg_date  Predicted  \n",
       "0    24-03-2016        0.0  \n",
       "1    24-03-2016        0.0  \n",
       "2    17-02-2015        1.0  \n",
       "3    21-01-2016        NaN  \n",
       "4    17-02-2015        NaN  "
      ]
     },
     "execution_count": 139,
     "metadata": {},
     "output_type": "execute_result"
    }
   ],
   "source": [
    "delv_df.head()"
   ]
  },
  {
   "cell_type": "code",
   "execution_count": 138,
   "metadata": {},
   "outputs": [],
   "source": [
    "delv_df.drop(\"train_test_indicator\",axis=1,inplace=True)#dropping train_test indicator variable"
   ]
  },
  {
   "cell_type": "markdown",
   "metadata": {},
   "source": [
    "Since some of the delivery dates are missing in the test data and some of them have delivery dates which are far earlier than order date, we assume that for those line items predicted values would be zero since there would be no chance of return"
   ]
  },
  {
   "cell_type": "code",
   "execution_count": 140,
   "metadata": {},
   "outputs": [],
   "source": [
    "delv_df.to_csv(\"Predicted_Test_Data_SumeetRoutray.csv\")#writing the final output(consisting of predicted column) to csv"
   ]
  },
  {
   "cell_type": "markdown",
   "metadata": {},
   "source": [
    "# ------------------------------------------THE END-----------------------------------------------"
   ]
  }
 ],
 "metadata": {
  "kernelspec": {
   "display_name": "Python 3",
   "language": "python",
   "name": "python3"
  },
  "language_info": {
   "codemirror_mode": {
    "name": "ipython",
    "version": 3
   },
   "file_extension": ".py",
   "mimetype": "text/x-python",
   "name": "python",
   "nbconvert_exporter": "python",
   "pygments_lexer": "ipython3",
   "version": "3.8.5"
  }
 },
 "nbformat": 4,
 "nbformat_minor": 4
}
