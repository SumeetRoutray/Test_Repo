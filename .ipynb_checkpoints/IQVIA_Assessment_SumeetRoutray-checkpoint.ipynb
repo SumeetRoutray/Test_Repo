{
 "cells": [
  {
   "cell_type": "markdown",
   "id": "55ffa9ed",
   "metadata": {},
   "source": [
    "# IQVIA Assessment: Coded by Sumeet Routray"
   ]
  },
  {
   "cell_type": "markdown",
   "id": "752e7158",
   "metadata": {},
   "source": [
    "IMPORTING PACKAGES"
   ]
  },
  {
   "cell_type": "code",
   "execution_count": 1,
   "id": "33735853",
   "metadata": {},
   "outputs": [],
   "source": [
    "import pandas as pd\n",
    "import numpy as np\n",
    "import matplotlib.pyplot as plt\n",
    "import seaborn as sns\n",
    "import warnings\n",
    "warnings.filterwarnings('ignore')"
   ]
  },
  {
   "cell_type": "code",
   "execution_count": 2,
   "id": "7e37bd12",
   "metadata": {},
   "outputs": [],
   "source": [
    "from kmodes.kprototypes import KPrototypes\n",
    "from plotnine import *\n",
    "import plotnine"
   ]
  },
  {
   "cell_type": "markdown",
   "id": "9a68a65f",
   "metadata": {},
   "source": [
    "READING DATA"
   ]
  },
  {
   "cell_type": "code",
   "execution_count": 3,
   "id": "02ae5744",
   "metadata": {},
   "outputs": [],
   "source": [
    "df = pd.read_excel(\"Q2_Dummy data - EXERCISE.xlsx\", sheet_name= \"DATA\")"
   ]
  },
  {
   "cell_type": "markdown",
   "id": "45575687",
   "metadata": {},
   "source": [
    "CREATION OF DERIVED VARIABLE & CONVERSION OF VARIABLES"
   ]
  },
  {
   "cell_type": "code",
   "execution_count": 4,
   "id": "b7daabf2",
   "metadata": {},
   "outputs": [],
   "source": [
    "#Converting to date-type\n",
    "for col in ['claim_date','patient_dob']:\n",
    "    df[col] = pd.to_datetime(df[col], infer_datetime_format=True)"
   ]
  },
  {
   "cell_type": "code",
   "execution_count": 5,
   "id": "ad31c914",
   "metadata": {},
   "outputs": [],
   "source": [
    "#Creating a derived variable \"Age\"\n",
    "df['Patient_Age']= np.trunc((df['claim_date'] - df['patient_dob'])/np.timedelta64(1,'Y'))"
   ]
  },
  {
   "cell_type": "code",
   "execution_count": 6,
   "id": "3ed7fabd",
   "metadata": {},
   "outputs": [
    {
     "data": {
      "text/html": [
       "<div>\n",
       "<style scoped>\n",
       "    .dataframe tbody tr th:only-of-type {\n",
       "        vertical-align: middle;\n",
       "    }\n",
       "\n",
       "    .dataframe tbody tr th {\n",
       "        vertical-align: top;\n",
       "    }\n",
       "\n",
       "    .dataframe thead th {\n",
       "        text-align: right;\n",
       "    }\n",
       "</style>\n",
       "<table border=\"1\" class=\"dataframe\">\n",
       "  <thead>\n",
       "    <tr style=\"text-align: right;\">\n",
       "      <th></th>\n",
       "      <th>patient_id</th>\n",
       "      <th>claim_id</th>\n",
       "      <th>claim_date</th>\n",
       "      <th>claim_amount</th>\n",
       "      <th>physician_id</th>\n",
       "      <th>diagnosis_code</th>\n",
       "      <th>procedure_code</th>\n",
       "      <th>patient_dob</th>\n",
       "      <th>DOB year</th>\n",
       "      <th>patient_gender</th>\n",
       "      <th>patient_race</th>\n",
       "      <th>Patient country</th>\n",
       "      <th>patient_has_cancer</th>\n",
       "      <th>patient_has_diabetes</th>\n",
       "      <th>Total money spent</th>\n",
       "      <th>Patient_Age</th>\n",
       "    </tr>\n",
       "  </thead>\n",
       "  <tbody>\n",
       "    <tr>\n",
       "      <th>0</th>\n",
       "      <td>0057BAF42479AF6A</td>\n",
       "      <td>542412281632605</td>\n",
       "      <td>2009-07-22</td>\n",
       "      <td>50</td>\n",
       "      <td>5.056870e+09</td>\n",
       "      <td>72270</td>\n",
       "      <td>NaN</td>\n",
       "      <td>1942-05-01</td>\n",
       "      <td>1942</td>\n",
       "      <td>Female</td>\n",
       "      <td>White</td>\n",
       "      <td>USA</td>\n",
       "      <td>2</td>\n",
       "      <td>2</td>\n",
       "      <td>16580</td>\n",
       "      <td>67.0</td>\n",
       "    </tr>\n",
       "    <tr>\n",
       "      <th>1</th>\n",
       "      <td>0057BAF42479AF6A</td>\n",
       "      <td>542842280924481</td>\n",
       "      <td>2009-09-19</td>\n",
       "      <td>50</td>\n",
       "      <td>8.933392e+09</td>\n",
       "      <td>4019</td>\n",
       "      <td>NaN</td>\n",
       "      <td>1942-05-01</td>\n",
       "      <td>1942</td>\n",
       "      <td>Female</td>\n",
       "      <td>White</td>\n",
       "      <td>Germany</td>\n",
       "      <td>2</td>\n",
       "      <td>2</td>\n",
       "      <td>12897</td>\n",
       "      <td>67.0</td>\n",
       "    </tr>\n",
       "    <tr>\n",
       "      <th>2</th>\n",
       "      <td>0097F42825586D59</td>\n",
       "      <td>542892281178580</td>\n",
       "      <td>2009-06-11</td>\n",
       "      <td>200</td>\n",
       "      <td>3.274116e+08</td>\n",
       "      <td>6108</td>\n",
       "      <td>NaN</td>\n",
       "      <td>1921-07-01</td>\n",
       "      <td>1921</td>\n",
       "      <td>Female</td>\n",
       "      <td>White</td>\n",
       "      <td>France</td>\n",
       "      <td>2</td>\n",
       "      <td>2</td>\n",
       "      <td>13049</td>\n",
       "      <td>87.0</td>\n",
       "    </tr>\n",
       "    <tr>\n",
       "      <th>3</th>\n",
       "      <td>0097F42825586D59</td>\n",
       "      <td>542042281368648</td>\n",
       "      <td>2009-10-22</td>\n",
       "      <td>60</td>\n",
       "      <td>4.022239e+09</td>\n",
       "      <td>38653</td>\n",
       "      <td>NaN</td>\n",
       "      <td>1921-07-01</td>\n",
       "      <td>1921</td>\n",
       "      <td>Female</td>\n",
       "      <td>White</td>\n",
       "      <td>UK</td>\n",
       "      <td>2</td>\n",
       "      <td>2</td>\n",
       "      <td>14002</td>\n",
       "      <td>88.0</td>\n",
       "    </tr>\n",
       "    <tr>\n",
       "      <th>4</th>\n",
       "      <td>0097F42825586D59</td>\n",
       "      <td>542292281274912</td>\n",
       "      <td>2010-03-03</td>\n",
       "      <td>10</td>\n",
       "      <td>6.845115e+09</td>\n",
       "      <td>7140</td>\n",
       "      <td>NaN</td>\n",
       "      <td>1921-07-01</td>\n",
       "      <td>1921</td>\n",
       "      <td>Female</td>\n",
       "      <td>White</td>\n",
       "      <td>Italy</td>\n",
       "      <td>2</td>\n",
       "      <td>2</td>\n",
       "      <td>19684</td>\n",
       "      <td>88.0</td>\n",
       "    </tr>\n",
       "  </tbody>\n",
       "</table>\n",
       "</div>"
      ],
      "text/plain": [
       "         patient_id         claim_id claim_date  claim_amount  physician_id  \\\n",
       "0  0057BAF42479AF6A  542412281632605 2009-07-22            50  5.056870e+09   \n",
       "1  0057BAF42479AF6A  542842280924481 2009-09-19            50  8.933392e+09   \n",
       "2  0097F42825586D59  542892281178580 2009-06-11           200  3.274116e+08   \n",
       "3  0097F42825586D59  542042281368648 2009-10-22            60  4.022239e+09   \n",
       "4  0097F42825586D59  542292281274912 2010-03-03            10  6.845115e+09   \n",
       "\n",
       "  diagnosis_code  procedure_code patient_dob  DOB year patient_gender  \\\n",
       "0          72270             NaN  1942-05-01      1942         Female   \n",
       "1           4019             NaN  1942-05-01      1942         Female   \n",
       "2           6108             NaN  1921-07-01      1921         Female   \n",
       "3          38653             NaN  1921-07-01      1921         Female   \n",
       "4           7140             NaN  1921-07-01      1921         Female   \n",
       "\n",
       "  patient_race Patient country  patient_has_cancer  patient_has_diabetes  \\\n",
       "0        White             USA                   2                     2   \n",
       "1        White         Germany                   2                     2   \n",
       "2        White          France                   2                     2   \n",
       "3        White              UK                   2                     2   \n",
       "4        White           Italy                   2                     2   \n",
       "\n",
       "   Total money spent  Patient_Age  \n",
       "0              16580         67.0  \n",
       "1              12897         67.0  \n",
       "2              13049         87.0  \n",
       "3              14002         88.0  \n",
       "4              19684         88.0  "
      ]
     },
     "execution_count": 6,
     "metadata": {},
     "output_type": "execute_result"
    }
   ],
   "source": [
    "df.head()"
   ]
  },
  {
   "cell_type": "code",
   "execution_count": 7,
   "id": "28ac2a48",
   "metadata": {},
   "outputs": [
    {
     "data": {
      "text/plain": [
       "(1838, 16)"
      ]
     },
     "execution_count": 7,
     "metadata": {},
     "output_type": "execute_result"
    }
   ],
   "source": [
    "df.shape"
   ]
  },
  {
   "cell_type": "code",
   "execution_count": 8,
   "id": "df1f007c",
   "metadata": {},
   "outputs": [
    {
     "name": "stdout",
     "output_type": "stream",
     "text": [
      "<class 'pandas.core.frame.DataFrame'>\n",
      "RangeIndex: 1838 entries, 0 to 1837\n",
      "Data columns (total 16 columns):\n",
      " #   Column                Non-Null Count  Dtype         \n",
      "---  ------                --------------  -----         \n",
      " 0   patient_id            1838 non-null   object        \n",
      " 1   claim_id              1838 non-null   int64         \n",
      " 2   claim_date            1838 non-null   datetime64[ns]\n",
      " 3   claim_amount          1838 non-null   int64         \n",
      " 4   physician_id          1817 non-null   float64       \n",
      " 5   diagnosis_code        1838 non-null   object        \n",
      " 6   procedure_code        1 non-null      float64       \n",
      " 7   patient_dob           1838 non-null   datetime64[ns]\n",
      " 8   DOB year              1838 non-null   int64         \n",
      " 9   patient_gender        1838 non-null   object        \n",
      " 10  patient_race          1838 non-null   object        \n",
      " 11  Patient country       1838 non-null   object        \n",
      " 12  patient_has_cancer    1838 non-null   int64         \n",
      " 13  patient_has_diabetes  1838 non-null   int64         \n",
      " 14  Total money spent     1838 non-null   int64         \n",
      " 15  Patient_Age           1838 non-null   float64       \n",
      "dtypes: datetime64[ns](2), float64(3), int64(6), object(5)\n",
      "memory usage: 229.9+ KB\n"
     ]
    }
   ],
   "source": [
    "df.info()"
   ]
  },
  {
   "cell_type": "code",
   "execution_count": 9,
   "id": "8a2432d2",
   "metadata": {},
   "outputs": [],
   "source": [
    "#Converting to Categorical/String type\n",
    "df['patient_has_cancer']=df[\"patient_has_cancer\"].astype(str)\n",
    "df['patient_has_diabetes']=df[\"patient_has_diabetes\"].astype(str)"
   ]
  },
  {
   "cell_type": "code",
   "execution_count": 10,
   "id": "478a49d4",
   "metadata": {},
   "outputs": [
    {
     "name": "stdout",
     "output_type": "stream",
     "text": [
      "<class 'pandas.core.frame.DataFrame'>\n",
      "RangeIndex: 1838 entries, 0 to 1837\n",
      "Data columns (total 16 columns):\n",
      " #   Column                Non-Null Count  Dtype         \n",
      "---  ------                --------------  -----         \n",
      " 0   patient_id            1838 non-null   object        \n",
      " 1   claim_id              1838 non-null   int64         \n",
      " 2   claim_date            1838 non-null   datetime64[ns]\n",
      " 3   claim_amount          1838 non-null   int64         \n",
      " 4   physician_id          1817 non-null   float64       \n",
      " 5   diagnosis_code        1838 non-null   object        \n",
      " 6   procedure_code        1 non-null      float64       \n",
      " 7   patient_dob           1838 non-null   datetime64[ns]\n",
      " 8   DOB year              1838 non-null   int64         \n",
      " 9   patient_gender        1838 non-null   object        \n",
      " 10  patient_race          1838 non-null   object        \n",
      " 11  Patient country       1838 non-null   object        \n",
      " 12  patient_has_cancer    1838 non-null   object        \n",
      " 13  patient_has_diabetes  1838 non-null   object        \n",
      " 14  Total money spent     1838 non-null   int64         \n",
      " 15  Patient_Age           1838 non-null   float64       \n",
      "dtypes: datetime64[ns](2), float64(3), int64(4), object(7)\n",
      "memory usage: 229.9+ KB\n"
     ]
    }
   ],
   "source": [
    "df.info()"
   ]
  },
  {
   "cell_type": "code",
   "execution_count": 11,
   "id": "c3bfbef9",
   "metadata": {},
   "outputs": [
    {
     "data": {
      "text/plain": [
       "array(['2', '1'], dtype=object)"
      ]
     },
     "execution_count": 11,
     "metadata": {},
     "output_type": "execute_result"
    }
   ],
   "source": [
    "df['patient_has_cancer'].unique()"
   ]
  },
  {
   "cell_type": "code",
   "execution_count": 12,
   "id": "2101b522",
   "metadata": {},
   "outputs": [
    {
     "data": {
      "text/plain": [
       "patient_id               546\n",
       "diagnosis_code          1201\n",
       "patient_gender             2\n",
       "patient_race               4\n",
       "Patient country            7\n",
       "patient_has_cancer         2\n",
       "patient_has_diabetes       2\n",
       "dtype: int64"
      ]
     },
     "execution_count": 12,
     "metadata": {},
     "output_type": "execute_result"
    }
   ],
   "source": [
    "#Checking for unique values\n",
    "df.select_dtypes('object').nunique()"
   ]
  },
  {
   "cell_type": "code",
   "execution_count": 13,
   "id": "c3514e65",
   "metadata": {},
   "outputs": [
    {
     "data": {
      "text/html": [
       "<div>\n",
       "<style scoped>\n",
       "    .dataframe tbody tr th:only-of-type {\n",
       "        vertical-align: middle;\n",
       "    }\n",
       "\n",
       "    .dataframe tbody tr th {\n",
       "        vertical-align: top;\n",
       "    }\n",
       "\n",
       "    .dataframe thead th {\n",
       "        text-align: right;\n",
       "    }\n",
       "</style>\n",
       "<table border=\"1\" class=\"dataframe\">\n",
       "  <thead>\n",
       "    <tr style=\"text-align: right;\">\n",
       "      <th></th>\n",
       "      <th>claim_amount</th>\n",
       "      <th>Total money spent</th>\n",
       "      <th>Patient_Age</th>\n",
       "    </tr>\n",
       "  </thead>\n",
       "  <tbody>\n",
       "    <tr>\n",
       "      <th>count</th>\n",
       "      <td>1838.000000</td>\n",
       "      <td>1838.000000</td>\n",
       "      <td>1838.000000</td>\n",
       "    </tr>\n",
       "    <tr>\n",
       "      <th>mean</th>\n",
       "      <td>246.158868</td>\n",
       "      <td>9715.233950</td>\n",
       "      <td>72.689336</td>\n",
       "    </tr>\n",
       "    <tr>\n",
       "      <th>std</th>\n",
       "      <td>511.401035</td>\n",
       "      <td>5786.996441</td>\n",
       "      <td>12.665359</td>\n",
       "    </tr>\n",
       "    <tr>\n",
       "      <th>min</th>\n",
       "      <td>-90.000000</td>\n",
       "      <td>11.000000</td>\n",
       "      <td>26.000000</td>\n",
       "    </tr>\n",
       "    <tr>\n",
       "      <th>25%</th>\n",
       "      <td>40.000000</td>\n",
       "      <td>4650.000000</td>\n",
       "      <td>67.000000</td>\n",
       "    </tr>\n",
       "    <tr>\n",
       "      <th>50%</th>\n",
       "      <td>80.000000</td>\n",
       "      <td>9618.500000</td>\n",
       "      <td>73.000000</td>\n",
       "    </tr>\n",
       "    <tr>\n",
       "      <th>75%</th>\n",
       "      <td>200.000000</td>\n",
       "      <td>14657.500000</td>\n",
       "      <td>81.000000</td>\n",
       "    </tr>\n",
       "    <tr>\n",
       "      <th>max</th>\n",
       "      <td>3300.000000</td>\n",
       "      <td>19997.000000</td>\n",
       "      <td>100.000000</td>\n",
       "    </tr>\n",
       "  </tbody>\n",
       "</table>\n",
       "</div>"
      ],
      "text/plain": [
       "       claim_amount  Total money spent  Patient_Age\n",
       "count   1838.000000        1838.000000  1838.000000\n",
       "mean     246.158868        9715.233950    72.689336\n",
       "std      511.401035        5786.996441    12.665359\n",
       "min      -90.000000          11.000000    26.000000\n",
       "25%       40.000000        4650.000000    67.000000\n",
       "50%       80.000000        9618.500000    73.000000\n",
       "75%      200.000000       14657.500000    81.000000\n",
       "max     3300.000000       19997.000000   100.000000"
      ]
     },
     "execution_count": 13,
     "metadata": {},
     "output_type": "execute_result"
    }
   ],
   "source": [
    "df[['claim_amount','Total money spent','Patient_Age']].describe()"
   ]
  },
  {
   "cell_type": "code",
   "execution_count": 14,
   "id": "2c2b827d",
   "metadata": {},
   "outputs": [
    {
     "data": {
      "text/plain": [
       "claim_amount            0\n",
       "Total money spent       0\n",
       "Patient_Age             0\n",
       "patient_gender          0\n",
       "patient_race            0\n",
       "Patient country         0\n",
       "patient_has_cancer      0\n",
       "patient_has_diabetes    0\n",
       "dtype: int64"
      ]
     },
     "execution_count": 14,
     "metadata": {},
     "output_type": "execute_result"
    }
   ],
   "source": [
    "#Checking for missing values\n",
    "df[['claim_amount','Total money spent','Patient_Age','patient_gender','patient_race','Patient country','patient_has_cancer','patient_has_diabetes']].isna().sum()"
   ]
  },
  {
   "cell_type": "code",
   "execution_count": 15,
   "id": "477496db",
   "metadata": {},
   "outputs": [],
   "source": [
    "df_num_var=df[['claim_amount','Total money spent','Patient_Age']]\n",
    "df_cat_var=df[['patient_gender','patient_race','Patient country','patient_has_cancer','patient_has_diabetes']]"
   ]
  },
  {
   "cell_type": "markdown",
   "id": "310e830a",
   "metadata": {},
   "source": [
    "SCALING NUMERIC VARIABLES & FORMING K-PROTO CLUSTERS"
   ]
  },
  {
   "cell_type": "code",
   "execution_count": 16,
   "id": "007f03c5",
   "metadata": {},
   "outputs": [],
   "source": [
    "from sklearn.preprocessing import StandardScaler"
   ]
  },
  {
   "cell_type": "code",
   "execution_count": 17,
   "id": "39a88ca1",
   "metadata": {},
   "outputs": [
    {
     "data": {
      "text/plain": [
       "array([[-0.3836759 ,  1.18656273, -0.44932673],\n",
       "       [-0.3836759 ,  0.54996266, -0.44932673],\n",
       "       [-0.09028419,  0.57623559,  1.13021336],\n",
       "       ...,\n",
       "       [-0.09028419, -0.68037111,  0.81430534],\n",
       "       [-0.09028419,  1.21197142,  0.89328234],\n",
       "       [-0.28587866,  0.77380113,  0.81430534]])"
      ]
     },
     "execution_count": 17,
     "metadata": {},
     "output_type": "execute_result"
    }
   ],
   "source": [
    "#Scaling the numeric variables\n",
    "scaler=StandardScaler()\n",
    "scaler.fit(df_num_var)\n",
    "scaled_features=scaler.transform(df_num_var)\n",
    "scaled_features"
   ]
  },
  {
   "cell_type": "code",
   "execution_count": 18,
   "id": "b88b5d34",
   "metadata": {},
   "outputs": [],
   "source": [
    "df_num_var=pd.DataFrame(scaled_features,columns=df_num_var.columns)"
   ]
  },
  {
   "cell_type": "code",
   "execution_count": 19,
   "id": "b034f62c",
   "metadata": {},
   "outputs": [
    {
     "data": {
      "text/html": [
       "<div>\n",
       "<style scoped>\n",
       "    .dataframe tbody tr th:only-of-type {\n",
       "        vertical-align: middle;\n",
       "    }\n",
       "\n",
       "    .dataframe tbody tr th {\n",
       "        vertical-align: top;\n",
       "    }\n",
       "\n",
       "    .dataframe thead th {\n",
       "        text-align: right;\n",
       "    }\n",
       "</style>\n",
       "<table border=\"1\" class=\"dataframe\">\n",
       "  <thead>\n",
       "    <tr style=\"text-align: right;\">\n",
       "      <th></th>\n",
       "      <th>claim_amount</th>\n",
       "      <th>Total money spent</th>\n",
       "      <th>Patient_Age</th>\n",
       "    </tr>\n",
       "  </thead>\n",
       "  <tbody>\n",
       "    <tr>\n",
       "      <th>0</th>\n",
       "      <td>-0.383676</td>\n",
       "      <td>1.186563</td>\n",
       "      <td>-0.449327</td>\n",
       "    </tr>\n",
       "    <tr>\n",
       "      <th>1</th>\n",
       "      <td>-0.383676</td>\n",
       "      <td>0.549963</td>\n",
       "      <td>-0.449327</td>\n",
       "    </tr>\n",
       "    <tr>\n",
       "      <th>2</th>\n",
       "      <td>-0.090284</td>\n",
       "      <td>0.576236</td>\n",
       "      <td>1.130213</td>\n",
       "    </tr>\n",
       "    <tr>\n",
       "      <th>3</th>\n",
       "      <td>-0.364116</td>\n",
       "      <td>0.740960</td>\n",
       "      <td>1.209190</td>\n",
       "    </tr>\n",
       "    <tr>\n",
       "      <th>4</th>\n",
       "      <td>-0.461914</td>\n",
       "      <td>1.723084</td>\n",
       "      <td>1.209190</td>\n",
       "    </tr>\n",
       "  </tbody>\n",
       "</table>\n",
       "</div>"
      ],
      "text/plain": [
       "   claim_amount  Total money spent  Patient_Age\n",
       "0     -0.383676           1.186563    -0.449327\n",
       "1     -0.383676           0.549963    -0.449327\n",
       "2     -0.090284           0.576236     1.130213\n",
       "3     -0.364116           0.740960     1.209190\n",
       "4     -0.461914           1.723084     1.209190"
      ]
     },
     "execution_count": 19,
     "metadata": {},
     "output_type": "execute_result"
    }
   ],
   "source": [
    "df_num_var.head()"
   ]
  },
  {
   "cell_type": "code",
   "execution_count": 20,
   "id": "136c0cce",
   "metadata": {},
   "outputs": [],
   "source": [
    "df_final=pd.concat([df_num_var,df_cat_var],axis=1) #Concatenating numeric with categorical variables"
   ]
  },
  {
   "cell_type": "code",
   "execution_count": 21,
   "id": "99437ddf",
   "metadata": {},
   "outputs": [
    {
     "name": "stdout",
     "output_type": "stream",
     "text": [
      "<class 'pandas.core.frame.DataFrame'>\n",
      "RangeIndex: 1838 entries, 0 to 1837\n",
      "Data columns (total 8 columns):\n",
      " #   Column                Non-Null Count  Dtype  \n",
      "---  ------                --------------  -----  \n",
      " 0   claim_amount          1838 non-null   float64\n",
      " 1   Total money spent     1838 non-null   float64\n",
      " 2   Patient_Age           1838 non-null   float64\n",
      " 3   patient_gender        1838 non-null   object \n",
      " 4   patient_race          1838 non-null   object \n",
      " 5   Patient country       1838 non-null   object \n",
      " 6   patient_has_cancer    1838 non-null   object \n",
      " 7   patient_has_diabetes  1838 non-null   object \n",
      "dtypes: float64(3), object(5)\n",
      "memory usage: 115.0+ KB\n"
     ]
    }
   ],
   "source": [
    "df_final.info()"
   ]
  },
  {
   "cell_type": "code",
   "execution_count": 22,
   "id": "ca6b22b9",
   "metadata": {},
   "outputs": [
    {
     "name": "stdout",
     "output_type": "stream",
     "text": [
      "Categorical columns           : ['patient_gender', 'patient_race', 'Patient country', 'patient_has_cancer', 'patient_has_diabetes']\n",
      "Categorical columns position  : [3, 4, 5, 6, 7]\n"
     ]
    }
   ],
   "source": [
    "# Get the position of categorical columns\n",
    "catColumnsPos = [df_final.columns.get_loc(col) for col in list(df_final.select_dtypes('object').columns)]\n",
    "print('Categorical columns           : {}'.format(list(df_final.select_dtypes('object').columns)))\n",
    "print('Categorical columns position  : {}'.format(catColumnsPos))"
   ]
  },
  {
   "cell_type": "code",
   "execution_count": 23,
   "id": "19dbae8a",
   "metadata": {},
   "outputs": [],
   "source": [
    "dfMatrix = df_final.to_numpy()"
   ]
  },
  {
   "cell_type": "code",
   "execution_count": 24,
   "id": "aeadc7c5",
   "metadata": {},
   "outputs": [
    {
     "name": "stdout",
     "output_type": "stream",
     "text": [
      "Cluster initiation: 1\n",
      "Cluster initiation: 2\n",
      "Cluster initiation: 3\n",
      "Cluster initiation: 4\n",
      "Cluster initiation: 5\n",
      "Cluster initiation: 6\n",
      "Cluster initiation: 7\n",
      "Cluster initiation: 8\n",
      "Cluster initiation: 9\n",
      "Cluster initiation: 10\n",
      "Cluster initiation: 11\n",
      "Cluster initiation: 12\n",
      "Cluster initiation: 13\n",
      "Cluster initiation: 14\n",
      "Cluster initiation: 15\n",
      "Cluster initiation: 16\n",
      "Cluster initiation: 17\n",
      "Cluster initiation: 18\n",
      "Cluster initiation: 19\n",
      "Cluster initiation: 20\n"
     ]
    }
   ],
   "source": [
    "#Finding optimal Clusters using K-proto\n",
    "cost = []\n",
    "for cluster in range(1, 21):\n",
    "    try:\n",
    "        kprototype = KPrototypes(n_jobs = -1, n_clusters = cluster, init = 'Huang', random_state = 0)\n",
    "        kprototype.fit_predict(dfMatrix, categorical = catColumnsPos)\n",
    "        cost.append(kprototype.cost_)\n",
    "        print('Cluster initiation: {}'.format(cluster))\n",
    "    except:\n",
    "        break"
   ]
  },
  {
   "cell_type": "code",
   "execution_count": 25,
   "id": "3969047f",
   "metadata": {},
   "outputs": [
    {
     "data": {
      "image/png": "[encoded data removed]",
      "text/plain": [
       "<Figure size 800x480 with 1 Axes>"
      ]
     },
     "metadata": {
      "needs_background": "light"
     },
     "output_type": "display_data"
    },
    {
     "data": {
      "text/plain": [
       "<ggplot: (141431868606)>"
      ]
     },
     "execution_count": 25,
     "metadata": {},
     "output_type": "execute_result"
    }
   ],
   "source": [
    "# Converting the results into a dataframe and plotting them\n",
    "# Choose optimal K using Elbow method\n",
    "df_cost = pd.DataFrame({'Cluster':range(1, 21), 'Cost':cost})\n",
    "# Data viz\n",
    "plotnine.options.figure_size = (8, 4.8)\n",
    "(\n",
    "    ggplot(data = df_cost)+\n",
    "    geom_line(aes(x = 'Cluster',\n",
    "                  y = 'Cost'))+\n",
    "    geom_point(aes(x = 'Cluster',\n",
    "                   y = 'Cost'))+\n",
    "    geom_label(aes(x = 'Cluster',\n",
    "                   y = 'Cost',\n",
    "                   label = 'Cluster'),\n",
    "               size = 10,\n",
    "               nudge_y = 1000) +\n",
    "    labs(title = 'Optimal number of cluster with Elbow Method')+\n",
    "    xlab('Number of Clusters k')+\n",
    "    ylab('Cost')+\n",
    "    theme_minimal()\n",
    ")"
   ]
  },
  {
   "cell_type": "code",
   "execution_count": 26,
   "id": "74f7c14e",
   "metadata": {},
   "outputs": [
    {
     "data": {
      "text/plain": [
       "array([2, 2, 2, ..., 1, 2, 2], dtype=uint16)"
      ]
     },
     "execution_count": 26,
     "metadata": {},
     "output_type": "execute_result"
    }
   ],
   "source": [
    "#Fitting the CLusters\n",
    "kprototype = KPrototypes(n_jobs = -1, n_clusters = 5, init = 'Huang', random_state = 0)\n",
    "kprototype.fit_predict(dfMatrix, categorical = catColumnsPos)"
   ]
  },
  {
   "cell_type": "code",
   "execution_count": 27,
   "id": "e8c6fe83",
   "metadata": {},
   "outputs": [
    {
     "name": "stdout",
     "output_type": "stream",
     "text": [
      "[['-0.16727017750931095' '-0.8707433930866013' '-0.20639346746231838'\n",
      "  'Male' 'White' 'Germany' '2' '2']\n",
      " ['-0.19356761550857182' '-0.5524924998423201' '0.9316150836747575'\n",
      "  'Female' 'White' 'USA' '2' '1']\n",
      " ['-0.185139930911855' '1.022052202557367' '0.2252225963267691' 'Female'\n",
      "  'White' 'Germany' '2' '2']\n",
      " ['4.096427821726232' '-0.03020354957620924' '-0.22139310005419693'\n",
      "  'Female' 'White' 'Italy' '2' '2']\n",
      " ['-0.201983977279693' '0.024784466890544882' '-1.992862599519488'\n",
      "  'Female' 'White' 'Germany' '2' '1']]\n",
      "14\n",
      "3311.4159552014708\n"
     ]
    }
   ],
   "source": [
    "# Clusters' centorid\n",
    "print(kprototype.cluster_centroids_)\n",
    "# Check the iteration of the clusters created\n",
    "print(kprototype.n_iter_)\n",
    "# Check the cost of the clusters created\n",
    "print(kprototype.cost_)"
   ]
  },
  {
   "cell_type": "code",
   "execution_count": 28,
   "id": "b5ee087f",
   "metadata": {},
   "outputs": [
    {
     "data": {
      "text/plain": [
       "array([2, 0, 1, 4, 3], dtype=uint16)"
      ]
     },
     "execution_count": 28,
     "metadata": {},
     "output_type": "execute_result"
    }
   ],
   "source": [
    "# Add the clusters to the dataframe\n",
    "df['Cluster Labels'] = kprototype.labels_\n",
    "df['Cluster Labels'].unique()"
   ]
  },
  {
   "cell_type": "code",
   "execution_count": 29,
   "id": "8aba732e",
   "metadata": {},
   "outputs": [],
   "source": [
    "df['Segment'] = df['Cluster Labels'].map({0:'First', 1:'Second', 2:'Third', 3:'Fourth', 4:'Fifth'})"
   ]
  },
  {
   "cell_type": "code",
   "execution_count": 30,
   "id": "f2bc0ce9",
   "metadata": {},
   "outputs": [
    {
     "name": "stdout",
     "output_type": "stream",
     "text": [
      "Third     645\n",
      "First     500\n",
      "Second    410\n",
      "Fifth     204\n",
      "Fourth     79\n",
      "Name: Segment, dtype: int64\n"
     ]
    },
    {
     "data": {
      "text/html": [
       "<div>\n",
       "<style scoped>\n",
       "    .dataframe tbody tr th:only-of-type {\n",
       "        vertical-align: middle;\n",
       "    }\n",
       "\n",
       "    .dataframe tbody tr th {\n",
       "        vertical-align: top;\n",
       "    }\n",
       "\n",
       "    .dataframe thead th {\n",
       "        text-align: right;\n",
       "    }\n",
       "</style>\n",
       "<table border=\"1\" class=\"dataframe\">\n",
       "  <thead>\n",
       "    <tr style=\"text-align: right;\">\n",
       "      <th></th>\n",
       "      <th>patient_id</th>\n",
       "      <th>claim_id</th>\n",
       "      <th>claim_date</th>\n",
       "      <th>claim_amount</th>\n",
       "      <th>physician_id</th>\n",
       "      <th>diagnosis_code</th>\n",
       "      <th>procedure_code</th>\n",
       "      <th>patient_dob</th>\n",
       "      <th>DOB year</th>\n",
       "      <th>patient_gender</th>\n",
       "      <th>patient_race</th>\n",
       "      <th>Patient country</th>\n",
       "      <th>patient_has_cancer</th>\n",
       "      <th>patient_has_diabetes</th>\n",
       "      <th>Total money spent</th>\n",
       "      <th>Patient_Age</th>\n",
       "      <th>Cluster Labels</th>\n",
       "      <th>Segment</th>\n",
       "    </tr>\n",
       "  </thead>\n",
       "  <tbody>\n",
       "    <tr>\n",
       "      <th>0</th>\n",
       "      <td>0057BAF42479AF6A</td>\n",
       "      <td>542412281632605</td>\n",
       "      <td>2009-07-22</td>\n",
       "      <td>50</td>\n",
       "      <td>5.056870e+09</td>\n",
       "      <td>72270</td>\n",
       "      <td>NaN</td>\n",
       "      <td>1942-05-01</td>\n",
       "      <td>1942</td>\n",
       "      <td>Female</td>\n",
       "      <td>White</td>\n",
       "      <td>USA</td>\n",
       "      <td>2</td>\n",
       "      <td>2</td>\n",
       "      <td>16580</td>\n",
       "      <td>67.0</td>\n",
       "      <td>2</td>\n",
       "      <td>Third</td>\n",
       "    </tr>\n",
       "    <tr>\n",
       "      <th>1</th>\n",
       "      <td>0057BAF42479AF6A</td>\n",
       "      <td>542842280924481</td>\n",
       "      <td>2009-09-19</td>\n",
       "      <td>50</td>\n",
       "      <td>8.933392e+09</td>\n",
       "      <td>4019</td>\n",
       "      <td>NaN</td>\n",
       "      <td>1942-05-01</td>\n",
       "      <td>1942</td>\n",
       "      <td>Female</td>\n",
       "      <td>White</td>\n",
       "      <td>Germany</td>\n",
       "      <td>2</td>\n",
       "      <td>2</td>\n",
       "      <td>12897</td>\n",
       "      <td>67.0</td>\n",
       "      <td>2</td>\n",
       "      <td>Third</td>\n",
       "    </tr>\n",
       "    <tr>\n",
       "      <th>2</th>\n",
       "      <td>0097F42825586D59</td>\n",
       "      <td>542892281178580</td>\n",
       "      <td>2009-06-11</td>\n",
       "      <td>200</td>\n",
       "      <td>3.274116e+08</td>\n",
       "      <td>6108</td>\n",
       "      <td>NaN</td>\n",
       "      <td>1921-07-01</td>\n",
       "      <td>1921</td>\n",
       "      <td>Female</td>\n",
       "      <td>White</td>\n",
       "      <td>France</td>\n",
       "      <td>2</td>\n",
       "      <td>2</td>\n",
       "      <td>13049</td>\n",
       "      <td>87.0</td>\n",
       "      <td>2</td>\n",
       "      <td>Third</td>\n",
       "    </tr>\n",
       "    <tr>\n",
       "      <th>3</th>\n",
       "      <td>0097F42825586D59</td>\n",
       "      <td>542042281368648</td>\n",
       "      <td>2009-10-22</td>\n",
       "      <td>60</td>\n",
       "      <td>4.022239e+09</td>\n",
       "      <td>38653</td>\n",
       "      <td>NaN</td>\n",
       "      <td>1921-07-01</td>\n",
       "      <td>1921</td>\n",
       "      <td>Female</td>\n",
       "      <td>White</td>\n",
       "      <td>UK</td>\n",
       "      <td>2</td>\n",
       "      <td>2</td>\n",
       "      <td>14002</td>\n",
       "      <td>88.0</td>\n",
       "      <td>2</td>\n",
       "      <td>Third</td>\n",
       "    </tr>\n",
       "    <tr>\n",
       "      <th>4</th>\n",
       "      <td>0097F42825586D59</td>\n",
       "      <td>542292281274912</td>\n",
       "      <td>2010-03-03</td>\n",
       "      <td>10</td>\n",
       "      <td>6.845115e+09</td>\n",
       "      <td>7140</td>\n",
       "      <td>NaN</td>\n",
       "      <td>1921-07-01</td>\n",
       "      <td>1921</td>\n",
       "      <td>Female</td>\n",
       "      <td>White</td>\n",
       "      <td>Italy</td>\n",
       "      <td>2</td>\n",
       "      <td>2</td>\n",
       "      <td>19684</td>\n",
       "      <td>88.0</td>\n",
       "      <td>2</td>\n",
       "      <td>Third</td>\n",
       "    </tr>\n",
       "  </tbody>\n",
       "</table>\n",
       "</div>"
      ],
      "text/plain": [
       "         patient_id         claim_id claim_date  claim_amount  physician_id  \\\n",
       "0  0057BAF42479AF6A  542412281632605 2009-07-22            50  5.056870e+09   \n",
       "1  0057BAF42479AF6A  542842280924481 2009-09-19            50  8.933392e+09   \n",
       "2  0097F42825586D59  542892281178580 2009-06-11           200  3.274116e+08   \n",
       "3  0097F42825586D59  542042281368648 2009-10-22            60  4.022239e+09   \n",
       "4  0097F42825586D59  542292281274912 2010-03-03            10  6.845115e+09   \n",
       "\n",
       "  diagnosis_code  procedure_code patient_dob  DOB year patient_gender  \\\n",
       "0          72270             NaN  1942-05-01      1942         Female   \n",
       "1           4019             NaN  1942-05-01      1942         Female   \n",
       "2           6108             NaN  1921-07-01      1921         Female   \n",
       "3          38653             NaN  1921-07-01      1921         Female   \n",
       "4           7140             NaN  1921-07-01      1921         Female   \n",
       "\n",
       "  patient_race Patient country patient_has_cancer patient_has_diabetes  \\\n",
       "0        White             USA                  2                    2   \n",
       "1        White         Germany                  2                    2   \n",
       "2        White          France                  2                    2   \n",
       "3        White              UK                  2                    2   \n",
       "4        White           Italy                  2                    2   \n",
       "\n",
       "   Total money spent  Patient_Age  Cluster Labels Segment  \n",
       "0              16580         67.0               2   Third  \n",
       "1              12897         67.0               2   Third  \n",
       "2              13049         87.0               2   Third  \n",
       "3              14002         88.0               2   Third  \n",
       "4              19684         88.0               2   Third  "
      ]
     },
     "execution_count": 30,
     "metadata": {},
     "output_type": "execute_result"
    }
   ],
   "source": [
    "print(df['Segment'].value_counts())\n",
    "df.head()"
   ]
  },
  {
   "cell_type": "markdown",
   "id": "50ccb328",
   "metadata": {},
   "source": [
    "CLUSTERS INTERPRETATION"
   ]
  },
  {
   "cell_type": "code",
   "execution_count": 31,
   "id": "cac7ed0b",
   "metadata": {},
   "outputs": [],
   "source": [
    "df['Segment'] = df['Segment'].astype('category')\n",
    "df['Segment'] = df['Segment'].cat.reorder_categories(['First','Second','Third','Fourth','Fifth'])"
   ]
  },
  {
   "cell_type": "code",
   "execution_count": 32,
   "id": "bddb39b1",
   "metadata": {},
   "outputs": [
    {
     "name": "stdout",
     "output_type": "stream",
     "text": [
      "                sum_sq      df           F  PR(>F)\n",
      "Segment   196223.34793     4.0  913.329429     0.0\n",
      "Residual   98452.26306  1833.0         NaN     NaN\n",
      "AxesSubplot(0.125,0.125;0.775x0.755)\n"
     ]
    },
    {
     "data": {
      "text/html": [
       "<div>\n",
       "<style scoped>\n",
       "    .dataframe tbody tr th:only-of-type {\n",
       "        vertical-align: middle;\n",
       "    }\n",
       "\n",
       "    .dataframe tbody tr th {\n",
       "        vertical-align: top;\n",
       "    }\n",
       "\n",
       "    .dataframe thead th {\n",
       "        text-align: right;\n",
       "    }\n",
       "</style>\n",
       "<table border=\"1\" class=\"dataframe\">\n",
       "  <thead>\n",
       "    <tr style=\"text-align: right;\">\n",
       "      <th></th>\n",
       "      <th>coef</th>\n",
       "      <th>std err</th>\n",
       "      <th>t</th>\n",
       "      <th>P&gt;|t|</th>\n",
       "      <th>Conf. Int. Low</th>\n",
       "      <th>Conf. Int. Upp.</th>\n",
       "      <th>pvalue-hs</th>\n",
       "      <th>reject-hs</th>\n",
       "    </tr>\n",
       "  </thead>\n",
       "  <tbody>\n",
       "    <tr>\n",
       "      <th>Second-First</th>\n",
       "      <td>14.409366</td>\n",
       "      <td>0.488287</td>\n",
       "      <td>29.510019</td>\n",
       "      <td>6.215422e-157</td>\n",
       "      <td>13.451708</td>\n",
       "      <td>15.367024</td>\n",
       "      <td>0.000000e+00</td>\n",
       "      <td>True</td>\n",
       "    </tr>\n",
       "    <tr>\n",
       "      <th>Third-First</th>\n",
       "      <td>5.465085</td>\n",
       "      <td>0.436686</td>\n",
       "      <td>12.514902</td>\n",
       "      <td>1.529486e-34</td>\n",
       "      <td>4.608630</td>\n",
       "      <td>6.321540</td>\n",
       "      <td>0.000000e+00</td>\n",
       "      <td>True</td>\n",
       "    </tr>\n",
       "    <tr>\n",
       "      <th>Fourth-First</th>\n",
       "      <td>-0.189924</td>\n",
       "      <td>0.887304</td>\n",
       "      <td>-0.214046</td>\n",
       "      <td>8.305348e-01</td>\n",
       "      <td>-1.930157</td>\n",
       "      <td>1.550309</td>\n",
       "      <td>8.305348e-01</td>\n",
       "      <td>False</td>\n",
       "    </tr>\n",
       "    <tr>\n",
       "      <th>Fifth-First</th>\n",
       "      <td>-22.620118</td>\n",
       "      <td>0.608861</td>\n",
       "      <td>-37.151555</td>\n",
       "      <td>1.068346e-225</td>\n",
       "      <td>-23.814251</td>\n",
       "      <td>-21.425984</td>\n",
       "      <td>0.000000e+00</td>\n",
       "      <td>True</td>\n",
       "    </tr>\n",
       "    <tr>\n",
       "      <th>Third-Second</th>\n",
       "      <td>-8.944281</td>\n",
       "      <td>0.462899</td>\n",
       "      <td>-19.322324</td>\n",
       "      <td>7.333875e-76</td>\n",
       "      <td>-9.852145</td>\n",
       "      <td>-8.036416</td>\n",
       "      <td>0.000000e+00</td>\n",
       "      <td>True</td>\n",
       "    </tr>\n",
       "    <tr>\n",
       "      <th>Fourth-Second</th>\n",
       "      <td>-14.599290</td>\n",
       "      <td>0.900493</td>\n",
       "      <td>-16.212544</td>\n",
       "      <td>2.409478e-55</td>\n",
       "      <td>-16.365391</td>\n",
       "      <td>-12.833189</td>\n",
       "      <td>0.000000e+00</td>\n",
       "      <td>True</td>\n",
       "    </tr>\n",
       "    <tr>\n",
       "      <th>Fifth-Second</th>\n",
       "      <td>-37.029484</td>\n",
       "      <td>0.627926</td>\n",
       "      <td>-58.971050</td>\n",
       "      <td>0.000000e+00</td>\n",
       "      <td>-38.261010</td>\n",
       "      <td>-35.797957</td>\n",
       "      <td>0.000000e+00</td>\n",
       "      <td>True</td>\n",
       "    </tr>\n",
       "    <tr>\n",
       "      <th>Fourth-Third</th>\n",
       "      <td>-5.655009</td>\n",
       "      <td>0.873590</td>\n",
       "      <td>-6.473301</td>\n",
       "      <td>1.227597e-10</td>\n",
       "      <td>-7.368345</td>\n",
       "      <td>-3.941674</td>\n",
       "      <td>2.455194e-10</td>\n",
       "      <td>True</td>\n",
       "    </tr>\n",
       "    <tr>\n",
       "      <th>Fifth-Third</th>\n",
       "      <td>-28.085203</td>\n",
       "      <td>0.588695</td>\n",
       "      <td>-47.707542</td>\n",
       "      <td>1.976263e-323</td>\n",
       "      <td>-29.239787</td>\n",
       "      <td>-26.930619</td>\n",
       "      <td>0.000000e+00</td>\n",
       "      <td>True</td>\n",
       "    </tr>\n",
       "    <tr>\n",
       "      <th>Fifth-Fourth</th>\n",
       "      <td>-22.430194</td>\n",
       "      <td>0.971172</td>\n",
       "      <td>-23.096002</td>\n",
       "      <td>8.420617e-104</td>\n",
       "      <td>-24.334914</td>\n",
       "      <td>-20.525474</td>\n",
       "      <td>0.000000e+00</td>\n",
       "      <td>True</td>\n",
       "    </tr>\n",
       "  </tbody>\n",
       "</table>\n",
       "</div>"
      ],
      "text/plain": [
       "                    coef   std err          t          P>|t|  Conf. Int. Low  \\\n",
       "Second-First   14.409366  0.488287  29.510019  6.215422e-157       13.451708   \n",
       "Third-First     5.465085  0.436686  12.514902   1.529486e-34        4.608630   \n",
       "Fourth-First   -0.189924  0.887304  -0.214046   8.305348e-01       -1.930157   \n",
       "Fifth-First   -22.620118  0.608861 -37.151555  1.068346e-225      -23.814251   \n",
       "Third-Second   -8.944281  0.462899 -19.322324   7.333875e-76       -9.852145   \n",
       "Fourth-Second -14.599290  0.900493 -16.212544   2.409478e-55      -16.365391   \n",
       "Fifth-Second  -37.029484  0.627926 -58.971050   0.000000e+00      -38.261010   \n",
       "Fourth-Third   -5.655009  0.873590  -6.473301   1.227597e-10       -7.368345   \n",
       "Fifth-Third   -28.085203  0.588695 -47.707542  1.976263e-323      -29.239787   \n",
       "Fifth-Fourth  -22.430194  0.971172 -23.096002  8.420617e-104      -24.334914   \n",
       "\n",
       "               Conf. Int. Upp.     pvalue-hs  reject-hs  \n",
       "Second-First         15.367024  0.000000e+00       True  \n",
       "Third-First           6.321540  0.000000e+00       True  \n",
       "Fourth-First          1.550309  8.305348e-01      False  \n",
       "Fifth-First         -21.425984  0.000000e+00       True  \n",
       "Third-Second         -8.036416  0.000000e+00       True  \n",
       "Fourth-Second       -12.833189  0.000000e+00       True  \n",
       "Fifth-Second        -35.797957  0.000000e+00       True  \n",
       "Fourth-Third         -3.941674  2.455194e-10       True  \n",
       "Fifth-Third         -26.930619  0.000000e+00       True  \n",
       "Fifth-Fourth        -20.525474  0.000000e+00       True  "
      ]
     },
     "execution_count": 32,
     "metadata": {},
     "output_type": "execute_result"
    },
    {
     "data": {
      "image/png": "[encoded data removed]",
      "text/plain": [
       "<Figure size 432x288 with 1 Axes>"
      ]
     },
     "metadata": {
      "needs_background": "light"
     },
     "output_type": "display_data"
    }
   ],
   "source": [
    "#Using Anova to check for variable 'Patient_Age'\n",
    "import statsmodels.api as sm\n",
    "from statsmodels.formula.api import ols\n",
    "\n",
    "mod = ols('Patient_Age ~ Segment',\n",
    "                data=df).fit()\n",
    "                \n",
    "aov_table = sm.stats.anova_lm(mod, typ=2)\n",
    "print(aov_table)\n",
    "\n",
    "#Boxplot\n",
    "print(sns.boxplot(x='Segment', y='Patient_Age', data=df))\n",
    "\n",
    "#Pair-wise comparisons\n",
    "pair_t = mod.t_test_pairwise('Segment')\n",
    "pair_t.result_frame"
   ]
  },
  {
   "cell_type": "code",
   "execution_count": 33,
   "id": "5fe76f05",
   "metadata": {},
   "outputs": [
    {
     "name": "stdout",
     "output_type": "stream",
     "text": [
      "                sum_sq      df           F  PR(>F)\n",
      "Segment   3.943590e+10     4.0  818.307341     0.0\n",
      "Residual  2.208400e+10  1833.0         NaN     NaN\n",
      "AxesSubplot(0.125,0.125;0.775x0.755)\n"
     ]
    },
    {
     "data": {
      "text/html": [
       "<div>\n",
       "<style scoped>\n",
       "    .dataframe tbody tr th:only-of-type {\n",
       "        vertical-align: middle;\n",
       "    }\n",
       "\n",
       "    .dataframe tbody tr th {\n",
       "        vertical-align: top;\n",
       "    }\n",
       "\n",
       "    .dataframe thead th {\n",
       "        text-align: right;\n",
       "    }\n",
       "</style>\n",
       "<table border=\"1\" class=\"dataframe\">\n",
       "  <thead>\n",
       "    <tr style=\"text-align: right;\">\n",
       "      <th></th>\n",
       "      <th>coef</th>\n",
       "      <th>std err</th>\n",
       "      <th>t</th>\n",
       "      <th>P&gt;|t|</th>\n",
       "      <th>Conf. Int. Low</th>\n",
       "      <th>Conf. Int. Upp.</th>\n",
       "      <th>pvalue-hs</th>\n",
       "      <th>reject-hs</th>\n",
       "    </tr>\n",
       "  </thead>\n",
       "  <tbody>\n",
       "    <tr>\n",
       "      <th>Second-First</th>\n",
       "      <td>1841.215707</td>\n",
       "      <td>231.260468</td>\n",
       "      <td>7.961653</td>\n",
       "      <td>2.949875e-15</td>\n",
       "      <td>1387.654028</td>\n",
       "      <td>2294.777387</td>\n",
       "      <td>8.992806e-15</td>\n",
       "      <td>True</td>\n",
       "    </tr>\n",
       "    <tr>\n",
       "      <th>Third-First</th>\n",
       "      <td>10950.621209</td>\n",
       "      <td>206.821421</td>\n",
       "      <td>52.947229</td>\n",
       "      <td>0.000000e+00</td>\n",
       "      <td>10544.990830</td>\n",
       "      <td>11356.251588</td>\n",
       "      <td>0.000000e+00</td>\n",
       "      <td>True</td>\n",
       "    </tr>\n",
       "    <tr>\n",
       "      <th>Fourth-First</th>\n",
       "      <td>4862.877671</td>\n",
       "      <td>420.240949</td>\n",
       "      <td>11.571642</td>\n",
       "      <td>6.123063e-30</td>\n",
       "      <td>4038.676317</td>\n",
       "      <td>5687.079025</td>\n",
       "      <td>0.000000e+00</td>\n",
       "      <td>True</td>\n",
       "    </tr>\n",
       "    <tr>\n",
       "      <th>Fifth-First</th>\n",
       "      <td>5181.006549</td>\n",
       "      <td>288.365883</td>\n",
       "      <td>17.966781</td>\n",
       "      <td>1.307911e-66</td>\n",
       "      <td>4615.446357</td>\n",
       "      <td>5746.566741</td>\n",
       "      <td>0.000000e+00</td>\n",
       "      <td>True</td>\n",
       "    </tr>\n",
       "    <tr>\n",
       "      <th>Third-Second</th>\n",
       "      <td>9109.405502</td>\n",
       "      <td>219.236105</td>\n",
       "      <td>41.550663</td>\n",
       "      <td>1.871926e-266</td>\n",
       "      <td>8679.426712</td>\n",
       "      <td>9539.384292</td>\n",
       "      <td>0.000000e+00</td>\n",
       "      <td>True</td>\n",
       "    </tr>\n",
       "    <tr>\n",
       "      <th>Fourth-Second</th>\n",
       "      <td>3021.661964</td>\n",
       "      <td>426.487778</td>\n",
       "      <td>7.084991</td>\n",
       "      <td>1.975055e-12</td>\n",
       "      <td>2185.208960</td>\n",
       "      <td>3858.114967</td>\n",
       "      <td>3.950174e-12</td>\n",
       "      <td>True</td>\n",
       "    </tr>\n",
       "    <tr>\n",
       "      <th>Fifth-Second</th>\n",
       "      <td>3339.790842</td>\n",
       "      <td>297.395784</td>\n",
       "      <td>11.230122</td>\n",
       "      <td>2.387348e-28</td>\n",
       "      <td>2756.520676</td>\n",
       "      <td>3923.061008</td>\n",
       "      <td>0.000000e+00</td>\n",
       "      <td>True</td>\n",
       "    </tr>\n",
       "    <tr>\n",
       "      <th>Fourth-Third</th>\n",
       "      <td>-6087.743538</td>\n",
       "      <td>413.745720</td>\n",
       "      <td>-14.713732</td>\n",
       "      <td>2.092575e-46</td>\n",
       "      <td>-6899.206066</td>\n",
       "      <td>-5276.281011</td>\n",
       "      <td>0.000000e+00</td>\n",
       "      <td>True</td>\n",
       "    </tr>\n",
       "    <tr>\n",
       "      <th>Fifth-Third</th>\n",
       "      <td>-5769.614660</td>\n",
       "      <td>278.815259</td>\n",
       "      <td>-20.693325</td>\n",
       "      <td>1.161318e-85</td>\n",
       "      <td>-6316.443604</td>\n",
       "      <td>-5222.785717</td>\n",
       "      <td>0.000000e+00</td>\n",
       "      <td>True</td>\n",
       "    </tr>\n",
       "    <tr>\n",
       "      <th>Fifth-Fourth</th>\n",
       "      <td>318.128878</td>\n",
       "      <td>459.962285</td>\n",
       "      <td>0.691641</td>\n",
       "      <td>4.892503e-01</td>\n",
       "      <td>-583.976304</td>\n",
       "      <td>1220.234061</td>\n",
       "      <td>4.892503e-01</td>\n",
       "      <td>False</td>\n",
       "    </tr>\n",
       "  </tbody>\n",
       "</table>\n",
       "</div>"
      ],
      "text/plain": [
       "                       coef     std err          t          P>|t|  \\\n",
       "Second-First    1841.215707  231.260468   7.961653   2.949875e-15   \n",
       "Third-First    10950.621209  206.821421  52.947229   0.000000e+00   \n",
       "Fourth-First    4862.877671  420.240949  11.571642   6.123063e-30   \n",
       "Fifth-First     5181.006549  288.365883  17.966781   1.307911e-66   \n",
       "Third-Second    9109.405502  219.236105  41.550663  1.871926e-266   \n",
       "Fourth-Second   3021.661964  426.487778   7.084991   1.975055e-12   \n",
       "Fifth-Second    3339.790842  297.395784  11.230122   2.387348e-28   \n",
       "Fourth-Third   -6087.743538  413.745720 -14.713732   2.092575e-46   \n",
       "Fifth-Third    -5769.614660  278.815259 -20.693325   1.161318e-85   \n",
       "Fifth-Fourth     318.128878  459.962285   0.691641   4.892503e-01   \n",
       "\n",
       "               Conf. Int. Low  Conf. Int. Upp.     pvalue-hs  reject-hs  \n",
       "Second-First      1387.654028      2294.777387  8.992806e-15       True  \n",
       "Third-First      10544.990830     11356.251588  0.000000e+00       True  \n",
       "Fourth-First      4038.676317      5687.079025  0.000000e+00       True  \n",
       "Fifth-First       4615.446357      5746.566741  0.000000e+00       True  \n",
       "Third-Second      8679.426712      9539.384292  0.000000e+00       True  \n",
       "Fourth-Second     2185.208960      3858.114967  3.950174e-12       True  \n",
       "Fifth-Second      2756.520676      3923.061008  0.000000e+00       True  \n",
       "Fourth-Third     -6899.206066     -5276.281011  0.000000e+00       True  \n",
       "Fifth-Third      -6316.443604     -5222.785717  0.000000e+00       True  \n",
       "Fifth-Fourth      -583.976304      1220.234061  4.892503e-01      False  "
      ]
     },
     "execution_count": 33,
     "metadata": {},
     "output_type": "execute_result"
    },
    {
     "data": {
      "image/png": "[encoded data removed]",
      "text/plain": [
       "<Figure size 432x288 with 1 Axes>"
      ]
     },
     "metadata": {
      "needs_background": "light"
     },
     "output_type": "display_data"
    }
   ],
   "source": [
    "#Using Anova to check for variable 'Total_money_spent'\n",
    "df.rename(columns = {'Total money spent':'Total_money_spent'}, inplace = True)\n",
    "mod = ols('Total_money_spent ~ Segment',\n",
    "                data=df).fit()\n",
    "                \n",
    "aov_table = sm.stats.anova_lm(mod, typ=2)\n",
    "print(aov_table)\n",
    "\n",
    "#Boxplot\n",
    "print(sns.boxplot(x='Segment', y='Total_money_spent', data=df))\n",
    "\n",
    "#Pair-wise comparisons\n",
    "pair_t = mod.t_test_pairwise('Segment')\n",
    "pair_t.result_frame"
   ]
  },
  {
   "cell_type": "code",
   "execution_count": 34,
   "id": "ba324924",
   "metadata": {},
   "outputs": [
    {
     "name": "stdout",
     "output_type": "stream",
     "text": [
      "                sum_sq      df            F  PR(>F)\n",
      "Segment   3.621436e+08     4.0  1402.940814     0.0\n",
      "Residual  1.182889e+08  1833.0          NaN     NaN\n"
     ]
    },
    {
     "data": {
      "text/html": [
       "<div>\n",
       "<style scoped>\n",
       "    .dataframe tbody tr th:only-of-type {\n",
       "        vertical-align: middle;\n",
       "    }\n",
       "\n",
       "    .dataframe tbody tr th {\n",
       "        vertical-align: top;\n",
       "    }\n",
       "\n",
       "    .dataframe thead th {\n",
       "        text-align: right;\n",
       "    }\n",
       "</style>\n",
       "<table border=\"1\" class=\"dataframe\">\n",
       "  <thead>\n",
       "    <tr style=\"text-align: right;\">\n",
       "      <th></th>\n",
       "      <th>coef</th>\n",
       "      <th>std err</th>\n",
       "      <th>t</th>\n",
       "      <th>P&gt;|t|</th>\n",
       "      <th>Conf. Int. Low</th>\n",
       "      <th>Conf. Int. Upp.</th>\n",
       "      <th>pvalue-hs</th>\n",
       "      <th>reject-hs</th>\n",
       "    </tr>\n",
       "  </thead>\n",
       "  <tbody>\n",
       "    <tr>\n",
       "      <th>Second-First</th>\n",
       "      <td>-13.444878</td>\n",
       "      <td>16.925227</td>\n",
       "      <td>-0.794369</td>\n",
       "      <td>0.427083</td>\n",
       "      <td>-46.639632</td>\n",
       "      <td>19.749876</td>\n",
       "      <td>0.953571</td>\n",
       "      <td>False</td>\n",
       "    </tr>\n",
       "    <tr>\n",
       "      <th>Third-First</th>\n",
       "      <td>-9.136124</td>\n",
       "      <td>15.136610</td>\n",
       "      <td>-0.603578</td>\n",
       "      <td>0.546199</td>\n",
       "      <td>-38.822937</td>\n",
       "      <td>20.550689</td>\n",
       "      <td>0.957591</td>\n",
       "      <td>False</td>\n",
       "    </tr>\n",
       "    <tr>\n",
       "      <th>Fourth-First</th>\n",
       "      <td>2179.866329</td>\n",
       "      <td>30.756115</td>\n",
       "      <td>70.875869</td>\n",
       "      <td>0.000000</td>\n",
       "      <td>2119.545622</td>\n",
       "      <td>2240.187036</td>\n",
       "      <td>0.000000</td>\n",
       "      <td>True</td>\n",
       "    </tr>\n",
       "    <tr>\n",
       "      <th>Fifth-First</th>\n",
       "      <td>-17.747843</td>\n",
       "      <td>21.104593</td>\n",
       "      <td>-0.840947</td>\n",
       "      <td>0.400487</td>\n",
       "      <td>-59.139416</td>\n",
       "      <td>23.643730</td>\n",
       "      <td>0.953571</td>\n",
       "      <td>False</td>\n",
       "    </tr>\n",
       "    <tr>\n",
       "      <th>Third-Second</th>\n",
       "      <td>4.308754</td>\n",
       "      <td>16.045202</td>\n",
       "      <td>0.268538</td>\n",
       "      <td>0.788315</td>\n",
       "      <td>-27.160043</td>\n",
       "      <td>35.777551</td>\n",
       "      <td>0.965052</td>\n",
       "      <td>False</td>\n",
       "    </tr>\n",
       "    <tr>\n",
       "      <th>Fourth-Second</th>\n",
       "      <td>2193.311207</td>\n",
       "      <td>31.213300</td>\n",
       "      <td>70.268481</td>\n",
       "      <td>0.000000</td>\n",
       "      <td>2132.093840</td>\n",
       "      <td>2254.528574</td>\n",
       "      <td>0.000000</td>\n",
       "      <td>True</td>\n",
       "    </tr>\n",
       "    <tr>\n",
       "      <th>Fifth-Second</th>\n",
       "      <td>-4.302965</td>\n",
       "      <td>21.765463</td>\n",
       "      <td>-0.197697</td>\n",
       "      <td>0.843304</td>\n",
       "      <td>-46.990676</td>\n",
       "      <td>38.384746</td>\n",
       "      <td>0.965052</td>\n",
       "      <td>False</td>\n",
       "    </tr>\n",
       "    <tr>\n",
       "      <th>Fourth-Third</th>\n",
       "      <td>2189.002453</td>\n",
       "      <td>30.280749</td>\n",
       "      <td>72.290234</td>\n",
       "      <td>0.000000</td>\n",
       "      <td>2129.614061</td>\n",
       "      <td>2248.390846</td>\n",
       "      <td>0.000000</td>\n",
       "      <td>True</td>\n",
       "    </tr>\n",
       "    <tr>\n",
       "      <th>Fifth-Third</th>\n",
       "      <td>-8.611719</td>\n",
       "      <td>20.405613</td>\n",
       "      <td>-0.422027</td>\n",
       "      <td>0.673055</td>\n",
       "      <td>-48.632411</td>\n",
       "      <td>31.408973</td>\n",
       "      <td>0.965052</td>\n",
       "      <td>False</td>\n",
       "    </tr>\n",
       "    <tr>\n",
       "      <th>Fifth-Fourth</th>\n",
       "      <td>-2197.614172</td>\n",
       "      <td>33.663194</td>\n",
       "      <td>-65.282402</td>\n",
       "      <td>0.000000</td>\n",
       "      <td>-2263.636416</td>\n",
       "      <td>-2131.591929</td>\n",
       "      <td>0.000000</td>\n",
       "      <td>True</td>\n",
       "    </tr>\n",
       "  </tbody>\n",
       "</table>\n",
       "</div>"
      ],
      "text/plain": [
       "                      coef    std err          t     P>|t|  Conf. Int. Low  \\\n",
       "Second-First    -13.444878  16.925227  -0.794369  0.427083      -46.639632   \n",
       "Third-First      -9.136124  15.136610  -0.603578  0.546199      -38.822937   \n",
       "Fourth-First   2179.866329  30.756115  70.875869  0.000000     2119.545622   \n",
       "Fifth-First     -17.747843  21.104593  -0.840947  0.400487      -59.139416   \n",
       "Third-Second      4.308754  16.045202   0.268538  0.788315      -27.160043   \n",
       "Fourth-Second  2193.311207  31.213300  70.268481  0.000000     2132.093840   \n",
       "Fifth-Second     -4.302965  21.765463  -0.197697  0.843304      -46.990676   \n",
       "Fourth-Third   2189.002453  30.280749  72.290234  0.000000     2129.614061   \n",
       "Fifth-Third      -8.611719  20.405613  -0.422027  0.673055      -48.632411   \n",
       "Fifth-Fourth  -2197.614172  33.663194 -65.282402  0.000000    -2263.636416   \n",
       "\n",
       "               Conf. Int. Upp.  pvalue-hs  reject-hs  \n",
       "Second-First         19.749876   0.953571      False  \n",
       "Third-First          20.550689   0.957591      False  \n",
       "Fourth-First       2240.187036   0.000000       True  \n",
       "Fifth-First          23.643730   0.953571      False  \n",
       "Third-Second         35.777551   0.965052      False  \n",
       "Fourth-Second      2254.528574   0.000000       True  \n",
       "Fifth-Second         38.384746   0.965052      False  \n",
       "Fourth-Third       2248.390846   0.000000       True  \n",
       "Fifth-Third          31.408973   0.965052      False  \n",
       "Fifth-Fourth      -2131.591929   0.000000       True  "
      ]
     },
     "execution_count": 34,
     "metadata": {},
     "output_type": "execute_result"
    }
   ],
   "source": [
    "#Checking for 'claim_amount'\n",
    "mod = ols('claim_amount ~ Segment',\n",
    "                data=df).fit()\n",
    "                \n",
    "aov_table = sm.stats.anova_lm(mod, typ=2)\n",
    "print(aov_table)\n",
    "\n",
    "pair_t = mod.t_test_pairwise('Segment')\n",
    "pair_t.result_frame"
   ]
  },
  {
   "cell_type": "code",
   "execution_count": 35,
   "id": "92f1c2b3",
   "metadata": {},
   "outputs": [],
   "source": [
    "from statsmodels.multivariate.manova import MANOVA"
   ]
  },
  {
   "cell_type": "code",
   "execution_count": 36,
   "id": "ed4b381b",
   "metadata": {},
   "outputs": [
    {
     "name": "stdout",
     "output_type": "stream",
     "text": [
      "                    Multivariate linear model\n",
      "==================================================================\n",
      "                                                                  \n",
      "------------------------------------------------------------------\n",
      "       Intercept         Value  Num DF   Den DF   F Value   Pr > F\n",
      "------------------------------------------------------------------\n",
      "          Wilks' lambda  0.0378 3.0000 1831.0000 15529.1543 0.0000\n",
      "         Pillai's trace  0.9622 3.0000 1831.0000 15529.1543 0.0000\n",
      " Hotelling-Lawley trace 25.4437 3.0000 1831.0000 15529.1543 0.0000\n",
      "    Roy's greatest root 25.4437 3.0000 1831.0000 15529.1543 0.0000\n",
      "------------------------------------------------------------------\n",
      "                                                                  \n",
      "------------------------------------------------------------------\n",
      "         Segment         Value   Num DF   Den DF   F Value  Pr > F\n",
      "------------------------------------------------------------------\n",
      "           Wilks' lambda 0.0296 12.0000 4844.6622 1124.2729 0.0000\n",
      "          Pillai's trace 2.0596 12.0000 5499.0000 1003.5596 0.0000\n",
      "  Hotelling-Lawley trace 6.8478 12.0000 3199.9402 1044.3788 0.0000\n",
      "     Roy's greatest root 3.0990  4.0000 1833.0000 1420.0952 0.0000\n",
      "==================================================================\n",
      "\n"
     ]
    }
   ],
   "source": [
    "maov = MANOVA.from_formula(' Patient_Age + Total_money_spent + claim_amount ~ Segment', data=df)\n",
    "print(maov.mv_test())"
   ]
  },
  {
   "cell_type": "code",
   "execution_count": 37,
   "id": "255fc7ec",
   "metadata": {},
   "outputs": [
    {
     "name": "stdout",
     "output_type": "stream",
     "text": [
      "p value for patient_gender is 9.499483579423946e-24\n",
      "Dependent (reject H0)\n",
      "p value for patient_race is 4.525522959648805e-09\n",
      "Dependent (reject H0)\n",
      "p value for Patient country is 0.0002767013196800778\n",
      "Dependent (reject H0)\n",
      "p value for patient_has_cancer is 0.010697965903592878\n",
      "Dependent (reject H0)\n",
      "p value for patient_has_diabetes is 3.5653430048485746e-30\n",
      "Dependent (reject H0)\n"
     ]
    }
   ],
   "source": [
    "#CHISQUARE TESTS\n",
    "from scipy.stats import chi2_contingency\n",
    "l=['patient_gender','patient_race','Patient country','patient_has_cancer','patient_has_diabetes']\n",
    "for i in range(0,len(l)):\n",
    "    dt=pd.crosstab(index=df['Segment'], columns=df[l[i]]) #Creating a contingency table\n",
    "    #Checking null hypothesis is approved or rejected\n",
    "    data = dt\n",
    "    stat, p, dof, expected = chi2_contingency(data)\n",
    "  \n",
    "    # interpret p-value\n",
    "    alpha = 0.05\n",
    "    print(\"p value for \" + str(l[i]) + \" is \" + str(p))\n",
    "    if p <= alpha:\n",
    "        print('Dependent (reject H0)')\n",
    "    else:\n",
    "        print('Independent (H0 holds true)')    "
   ]
  },
  {
   "cell_type": "code",
   "execution_count": 38,
   "id": "b6b29f13",
   "metadata": {},
   "outputs": [
    {
     "data": {
      "image/png": "[encoded data removed]",
      "text/plain": [
       "<Figure size 576x1440 with 5 Axes>"
      ]
     },
     "metadata": {
      "needs_background": "light"
     },
     "output_type": "display_data"
    }
   ],
   "source": [
    "# sns.countplot(x='Segment',hue='patient_gender',data=df)  \n",
    "n=len(l)\n",
    "fig,ax = plt.subplots(n,1, figsize=(8,n*4), sharex=True)\n",
    "for i in range(0, n):\n",
    "    plt.sca(ax[i])\n",
    "    sns.countplot(x='Segment',hue=l[i],data=df)"
   ]
  },
  {
   "cell_type": "markdown",
   "id": "86ee425d",
   "metadata": {},
   "source": [
    "CLUSTEROIDS"
   ]
  },
  {
   "cell_type": "code",
   "execution_count": 39,
   "id": "749773f8",
   "metadata": {},
   "outputs": [],
   "source": [
    "df.rename(columns = {'Cluster Labels':'Total'}, inplace = True)"
   ]
  },
  {
   "cell_type": "code",
   "execution_count": 40,
   "id": "76f10dc0",
   "metadata": {},
   "outputs": [
    {
     "data": {
      "text/html": [
       "<div>\n",
       "<style scoped>\n",
       "    .dataframe tbody tr th:only-of-type {\n",
       "        vertical-align: middle;\n",
       "    }\n",
       "\n",
       "    .dataframe tbody tr th {\n",
       "        vertical-align: top;\n",
       "    }\n",
       "\n",
       "    .dataframe thead th {\n",
       "        text-align: right;\n",
       "    }\n",
       "</style>\n",
       "<table border=\"1\" class=\"dataframe\">\n",
       "  <thead>\n",
       "    <tr style=\"text-align: right;\">\n",
       "      <th></th>\n",
       "      <th>Segment</th>\n",
       "      <th>Total</th>\n",
       "      <th>claim_amount</th>\n",
       "      <th>Total_money_spent</th>\n",
       "      <th>Patient_Age</th>\n",
       "      <th>patient_gender</th>\n",
       "      <th>patient_race</th>\n",
       "      <th>Patient country</th>\n",
       "      <th>patient_has_cancer</th>\n",
       "      <th>patient_has_diabetes</th>\n",
       "    </tr>\n",
       "  </thead>\n",
       "  <tbody>\n",
       "    <tr>\n",
       "      <th>0</th>\n",
       "      <td>First</td>\n",
       "      <td>500</td>\n",
       "      <td>160.640000</td>\n",
       "      <td>4677.616000</td>\n",
       "      <td>70.076000</td>\n",
       "      <td>Male</td>\n",
       "      <td>White</td>\n",
       "      <td>Germany</td>\n",
       "      <td>2</td>\n",
       "      <td>2</td>\n",
       "    </tr>\n",
       "    <tr>\n",
       "      <th>1</th>\n",
       "      <td>Second</td>\n",
       "      <td>410</td>\n",
       "      <td>147.195122</td>\n",
       "      <td>6518.831707</td>\n",
       "      <td>84.485366</td>\n",
       "      <td>Female</td>\n",
       "      <td>White</td>\n",
       "      <td>USA</td>\n",
       "      <td>2</td>\n",
       "      <td>1</td>\n",
       "    </tr>\n",
       "    <tr>\n",
       "      <th>2</th>\n",
       "      <td>Third</td>\n",
       "      <td>645</td>\n",
       "      <td>151.503876</td>\n",
       "      <td>15628.237209</td>\n",
       "      <td>75.541085</td>\n",
       "      <td>Female</td>\n",
       "      <td>White</td>\n",
       "      <td>Germany</td>\n",
       "      <td>2</td>\n",
       "      <td>2</td>\n",
       "    </tr>\n",
       "    <tr>\n",
       "      <th>3</th>\n",
       "      <td>Fourth</td>\n",
       "      <td>79</td>\n",
       "      <td>2340.506329</td>\n",
       "      <td>9540.493671</td>\n",
       "      <td>69.886076</td>\n",
       "      <td>Female</td>\n",
       "      <td>White</td>\n",
       "      <td>Italy</td>\n",
       "      <td>2</td>\n",
       "      <td>2</td>\n",
       "    </tr>\n",
       "    <tr>\n",
       "      <th>4</th>\n",
       "      <td>Fifth</td>\n",
       "      <td>204</td>\n",
       "      <td>142.892157</td>\n",
       "      <td>9858.622549</td>\n",
       "      <td>47.455882</td>\n",
       "      <td>Female</td>\n",
       "      <td>White</td>\n",
       "      <td>Germany</td>\n",
       "      <td>2</td>\n",
       "      <td>1</td>\n",
       "    </tr>\n",
       "  </tbody>\n",
       "</table>\n",
       "</div>"
      ],
      "text/plain": [
       "  Segment  Total  claim_amount  Total_money_spent  Patient_Age patient_gender  \\\n",
       "0   First    500    160.640000        4677.616000    70.076000           Male   \n",
       "1  Second    410    147.195122        6518.831707    84.485366         Female   \n",
       "2   Third    645    151.503876       15628.237209    75.541085         Female   \n",
       "3  Fourth     79   2340.506329        9540.493671    69.886076         Female   \n",
       "4   Fifth    204    142.892157        9858.622549    47.455882         Female   \n",
       "\n",
       "  patient_race Patient country patient_has_cancer patient_has_diabetes  \n",
       "0        White         Germany                  2                    2  \n",
       "1        White             USA                  2                    1  \n",
       "2        White         Germany                  2                    2  \n",
       "3        White           Italy                  2                    2  \n",
       "4        White         Germany                  2                    1  "
      ]
     },
     "execution_count": 40,
     "metadata": {},
     "output_type": "execute_result"
    }
   ],
   "source": [
    "df.groupby('Segment').agg(\n",
    "    {\n",
    "        'Total':'count',\n",
    "        'claim_amount': 'mean',\n",
    "        'Total_money_spent': 'mean',\n",
    "        'Patient_Age': 'mean',\n",
    "        'patient_gender': lambda x: x.value_counts().index[0],\n",
    "        'patient_race': lambda x: x.value_counts().index[0],\n",
    "        'Patient country': lambda x: x.value_counts().index[0],\n",
    "        'patient_has_cancer': lambda x: x.value_counts().index[0],\n",
    "        'patient_has_diabetes': lambda x: x.value_counts().index[0]\n",
    "    }\n",
    ").reset_index()"
   ]
  },
  {
   "cell_type": "markdown",
   "id": "e549dea2",
   "metadata": {},
   "source": [
    "# ----------------- End of Code------------------"
   ]
  }
 ],
 "metadata": {
  "kernelspec": {
   "display_name": "Python 3",
   "language": "python",
   "name": "python3"
  },
  "language_info": {
   "codemirror_mode": {
    "name": "ipython",
    "version": 3
   },
   "file_extension": ".py",
   "mimetype": "text/x-python",
   "name": "python",
   "nbconvert_exporter": "python",
   "pygments_lexer": "ipython3",
   "version": "3.8.8"
  }
 },
 "nbformat": 4,
 "nbformat_minor": 5
}
