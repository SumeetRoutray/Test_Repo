{
 "cells": [
  {
   "cell_type": "markdown",
   "id": "55ffa9ed",
   "metadata": {},
   "source": [
    "# IQVIA Assessment: Coded by Sumeet Routray"
   ]
  },
  {
   "cell_type": "markdown",
   "id": "752e7158",
   "metadata": {},
   "source": [
    "IMPORTING PACKAGES"
   ]
  },
  {
   "cell_type": "code",
   "execution_count": 1,
   "id": "33735853",
   "metadata": {},
   "outputs": [],
   "source": [
    "import pandas as pd\n",
    "import numpy as np\n",
    "import matplotlib.pyplot as plt\n",
    "#import seaborn as sns\n",
    "import warnings\n",
    "warnings.filterwarnings('ignore')"
   ]
  },
  {
   "cell_type": "code",
   "execution_count": 2,
   "id": "7e37bd12",
   "metadata": {},
   "outputs": [],
   "source": [
    "from kmodes.kprototypes import KPrototypes\n",
    "from plotnine import *\n",
    "import plotnine"
   ]
  },
  {
   "cell_type": "markdown",
   "id": "9a68a65f",
   "metadata": {},
   "source": [
    "READING DATA"
   ]
  },
  {
   "cell_type": "code",
   "execution_count": 3,
   "id": "02ae5744",
   "metadata": {},
   "outputs": [],
   "source": [
    "df = pd.read_excel(\"Q2_Dummy data - EXERCISE.xlsx\", sheet_name= \"DATA\")"
   ]
  },
  {
   "cell_type": "markdown",
   "id": "45575687",
   "metadata": {},
   "source": [
    "CREATION OF DERIVED VARIABLE & CONVERSION OF VARIABLES"
   ]
  },
  {
   "cell_type": "code",
   "execution_count": 4,
   "id": "b7daabf2",
   "metadata": {},
   "outputs": [],
   "source": [
    "#Converting to date-type\n",
    "for col in ['claim_date','patient_dob']:\n",
    "    df[col] = pd.to_datetime(df[col], infer_datetime_format=True)"
   ]
  },
  {
   "cell_type": "code",
   "execution_count": 5,
   "id": "ad31c914",
   "metadata": {},
   "outputs": [],
   "source": [
    "#Creating a derived variable \"Age\"\n",
    "df['Patient_Age']= np.trunc((df['claim_date'] - df['patient_dob'])/np.timedelta64(1,'Y'))"
   ]
  },
  {
   "cell_type": "code",
   "execution_count": 6,
   "id": "3ed7fabd",
   "metadata": {},
   "outputs": [
    {
     "data": {
      "text/html": [
       "<div>\n",
       "<style scoped>\n",
       "    .dataframe tbody tr th:only-of-type {\n",
       "        vertical-align: middle;\n",
       "    }\n",
       "\n",
       "    .dataframe tbody tr th {\n",
       "        vertical-align: top;\n",
       "    }\n",
       "\n",
       "    .dataframe thead th {\n",
       "        text-align: right;\n",
       "    }\n",
       "</style>\n",
       "<table border=\"1\" class=\"dataframe\">\n",
       "  <thead>\n",
       "    <tr style=\"text-align: right;\">\n",
       "      <th></th>\n",
       "      <th>patient_id</th>\n",
       "      <th>claim_id</th>\n",
       "      <th>claim_date</th>\n",
       "      <th>claim_amount</th>\n",
       "      <th>physician_id</th>\n",
       "      <th>diagnosis_code</th>\n",
       "      <th>procedure_code</th>\n",
       "      <th>patient_dob</th>\n",
       "      <th>DOB year</th>\n",
       "      <th>patient_gender</th>\n",
       "      <th>patient_race</th>\n",
       "      <th>Patient country</th>\n",
       "      <th>patient_has_cancer</th>\n",
       "      <th>patient_has_diabetes</th>\n",
       "      <th>Total money spent</th>\n",
       "      <th>Patient_Age</th>\n",
       "    </tr>\n",
       "  </thead>\n",
       "  <tbody>\n",
       "    <tr>\n",
       "      <th>0</th>\n",
       "      <td>0057BAF42479AF6A</td>\n",
       "      <td>542412281632605</td>\n",
       "      <td>2009-07-22</td>\n",
       "      <td>50</td>\n",
       "      <td>5.056870e+09</td>\n",
       "      <td>72270</td>\n",
       "      <td>NaN</td>\n",
       "      <td>1942-05-01</td>\n",
       "      <td>1942</td>\n",
       "      <td>Female</td>\n",
       "      <td>White</td>\n",
       "      <td>USA</td>\n",
       "      <td>2</td>\n",
       "      <td>2</td>\n",
       "      <td>16580</td>\n",
       "      <td>67.0</td>\n",
       "    </tr>\n",
       "    <tr>\n",
       "      <th>1</th>\n",
       "      <td>0057BAF42479AF6A</td>\n",
       "      <td>542842280924481</td>\n",
       "      <td>2009-09-19</td>\n",
       "      <td>50</td>\n",
       "      <td>8.933392e+09</td>\n",
       "      <td>4019</td>\n",
       "      <td>NaN</td>\n",
       "      <td>1942-05-01</td>\n",
       "      <td>1942</td>\n",
       "      <td>Female</td>\n",
       "      <td>White</td>\n",
       "      <td>Germany</td>\n",
       "      <td>2</td>\n",
       "      <td>2</td>\n",
       "      <td>12897</td>\n",
       "      <td>67.0</td>\n",
       "    </tr>\n",
       "    <tr>\n",
       "      <th>2</th>\n",
       "      <td>0097F42825586D59</td>\n",
       "      <td>542892281178580</td>\n",
       "      <td>2009-06-11</td>\n",
       "      <td>200</td>\n",
       "      <td>3.274116e+08</td>\n",
       "      <td>6108</td>\n",
       "      <td>NaN</td>\n",
       "      <td>1921-07-01</td>\n",
       "      <td>1921</td>\n",
       "      <td>Female</td>\n",
       "      <td>White</td>\n",
       "      <td>France</td>\n",
       "      <td>2</td>\n",
       "      <td>2</td>\n",
       "      <td>13049</td>\n",
       "      <td>87.0</td>\n",
       "    </tr>\n",
       "    <tr>\n",
       "      <th>3</th>\n",
       "      <td>0097F42825586D59</td>\n",
       "      <td>542042281368648</td>\n",
       "      <td>2009-10-22</td>\n",
       "      <td>60</td>\n",
       "      <td>4.022239e+09</td>\n",
       "      <td>38653</td>\n",
       "      <td>NaN</td>\n",
       "      <td>1921-07-01</td>\n",
       "      <td>1921</td>\n",
       "      <td>Female</td>\n",
       "      <td>White</td>\n",
       "      <td>UK</td>\n",
       "      <td>2</td>\n",
       "      <td>2</td>\n",
       "      <td>14002</td>\n",
       "      <td>88.0</td>\n",
       "    </tr>\n",
       "    <tr>\n",
       "      <th>4</th>\n",
       "      <td>0097F42825586D59</td>\n",
       "      <td>542292281274912</td>\n",
       "      <td>2010-03-03</td>\n",
       "      <td>10</td>\n",
       "      <td>6.845115e+09</td>\n",
       "      <td>7140</td>\n",
       "      <td>NaN</td>\n",
       "      <td>1921-07-01</td>\n",
       "      <td>1921</td>\n",
       "      <td>Female</td>\n",
       "      <td>White</td>\n",
       "      <td>Italy</td>\n",
       "      <td>2</td>\n",
       "      <td>2</td>\n",
       "      <td>19684</td>\n",
       "      <td>88.0</td>\n",
       "    </tr>\n",
       "  </tbody>\n",
       "</table>\n",
       "</div>"
      ],
      "text/plain": [
       "         patient_id         claim_id claim_date  claim_amount  physician_id  \\\n",
       "0  0057BAF42479AF6A  542412281632605 2009-07-22            50  5.056870e+09   \n",
       "1  0057BAF42479AF6A  542842280924481 2009-09-19            50  8.933392e+09   \n",
       "2  0097F42825586D59  542892281178580 2009-06-11           200  3.274116e+08   \n",
       "3  0097F42825586D59  542042281368648 2009-10-22            60  4.022239e+09   \n",
       "4  0097F42825586D59  542292281274912 2010-03-03            10  6.845115e+09   \n",
       "\n",
       "  diagnosis_code  procedure_code patient_dob  DOB year patient_gender  \\\n",
       "0          72270             NaN  1942-05-01      1942         Female   \n",
       "1           4019             NaN  1942-05-01      1942         Female   \n",
       "2           6108             NaN  1921-07-01      1921         Female   \n",
       "3          38653             NaN  1921-07-01      1921         Female   \n",
       "4           7140             NaN  1921-07-01      1921         Female   \n",
       "\n",
       "  patient_race Patient country  patient_has_cancer  patient_has_diabetes  \\\n",
       "0        White             USA                   2                     2   \n",
       "1        White         Germany                   2                     2   \n",
       "2        White          France                   2                     2   \n",
       "3        White              UK                   2                     2   \n",
       "4        White           Italy                   2                     2   \n",
       "\n",
       "   Total money spent  Patient_Age  \n",
       "0              16580         67.0  \n",
       "1              12897         67.0  \n",
       "2              13049         87.0  \n",
       "3              14002         88.0  \n",
       "4              19684         88.0  "
      ]
     },
     "execution_count": 6,
     "metadata": {},
     "output_type": "execute_result"
    }
   ],
   "source": [
    "df.head()"
   ]
  },
  {
   "cell_type": "code",
   "execution_count": 7,
   "id": "28ac2a48",
   "metadata": {},
   "outputs": [
    {
     "data": {
      "text/plain": [
       "(1838, 16)"
      ]
     },
     "execution_count": 7,
     "metadata": {},
     "output_type": "execute_result"
    }
   ],
   "source": [
    "df.shape"
   ]
  },
  {
   "cell_type": "code",
   "execution_count": 8,
   "id": "df1f007c",
   "metadata": {},
   "outputs": [
    {
     "name": "stdout",
     "output_type": "stream",
     "text": [
      "<class 'pandas.core.frame.DataFrame'>\n",
      "RangeIndex: 1838 entries, 0 to 1837\n",
      "Data columns (total 16 columns):\n",
      " #   Column                Non-Null Count  Dtype         \n",
      "---  ------                --------------  -----         \n",
      " 0   patient_id            1838 non-null   object        \n",
      " 1   claim_id              1838 non-null   int64         \n",
      " 2   claim_date            1838 non-null   datetime64[ns]\n",
      " 3   claim_amount          1838 non-null   int64         \n",
      " 4   physician_id          1817 non-null   float64       \n",
      " 5   diagnosis_code        1838 non-null   object        \n",
      " 6   procedure_code        1 non-null      float64       \n",
      " 7   patient_dob           1838 non-null   datetime64[ns]\n",
      " 8   DOB year              1838 non-null   int64         \n",
      " 9   patient_gender        1838 non-null   object        \n",
      " 10  patient_race          1838 non-null   object        \n",
      " 11  Patient country       1838 non-null   object        \n",
      " 12  patient_has_cancer    1838 non-null   int64         \n",
      " 13  patient_has_diabetes  1838 non-null   int64         \n",
      " 14  Total money spent     1838 non-null   int64         \n",
      " 15  Patient_Age           1838 non-null   float64       \n",
      "dtypes: datetime64[ns](2), float64(3), int64(6), object(5)\n",
      "memory usage: 229.9+ KB\n"
     ]
    }
   ],
   "source": [
    "df.info()"
   ]
  },
  {
   "cell_type": "code",
   "execution_count": 9,
   "id": "8a2432d2",
   "metadata": {},
   "outputs": [],
   "source": [
    "#Converting to Categorical/String type\n",
    "df['patient_has_cancer']=df[\"patient_has_cancer\"].astype(str)\n",
    "df['patient_has_diabetes']=df[\"patient_has_diabetes\"].astype(str)"
   ]
  },
  {
   "cell_type": "code",
   "execution_count": 10,
   "id": "478a49d4",
   "metadata": {},
   "outputs": [
    {
     "name": "stdout",
     "output_type": "stream",
     "text": [
      "<class 'pandas.core.frame.DataFrame'>\n",
      "RangeIndex: 1838 entries, 0 to 1837\n",
      "Data columns (total 16 columns):\n",
      " #   Column                Non-Null Count  Dtype         \n",
      "---  ------                --------------  -----         \n",
      " 0   patient_id            1838 non-null   object        \n",
      " 1   claim_id              1838 non-null   int64         \n",
      " 2   claim_date            1838 non-null   datetime64[ns]\n",
      " 3   claim_amount          1838 non-null   int64         \n",
      " 4   physician_id          1817 non-null   float64       \n",
      " 5   diagnosis_code        1838 non-null   object        \n",
      " 6   procedure_code        1 non-null      float64       \n",
      " 7   patient_dob           1838 non-null   datetime64[ns]\n",
      " 8   DOB year              1838 non-null   int64         \n",
      " 9   patient_gender        1838 non-null   object        \n",
      " 10  patient_race          1838 non-null   object        \n",
      " 11  Patient country       1838 non-null   object        \n",
      " 12  patient_has_cancer    1838 non-null   object        \n",
      " 13  patient_has_diabetes  1838 non-null   object        \n",
      " 14  Total money spent     1838 non-null   int64         \n",
      " 15  Patient_Age           1838 non-null   float64       \n",
      "dtypes: datetime64[ns](2), float64(3), int64(4), object(7)\n",
      "memory usage: 229.9+ KB\n"
     ]
    }
   ],
   "source": [
    "df.info()"
   ]
  },
  {
   "cell_type": "code",
   "execution_count": 11,
   "id": "c3bfbef9",
   "metadata": {},
   "outputs": [
    {
     "data": {
      "text/plain": [
       "array(['2', '1'], dtype=object)"
      ]
     },
     "execution_count": 11,
     "metadata": {},
     "output_type": "execute_result"
    }
   ],
   "source": [
    "df['patient_has_cancer'].unique()"
   ]
  },
  {
   "cell_type": "code",
   "execution_count": 12,
   "id": "2101b522",
   "metadata": {},
   "outputs": [
    {
     "data": {
      "text/plain": [
       "patient_id               546\n",
       "diagnosis_code          1201\n",
       "patient_gender             2\n",
       "patient_race               4\n",
       "Patient country            7\n",
       "patient_has_cancer         2\n",
       "patient_has_diabetes       2\n",
       "dtype: int64"
      ]
     },
     "execution_count": 12,
     "metadata": {},
     "output_type": "execute_result"
    }
   ],
   "source": [
    "#Checking for unique values\n",
    "df.select_dtypes('object').nunique()"
   ]
  },
  {
   "cell_type": "code",
   "execution_count": 13,
   "id": "c3514e65",
   "metadata": {},
   "outputs": [
    {
     "data": {
      "text/html": [
       "<div>\n",
       "<style scoped>\n",
       "    .dataframe tbody tr th:only-of-type {\n",
       "        vertical-align: middle;\n",
       "    }\n",
       "\n",
       "    .dataframe tbody tr th {\n",
       "        vertical-align: top;\n",
       "    }\n",
       "\n",
       "    .dataframe thead th {\n",
       "        text-align: right;\n",
       "    }\n",
       "</style>\n",
       "<table border=\"1\" class=\"dataframe\">\n",
       "  <thead>\n",
       "    <tr style=\"text-align: right;\">\n",
       "      <th></th>\n",
       "      <th>claim_amount</th>\n",
       "      <th>Total money spent</th>\n",
       "      <th>Patient_Age</th>\n",
       "    </tr>\n",
       "  </thead>\n",
       "  <tbody>\n",
       "    <tr>\n",
       "      <th>count</th>\n",
       "      <td>1838.000000</td>\n",
       "      <td>1838.000000</td>\n",
       "      <td>1838.000000</td>\n",
       "    </tr>\n",
       "    <tr>\n",
       "      <th>mean</th>\n",
       "      <td>246.158868</td>\n",
       "      <td>9715.233950</td>\n",
       "      <td>72.689336</td>\n",
       "    </tr>\n",
       "    <tr>\n",
       "      <th>std</th>\n",
       "      <td>511.401035</td>\n",
       "      <td>5786.996441</td>\n",
       "      <td>12.665359</td>\n",
       "    </tr>\n",
       "    <tr>\n",
       "      <th>min</th>\n",
       "      <td>-90.000000</td>\n",
       "      <td>11.000000</td>\n",
       "      <td>26.000000</td>\n",
       "    </tr>\n",
       "    <tr>\n",
       "      <th>25%</th>\n",
       "      <td>40.000000</td>\n",
       "      <td>4650.000000</td>\n",
       "      <td>67.000000</td>\n",
       "    </tr>\n",
       "    <tr>\n",
       "      <th>50%</th>\n",
       "      <td>80.000000</td>\n",
       "      <td>9618.500000</td>\n",
       "      <td>73.000000</td>\n",
       "    </tr>\n",
       "    <tr>\n",
       "      <th>75%</th>\n",
       "      <td>200.000000</td>\n",
       "      <td>14657.500000</td>\n",
       "      <td>81.000000</td>\n",
       "    </tr>\n",
       "    <tr>\n",
       "      <th>max</th>\n",
       "      <td>3300.000000</td>\n",
       "      <td>19997.000000</td>\n",
       "      <td>100.000000</td>\n",
       "    </tr>\n",
       "  </tbody>\n",
       "</table>\n",
       "</div>"
      ],
      "text/plain": [
       "       claim_amount  Total money spent  Patient_Age\n",
       "count   1838.000000        1838.000000  1838.000000\n",
       "mean     246.158868        9715.233950    72.689336\n",
       "std      511.401035        5786.996441    12.665359\n",
       "min      -90.000000          11.000000    26.000000\n",
       "25%       40.000000        4650.000000    67.000000\n",
       "50%       80.000000        9618.500000    73.000000\n",
       "75%      200.000000       14657.500000    81.000000\n",
       "max     3300.000000       19997.000000   100.000000"
      ]
     },
     "execution_count": 13,
     "metadata": {},
     "output_type": "execute_result"
    }
   ],
   "source": [
    "df[['claim_amount','Total money spent','Patient_Age']].describe()"
   ]
  },
  {
   "cell_type": "code",
   "execution_count": 14,
   "id": "2c2b827d",
   "metadata": {},
   "outputs": [
    {
     "data": {
      "text/plain": [
       "claim_amount            0\n",
       "Total money spent       0\n",
       "Patient_Age             0\n",
       "patient_gender          0\n",
       "patient_race            0\n",
       "Patient country         0\n",
       "patient_has_cancer      0\n",
       "patient_has_diabetes    0\n",
       "dtype: int64"
      ]
     },
     "execution_count": 14,
     "metadata": {},
     "output_type": "execute_result"
    }
   ],
   "source": [
    "#Checking for missing values\n",
    "df[['claim_amount','Total money spent','Patient_Age','patient_gender','patient_race','Patient country','patient_has_cancer','patient_has_diabetes']].isna().sum()"
   ]
  },
  {
   "cell_type": "code",
   "execution_count": 15,
   "id": "477496db",
   "metadata": {},
   "outputs": [],
   "source": [
    "df_num_var=df[['claim_amount','Total money spent','Patient_Age']]\n",
    "df_cat_var=df[['patient_gender','patient_race','Patient country','patient_has_cancer','patient_has_diabetes']]"
   ]
  },
  {
   "cell_type": "markdown",
   "id": "310e830a",
   "metadata": {},
   "source": [
    "SCALING NUMERIC VARIABLES & FORMING K-PROTO CLUSTERS"
   ]
  },
  {
   "cell_type": "code",
   "execution_count": 16,
   "id": "007f03c5",
   "metadata": {},
   "outputs": [],
   "source": [
    "from sklearn.preprocessing import StandardScaler"
   ]
  },
  {
   "cell_type": "code",
   "execution_count": 17,
   "id": "39a88ca1",
   "metadata": {},
   "outputs": [
    {
     "data": {
      "text/plain": [
       "array([[-0.3836759 ,  1.18656273, -0.44932673],\n",
       "       [-0.3836759 ,  0.54996266, -0.44932673],\n",
       "       [-0.09028419,  0.57623559,  1.13021336],\n",
       "       ...,\n",
       "       [-0.09028419, -0.68037111,  0.81430534],\n",
       "       [-0.09028419,  1.21197142,  0.89328234],\n",
       "       [-0.28587866,  0.77380113,  0.81430534]])"
      ]
     },
     "execution_count": 17,
     "metadata": {},
     "output_type": "execute_result"
    }
   ],
   "source": [
    "#Scaling the numeric variables\n",
    "scaler=StandardScaler()\n",
    "scaler.fit(df_num_var)\n",
    "scaled_features=scaler.transform(df_num_var)\n",
    "scaled_features"
   ]
  },
  {
   "cell_type": "code",
   "execution_count": 18,
   "id": "b88b5d34",
   "metadata": {},
   "outputs": [],
   "source": [
    "df_num_var=pd.DataFrame(scaled_features,columns=df_num_var.columns)"
   ]
  },
  {
   "cell_type": "code",
   "execution_count": 19,
   "id": "b034f62c",
   "metadata": {},
   "outputs": [
    {
     "data": {
      "text/html": [
       "<div>\n",
       "<style scoped>\n",
       "    .dataframe tbody tr th:only-of-type {\n",
       "        vertical-align: middle;\n",
       "    }\n",
       "\n",
       "    .dataframe tbody tr th {\n",
       "        vertical-align: top;\n",
       "    }\n",
       "\n",
       "    .dataframe thead th {\n",
       "        text-align: right;\n",
       "    }\n",
       "</style>\n",
       "<table border=\"1\" class=\"dataframe\">\n",
       "  <thead>\n",
       "    <tr style=\"text-align: right;\">\n",
       "      <th></th>\n",
       "      <th>claim_amount</th>\n",
       "      <th>Total money spent</th>\n",
       "      <th>Patient_Age</th>\n",
       "    </tr>\n",
       "  </thead>\n",
       "  <tbody>\n",
       "    <tr>\n",
       "      <th>0</th>\n",
       "      <td>-0.383676</td>\n",
       "      <td>1.186563</td>\n",
       "      <td>-0.449327</td>\n",
       "    </tr>\n",
       "    <tr>\n",
       "      <th>1</th>\n",
       "      <td>-0.383676</td>\n",
       "      <td>0.549963</td>\n",
       "      <td>-0.449327</td>\n",
       "    </tr>\n",
       "    <tr>\n",
       "      <th>2</th>\n",
       "      <td>-0.090284</td>\n",
       "      <td>0.576236</td>\n",
       "      <td>1.130213</td>\n",
       "    </tr>\n",
       "    <tr>\n",
       "      <th>3</th>\n",
       "      <td>-0.364116</td>\n",
       "      <td>0.740960</td>\n",
       "      <td>1.209190</td>\n",
       "    </tr>\n",
       "    <tr>\n",
       "      <th>4</th>\n",
       "      <td>-0.461914</td>\n",
       "      <td>1.723084</td>\n",
       "      <td>1.209190</td>\n",
       "    </tr>\n",
       "  </tbody>\n",
       "</table>\n",
       "</div>"
      ],
      "text/plain": [
       "   claim_amount  Total money spent  Patient_Age\n",
       "0     -0.383676           1.186563    -0.449327\n",
       "1     -0.383676           0.549963    -0.449327\n",
       "2     -0.090284           0.576236     1.130213\n",
       "3     -0.364116           0.740960     1.209190\n",
       "4     -0.461914           1.723084     1.209190"
      ]
     },
     "execution_count": 19,
     "metadata": {},
     "output_type": "execute_result"
    }
   ],
   "source": [
    "df_num_var.head()"
   ]
  },
  {
   "cell_type": "code",
   "execution_count": 20,
   "id": "136c0cce",
   "metadata": {},
   "outputs": [],
   "source": [
    "df_final=pd.concat([df_num_var,df_cat_var],axis=1) #Concatenating numeric with categorical variables"
   ]
  },
  {
   "cell_type": "code",
   "execution_count": 21,
   "id": "99437ddf",
   "metadata": {},
   "outputs": [
    {
     "name": "stdout",
     "output_type": "stream",
     "text": [
      "<class 'pandas.core.frame.DataFrame'>\n",
      "RangeIndex: 1838 entries, 0 to 1837\n",
      "Data columns (total 8 columns):\n",
      " #   Column                Non-Null Count  Dtype  \n",
      "---  ------                --------------  -----  \n",
      " 0   claim_amount          1838 non-null   float64\n",
      " 1   Total money spent     1838 non-null   float64\n",
      " 2   Patient_Age           1838 non-null   float64\n",
      " 3   patient_gender        1838 non-null   object \n",
      " 4   patient_race          1838 non-null   object \n",
      " 5   Patient country       1838 non-null   object \n",
      " 6   patient_has_cancer    1838 non-null   object \n",
      " 7   patient_has_diabetes  1838 non-null   object \n",
      "dtypes: float64(3), object(5)\n",
      "memory usage: 115.0+ KB\n"
     ]
    }
   ],
   "source": [
    "df_final.info()"
   ]
  },
  {
   "cell_type": "code",
   "execution_count": 22,
   "id": "ca6b22b9",
   "metadata": {},
   "outputs": [
    {
     "name": "stdout",
     "output_type": "stream",
     "text": [
      "Categorical columns           : ['patient_gender', 'patient_race', 'Patient country', 'patient_has_cancer', 'patient_has_diabetes']\n",
      "Categorical columns position  : [3, 4, 5, 6, 7]\n"
     ]
    }
   ],
   "source": [
    "# Get the position of categorical columns\n",
    "catColumnsPos = [df_final.columns.get_loc(col) for col in list(df_final.select_dtypes('object').columns)]\n",
    "print('Categorical columns           : {}'.format(list(df_final.select_dtypes('object').columns)))\n",
    "print('Categorical columns position  : {}'.format(catColumnsPos))"
   ]
  },
  {
   "cell_type": "code",
   "execution_count": 23,
   "id": "19dbae8a",
   "metadata": {},
   "outputs": [],
   "source": [
    "dfMatrix = df_final.to_numpy()"
   ]
  },
  {
   "cell_type": "code",
   "execution_count": 24,
   "id": "aeadc7c5",
   "metadata": {},
   "outputs": [
    {
     "name": "stdout",
     "output_type": "stream",
     "text": [
      "Cluster initiation: 1\n",
      "Cluster initiation: 2\n",
      "Cluster initiation: 3\n",
      "Cluster initiation: 4\n",
      "Cluster initiation: 5\n",
      "Cluster initiation: 6\n",
      "Cluster initiation: 7\n",
      "Cluster initiation: 8\n",
      "Cluster initiation: 9\n",
      "Cluster initiation: 10\n",
      "Cluster initiation: 11\n",
      "Cluster initiation: 12\n",
      "Cluster initiation: 13\n",
      "Cluster initiation: 14\n",
      "Cluster initiation: 15\n",
      "Cluster initiation: 16\n",
      "Cluster initiation: 17\n",
      "Cluster initiation: 18\n",
      "Cluster initiation: 19\n",
      "Cluster initiation: 20\n"
     ]
    }
   ],
   "source": [
    "#Finding optimal Clusters using K-proto\n",
    "cost = []\n",
    "for cluster in range(1, 21):\n",
    "    try:\n",
    "        kprototype = KPrototypes(n_jobs = -1, n_clusters = cluster, init = 'Huang', random_state = 0)\n",
    "        kprototype.fit_predict(dfMatrix, categorical = catColumnsPos)\n",
    "        cost.append(kprototype.cost_)\n",
    "        print('Cluster initiation: {}'.format(cluster))\n",
    "    except:\n",
    "        break"
   ]
  },
  {
   "cell_type": "code",
   "execution_count": 25,
   "id": "3969047f",
   "metadata": {},
   "outputs": [
    {
     "data": {
      "image/png": "[encoded data removed]",
      "text/plain": [
       "<Figure size 800x480 with 1 Axes>"
      ]
     },
     "metadata": {
      "needs_background": "light"
     },
     "output_type": "display_data"
    },
    {
     "data": {
      "text/plain": [
       "<ggplot: (102922947265)>"
      ]
     },
     "execution_count": 25,
     "metadata": {},
     "output_type": "execute_result"
    }
   ],
   "source": [
    "# Converting the results into a dataframe and plotting them\n",
    "# Choose optimal K using Elbow method\n",
    "df_cost = pd.DataFrame({'Cluster':range(1, 21), 'Cost':cost})\n",
    "# Data viz\n",
    "plotnine.options.figure_size = (8, 4.8)\n",
    "(\n",
    "    ggplot(data = df_cost)+\n",
    "    geom_line(aes(x = 'Cluster',\n",
    "                  y = 'Cost'))+\n",
    "    geom_point(aes(x = 'Cluster',\n",
    "                   y = 'Cost'))+\n",
    "    geom_label(aes(x = 'Cluster',\n",
    "                   y = 'Cost',\n",
    "                   label = 'Cluster'),\n",
    "               size = 10,\n",
    "               nudge_y = 1000) +\n",
    "    labs(title = 'Optimal number of cluster with Elbow Method')+\n",
    "    xlab('Number of Clusters k')+\n",
    "    ylab('Cost')+\n",
    "    theme_minimal()\n",
    ")"
   ]
  },
  {
   "cell_type": "code",
   "execution_count": 26,
   "id": "74f7c14e",
   "metadata": {},
   "outputs": [
    {
     "data": {
      "text/plain": [
       "array([2, 2, 2, ..., 1, 2, 2], dtype=uint16)"
      ]
     },
     "execution_count": 26,
     "metadata": {},
     "output_type": "execute_result"
    }
   ],
   "source": [
    "#Fitting the CLusters\n",
    "kprototype = KPrototypes(n_jobs = -1, n_clusters = 5, init = 'Huang', random_state = 0)\n",
    "kprototype.fit_predict(dfMatrix, categorical = catColumnsPos)"
   ]
  },
  {
   "cell_type": "code",
   "execution_count": 27,
   "id": "e8c6fe83",
   "metadata": {},
   "outputs": [
    {
     "name": "stdout",
     "output_type": "stream",
     "text": [
      "[['-0.16727017750931095' '-0.8707433930866013' '-0.20639346746231838'\n",
      "  'Male' 'White' 'Germany' '2' '2']\n",
      " ['-0.19356761550857182' '-0.5524924998423201' '0.9316150836747575'\n",
      "  'Female' 'White' 'USA' '2' '1']\n",
      " ['-0.185139930911855' '1.022052202557367' '0.2252225963267691' 'Female'\n",
      "  'White' 'Germany' '2' '2']\n",
      " ['4.096427821726232' '-0.03020354957620924' '-0.22139310005419693'\n",
      "  'Female' 'White' 'Italy' '2' '2']\n",
      " ['-0.201983977279693' '0.024784466890544882' '-1.992862599519488'\n",
      "  'Female' 'White' 'Germany' '2' '1']]\n",
      "14\n",
      "3311.4159552014708\n"
     ]
    }
   ],
   "source": [
    "# Clusters' centorid\n",
    "print(kprototype.cluster_centroids_)\n",
    "# Check the iteration of the clusters created\n",
    "print(kprototype.n_iter_)\n",
    "# Check the cost of the clusters created\n",
    "print(kprototype.cost_)"
   ]
  },
  {
   "cell_type": "code",
   "execution_count": 28,
   "id": "b5ee087f",
   "metadata": {},
   "outputs": [
    {
     "data": {
      "text/plain": [
       "array([2, 0, 1, 4, 3], dtype=uint16)"
      ]
     },
     "execution_count": 28,
     "metadata": {},
     "output_type": "execute_result"
    }
   ],
   "source": [
    "# Add the clusters to the dataframe\n",
    "df['Cluster Labels'] = kprototype.labels_\n",
    "df['Cluster Labels'].unique()"
   ]
  },
  {
   "cell_type": "code",
   "execution_count": 29,
   "id": "8aba732e",
   "metadata": {},
   "outputs": [],
   "source": [
    "df['Segment'] = df['Cluster Labels'].map({0:'First', 1:'Second', 2:'Third', 3:'Fourth', 4:'Fifth'})"
   ]
  },
  {
   "cell_type": "code",
   "execution_count": 30,
   "id": "f2bc0ce9",
   "metadata": {},
   "outputs": [
    {
     "name": "stdout",
     "output_type": "stream",
     "text": [
      "Third     645\n",
      "First     500\n",
      "Second    410\n",
      "Fifth     204\n",
      "Fourth     79\n",
      "Name: Segment, dtype: int64\n"
     ]
    },
    {
     "data": {
      "text/html": [
       "<div>\n",
       "<style scoped>\n",
       "    .dataframe tbody tr th:only-of-type {\n",
       "        vertical-align: middle;\n",
       "    }\n",
       "\n",
       "    .dataframe tbody tr th {\n",
       "        vertical-align: top;\n",
       "    }\n",
       "\n",
       "    .dataframe thead th {\n",
       "        text-align: right;\n",
       "    }\n",
       "</style>\n",
       "<table border=\"1\" class=\"dataframe\">\n",
       "  <thead>\n",
       "    <tr style=\"text-align: right;\">\n",
       "      <th></th>\n",
       "      <th>patient_id</th>\n",
       "      <th>claim_id</th>\n",
       "      <th>claim_date</th>\n",
       "      <th>claim_amount</th>\n",
       "      <th>physician_id</th>\n",
       "      <th>diagnosis_code</th>\n",
       "      <th>procedure_code</th>\n",
       "      <th>patient_dob</th>\n",
       "      <th>DOB year</th>\n",
       "      <th>patient_gender</th>\n",
       "      <th>patient_race</th>\n",
       "      <th>Patient country</th>\n",
       "      <th>patient_has_cancer</th>\n",
       "      <th>patient_has_diabetes</th>\n",
       "      <th>Total money spent</th>\n",
       "      <th>Patient_Age</th>\n",
       "      <th>Cluster Labels</th>\n",
       "      <th>Segment</th>\n",
       "    </tr>\n",
       "  </thead>\n",
       "  <tbody>\n",
       "    <tr>\n",
       "      <th>0</th>\n",
       "      <td>0057BAF42479AF6A</td>\n",
       "      <td>542412281632605</td>\n",
       "      <td>2009-07-22</td>\n",
       "      <td>50</td>\n",
       "      <td>5.056870e+09</td>\n",
       "      <td>72270</td>\n",
       "      <td>NaN</td>\n",
       "      <td>1942-05-01</td>\n",
       "      <td>1942</td>\n",
       "      <td>Female</td>\n",
       "      <td>White</td>\n",
       "      <td>USA</td>\n",
       "      <td>2</td>\n",
       "      <td>2</td>\n",
       "      <td>16580</td>\n",
       "      <td>67.0</td>\n",
       "      <td>2</td>\n",
       "      <td>Third</td>\n",
       "    </tr>\n",
       "    <tr>\n",
       "      <th>1</th>\n",
       "      <td>0057BAF42479AF6A</td>\n",
       "      <td>542842280924481</td>\n",
       "      <td>2009-09-19</td>\n",
       "      <td>50</td>\n",
       "      <td>8.933392e+09</td>\n",
       "      <td>4019</td>\n",
       "      <td>NaN</td>\n",
       "      <td>1942-05-01</td>\n",
       "      <td>1942</td>\n",
       "      <td>Female</td>\n",
       "      <td>White</td>\n",
       "      <td>Germany</td>\n",
       "      <td>2</td>\n",
       "      <td>2</td>\n",
       "      <td>12897</td>\n",
       "      <td>67.0</td>\n",
       "      <td>2</td>\n",
       "      <td>Third</td>\n",
       "    </tr>\n",
       "    <tr>\n",
       "      <th>2</th>\n",
       "      <td>0097F42825586D59</td>\n",
       "      <td>542892281178580</td>\n",
       "      <td>2009-06-11</td>\n",
       "      <td>200</td>\n",
       "      <td>3.274116e+08</td>\n",
       "      <td>6108</td>\n",
       "      <td>NaN</td>\n",
       "      <td>1921-07-01</td>\n",
       "      <td>1921</td>\n",
       "      <td>Female</td>\n",
       "      <td>White</td>\n",
       "      <td>France</td>\n",
       "      <td>2</td>\n",
       "      <td>2</td>\n",
       "      <td>13049</td>\n",
       "      <td>87.0</td>\n",
       "      <td>2</td>\n",
       "      <td>Third</td>\n",
       "    </tr>\n",
       "    <tr>\n",
       "      <th>3</th>\n",
       "      <td>0097F42825586D59</td>\n",
       "      <td>542042281368648</td>\n",
       "      <td>2009-10-22</td>\n",
       "      <td>60</td>\n",
       "      <td>4.022239e+09</td>\n",
       "      <td>38653</td>\n",
       "      <td>NaN</td>\n",
       "      <td>1921-07-01</td>\n",
       "      <td>1921</td>\n",
       "      <td>Female</td>\n",
       "      <td>White</td>\n",
       "      <td>UK</td>\n",
       "      <td>2</td>\n",
       "      <td>2</td>\n",
       "      <td>14002</td>\n",
       "      <td>88.0</td>\n",
       "      <td>2</td>\n",
       "      <td>Third</td>\n",
       "    </tr>\n",
       "    <tr>\n",
       "      <th>4</th>\n",
       "      <td>0097F42825586D59</td>\n",
       "      <td>542292281274912</td>\n",
       "      <td>2010-03-03</td>\n",
       "      <td>10</td>\n",
       "      <td>6.845115e+09</td>\n",
       "      <td>7140</td>\n",
       "      <td>NaN</td>\n",
       "      <td>1921-07-01</td>\n",
       "      <td>1921</td>\n",
       "      <td>Female</td>\n",
       "      <td>White</td>\n",
       "      <td>Italy</td>\n",
       "      <td>2</td>\n",
       "      <td>2</td>\n",
       "      <td>19684</td>\n",
       "      <td>88.0</td>\n",
       "      <td>2</td>\n",
       "      <td>Third</td>\n",
       "    </tr>\n",
       "  </tbody>\n",
       "</table>\n",
       "</div>"
      ],
      "text/plain": [
       "         patient_id         claim_id claim_date  claim_amount  physician_id  \\\n",
       "0  0057BAF42479AF6A  542412281632605 2009-07-22            50  5.056870e+09   \n",
       "1  0057BAF42479AF6A  542842280924481 2009-09-19            50  8.933392e+09   \n",
       "2  0097F42825586D59  542892281178580 2009-06-11           200  3.274116e+08   \n",
       "3  0097F42825586D59  542042281368648 2009-10-22            60  4.022239e+09   \n",
       "4  0097F42825586D59  542292281274912 2010-03-03            10  6.845115e+09   \n",
       "\n",
       "  diagnosis_code  procedure_code patient_dob  DOB year patient_gender  \\\n",
       "0          72270             NaN  1942-05-01      1942         Female   \n",
       "1           4019             NaN  1942-05-01      1942         Female   \n",
       "2           6108             NaN  1921-07-01      1921         Female   \n",
       "3          38653             NaN  1921-07-01      1921         Female   \n",
       "4           7140             NaN  1921-07-01      1921         Female   \n",
       "\n",
       "  patient_race Patient country patient_has_cancer patient_has_diabetes  \\\n",
       "0        White             USA                  2                    2   \n",
       "1        White         Germany                  2                    2   \n",
       "2        White          France                  2                    2   \n",
       "3        White              UK                  2                    2   \n",
       "4        White           Italy                  2                    2   \n",
       "\n",
       "   Total money spent  Patient_Age  Cluster Labels Segment  \n",
       "0              16580         67.0               2   Third  \n",
       "1              12897         67.0               2   Third  \n",
       "2              13049         87.0               2   Third  \n",
       "3              14002         88.0               2   Third  \n",
       "4              19684         88.0               2   Third  "
      ]
     },
     "execution_count": 30,
     "metadata": {},
     "output_type": "execute_result"
    }
   ],
   "source": [
    "print(df['Segment'].value_counts())\n",
    "df.head()"
   ]
  },
  {
   "cell_type": "markdown",
   "id": "fac065b5",
   "metadata": {},
   "source": [
    "# ---------------- End of code ------------------"
   ]
  }
 ],
 "metadata": {
  "kernelspec": {
   "display_name": "Python 3",
   "language": "python",
   "name": "python3"
  },
  "language_info": {
   "codemirror_mode": {
    "name": "ipython",
    "version": 3
   },
   "file_extension": ".py",
   "mimetype": "text/x-python",
   "name": "python",
   "nbconvert_exporter": "python",
   "pygments_lexer": "ipython3",
   "version": "3.8.8"
  }
 },
 "nbformat": 4,
 "nbformat_minor": 5
}
